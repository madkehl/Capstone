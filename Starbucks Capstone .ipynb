{
 "cells": [
  {
   "cell_type": "markdown",
   "metadata": {},
   "source": [
    "# Starbucks Capstone Challenge\n",
    "\n",
    "### Introduction\n",
    "\n",
    "We address the issue that not all users receive the same offer by looking at a general offer impact factor and assessing offer characteristics across the population.\n",
    "\n",
    "\n",
    "Which demographic groups respond best to which offer type. We will address this using latent factors.\n",
    "\n",
    "Found informational offers hard to assess\n",
    "\n",
    "Offer counts only use the event_offer completed tag, since the transactions are not necessarily just offer-related.  The overall amount is used to provide reference and also adress the issue that \"some demographic groups will make purchases even if they don't receive an offer\"\n",
    "\n",
    "### Example\n",
    "\n",
    "However, there are a few things to watch out for in this data set. Customers do not opt into the offers that they receive; in other words, a user can receive an offer, never actually view the offer, and still complete the offer. For example, a user might receive the \"buy 10 dollars get 2 dollars off offer\", but the user never opens the offer during the 10 day validity period. The customer spends 15 dollars during those ten days. There will be an offer completion record in the data set; however, the customer was not influenced by the offer because the customer never viewed the offer.\n",
    "\n",
    "\n",
    "### Final Advice\n",
    "\n",
    "Because this is a capstone project, you are free to analyze the data any way you see fit. For example, you could build a machine learning model that predicts how much someone will spend based on demographics and offer type. Or you could build a model that predicts whether or not someone will respond to an offer. Or, you don't need to build a machine learning model at all. You could develop a set of heuristics that determine what offer you should send to each customer (i.e., 75 percent of women customers who were 35 years old responded to offer A vs 40 percent from the same demographic to offer B, so send offer A)."
   ]
  },
  {
   "cell_type": "code",
   "execution_count": 344,
   "metadata": {},
   "outputs": [],
   "source": [
    "import pandas as pd\n",
    "import numpy as np\n",
    "import math\n",
    "import json\n",
    "import math\n",
    "import matplotlib.pyplot as plt\n",
    "import seaborn as sns\n",
    "\n",
    "import plotly.graph_objs as go\n",
    "\n",
    "exec(open(\"./randomforestfunctions.py\").read())\n",
    "\n",
    "import statsmodels.api as sm\n",
    "import statsmodels.formula.api as smf\n",
    "%matplotlib inline\n",
    "\n",
    "# read in the json files\n",
    "portfolio = pd.read_json('data/portfolio.json', orient='records', lines=True)\n",
    "profile = pd.read_json('data/profile.json', orient='records', lines=True)\n",
    "transcript = pd.read_json('data/transcript.json', orient='records', lines=True)"
   ]
  },
  {
   "cell_type": "code",
   "execution_count": 2,
   "metadata": {},
   "outputs": [],
   "source": [
    "\n",
    "#thanks Udacity course\n",
    "def create_dummy_df(df, cat_cols, dum_na):\n",
    "    '''\n",
    "    INPUT:\n",
    "    df - pandas dataframe with categorical variables you want to dummy\n",
    "    cat_cols - list of strings that are associated with names of the categorical columns\n",
    "    dummy_na - Bool holding whether you want to dummy NA vals of categorical columns or not\n",
    "    \n",
    "    OUTPUT:\n",
    "    df - a new dataframe that has the following characteristics:\n",
    "            1. contains all columns that were not specified as categorical\n",
    "            2. removes all the original columns in cat_cols\n",
    "            3. dummy columns for each of the categorical columns in cat_cols\n",
    "            4. if dummy_na is True - it also contains dummy columns for the NaN values\n",
    "            5. Use a prefix of the column name with an underscore (_) for separating \n",
    "            \n",
    "    '''\n",
    "    new_df = df.copy()\n",
    "    for col in  cat_cols:\n",
    "        try:\n",
    "            dums =  pd.get_dummies(df[col], prefix=col, prefix_sep='_', drop_first=False, dummy_na=dum_na)\n",
    "            new_df = pd.concat([new_df.drop(col, axis=1), dums], axis=1)\n",
    "        except:\n",
    "            print(col)\n",
    "            continue\n",
    "    return new_df\n",
    "\n",
    "def list_to_cols(series):\n",
    "    '''\n",
    "    INPUT:\n",
    "    series consisting of a list \n",
    "    \n",
    "    OUTPUT:\n",
    "    dataframe where items in the list are columns\n",
    "    '''\n",
    "    column_names = []\n",
    "    for i in series:\n",
    "        if isinstance(i, float) == False:\n",
    "            for n in i:\n",
    "                if n not in column_names:\n",
    "                    column_names.append(n)\n",
    "    df = pd.DataFrame(columns = column_names)\n",
    "    series = series.fillna('mk162rl8619')\n",
    "    for z in column_names:\n",
    "        df[z] = [1 if z in x else 0 for x in series]\n",
    "    return(df)\n",
    "\n",
    "def get_years(date_int):\n",
    "    '''\n",
    "    INPUT:\n",
    "    date in the format YYYYMMDD\n",
    "    \n",
    "    OUTPUT:\n",
    "    2020 - year in question\n",
    "    \n",
    "    Decided month to month variation was probably not super important\n",
    "    '''\n",
    "    string = str(date_int)\n",
    "    short = string[0:4]\n",
    "    year = int(short)\n",
    "    year = 2020 - year\n",
    "    return(year)\n",
    "\n",
    "\n",
    "def new_offer_id(col1, col2):\n",
    "    new_col = []\n",
    "    for i in range(len(col1)):\n",
    "        if isinstance(col1[i], str):\n",
    "            new_col.append(col1[i])\n",
    "            if isinstance(col2[i], str):\n",
    "                print('doubleval')\n",
    "        elif isinstance(col2[i], str):\n",
    "            new_col.append(col2[i])\n",
    "            if isinstance(col1[i], str):\n",
    "                print('doubleval')\n",
    "        else:\n",
    "            new_col.append(col1[i])\n",
    "    if len(new_col) == len(col1):\n",
    "        return(new_col)\n",
    "    else:\n",
    "        print('fail')\n",
    "        \n",
    "\n",
    "def mapper(col):\n",
    "    coded_dict = dict()\n",
    "    cter = 1\n",
    "    encoded = []\n",
    "    \n",
    "    for val in df[col]:\n",
    "        if val not in coded_dict:\n",
    "            coded_dict[val] = cter\n",
    "            cter+=1\n",
    "        \n",
    "        encoded.append(coded_dict[val])\n",
    "    return encoded\n"
   ]
  },
  {
   "cell_type": "code",
   "execution_count": 319,
   "metadata": {},
   "outputs": [],
   "source": [
    "def lm(df_x, df_y, df):\n",
    "    '''\n",
    "    INPUT:\n",
    "    string of independent var, string of dependent var, string of group, df hosting, string of nested group if relevant\n",
    "    \n",
    "    OUTPUT:\n",
    "    a statsmodel instance of a mixed effects/multilevel model\n",
    "    \n",
    "    '''\n",
    "    \n",
    "    try:\n",
    "        X = sm.add_constant(df_x)\n",
    "        try:\n",
    "            est = sm.OLS(df_y, X).fit()\n",
    "            return(est)\n",
    "        except:\n",
    "            print(str(df_x) + 'fit failed')\n",
    "    except:\n",
    "        print(str(df_x) + 'did not converge')\n",
    "    return('FAIL')\n",
    "\n",
    "def logm(df_x, df_y, df):\n",
    "    '''\n",
    "    INPUT:\n",
    "    string of independent var, string of dependent var, string of group, df hosting, string of nested group if relevant\n",
    "    \n",
    "    OUTPUT:\n",
    "    a statsmodel instance of a mixed effects/multilevel model\n",
    "    \n",
    "    '''\n",
    "    \n",
    "    try:\n",
    "        est = sm.Logit(df_y, df_x).fit() \n",
    "        return(est)\n",
    "    except:\n",
    "        print(str(df_x) + 'did not converge')\n",
    "    return('FAIL')\n",
    "\n",
    "def plot_sig_results(sig_df):\n",
    "    fig = go.Figure()\n",
    "\n",
    "    fig.add_trace(go.Bar(x=sig_df['features'], y = sig_df['coef'], name = 'Ratings_Score_Top_Coef', \n",
    "                     marker=dict(color =   sig_df['coef'],\n",
    "                                 colorscale='bluered',   # choose a colorscale\n",
    "                                 opacity=0.8,\n",
    "                                 showscale = True\n",
    "                                ), \n",
    "                     error_y=dict(type='data',\n",
    "                                array= list(sig_df['conf_int_975'] - sig_df['conf_int_025']),\n",
    "                                visible=True)\n",
    "                                ))\n",
    "    return(fig)"
   ]
  },
  {
   "cell_type": "code",
   "execution_count": 46,
   "metadata": {},
   "outputs": [],
   "source": [
    "def create_user_item_matrix(df):\n",
    "    '''\n",
    "    INPUT:\n",
    "    df - pandas dataframe with article_id, title, user_id columns\n",
    "    \n",
    "    OUTPUT:\n",
    "    user_item - user item matrix \n",
    "    \n",
    "    Description:\n",
    "    Return a matrix with user ids as rows and article ids on the columns with 1 values where a user interacted with \n",
    "    an article and a 0 otherwise\n",
    "    '''\n",
    "    # Fill in the function here\n",
    "  \n",
    "    \n",
    "    df['interact'] = [1 if i > 0 else  0 for i in df['event_offer completed']]\n",
    "    user_item_df = df[['offer_id', 'user_id', 'interact']]\n",
    "    user_item_gb = user_item_df.groupby(['user_id','offer_id'])['interact'].max().unstack(fill_value = float('nan'))\n",
    "    user_item = pd.DataFrame(user_item_gb)\n",
    "\n",
    "    return user_item # return the user_item matrix \n",
    "\n",
    "\n",
    "\n",
    "\n",
    "def create_test_and_train_user_item(df_train, df_test):\n",
    "    '''\n",
    "    INPUT:\n",
    "    df_train - training dataframe\n",
    "    df_test - test dataframe\n",
    "    \n",
    "    OUTPUT:\n",
    "    user_item_train - a user-item matrix of the training dataframe \n",
    "                      (unique users for each row and unique articles for each column)\n",
    "    user_item_test - a user-item matrix of the testing dataframe \n",
    "                    (unique users for each row and unique articles for each column)\n",
    "    test_idx - all of the test user ids\n",
    "    test_arts - all of the test article ids\n",
    "    \n",
    "    '''\n",
    "    # Your code here\n",
    "    user_item_train = create_user_item_matrix(df_train)\n",
    "    user_item_test = create_user_item_matrix(df_test)\n",
    "    test_idx = user_item_test.index\n",
    "    test_arts = user_item_test.columns\n",
    "    \n",
    "    return user_item_train, user_item_test, test_idx, test_arts\n",
    "\n",
    "\n",
    "def FunkSVD(ratings, latent_features=4, learning_rate=0.0001, iters=100):\n",
    "    '''\n",
    "    This function performs matrix factorization using a basic form of FunkSVD with no regularization\n",
    "    \n",
    "    INPUT:\n",
    "    ratings_mat - (numpy array) a matrix with users as rows, movies as columns, and ratings as values\n",
    "    latent_features - (int) the number of latent features used\n",
    "    learning_rate - (float) the learning rate \n",
    "    iters - (int) the number of iterations\n",
    "    \n",
    "    OUTPUT:\n",
    "    user_mat - (numpy array) a user by latent feature matrix\n",
    "    movie_mat - (numpy array) a latent feature by movie matrix\n",
    "    '''\n",
    "    ratings_np = np.array(ratings)\n",
    "    n_users = ratings.shape[0]\n",
    "    n_items = ratings.shape[1]\n",
    "    num_ratings = (n_users)*(n_items)\n",
    "    \n",
    "    # initialize the user and movie matrices with random values\n",
    "    user_mat = np.random.rand(n_users,latent_features)\n",
    "    items_mat = np.random.rand(latent_features, n_items) \n",
    "    \n",
    "    sse_accum = 0\n",
    "    \n",
    "    # header for running results\n",
    "    print(\"Optimization Statistics\")\n",
    "    print(\"Iterations | Mean Squared Error \")\n",
    "    \n",
    "    sse_totals = []\n",
    "    for i in range(0, iters):\n",
    "        old_sse = sse_accum\n",
    "        sse_accum = 0\n",
    "        for n in range(n_users): \n",
    "            for m in range(n_items):\n",
    "                # if the rating exists\n",
    "                \n",
    "                if math.isnan(ratings_np[n,m]) == False: \n",
    "                    \n",
    "                    error =  ratings_np[n, m] - np.dot(user_mat[n, :], items_mat[:, m])\n",
    "                    sse_accum += error**2\n",
    "                    # update the values in each matrix in the direction of the gradient\n",
    "                    for x in range(latent_features):\n",
    "                        \n",
    "                        user_mat[n, x] += (learning_rate*(2*error*items_mat[x,m]))\n",
    "                        items_mat[x, m] += (learning_rate*(2*error* user_mat[n, x]))\n",
    "                        \n",
    "        \n",
    "        # print results for iteration\n",
    "        sse_totals.append(sse_accum/m)\n",
    "        print(i + 1, sse_accum/m)\n",
    "    user_mat = pd.DataFrame(user_mat)\n",
    "    user_mat.index = ratings.index\n",
    "    items_mat = pd.DataFrame(items_mat)\n",
    "    items_mat.columns = ratings.columns\n",
    "    print(iters, sse_accum/m)\n",
    "    return user_mat, items_mat, sse_totals\n",
    "\n",
    "# Use these cells to see how well you can use the training \n",
    "# decomposition to predict on test data\n",
    "\n",
    "def latent_feature_pred(ui_train, ui_test, iters_, lf, lr):\n",
    "    '''\n",
    "    INPUT: train mat, test mat, list of latent factor sizes\n",
    "    \n",
    "    OUTPUT: acc test, all\n",
    "    \n",
    "    STEPS:\n",
    "        1. Creates SVD decomposition (Tries twice)\n",
    "        2. subsets by number of latent factors\n",
    "        3. finds dot product\n",
    "        4. subsets test predictions\n",
    "        5. gets test and pred accuracy\n",
    "    \n",
    "    '''\n",
    "    \n",
    "    u, vt, sse = FunkSVD(ui_train, latent_features=lf, learning_rate=lr, iters=iters_)\n",
    "\n",
    "    print('funksvd')\n",
    "    test_ind = ui_test.index\n",
    "    row_ind = ui_train.index.isin(test_ind)  \n",
    "    \n",
    "    test_cols = ui_test.columns\n",
    "    col_ind = ui_train.columns.isin(test_cols)\n",
    "    \n",
    "    train_ind = ui_train.index\n",
    "    row_ind_train = ui_test.index.isin(train_ind)\n",
    "    ui_test_short = (ui_test.loc[row_ind_train])\n",
    "    \n",
    "    u_test = u.loc[row_ind]\n",
    "    vt_test = vt.loc[:, vt.columns.isin(test_cols)]\n",
    "\n",
    "    test_sse_accum = 0\n",
    "    \n",
    "    for n in ui_test_short.index: \n",
    "       # print(n)\n",
    "        for m in ui_test_short.columns:\n",
    "                # if the rating exists\n",
    "          #  print(m)\n",
    "            if math.isnan(ui_test_short.loc[n,m]) == False: \n",
    "                \n",
    "                error =  ui_test_short.loc[n, m] - np.dot(u_test.loc[n, :], vt_test.loc[:, m])\n",
    "                test_sse_accum += error**2\n",
    "                    # update the values in each matrix in the direction of the gradient\n",
    "  \n",
    "    \n",
    "      \n",
    "    \n",
    "    return test_sse_accum/m, sse[len(sse)-1]\n",
    "        \n",
    "def test_different_lf(lf, lr, iter_ls):\n",
    "    \n",
    "    sse_test_ls = []\n",
    "    sse_all_ls = []\n",
    "    for i in iter_ls:\n",
    "        sse_test, sse_all = latent_feature_pred(user_item_train, user_item_test, i, lf, lr)\n",
    "        sse_test_ls.append(sse_test)\n",
    "        print(sse_test)\n",
    "        sse_all_ls.append(sse_all)\n",
    "        \n",
    "    return(sse_test_ls, sse_all_ls)\n",
    "    \n",
    "def plot_sse_fig(iters_ls, met_all_ls, met_test_ls = [], met_label = \"SSE\"): \n",
    "    '''\n",
    "    INPUT: list of latent factor vals, list of all/test accuracies, label for graphs\n",
    "    \n",
    "    OUTPUT: none, plots figures\n",
    "    '''\n",
    "    plt.figure()\n",
    "    plt.plot(iters_ls, met_all_ls, label='All ' + met_label)\n",
    "    \n",
    "    if len(met_test_ls) > 0:\n",
    "        plt.plot(iters_ls, met_test_ls, label='Test')\n",
    "        \n",
    "    plt.xlabel('Number of Iterations')\n",
    "    plt.ylabel(met_label)\n",
    "    plt.title(met_label + ' vs. Iterations')\n",
    "    plt.legend()\n",
    "    plt.show()"
   ]
  },
  {
   "cell_type": "code",
   "execution_count": 277,
   "metadata": {},
   "outputs": [],
   "source": [
    "tpr_df = transcript.merge(profile, left_on = 'person', right_on = 'id')\n",
    "#density of 118 year olds makes it seem likely that this is some kind of missingness in the data that should be disregarded\n",
    "tpr_clean = tpr_df[~(tpr_df['age'] == 118)].reset_index(drop = True)"
   ]
  },
  {
   "cell_type": "code",
   "execution_count": 278,
   "metadata": {},
   "outputs": [],
   "source": [
    "value_df = pd.DataFrame(list(tpr_clean['value']))\n",
    "offer_ids = new_offer_id(value_df['offer id'], value_df['offer_id']) \n",
    "\n",
    "value_df = value_df.drop(['offer id', 'offer_id', 'reward'], axis = 1)\n",
    "value_df['offer_id'] = offer_ids\n",
    "\n",
    "value_df = value_df.merge(portfolio, left_on = 'offer_id', right_on = 'id', how = 'left')\n",
    "\n",
    "\n",
    "df = pd.concat([tpr_clean, value_df], axis = 1)\n",
    "df = df.drop(['value'], axis = 1)"
   ]
  },
  {
   "cell_type": "code",
   "execution_count": 279,
   "metadata": {},
   "outputs": [
    {
     "data": {
      "text/html": [
       "<div>\n",
       "<style scoped>\n",
       "    .dataframe tbody tr th:only-of-type {\n",
       "        vertical-align: middle;\n",
       "    }\n",
       "\n",
       "    .dataframe tbody tr th {\n",
       "        vertical-align: top;\n",
       "    }\n",
       "\n",
       "    .dataframe thead th {\n",
       "        text-align: right;\n",
       "    }\n",
       "</style>\n",
       "<table border=\"1\" class=\"dataframe\">\n",
       "  <thead>\n",
       "    <tr style=\"text-align: right;\">\n",
       "      <th></th>\n",
       "      <th>event</th>\n",
       "      <th>time</th>\n",
       "      <th>gender</th>\n",
       "      <th>age</th>\n",
       "      <th>became_member_on</th>\n",
       "      <th>income</th>\n",
       "      <th>amount</th>\n",
       "      <th>reward</th>\n",
       "      <th>channels</th>\n",
       "      <th>difficulty</th>\n",
       "      <th>duration</th>\n",
       "      <th>offer_type</th>\n",
       "      <th>user_id</th>\n",
       "      <th>offer_id</th>\n",
       "    </tr>\n",
       "  </thead>\n",
       "  <tbody>\n",
       "    <tr>\n",
       "      <th>0</th>\n",
       "      <td>offer received</td>\n",
       "      <td>0</td>\n",
       "      <td>F</td>\n",
       "      <td>75</td>\n",
       "      <td>20170509</td>\n",
       "      <td>100000.0</td>\n",
       "      <td>NaN</td>\n",
       "      <td>5.0</td>\n",
       "      <td>[web, email, mobile]</td>\n",
       "      <td>5.0</td>\n",
       "      <td>7.0</td>\n",
       "      <td>bogo</td>\n",
       "      <td>1</td>\n",
       "      <td>1</td>\n",
       "    </tr>\n",
       "    <tr>\n",
       "      <th>1</th>\n",
       "      <td>offer viewed</td>\n",
       "      <td>6</td>\n",
       "      <td>F</td>\n",
       "      <td>75</td>\n",
       "      <td>20170509</td>\n",
       "      <td>100000.0</td>\n",
       "      <td>NaN</td>\n",
       "      <td>5.0</td>\n",
       "      <td>[web, email, mobile]</td>\n",
       "      <td>5.0</td>\n",
       "      <td>7.0</td>\n",
       "      <td>bogo</td>\n",
       "      <td>1</td>\n",
       "      <td>1</td>\n",
       "    </tr>\n",
       "    <tr>\n",
       "      <th>2</th>\n",
       "      <td>transaction</td>\n",
       "      <td>132</td>\n",
       "      <td>F</td>\n",
       "      <td>75</td>\n",
       "      <td>20170509</td>\n",
       "      <td>100000.0</td>\n",
       "      <td>19.89</td>\n",
       "      <td>NaN</td>\n",
       "      <td>NaN</td>\n",
       "      <td>NaN</td>\n",
       "      <td>NaN</td>\n",
       "      <td>NaN</td>\n",
       "      <td>1</td>\n",
       "      <td>2</td>\n",
       "    </tr>\n",
       "    <tr>\n",
       "      <th>3</th>\n",
       "      <td>offer completed</td>\n",
       "      <td>132</td>\n",
       "      <td>F</td>\n",
       "      <td>75</td>\n",
       "      <td>20170509</td>\n",
       "      <td>100000.0</td>\n",
       "      <td>NaN</td>\n",
       "      <td>5.0</td>\n",
       "      <td>[web, email, mobile]</td>\n",
       "      <td>5.0</td>\n",
       "      <td>7.0</td>\n",
       "      <td>bogo</td>\n",
       "      <td>1</td>\n",
       "      <td>1</td>\n",
       "    </tr>\n",
       "    <tr>\n",
       "      <th>4</th>\n",
       "      <td>transaction</td>\n",
       "      <td>144</td>\n",
       "      <td>F</td>\n",
       "      <td>75</td>\n",
       "      <td>20170509</td>\n",
       "      <td>100000.0</td>\n",
       "      <td>17.78</td>\n",
       "      <td>NaN</td>\n",
       "      <td>NaN</td>\n",
       "      <td>NaN</td>\n",
       "      <td>NaN</td>\n",
       "      <td>NaN</td>\n",
       "      <td>1</td>\n",
       "      <td>2</td>\n",
       "    </tr>\n",
       "  </tbody>\n",
       "</table>\n",
       "</div>"
      ],
      "text/plain": [
       "             event  time gender  age  became_member_on    income  amount  \\\n",
       "0   offer received     0      F   75          20170509  100000.0     NaN   \n",
       "1     offer viewed     6      F   75          20170509  100000.0     NaN   \n",
       "2      transaction   132      F   75          20170509  100000.0   19.89   \n",
       "3  offer completed   132      F   75          20170509  100000.0     NaN   \n",
       "4      transaction   144      F   75          20170509  100000.0   17.78   \n",
       "\n",
       "   reward              channels  difficulty  duration offer_type  user_id  \\\n",
       "0     5.0  [web, email, mobile]         5.0       7.0       bogo        1   \n",
       "1     5.0  [web, email, mobile]         5.0       7.0       bogo        1   \n",
       "2     NaN                   NaN         NaN       NaN        NaN        1   \n",
       "3     5.0  [web, email, mobile]         5.0       7.0       bogo        1   \n",
       "4     NaN                   NaN         NaN       NaN        NaN        1   \n",
       "\n",
       "   offer_id  \n",
       "0         1  \n",
       "1         1  \n",
       "2         2  \n",
       "3         1  \n",
       "4         2  "
      ]
     },
     "execution_count": 279,
     "metadata": {},
     "output_type": "execute_result"
    }
   ],
   "source": [
    "person_encoded = mapper('person')\n",
    "del df['person']\n",
    "del df['id']\n",
    "df['user_id'] = person_encoded\n",
    "\n",
    "#nas were set to 2\n",
    "offer_encoded = mapper('offer_id')\n",
    "del df['offer_id']\n",
    "df['offer_id'] = offer_encoded\n",
    "\n",
    "# show header\n",
    "df.head()"
   ]
  },
  {
   "cell_type": "code",
   "execution_count": 280,
   "metadata": {},
   "outputs": [
    {
     "data": {
      "text/html": [
       "<div>\n",
       "<style scoped>\n",
       "    .dataframe tbody tr th:only-of-type {\n",
       "        vertical-align: middle;\n",
       "    }\n",
       "\n",
       "    .dataframe tbody tr th {\n",
       "        vertical-align: top;\n",
       "    }\n",
       "\n",
       "    .dataframe thead th {\n",
       "        text-align: right;\n",
       "    }\n",
       "</style>\n",
       "<table border=\"1\" class=\"dataframe\">\n",
       "  <thead>\n",
       "    <tr style=\"text-align: right;\">\n",
       "      <th></th>\n",
       "      <th>event</th>\n",
       "      <th>time</th>\n",
       "      <th>gender</th>\n",
       "      <th>age</th>\n",
       "      <th>became_member_on</th>\n",
       "      <th>income</th>\n",
       "      <th>amount</th>\n",
       "      <th>reward</th>\n",
       "      <th>channels</th>\n",
       "      <th>difficulty</th>\n",
       "      <th>duration</th>\n",
       "      <th>offer_type</th>\n",
       "      <th>user_id</th>\n",
       "      <th>offer_id</th>\n",
       "    </tr>\n",
       "  </thead>\n",
       "  <tbody>\n",
       "    <tr>\n",
       "      <th>0</th>\n",
       "      <td>offer received</td>\n",
       "      <td>0</td>\n",
       "      <td>F</td>\n",
       "      <td>75</td>\n",
       "      <td>20170509</td>\n",
       "      <td>100000.0</td>\n",
       "      <td>NaN</td>\n",
       "      <td>5.0</td>\n",
       "      <td>[web, email, mobile]</td>\n",
       "      <td>5.0</td>\n",
       "      <td>7.0</td>\n",
       "      <td>bogo</td>\n",
       "      <td>1</td>\n",
       "      <td>1.0</td>\n",
       "    </tr>\n",
       "    <tr>\n",
       "      <th>1</th>\n",
       "      <td>offer viewed</td>\n",
       "      <td>6</td>\n",
       "      <td>F</td>\n",
       "      <td>75</td>\n",
       "      <td>20170509</td>\n",
       "      <td>100000.0</td>\n",
       "      <td>NaN</td>\n",
       "      <td>5.0</td>\n",
       "      <td>[web, email, mobile]</td>\n",
       "      <td>5.0</td>\n",
       "      <td>7.0</td>\n",
       "      <td>bogo</td>\n",
       "      <td>1</td>\n",
       "      <td>1.0</td>\n",
       "    </tr>\n",
       "    <tr>\n",
       "      <th>2</th>\n",
       "      <td>transaction</td>\n",
       "      <td>132</td>\n",
       "      <td>F</td>\n",
       "      <td>75</td>\n",
       "      <td>20170509</td>\n",
       "      <td>100000.0</td>\n",
       "      <td>19.89</td>\n",
       "      <td>NaN</td>\n",
       "      <td>NaN</td>\n",
       "      <td>NaN</td>\n",
       "      <td>NaN</td>\n",
       "      <td>NaN</td>\n",
       "      <td>1</td>\n",
       "      <td>NaN</td>\n",
       "    </tr>\n",
       "    <tr>\n",
       "      <th>3</th>\n",
       "      <td>offer completed</td>\n",
       "      <td>132</td>\n",
       "      <td>F</td>\n",
       "      <td>75</td>\n",
       "      <td>20170509</td>\n",
       "      <td>100000.0</td>\n",
       "      <td>NaN</td>\n",
       "      <td>5.0</td>\n",
       "      <td>[web, email, mobile]</td>\n",
       "      <td>5.0</td>\n",
       "      <td>7.0</td>\n",
       "      <td>bogo</td>\n",
       "      <td>1</td>\n",
       "      <td>1.0</td>\n",
       "    </tr>\n",
       "    <tr>\n",
       "      <th>4</th>\n",
       "      <td>transaction</td>\n",
       "      <td>144</td>\n",
       "      <td>F</td>\n",
       "      <td>75</td>\n",
       "      <td>20170509</td>\n",
       "      <td>100000.0</td>\n",
       "      <td>17.78</td>\n",
       "      <td>NaN</td>\n",
       "      <td>NaN</td>\n",
       "      <td>NaN</td>\n",
       "      <td>NaN</td>\n",
       "      <td>NaN</td>\n",
       "      <td>1</td>\n",
       "      <td>NaN</td>\n",
       "    </tr>\n",
       "  </tbody>\n",
       "</table>\n",
       "</div>"
      ],
      "text/plain": [
       "             event  time gender  age  became_member_on    income  amount  \\\n",
       "0   offer received     0      F   75          20170509  100000.0     NaN   \n",
       "1     offer viewed     6      F   75          20170509  100000.0     NaN   \n",
       "2      transaction   132      F   75          20170509  100000.0   19.89   \n",
       "3  offer completed   132      F   75          20170509  100000.0     NaN   \n",
       "4      transaction   144      F   75          20170509  100000.0   17.78   \n",
       "\n",
       "   reward              channels  difficulty  duration offer_type  user_id  \\\n",
       "0     5.0  [web, email, mobile]         5.0       7.0       bogo        1   \n",
       "1     5.0  [web, email, mobile]         5.0       7.0       bogo        1   \n",
       "2     NaN                   NaN         NaN       NaN        NaN        1   \n",
       "3     5.0  [web, email, mobile]         5.0       7.0       bogo        1   \n",
       "4     NaN                   NaN         NaN       NaN        NaN        1   \n",
       "\n",
       "   offer_id  \n",
       "0       1.0  \n",
       "1       1.0  \n",
       "2       NaN  \n",
       "3       1.0  \n",
       "4       NaN  "
      ]
     },
     "execution_count": 280,
     "metadata": {},
     "output_type": "execute_result"
    }
   ],
   "source": [
    "df['offer_id'] = df['offer_id'].replace(2, float('nan'))\n",
    "df.head()"
   ]
  },
  {
   "cell_type": "code",
   "execution_count": 281,
   "metadata": {},
   "outputs": [
    {
     "data": {
      "text/html": [
       "<div>\n",
       "<style scoped>\n",
       "    .dataframe tbody tr th:only-of-type {\n",
       "        vertical-align: middle;\n",
       "    }\n",
       "\n",
       "    .dataframe tbody tr th {\n",
       "        vertical-align: top;\n",
       "    }\n",
       "\n",
       "    .dataframe thead th {\n",
       "        text-align: right;\n",
       "    }\n",
       "</style>\n",
       "<table border=\"1\" class=\"dataframe\">\n",
       "  <thead>\n",
       "    <tr style=\"text-align: right;\">\n",
       "      <th></th>\n",
       "      <th>event</th>\n",
       "      <th>time</th>\n",
       "      <th>gender</th>\n",
       "      <th>age</th>\n",
       "      <th>became_member_on</th>\n",
       "      <th>income</th>\n",
       "      <th>amount</th>\n",
       "      <th>reward</th>\n",
       "      <th>channels</th>\n",
       "      <th>difficulty</th>\n",
       "      <th>duration</th>\n",
       "      <th>offer_type</th>\n",
       "      <th>user_id</th>\n",
       "      <th>offer_id</th>\n",
       "    </tr>\n",
       "  </thead>\n",
       "  <tbody>\n",
       "    <tr>\n",
       "      <th>0</th>\n",
       "      <td>offer received</td>\n",
       "      <td>0</td>\n",
       "      <td>F</td>\n",
       "      <td>75</td>\n",
       "      <td>20170509</td>\n",
       "      <td>100000.0</td>\n",
       "      <td>NaN</td>\n",
       "      <td>5.0</td>\n",
       "      <td>[web, email, mobile]</td>\n",
       "      <td>5.0</td>\n",
       "      <td>7.0</td>\n",
       "      <td>bogo</td>\n",
       "      <td>1</td>\n",
       "      <td>1.0</td>\n",
       "    </tr>\n",
       "    <tr>\n",
       "      <th>1</th>\n",
       "      <td>offer viewed</td>\n",
       "      <td>6</td>\n",
       "      <td>F</td>\n",
       "      <td>75</td>\n",
       "      <td>20170509</td>\n",
       "      <td>100000.0</td>\n",
       "      <td>NaN</td>\n",
       "      <td>5.0</td>\n",
       "      <td>[web, email, mobile]</td>\n",
       "      <td>5.0</td>\n",
       "      <td>7.0</td>\n",
       "      <td>bogo</td>\n",
       "      <td>1</td>\n",
       "      <td>1.0</td>\n",
       "    </tr>\n",
       "    <tr>\n",
       "      <th>2</th>\n",
       "      <td>transaction</td>\n",
       "      <td>132</td>\n",
       "      <td>F</td>\n",
       "      <td>75</td>\n",
       "      <td>20170509</td>\n",
       "      <td>100000.0</td>\n",
       "      <td>19.89</td>\n",
       "      <td>NaN</td>\n",
       "      <td>NaN</td>\n",
       "      <td>NaN</td>\n",
       "      <td>NaN</td>\n",
       "      <td>NaN</td>\n",
       "      <td>1</td>\n",
       "      <td>NaN</td>\n",
       "    </tr>\n",
       "    <tr>\n",
       "      <th>3</th>\n",
       "      <td>offer completed</td>\n",
       "      <td>132</td>\n",
       "      <td>F</td>\n",
       "      <td>75</td>\n",
       "      <td>20170509</td>\n",
       "      <td>100000.0</td>\n",
       "      <td>NaN</td>\n",
       "      <td>5.0</td>\n",
       "      <td>[web, email, mobile]</td>\n",
       "      <td>5.0</td>\n",
       "      <td>7.0</td>\n",
       "      <td>bogo</td>\n",
       "      <td>1</td>\n",
       "      <td>1.0</td>\n",
       "    </tr>\n",
       "    <tr>\n",
       "      <th>4</th>\n",
       "      <td>transaction</td>\n",
       "      <td>144</td>\n",
       "      <td>F</td>\n",
       "      <td>75</td>\n",
       "      <td>20170509</td>\n",
       "      <td>100000.0</td>\n",
       "      <td>17.78</td>\n",
       "      <td>NaN</td>\n",
       "      <td>NaN</td>\n",
       "      <td>NaN</td>\n",
       "      <td>NaN</td>\n",
       "      <td>NaN</td>\n",
       "      <td>1</td>\n",
       "      <td>NaN</td>\n",
       "    </tr>\n",
       "    <tr>\n",
       "      <th>...</th>\n",
       "      <td>...</td>\n",
       "      <td>...</td>\n",
       "      <td>...</td>\n",
       "      <td>...</td>\n",
       "      <td>...</td>\n",
       "      <td>...</td>\n",
       "      <td>...</td>\n",
       "      <td>...</td>\n",
       "      <td>...</td>\n",
       "      <td>...</td>\n",
       "      <td>...</td>\n",
       "      <td>...</td>\n",
       "      <td>...</td>\n",
       "      <td>...</td>\n",
       "    </tr>\n",
       "    <tr>\n",
       "      <th>272757</th>\n",
       "      <td>offer viewed</td>\n",
       "      <td>504</td>\n",
       "      <td>M</td>\n",
       "      <td>47</td>\n",
       "      <td>20171013</td>\n",
       "      <td>94000.0</td>\n",
       "      <td>NaN</td>\n",
       "      <td>0.0</td>\n",
       "      <td>[web, email, mobile]</td>\n",
       "      <td>0.0</td>\n",
       "      <td>4.0</td>\n",
       "      <td>informational</td>\n",
       "      <td>14824</td>\n",
       "      <td>7.0</td>\n",
       "    </tr>\n",
       "    <tr>\n",
       "      <th>272758</th>\n",
       "      <td>offer received</td>\n",
       "      <td>576</td>\n",
       "      <td>M</td>\n",
       "      <td>47</td>\n",
       "      <td>20171013</td>\n",
       "      <td>94000.0</td>\n",
       "      <td>NaN</td>\n",
       "      <td>10.0</td>\n",
       "      <td>[web, email, mobile, social]</td>\n",
       "      <td>10.0</td>\n",
       "      <td>5.0</td>\n",
       "      <td>bogo</td>\n",
       "      <td>14824</td>\n",
       "      <td>11.0</td>\n",
       "    </tr>\n",
       "    <tr>\n",
       "      <th>272759</th>\n",
       "      <td>offer viewed</td>\n",
       "      <td>576</td>\n",
       "      <td>M</td>\n",
       "      <td>47</td>\n",
       "      <td>20171013</td>\n",
       "      <td>94000.0</td>\n",
       "      <td>NaN</td>\n",
       "      <td>10.0</td>\n",
       "      <td>[web, email, mobile, social]</td>\n",
       "      <td>10.0</td>\n",
       "      <td>5.0</td>\n",
       "      <td>bogo</td>\n",
       "      <td>14824</td>\n",
       "      <td>11.0</td>\n",
       "    </tr>\n",
       "    <tr>\n",
       "      <th>272760</th>\n",
       "      <td>offer received</td>\n",
       "      <td>576</td>\n",
       "      <td>F</td>\n",
       "      <td>58</td>\n",
       "      <td>20161020</td>\n",
       "      <td>78000.0</td>\n",
       "      <td>NaN</td>\n",
       "      <td>10.0</td>\n",
       "      <td>[web, email, mobile, social]</td>\n",
       "      <td>10.0</td>\n",
       "      <td>5.0</td>\n",
       "      <td>bogo</td>\n",
       "      <td>14825</td>\n",
       "      <td>11.0</td>\n",
       "    </tr>\n",
       "    <tr>\n",
       "      <th>272761</th>\n",
       "      <td>offer viewed</td>\n",
       "      <td>576</td>\n",
       "      <td>F</td>\n",
       "      <td>58</td>\n",
       "      <td>20161020</td>\n",
       "      <td>78000.0</td>\n",
       "      <td>NaN</td>\n",
       "      <td>10.0</td>\n",
       "      <td>[web, email, mobile, social]</td>\n",
       "      <td>10.0</td>\n",
       "      <td>5.0</td>\n",
       "      <td>bogo</td>\n",
       "      <td>14825</td>\n",
       "      <td>11.0</td>\n",
       "    </tr>\n",
       "  </tbody>\n",
       "</table>\n",
       "<p>272762 rows × 14 columns</p>\n",
       "</div>"
      ],
      "text/plain": [
       "                  event  time gender  age  became_member_on    income  amount  \\\n",
       "0        offer received     0      F   75          20170509  100000.0     NaN   \n",
       "1          offer viewed     6      F   75          20170509  100000.0     NaN   \n",
       "2           transaction   132      F   75          20170509  100000.0   19.89   \n",
       "3       offer completed   132      F   75          20170509  100000.0     NaN   \n",
       "4           transaction   144      F   75          20170509  100000.0   17.78   \n",
       "...                 ...   ...    ...  ...               ...       ...     ...   \n",
       "272757     offer viewed   504      M   47          20171013   94000.0     NaN   \n",
       "272758   offer received   576      M   47          20171013   94000.0     NaN   \n",
       "272759     offer viewed   576      M   47          20171013   94000.0     NaN   \n",
       "272760   offer received   576      F   58          20161020   78000.0     NaN   \n",
       "272761     offer viewed   576      F   58          20161020   78000.0     NaN   \n",
       "\n",
       "        reward                      channels  difficulty  duration  \\\n",
       "0          5.0          [web, email, mobile]         5.0       7.0   \n",
       "1          5.0          [web, email, mobile]         5.0       7.0   \n",
       "2          NaN                           NaN         NaN       NaN   \n",
       "3          5.0          [web, email, mobile]         5.0       7.0   \n",
       "4          NaN                           NaN         NaN       NaN   \n",
       "...        ...                           ...         ...       ...   \n",
       "272757     0.0          [web, email, mobile]         0.0       4.0   \n",
       "272758    10.0  [web, email, mobile, social]        10.0       5.0   \n",
       "272759    10.0  [web, email, mobile, social]        10.0       5.0   \n",
       "272760    10.0  [web, email, mobile, social]        10.0       5.0   \n",
       "272761    10.0  [web, email, mobile, social]        10.0       5.0   \n",
       "\n",
       "           offer_type  user_id  offer_id  \n",
       "0                bogo        1       1.0  \n",
       "1                bogo        1       1.0  \n",
       "2                 NaN        1       NaN  \n",
       "3                bogo        1       1.0  \n",
       "4                 NaN        1       NaN  \n",
       "...               ...      ...       ...  \n",
       "272757  informational    14824       7.0  \n",
       "272758           bogo    14824      11.0  \n",
       "272759           bogo    14824      11.0  \n",
       "272760           bogo    14825      11.0  \n",
       "272761           bogo    14825      11.0  \n",
       "\n",
       "[272762 rows x 14 columns]"
      ]
     },
     "execution_count": 281,
     "metadata": {},
     "output_type": "execute_result"
    }
   ],
   "source": [
    "df.sort_values(['user_id', 'time'], axis = 0).reset_index(drop = True)"
   ]
  },
  {
   "cell_type": "code",
   "execution_count": 282,
   "metadata": {},
   "outputs": [],
   "source": [
    "channels_df = list_to_cols(df['channels'])\n",
    "df = df.drop(['channels'],axis = 1)"
   ]
  },
  {
   "cell_type": "code",
   "execution_count": 283,
   "metadata": {},
   "outputs": [],
   "source": [
    "df['years_member'] = df['became_member_on'].apply(get_years)\n",
    "df = df.drop(['became_member_on'],axis = 1)"
   ]
  },
  {
   "cell_type": "code",
   "execution_count": 284,
   "metadata": {},
   "outputs": [
    {
     "data": {
      "text/plain": [
       "user_id\n",
       "1        60.0\n",
       "2        25.0\n",
       "3        67.0\n",
       "4        12.0\n",
       "5        85.0\n",
       "         ... \n",
       "14821    40.0\n",
       "14822    30.0\n",
       "14823    22.0\n",
       "14824    20.0\n",
       "14825    20.0\n",
       "Name: reward, Length: 14825, dtype: float64"
      ]
     },
     "execution_count": 284,
     "metadata": {},
     "output_type": "execute_result"
    }
   ],
   "source": [
    "df_for_amount['reward']\n",
    "#most people are two this data is probably older"
   ]
  },
  {
   "cell_type": "code",
   "execution_count": 285,
   "metadata": {},
   "outputs": [],
   "source": [
    "for_cats_df = df.select_dtypes(include=['object'])\n",
    "\n",
    "cats_df = create_dummy_df(df, for_cats_df.columns, False)"
   ]
  },
  {
   "cell_type": "code",
   "execution_count": 286,
   "metadata": {},
   "outputs": [],
   "source": [
    "new_df = pd.concat([cats_df, channels_df], axis = 1)\n",
    "\n",
    "\n",
    "df_gb = new_df.groupby(['user_id', 'offer_id']).agg('mean')\n",
    "\n",
    "\n",
    "df_gb = df_gb.reset_index()\n",
    "df_gb.head()\n",
    "\n",
    "df_gb_time = df_gb.sort_values(by = 'time', axis = 0).reset_index(drop = True)"
   ]
  },
  {
   "cell_type": "code",
   "execution_count": 287,
   "metadata": {
    "scrolled": false
   },
   "outputs": [
    {
     "data": {
      "text/plain": [
       "array([[<matplotlib.axes._subplots.AxesSubplot object at 0x0000017F3FD71E80>,\n",
       "        <matplotlib.axes._subplots.AxesSubplot object at 0x0000017F3D7DBDA0>,\n",
       "        <matplotlib.axes._subplots.AxesSubplot object at 0x0000017F3DA8F860>,\n",
       "        <matplotlib.axes._subplots.AxesSubplot object at 0x0000017F3D4B3518>,\n",
       "        <matplotlib.axes._subplots.AxesSubplot object at 0x0000017F3D7D3550>],\n",
       "       [<matplotlib.axes._subplots.AxesSubplot object at 0x0000017F3D7D3320>,\n",
       "        <matplotlib.axes._subplots.AxesSubplot object at 0x0000017F3C935710>,\n",
       "        <matplotlib.axes._subplots.AxesSubplot object at 0x0000017F3E2C4588>,\n",
       "        <matplotlib.axes._subplots.AxesSubplot object at 0x0000017F3CB8AF98>,\n",
       "        <matplotlib.axes._subplots.AxesSubplot object at 0x0000017F3DD0A630>],\n",
       "       [<matplotlib.axes._subplots.AxesSubplot object at 0x0000017F3CB6E390>,\n",
       "        <matplotlib.axes._subplots.AxesSubplot object at 0x0000017F3E1287F0>,\n",
       "        <matplotlib.axes._subplots.AxesSubplot object at 0x0000017F3E11DF60>,\n",
       "        <matplotlib.axes._subplots.AxesSubplot object at 0x0000017F3D954FD0>,\n",
       "        <matplotlib.axes._subplots.AxesSubplot object at 0x0000017F3DEC7048>],\n",
       "       [<matplotlib.axes._subplots.AxesSubplot object at 0x0000017F3DE449B0>,\n",
       "        <matplotlib.axes._subplots.AxesSubplot object at 0x0000017F3CE17320>,\n",
       "        <matplotlib.axes._subplots.AxesSubplot object at 0x0000017F3DC87128>,\n",
       "        <matplotlib.axes._subplots.AxesSubplot object at 0x0000017F3D3388D0>,\n",
       "        <matplotlib.axes._subplots.AxesSubplot object at 0x0000017F3D5F50F0>],\n",
       "       [<matplotlib.axes._subplots.AxesSubplot object at 0x0000017F3F7A1B38>,\n",
       "        <matplotlib.axes._subplots.AxesSubplot object at 0x0000017F3D52EEB8>,\n",
       "        <matplotlib.axes._subplots.AxesSubplot object at 0x0000017F3CE58710>,\n",
       "        <matplotlib.axes._subplots.AxesSubplot object at 0x0000017F3EA0E438>,\n",
       "        <matplotlib.axes._subplots.AxesSubplot object at 0x0000017F3D7C0B00>]],\n",
       "      dtype=object)"
      ]
     },
     "execution_count": 287,
     "metadata": {},
     "output_type": "execute_result"
    },
    {
     "data": {
      "image/png": "[encoded data removed]",
      "text/plain": [
       "<matplotlib.figure.Figure at 0x17f3c7bc438>"
      ]
     },
     "metadata": {},
     "output_type": "display_data"
    }
   ],
   "source": [
    "df_gb[df_gb['event_offer completed'] > 0].hist(figsize = (15,20))"
   ]
  },
  {
   "cell_type": "code",
   "execution_count": 153,
   "metadata": {
    "scrolled": false
   },
   "outputs": [
    {
     "data": {
      "text/plain": [
       "array([[<matplotlib.axes._subplots.AxesSubplot object at 0x0000017F3D6F0F28>,\n",
       "        <matplotlib.axes._subplots.AxesSubplot object at 0x0000017F3D6DF208>,\n",
       "        <matplotlib.axes._subplots.AxesSubplot object at 0x0000017F3DD4A2B0>,\n",
       "        <matplotlib.axes._subplots.AxesSubplot object at 0x0000017F3DD62CC0>,\n",
       "        <matplotlib.axes._subplots.AxesSubplot object at 0x0000017F3DD74BA8>],\n",
       "       [<matplotlib.axes._subplots.AxesSubplot object at 0x0000017F3DD749E8>,\n",
       "        <matplotlib.axes._subplots.AxesSubplot object at 0x0000017F3D7600B8>,\n",
       "        <matplotlib.axes._subplots.AxesSubplot object at 0x0000017F3DD997B8>,\n",
       "        <matplotlib.axes._subplots.AxesSubplot object at 0x0000017F3DDB00B8>,\n",
       "        <matplotlib.axes._subplots.AxesSubplot object at 0x0000017F3D735320>],\n",
       "       [<matplotlib.axes._subplots.AxesSubplot object at 0x0000017F3DDE0080>,\n",
       "        <matplotlib.axes._subplots.AxesSubplot object at 0x0000017F3D838C50>,\n",
       "        <matplotlib.axes._subplots.AxesSubplot object at 0x0000017F3D7AA898>,\n",
       "        <matplotlib.axes._subplots.AxesSubplot object at 0x0000017F3DE663C8>,\n",
       "        <matplotlib.axes._subplots.AxesSubplot object at 0x0000017F3DE72DD8>],\n",
       "       [<matplotlib.axes._subplots.AxesSubplot object at 0x0000017F3DE837B8>,\n",
       "        <matplotlib.axes._subplots.AxesSubplot object at 0x0000017F3D7C0390>,\n",
       "        <matplotlib.axes._subplots.AxesSubplot object at 0x0000017F3DEA3518>,\n",
       "        <matplotlib.axes._subplots.AxesSubplot object at 0x0000017F3DE4C588>,\n",
       "        <matplotlib.axes._subplots.AxesSubplot object at 0x0000017F3D7C6A58>],\n",
       "       [<matplotlib.axes._subplots.AxesSubplot object at 0x0000017F3DECF128>,\n",
       "        <matplotlib.axes._subplots.AxesSubplot object at 0x0000017F3D93F748>,\n",
       "        <matplotlib.axes._subplots.AxesSubplot object at 0x0000017F3D7D7F60>,\n",
       "        <matplotlib.axes._subplots.AxesSubplot object at 0x0000017F3D77A630>,\n",
       "        <matplotlib.axes._subplots.AxesSubplot object at 0x0000017F3D962FD0>]],\n",
       "      dtype=object)"
      ]
     },
     "execution_count": 153,
     "metadata": {},
     "output_type": "execute_result"
    },
    {
     "data": {
      "image/png": "[encoded data removed]",
      "text/plain": [
       "<matplotlib.figure.Figure at 0x17f3dd38ac8>"
      ]
     },
     "metadata": {},
     "output_type": "display_data"
    }
   ],
   "source": [
    "df_gb.hist(figsize = (15,20))"
   ]
  },
  {
   "cell_type": "markdown",
   "metadata": {},
   "source": [
    "# WHO IN GENERAL WILL BE AFFECTED BY AN OFFER?"
   ]
  },
  {
   "cell_type": "code",
   "execution_count": 336,
   "metadata": {},
   "outputs": [
    {
     "data": {
      "text/plain": [
       "0        0.333333\n",
       "1        0.500000\n",
       "2        0.333333\n",
       "3        0.333333\n",
       "4        0.333333\n",
       "           ...   \n",
       "55217    0.000000\n",
       "55218    0.500000\n",
       "55219    0.500000\n",
       "55220    0.500000\n",
       "55221    0.500000\n",
       "Name: event_offer viewed, Length: 55222, dtype: float64"
      ]
     },
     "execution_count": 336,
     "metadata": {},
     "output_type": "execute_result"
    }
   ],
   "source": [
    "df_gb['event_offer viewed']"
   ]
  },
  {
   "cell_type": "code",
   "execution_count": 365,
   "metadata": {},
   "outputs": [],
   "source": [
    "def offer_influence(df = df_for_amount_new):\n",
    "    new_offer_impact = []\n",
    "    for i, j in enumerate(df['event_offer completed']):\n",
    "        if j > 0:\n",
    "            if list(df['event_offer viewed'])[i] > 0:\n",
    "                new_offer_impact.append(1)\n",
    "            else:\n",
    "                new_offer_impact.append(0)\n",
    "        else:\n",
    "            new_offer_impact.append(0)\n",
    "    return(new_offer_impact)"
   ]
  },
  {
   "cell_type": "code",
   "execution_count": 340,
   "metadata": {},
   "outputs": [
    {
     "data": {
      "image/png": "[encoded data removed]",
      "text/plain": [
       "<matplotlib.figure.Figure at 0x17f3dd6ca90>"
      ]
     },
     "metadata": {},
     "output_type": "display_data"
    }
   ],
   "source": [
    "users_df = df_gb[['user_id', 'gender_F', 'gender_M', 'gender_O','years_member']]\n",
    "\n",
    "age_groups = ['25_and_less' if i < 25 else '25_to_40' if i < 40 else '40_to_60' if i < 60 else '60+' for i in df_gb['age']]\n",
    "age_groups = pd.Series(age_groups, name = 'age_cats')\n",
    "\n",
    "age_groups_df = pd.get_dummies(age_groups).reset_index(drop = True)\n",
    "\n",
    "income_groups = ['None' if i < 1 else 'group1' if i < 40000 else 'group2' if i < 75000 else 'group3' for i in df_gb['income']]\n",
    "income_groups = pd.Series(income_groups, name = 'income_cats')\n",
    "\n",
    "income_groups_df = pd.get_dummies(income_groups).reset_index(drop = True)\n",
    "cats_df2 = pd.concat([age_groups_df, income_groups_df], axis = 1)\n",
    "\n",
    "\n",
    "users_df = users_df.reset_index(drop = True)\n",
    "users_df2 = pd.concat([users_df, cats_df2], axis = 1)\n",
    "\n",
    "users_df2 = users_df2.groupby('user_id').agg('mean')\n",
    "\n",
    "df_for_amount = new_df.groupby(['user_id']).agg('sum')\n",
    "df_for_amount_new = df_for_amount[df_for_amount.index.isin(users_df2.index)]\n",
    "\n",
    "users_df2['amount'] = [i if math.isnan(i) == False else 0 for i in df_for_amount_new['amount']]\n",
    "users_df2['reward_viewed_and_used'] = offer_influence()\n",
    "users_df2['reward_impact'] = users_df2['reward_viewed_and_used']/users_df2['amount']\n",
    "users_df2['reward_impact'] = [i if math.isnan(i) == False else 0 for i in users_df2['reward_impact']]\n",
    "\n",
    "users_df_corr = pd.concat([users_df2, u], axis =1)\n",
    "sns.heatmap(users_df_corr.corr(), annot=False, fmt=\".2f\");"
   ]
  },
  {
   "cell_type": "code",
   "execution_count": 348,
   "metadata": {},
   "outputs": [
    {
     "name": "stdout",
     "output_type": "stream",
     "text": [
      "mss: 82\n",
      "max_feat: 2\n",
      "mean_mae: 0.008507381319278978\n",
      "mean_mse: 0.00021326942893466102\n",
      "\n",
      "frequency: \n",
      "\n",
      "10\n",
      "10\n",
      "10\n",
      "10\n",
      "10\n",
      "10\n",
      "10\n",
      "10\n",
      "10\n",
      "10\n",
      "10\n",
      "\n",
      "feat_imp: \n",
      "\n",
      "-0.0014553674872500174\n",
      "-0.0007513787187228279\n",
      "-0.0006711456563670825\n",
      "-0.00019707453455407157\n",
      "0.000319252564137908\n",
      "0.001734052433590983\n",
      "0.0019456632059017542\n",
      "0.002059598278262444\n",
      "0.002284070366703927\n",
      "0.011095789872643128\n",
      "0.04421281461881508\n",
      "\n",
      "top_ features\n",
      "\n",
      "60+\n",
      "40_to_60\n",
      "25_to_40\n",
      "gender_O\n",
      "25_and_less\n",
      "gender_M\n",
      "group1\n",
      "group2\n",
      "gender_F\n",
      "group3\n",
      "years_member\n"
     ]
    }
   ],
   "source": [
    "X = users_df2.reset_index(drop = True)\n",
    "X = X.drop(['reward_impact', 'reward_viewed_and_used', 'amount'], axis = 1)\n",
    "y = np.array(users_df2['reward_impact'])\n",
    "\n",
    "\n",
    "best_param = specify_best(model = RandomForestRegressor(random_state = 15), typ = 'RF', X = X, y = y)\n",
    "\n",
    "rf = RandomForestRegressor(min_samples_split=best_param.get('min_samples_split'), \n",
    "                           max_features= best_param.get('max_features'),random_state = 15)\n",
    "\n",
    "rf_res = run_models_kfold(rf, X, users_df2['reward_impact'])\n",
    "\n",
    "#because of the small # of features, only 2 were > mean so in order to cast a wider net, we've included top 5\n",
    "eprf = top_features(rf_res[2], featn = 11, mean = False)\n",
    "print_vals(best_param, rf_res, eprf)"
   ]
  },
  {
   "cell_type": "code",
   "execution_count": 349,
   "metadata": {
    "scrolled": true
   },
   "outputs": [
    {
     "name": "stdout",
     "output_type": "stream",
     "text": [
      "                            OLS Regression Results                            \n",
      "==============================================================================\n",
      "Dep. Variable:          reward_impact   R-squared:                         nan\n",
      "Model:                            OLS   Adj. R-squared:                    nan\n",
      "Method:                 Least Squares   F-statistic:                       nan\n",
      "Date:                Sun, 18 Oct 2020   Prob (F-statistic):                nan\n",
      "Time:                        14:31:28   Log-Likelihood:                    nan\n",
      "No. Observations:               14820   AIC:                               nan\n",
      "Df Residuals:                   14820   BIC:                               nan\n",
      "Df Model:                          -1                                         \n",
      "Covariance Type:            nonrobust                                         \n",
      "==============================================================================\n",
      "                 coef    std err          t      P>|t|      [0.025      0.975]\n",
      "------------------------------------------------------------------------------\n",
      "const             nan        nan        nan        nan         nan         nan\n",
      "gender_F          nan        nan        nan        nan         nan         nan\n",
      "==============================================================================\n",
      "Omnibus:                          nan   Durbin-Watson:                     nan\n",
      "Prob(Omnibus):                    nan   Jarque-Bera (JB):                  nan\n",
      "Skew:                             nan   Prob(JB):                          nan\n",
      "Kurtosis:                         nan   Cond. No.                          nan\n",
      "==============================================================================\n",
      "\n",
      "Notes:\n",
      "[1] Standard Errors assume that the covariance matrix of the errors is correctly specified.\n",
      "                            OLS Regression Results                            \n",
      "==============================================================================\n",
      "Dep. Variable:          reward_impact   R-squared:                       0.010\n",
      "Model:                            OLS   Adj. R-squared:                  0.010\n",
      "Method:                 Least Squares   F-statistic:                     154.2\n",
      "Date:                Sun, 18 Oct 2020   Prob (F-statistic):           3.12e-35\n",
      "Time:                        14:31:28   Log-Likelihood:                 41360.\n",
      "No. Observations:               14820   AIC:                        -8.272e+04\n",
      "Df Residuals:                   14818   BIC:                        -8.270e+04\n",
      "Df Model:                           1                                         \n",
      "Covariance Type:            nonrobust                                         \n",
      "==============================================================================\n",
      "                 coef    std err          t      P>|t|      [0.025      0.975]\n",
      "------------------------------------------------------------------------------\n",
      "const          0.0036      0.000     19.180      0.000       0.003       0.004\n",
      "gender_M       0.0031      0.000     12.418      0.000       0.003       0.004\n",
      "==============================================================================\n",
      "Omnibus:                    11219.265   Durbin-Watson:                   2.004\n",
      "Prob(Omnibus):                  0.000   Jarque-Bera (JB):           193275.653\n",
      "Skew:                           3.609   Prob(JB):                         0.00\n",
      "Kurtosis:                      19.153   Cond. No.                         2.82\n",
      "==============================================================================\n",
      "\n",
      "Notes:\n",
      "[1] Standard Errors assume that the covariance matrix of the errors is correctly specified.\n",
      "                            OLS Regression Results                            \n",
      "==============================================================================\n",
      "Dep. Variable:          reward_impact   R-squared:                       0.000\n",
      "Model:                            OLS   Adj. R-squared:                 -0.000\n",
      "Method:                 Least Squares   F-statistic:                    0.7301\n",
      "Date:                Sun, 18 Oct 2020   Prob (F-statistic):              0.393\n",
      "Time:                        14:31:28   Log-Likelihood:                 41284.\n",
      "No. Observations:               14820   AIC:                        -8.256e+04\n",
      "Df Residuals:                   14818   BIC:                        -8.255e+04\n",
      "Df Model:                           1                                         \n",
      "Covariance Type:            nonrobust                                         \n",
      "==============================================================================\n",
      "                 coef    std err          t      P>|t|      [0.025      0.975]\n",
      "------------------------------------------------------------------------------\n",
      "const          0.0053      0.000     43.264      0.000       0.005       0.006\n",
      "gender_O      -0.0009      0.001     -0.854      0.393      -0.003       0.001\n",
      "==============================================================================\n",
      "Omnibus:                    11331.751   Durbin-Watson:                   2.003\n",
      "Prob(Omnibus):                  0.000   Jarque-Bera (JB):           198362.591\n",
      "Skew:                           3.657   Prob(JB):                         0.00\n",
      "Kurtosis:                      19.363   Cond. No.                         8.42\n",
      "==============================================================================\n",
      "\n",
      "Notes:\n",
      "[1] Standard Errors assume that the covariance matrix of the errors is correctly specified.\n",
      "                            OLS Regression Results                            \n",
      "==============================================================================\n",
      "Dep. Variable:          reward_impact   R-squared:                       0.012\n",
      "Model:                            OLS   Adj. R-squared:                  0.012\n",
      "Method:                 Least Squares   F-statistic:                     183.2\n",
      "Date:                Sun, 18 Oct 2020   Prob (F-statistic):           1.67e-41\n",
      "Time:                        14:31:28   Log-Likelihood:                 41375.\n",
      "No. Observations:               14820   AIC:                        -8.275e+04\n",
      "Df Residuals:                   14818   BIC:                        -8.273e+04\n",
      "Df Model:                           1                                         \n",
      "Covariance Type:            nonrobust                                         \n",
      "================================================================================\n",
      "                   coef    std err          t      P>|t|      [0.025      0.975]\n",
      "--------------------------------------------------------------------------------\n",
      "const            0.0100      0.000     27.376      0.000       0.009       0.011\n",
      "years_member    -0.0014      0.000    -13.537      0.000      -0.002      -0.001\n",
      "==============================================================================\n",
      "Omnibus:                    11093.642   Durbin-Watson:                   2.001\n",
      "Prob(Omnibus):                  0.000   Jarque-Bera (JB):           185573.528\n",
      "Skew:                           3.561   Prob(JB):                         0.00\n",
      "Kurtosis:                      18.805   Cond. No.                         11.5\n",
      "==============================================================================\n",
      "\n",
      "Notes:\n",
      "[1] Standard Errors assume that the covariance matrix of the errors is correctly specified.\n",
      "                            OLS Regression Results                            \n",
      "==============================================================================\n",
      "Dep. Variable:          reward_impact   R-squared:                       0.001\n",
      "Model:                            OLS   Adj. R-squared:                  0.001\n",
      "Method:                 Least Squares   F-statistic:                     17.37\n",
      "Date:                Sun, 18 Oct 2020   Prob (F-statistic):           3.10e-05\n",
      "Time:                        14:31:28   Log-Likelihood:                 41292.\n",
      "No. Observations:               14820   AIC:                        -8.258e+04\n",
      "Df Residuals:                   14818   BIC:                        -8.257e+04\n",
      "Df Model:                           1                                         \n",
      "Covariance Type:            nonrobust                                         \n",
      "===============================================================================\n",
      "                  coef    std err          t      P>|t|      [0.025      0.975]\n",
      "-------------------------------------------------------------------------------\n",
      "const           0.0052      0.000     41.180      0.000       0.005       0.005\n",
      "25_and_less     0.0022      0.001      4.167      0.000       0.001       0.003\n",
      "==============================================================================\n",
      "Omnibus:                    11321.671   Durbin-Watson:                   2.002\n",
      "Prob(Omnibus):                  0.000   Jarque-Bera (JB):           198005.517\n",
      "Skew:                           3.652   Prob(JB):                         0.00\n",
      "Kurtosis:                      19.350   Cond. No.                         4.26\n",
      "==============================================================================\n",
      "\n",
      "Notes:\n",
      "[1] Standard Errors assume that the covariance matrix of the errors is correctly specified.\n",
      "                            OLS Regression Results                            \n",
      "==============================================================================\n",
      "Dep. Variable:          reward_impact   R-squared:                       0.003\n",
      "Model:                            OLS   Adj. R-squared:                  0.003\n",
      "Method:                 Least Squares   F-statistic:                     42.02\n",
      "Date:                Sun, 18 Oct 2020   Prob (F-statistic):           9.31e-11\n",
      "Time:                        14:31:28   Log-Likelihood:                 41305.\n",
      "No. Observations:               14820   AIC:                        -8.261e+04\n",
      "Df Residuals:                   14818   BIC:                        -8.259e+04\n",
      "Df Model:                           1                                         \n",
      "Covariance Type:            nonrobust                                         \n",
      "==============================================================================\n",
      "                 coef    std err          t      P>|t|      [0.025      0.975]\n",
      "------------------------------------------------------------------------------\n",
      "const          0.0050      0.000     37.624      0.000       0.005       0.005\n",
      "25_to_40       0.0022      0.000      6.482      0.000       0.002       0.003\n",
      "==============================================================================\n",
      "Omnibus:                    11310.345   Durbin-Watson:                   2.003\n",
      "Prob(Omnibus):                  0.000   Jarque-Bera (JB):           197952.943\n",
      "Skew:                           3.646   Prob(JB):                         0.00\n",
      "Kurtosis:                      19.352   Cond. No.                         2.87\n",
      "==============================================================================\n",
      "\n",
      "Notes:\n",
      "[1] Standard Errors assume that the covariance matrix of the errors is correctly specified.\n",
      "                            OLS Regression Results                            \n",
      "==============================================================================\n",
      "Dep. Variable:          reward_impact   R-squared:                       0.000\n",
      "Model:                            OLS   Adj. R-squared:                  0.000\n",
      "Method:                 Least Squares   F-statistic:                     3.560\n",
      "Date:                Sun, 18 Oct 2020   Prob (F-statistic):             0.0592\n",
      "Time:                        14:31:28   Log-Likelihood:                 41285.\n",
      "No. Observations:               14820   AIC:                        -8.257e+04\n",
      "Df Residuals:                   14818   BIC:                        -8.255e+04\n",
      "Df Model:                           1                                         \n",
      "Covariance Type:            nonrobust                                         \n",
      "==============================================================================\n",
      "                 coef    std err          t      P>|t|      [0.025      0.975]\n",
      "------------------------------------------------------------------------------\n",
      "const          0.0055      0.000     35.015      0.000       0.005       0.006\n",
      "40_to_60      -0.0005      0.000     -1.887      0.059      -0.001    1.84e-05\n",
      "==============================================================================\n",
      "Omnibus:                    11330.721   Durbin-Watson:                   2.003\n",
      "Prob(Omnibus):                  0.000   Jarque-Bera (JB):           198420.825\n",
      "Skew:                           3.656   Prob(JB):                         0.00\n",
      "Kurtosis:                      19.367   Cond. No.                         2.44\n",
      "==============================================================================\n",
      "\n",
      "Notes:\n",
      "[1] Standard Errors assume that the covariance matrix of the errors is correctly specified.\n",
      "                            OLS Regression Results                            \n",
      "==============================================================================\n",
      "Dep. Variable:          reward_impact   R-squared:                       0.002\n",
      "Model:                            OLS   Adj. R-squared:                  0.002\n",
      "Method:                 Least Squares   F-statistic:                     23.56\n",
      "Date:                Sun, 18 Oct 2020   Prob (F-statistic):           1.22e-06\n",
      "Time:                        14:31:28   Log-Likelihood:                 41295.\n",
      "No. Observations:               14820   AIC:                        -8.259e+04\n",
      "Df Residuals:                   14818   BIC:                        -8.257e+04\n",
      "Df Model:                           1                                         \n",
      "Covariance Type:            nonrobust                                         \n",
      "==============================================================================\n",
      "                 coef    std err          t      P>|t|      [0.025      0.975]\n",
      "------------------------------------------------------------------------------\n",
      "const          0.0058      0.000     36.862      0.000       0.006       0.006\n",
      "60+           -0.0012      0.000     -4.854      0.000      -0.002      -0.001\n",
      "==============================================================================\n",
      "Omnibus:                    11318.097   Durbin-Watson:                   2.003\n",
      "Prob(Omnibus):                  0.000   Jarque-Bera (JB):           197855.389\n",
      "Skew:                           3.650   Prob(JB):                         0.00\n",
      "Kurtosis:                      19.344   Cond. No.                         2.45\n",
      "==============================================================================\n",
      "\n",
      "Notes:\n",
      "[1] Standard Errors assume that the covariance matrix of the errors is correctly specified.\n",
      "                            OLS Regression Results                            \n",
      "==============================================================================\n",
      "Dep. Variable:          reward_impact   R-squared:                       0.006\n",
      "Model:                            OLS   Adj. R-squared:                  0.006\n",
      "Method:                 Least Squares   F-statistic:                     88.80\n",
      "Date:                Sun, 18 Oct 2020   Prob (F-statistic):           5.01e-21\n",
      "Time:                        14:31:28   Log-Likelihood:                 41328.\n",
      "No. Observations:               14820   AIC:                        -8.265e+04\n",
      "Df Residuals:                   14818   BIC:                        -8.264e+04\n",
      "Df Model:                           1                                         \n",
      "Covariance Type:            nonrobust                                         \n",
      "==============================================================================\n",
      "                 coef    std err          t      P>|t|      [0.025      0.975]\n",
      "------------------------------------------------------------------------------\n",
      "const          0.0049      0.000     37.245      0.000       0.005       0.005\n",
      "group1         0.0034      0.000      9.423      0.000       0.003       0.004\n",
      "==============================================================================\n",
      "Omnibus:                    11269.998   Durbin-Watson:                   2.004\n",
      "Prob(Omnibus):                  0.000   Jarque-Bera (JB):           195810.829\n",
      "Skew:                           3.630   Prob(JB):                         0.00\n",
      "Kurtosis:                      19.261   Cond. No.                         3.02\n",
      "==============================================================================\n",
      "\n",
      "Notes:\n",
      "[1] Standard Errors assume that the covariance matrix of the errors is correctly specified.\n",
      "                            OLS Regression Results                            \n",
      "==============================================================================\n",
      "Dep. Variable:          reward_impact   R-squared:                       0.006\n",
      "Model:                            OLS   Adj. R-squared:                  0.005\n",
      "Method:                 Least Squares   F-statistic:                     82.09\n",
      "Date:                Sun, 18 Oct 2020   Prob (F-statistic):           1.46e-19\n",
      "Time:                        14:31:28   Log-Likelihood:                 41325.\n",
      "No. Observations:               14820   AIC:                        -8.265e+04\n",
      "Df Residuals:                   14818   BIC:                        -8.263e+04\n",
      "Df Model:                           1                                         \n",
      "Covariance Type:            nonrobust                                         \n",
      "==============================================================================\n",
      "                 coef    std err          t      P>|t|      [0.025      0.975]\n",
      "------------------------------------------------------------------------------\n",
      "const          0.0041      0.000     22.174      0.000       0.004       0.004\n",
      "group2         0.0022      0.000      9.061      0.000       0.002       0.003\n",
      "==============================================================================\n",
      "Omnibus:                    11273.464   Durbin-Watson:                   2.004\n",
      "Prob(Omnibus):                  0.000   Jarque-Bera (JB):           196136.887\n",
      "Skew:                           3.631   Prob(JB):                         0.00\n",
      "Kurtosis:                      19.276   Cond. No.                         2.78\n",
      "==============================================================================\n",
      "\n",
      "Notes:\n",
      "[1] Standard Errors assume that the covariance matrix of the errors is correctly specified.\n",
      "                            OLS Regression Results                            \n",
      "==============================================================================\n",
      "Dep. Variable:          reward_impact   R-squared:                       0.018\n",
      "Model:                            OLS   Adj. R-squared:                  0.018\n",
      "Method:                 Least Squares   F-statistic:                     278.9\n",
      "Date:                Sun, 18 Oct 2020   Prob (F-statistic):           4.76e-62\n",
      "Time:                        14:31:28   Log-Likelihood:                 41422.\n",
      "No. Observations:               14820   AIC:                        -8.284e+04\n",
      "Df Residuals:                   14818   BIC:                        -8.282e+04\n",
      "Df Model:                           1                                         \n",
      "Covariance Type:            nonrobust                                         \n",
      "==============================================================================\n",
      "                 coef    std err          t      P>|t|      [0.025      0.975]\n",
      "------------------------------------------------------------------------------\n",
      "const          0.0067      0.000     45.746      0.000       0.006       0.007\n",
      "group3        -0.0044      0.000    -16.701      0.000      -0.005      -0.004\n",
      "==============================================================================\n",
      "Omnibus:                    11110.281   Durbin-Watson:                   2.005\n",
      "Prob(Omnibus):                  0.000   Jarque-Bera (JB):           188842.714\n",
      "Skew:                           3.562   Prob(JB):                         0.00\n",
      "Kurtosis:                      18.971   Cond. No.                         2.42\n",
      "==============================================================================\n",
      "\n",
      "Notes:\n",
      "[1] Standard Errors assume that the covariance matrix of the errors is correctly specified.\n"
     ]
    },
    {
     "name": "stderr",
     "output_type": "stream",
     "text": [
      "C:\\Users\\madke\\AppData\\Roaming\\Python\\Python36\\site-packages\\numpy\\linalg\\linalg.py:1872: RuntimeWarning:\n",
      "\n",
      "invalid value encountered in greater\n",
      "\n",
      "C:\\Users\\madke\\AppData\\Roaming\\Python\\Python36\\site-packages\\scipy\\stats\\_distn_infrastructure.py:903: RuntimeWarning:\n",
      "\n",
      "invalid value encountered in greater\n",
      "\n",
      "C:\\Users\\madke\\AppData\\Roaming\\Python\\Python36\\site-packages\\scipy\\stats\\_distn_infrastructure.py:903: RuntimeWarning:\n",
      "\n",
      "invalid value encountered in less\n",
      "\n",
      "C:\\Users\\madke\\AppData\\Roaming\\Python\\Python36\\site-packages\\scipy\\stats\\_distn_infrastructure.py:1912: RuntimeWarning:\n",
      "\n",
      "invalid value encountered in less_equal\n",
      "\n",
      "C:\\Users\\madke\\AppData\\Roaming\\Python\\Python36\\site-packages\\scipy\\stats\\stats.py:1548: RuntimeWarning:\n",
      "\n",
      "invalid value encountered in sign\n",
      "\n"
     ]
    }
   ],
   "source": [
    "models = []\n",
    "cols = X.columns\n",
    "\n",
    "for i in cols:\n",
    "    lm_i = lm(users_df2[i], users_df2['reward_impact'], users_df2)\n",
    "    models.append(lm_i)\n",
    "    if lm_i != 'FAIL':\n",
    "        print(lm_i.summary())"
   ]
  },
  {
   "cell_type": "code",
   "execution_count": 350,
   "metadata": {},
   "outputs": [
    {
     "name": "stderr",
     "output_type": "stream",
     "text": [
      "C:\\Users\\madke\\Anaconda3\\lib\\site-packages\\matplotlib\\colors.py:489: RuntimeWarning:\n",
      "\n",
      "invalid value encountered in less\n",
      "\n"
     ]
    },
    {
     "data": {
      "text/html": [
       "<style  type=\"text/css\" >\n",
       "#T_8692baee_1178_11eb_9d3c_8cec4b0ec919row0_col1,#T_8692baee_1178_11eb_9d3c_8cec4b0ec919row1_col1,#T_8692baee_1178_11eb_9d3c_8cec4b0ec919row3_col1,#T_8692baee_1178_11eb_9d3c_8cec4b0ec919row4_col1,#T_8692baee_1178_11eb_9d3c_8cec4b0ec919row5_col1,#T_8692baee_1178_11eb_9d3c_8cec4b0ec919row7_col1,#T_8692baee_1178_11eb_9d3c_8cec4b0ec919row8_col1,#T_8692baee_1178_11eb_9d3c_8cec4b0ec919row9_col1,#T_8692baee_1178_11eb_9d3c_8cec4b0ec919row10_col1{\n",
       "            background-color:  #fff7fb;\n",
       "            color:  #000000;\n",
       "        }#T_8692baee_1178_11eb_9d3c_8cec4b0ec919row2_col1{\n",
       "            background-color:  #023858;\n",
       "            color:  #f1f1f1;\n",
       "        }#T_8692baee_1178_11eb_9d3c_8cec4b0ec919row6_col1{\n",
       "            background-color:  #e7e3f0;\n",
       "            color:  #000000;\n",
       "        }</style><table id=\"T_8692baee_1178_11eb_9d3c_8cec4b0ec919\" ><thead>    <tr>        <th class=\"blank level0\" ></th>        <th class=\"col_heading level0 col0\" >features</th>        <th class=\"col_heading level0 col1\" >pvalues</th>    </tr></thead><tbody>\n",
       "                <tr>\n",
       "                        <th id=\"T_8692baee_1178_11eb_9d3c_8cec4b0ec919level0_row0\" class=\"row_heading level0 row0\" >0</th>\n",
       "                        <td id=\"T_8692baee_1178_11eb_9d3c_8cec4b0ec919row0_col0\" class=\"data row0 col0\" >gender_F</td>\n",
       "                        <td id=\"T_8692baee_1178_11eb_9d3c_8cec4b0ec919row0_col1\" class=\"data row0 col1\" >nan</td>\n",
       "            </tr>\n",
       "            <tr>\n",
       "                        <th id=\"T_8692baee_1178_11eb_9d3c_8cec4b0ec919level0_row1\" class=\"row_heading level0 row1\" >1</th>\n",
       "                        <td id=\"T_8692baee_1178_11eb_9d3c_8cec4b0ec919row1_col0\" class=\"data row1 col0\" >gender_M</td>\n",
       "                        <td id=\"T_8692baee_1178_11eb_9d3c_8cec4b0ec919row1_col1\" class=\"data row1 col1\" >0.000000</td>\n",
       "            </tr>\n",
       "            <tr>\n",
       "                        <th id=\"T_8692baee_1178_11eb_9d3c_8cec4b0ec919level0_row2\" class=\"row_heading level0 row2\" >2</th>\n",
       "                        <td id=\"T_8692baee_1178_11eb_9d3c_8cec4b0ec919row2_col0\" class=\"data row2 col0\" >gender_O</td>\n",
       "                        <td id=\"T_8692baee_1178_11eb_9d3c_8cec4b0ec919row2_col1\" class=\"data row2 col1\" >0.392870</td>\n",
       "            </tr>\n",
       "            <tr>\n",
       "                        <th id=\"T_8692baee_1178_11eb_9d3c_8cec4b0ec919level0_row3\" class=\"row_heading level0 row3\" >3</th>\n",
       "                        <td id=\"T_8692baee_1178_11eb_9d3c_8cec4b0ec919row3_col0\" class=\"data row3 col0\" >years_member</td>\n",
       "                        <td id=\"T_8692baee_1178_11eb_9d3c_8cec4b0ec919row3_col1\" class=\"data row3 col1\" >0.000000</td>\n",
       "            </tr>\n",
       "            <tr>\n",
       "                        <th id=\"T_8692baee_1178_11eb_9d3c_8cec4b0ec919level0_row4\" class=\"row_heading level0 row4\" >4</th>\n",
       "                        <td id=\"T_8692baee_1178_11eb_9d3c_8cec4b0ec919row4_col0\" class=\"data row4 col0\" >25_and_less</td>\n",
       "                        <td id=\"T_8692baee_1178_11eb_9d3c_8cec4b0ec919row4_col1\" class=\"data row4 col1\" >0.000031</td>\n",
       "            </tr>\n",
       "            <tr>\n",
       "                        <th id=\"T_8692baee_1178_11eb_9d3c_8cec4b0ec919level0_row5\" class=\"row_heading level0 row5\" >5</th>\n",
       "                        <td id=\"T_8692baee_1178_11eb_9d3c_8cec4b0ec919row5_col0\" class=\"data row5 col0\" >25_to_40</td>\n",
       "                        <td id=\"T_8692baee_1178_11eb_9d3c_8cec4b0ec919row5_col1\" class=\"data row5 col1\" >0.000000</td>\n",
       "            </tr>\n",
       "            <tr>\n",
       "                        <th id=\"T_8692baee_1178_11eb_9d3c_8cec4b0ec919level0_row6\" class=\"row_heading level0 row6\" >6</th>\n",
       "                        <td id=\"T_8692baee_1178_11eb_9d3c_8cec4b0ec919row6_col0\" class=\"data row6 col0\" >40_to_60</td>\n",
       "                        <td id=\"T_8692baee_1178_11eb_9d3c_8cec4b0ec919row6_col1\" class=\"data row6 col1\" >0.059223</td>\n",
       "            </tr>\n",
       "            <tr>\n",
       "                        <th id=\"T_8692baee_1178_11eb_9d3c_8cec4b0ec919level0_row7\" class=\"row_heading level0 row7\" >7</th>\n",
       "                        <td id=\"T_8692baee_1178_11eb_9d3c_8cec4b0ec919row7_col0\" class=\"data row7 col0\" >60+</td>\n",
       "                        <td id=\"T_8692baee_1178_11eb_9d3c_8cec4b0ec919row7_col1\" class=\"data row7 col1\" >0.000001</td>\n",
       "            </tr>\n",
       "            <tr>\n",
       "                        <th id=\"T_8692baee_1178_11eb_9d3c_8cec4b0ec919level0_row8\" class=\"row_heading level0 row8\" >8</th>\n",
       "                        <td id=\"T_8692baee_1178_11eb_9d3c_8cec4b0ec919row8_col0\" class=\"data row8 col0\" >group1</td>\n",
       "                        <td id=\"T_8692baee_1178_11eb_9d3c_8cec4b0ec919row8_col1\" class=\"data row8 col1\" >0.000000</td>\n",
       "            </tr>\n",
       "            <tr>\n",
       "                        <th id=\"T_8692baee_1178_11eb_9d3c_8cec4b0ec919level0_row9\" class=\"row_heading level0 row9\" >9</th>\n",
       "                        <td id=\"T_8692baee_1178_11eb_9d3c_8cec4b0ec919row9_col0\" class=\"data row9 col0\" >group2</td>\n",
       "                        <td id=\"T_8692baee_1178_11eb_9d3c_8cec4b0ec919row9_col1\" class=\"data row9 col1\" >0.000000</td>\n",
       "            </tr>\n",
       "            <tr>\n",
       "                        <th id=\"T_8692baee_1178_11eb_9d3c_8cec4b0ec919level0_row10\" class=\"row_heading level0 row10\" >10</th>\n",
       "                        <td id=\"T_8692baee_1178_11eb_9d3c_8cec4b0ec919row10_col0\" class=\"data row10 col0\" >group3</td>\n",
       "                        <td id=\"T_8692baee_1178_11eb_9d3c_8cec4b0ec919row10_col1\" class=\"data row10 col1\" >0.000000</td>\n",
       "            </tr>\n",
       "    </tbody></table>"
      ],
      "text/plain": [
       "<pandas.io.formats.style.Styler at 0x17f40f0a860>"
      ]
     },
     "execution_count": 350,
     "metadata": {},
     "output_type": "execute_result"
    }
   ],
   "source": [
    "lm_results = pd.DataFrame({\n",
    "    \n",
    "    'features': [i.pvalues.index[1] for i in models],\n",
    "    'pvalues':[i.pvalues[1] for i in models],\n",
    "    'coef': [i.params[1] for i in models],\n",
    "    'conf_int_025': [i.conf_int()[0][1] for i in models],\n",
    "    'conf_int_975': [i.conf_int()[1][1] for i in models]\n",
    "    \n",
    "})\n",
    "\n",
    "lm_results[['features', 'pvalues']].style.background_gradient()"
   ]
  },
  {
   "cell_type": "code",
   "execution_count": 351,
   "metadata": {},
   "outputs": [
    {
     "data": {
      "application/vnd.plotly.v1+json": {
       "config": {
        "plotlyServerURL": "https://plot.ly"
       },
       "data": [
        {
         "error_y": {
          "array": [
           0.0009666386311703197,
           0.00039869674416872407,
           0.0020371769335209115,
           0.001344095734323236,
           0.000982037117188488,
           0.0014215527038941873,
           0.0009655174004876196,
           0.001029563202915246
          ],
          "type": "data",
          "visible": true
         },
         "marker": {
          "color": [
           0.0030619847466108567,
           -0.00137671230729633,
           0.002165650263395785,
           0.0022225742281668666,
           -0.001215841102565049,
           0.003417004162376256,
           0.0022315168786104034,
           -0.004386123224111853
          ],
          "colorscale": [
           [
            0,
            "rgb(0,0,255)"
           ],
           [
            1,
            "rgb(255,0,0)"
           ]
          ],
          "opacity": 0.8,
          "showscale": true
         },
         "name": "Ratings_Score_Top_Coef",
         "type": "bar",
         "x": [
          "gender_M",
          "years_member",
          "25_and_less",
          "25_to_40",
          "60+",
          "group1",
          "group2",
          "group3"
         ],
         "y": [
          0.0030619847466108567,
          -0.00137671230729633,
          0.002165650263395785,
          0.0022225742281668666,
          -0.001215841102565049,
          0.003417004162376256,
          0.0022315168786104034,
          -0.004386123224111853
         ]
        }
       ],
       "layout": {
        "template": {
         "data": {
          "bar": [
           {
            "error_x": {
             "color": "#2a3f5f"
            },
            "error_y": {
             "color": "#2a3f5f"
            },
            "marker": {
             "line": {
              "color": "#E5ECF6",
              "width": 0.5
             }
            },
            "type": "bar"
           }
          ],
          "barpolar": [
           {
            "marker": {
             "line": {
              "color": "#E5ECF6",
              "width": 0.5
             }
            },
            "type": "barpolar"
           }
          ],
          "carpet": [
           {
            "aaxis": {
             "endlinecolor": "#2a3f5f",
             "gridcolor": "white",
             "linecolor": "white",
             "minorgridcolor": "white",
             "startlinecolor": "#2a3f5f"
            },
            "baxis": {
             "endlinecolor": "#2a3f5f",
             "gridcolor": "white",
             "linecolor": "white",
             "minorgridcolor": "white",
             "startlinecolor": "#2a3f5f"
            },
            "type": "carpet"
           }
          ],
          "choropleth": [
           {
            "colorbar": {
             "outlinewidth": 0,
             "ticks": ""
            },
            "type": "choropleth"
           }
          ],
          "contour": [
           {
            "colorbar": {
             "outlinewidth": 0,
             "ticks": ""
            },
            "colorscale": [
             [
              0,
              "#0d0887"
             ],
             [
              0.1111111111111111,
              "#46039f"
             ],
             [
              0.2222222222222222,
              "#7201a8"
             ],
             [
              0.3333333333333333,
              "#9c179e"
             ],
             [
              0.4444444444444444,
              "#bd3786"
             ],
             [
              0.5555555555555556,
              "#d8576b"
             ],
             [
              0.6666666666666666,
              "#ed7953"
             ],
             [
              0.7777777777777778,
              "#fb9f3a"
             ],
             [
              0.8888888888888888,
              "#fdca26"
             ],
             [
              1,
              "#f0f921"
             ]
            ],
            "type": "contour"
           }
          ],
          "contourcarpet": [
           {
            "colorbar": {
             "outlinewidth": 0,
             "ticks": ""
            },
            "type": "contourcarpet"
           }
          ],
          "heatmap": [
           {
            "colorbar": {
             "outlinewidth": 0,
             "ticks": ""
            },
            "colorscale": [
             [
              0,
              "#0d0887"
             ],
             [
              0.1111111111111111,
              "#46039f"
             ],
             [
              0.2222222222222222,
              "#7201a8"
             ],
             [
              0.3333333333333333,
              "#9c179e"
             ],
             [
              0.4444444444444444,
              "#bd3786"
             ],
             [
              0.5555555555555556,
              "#d8576b"
             ],
             [
              0.6666666666666666,
              "#ed7953"
             ],
             [
              0.7777777777777778,
              "#fb9f3a"
             ],
             [
              0.8888888888888888,
              "#fdca26"
             ],
             [
              1,
              "#f0f921"
             ]
            ],
            "type": "heatmap"
           }
          ],
          "heatmapgl": [
           {
            "colorbar": {
             "outlinewidth": 0,
             "ticks": ""
            },
            "colorscale": [
             [
              0,
              "#0d0887"
             ],
             [
              0.1111111111111111,
              "#46039f"
             ],
             [
              0.2222222222222222,
              "#7201a8"
             ],
             [
              0.3333333333333333,
              "#9c179e"
             ],
             [
              0.4444444444444444,
              "#bd3786"
             ],
             [
              0.5555555555555556,
              "#d8576b"
             ],
             [
              0.6666666666666666,
              "#ed7953"
             ],
             [
              0.7777777777777778,
              "#fb9f3a"
             ],
             [
              0.8888888888888888,
              "#fdca26"
             ],
             [
              1,
              "#f0f921"
             ]
            ],
            "type": "heatmapgl"
           }
          ],
          "histogram": [
           {
            "marker": {
             "colorbar": {
              "outlinewidth": 0,
              "ticks": ""
             }
            },
            "type": "histogram"
           }
          ],
          "histogram2d": [
           {
            "colorbar": {
             "outlinewidth": 0,
             "ticks": ""
            },
            "colorscale": [
             [
              0,
              "#0d0887"
             ],
             [
              0.1111111111111111,
              "#46039f"
             ],
             [
              0.2222222222222222,
              "#7201a8"
             ],
             [
              0.3333333333333333,
              "#9c179e"
             ],
             [
              0.4444444444444444,
              "#bd3786"
             ],
             [
              0.5555555555555556,
              "#d8576b"
             ],
             [
              0.6666666666666666,
              "#ed7953"
             ],
             [
              0.7777777777777778,
              "#fb9f3a"
             ],
             [
              0.8888888888888888,
              "#fdca26"
             ],
             [
              1,
              "#f0f921"
             ]
            ],
            "type": "histogram2d"
           }
          ],
          "histogram2dcontour": [
           {
            "colorbar": {
             "outlinewidth": 0,
             "ticks": ""
            },
            "colorscale": [
             [
              0,
              "#0d0887"
             ],
             [
              0.1111111111111111,
              "#46039f"
             ],
             [
              0.2222222222222222,
              "#7201a8"
             ],
             [
              0.3333333333333333,
              "#9c179e"
             ],
             [
              0.4444444444444444,
              "#bd3786"
             ],
             [
              0.5555555555555556,
              "#d8576b"
             ],
             [
              0.6666666666666666,
              "#ed7953"
             ],
             [
              0.7777777777777778,
              "#fb9f3a"
             ],
             [
              0.8888888888888888,
              "#fdca26"
             ],
             [
              1,
              "#f0f921"
             ]
            ],
            "type": "histogram2dcontour"
           }
          ],
          "mesh3d": [
           {
            "colorbar": {
             "outlinewidth": 0,
             "ticks": ""
            },
            "type": "mesh3d"
           }
          ],
          "parcoords": [
           {
            "line": {
             "colorbar": {
              "outlinewidth": 0,
              "ticks": ""
             }
            },
            "type": "parcoords"
           }
          ],
          "pie": [
           {
            "automargin": true,
            "type": "pie"
           }
          ],
          "scatter": [
           {
            "marker": {
             "colorbar": {
              "outlinewidth": 0,
              "ticks": ""
             }
            },
            "type": "scatter"
           }
          ],
          "scatter3d": [
           {
            "line": {
             "colorbar": {
              "outlinewidth": 0,
              "ticks": ""
             }
            },
            "marker": {
             "colorbar": {
              "outlinewidth": 0,
              "ticks": ""
             }
            },
            "type": "scatter3d"
           }
          ],
          "scattercarpet": [
           {
            "marker": {
             "colorbar": {
              "outlinewidth": 0,
              "ticks": ""
             }
            },
            "type": "scattercarpet"
           }
          ],
          "scattergeo": [
           {
            "marker": {
             "colorbar": {
              "outlinewidth": 0,
              "ticks": ""
             }
            },
            "type": "scattergeo"
           }
          ],
          "scattergl": [
           {
            "marker": {
             "colorbar": {
              "outlinewidth": 0,
              "ticks": ""
             }
            },
            "type": "scattergl"
           }
          ],
          "scattermapbox": [
           {
            "marker": {
             "colorbar": {
              "outlinewidth": 0,
              "ticks": ""
             }
            },
            "type": "scattermapbox"
           }
          ],
          "scatterpolar": [
           {
            "marker": {
             "colorbar": {
              "outlinewidth": 0,
              "ticks": ""
             }
            },
            "type": "scatterpolar"
           }
          ],
          "scatterpolargl": [
           {
            "marker": {
             "colorbar": {
              "outlinewidth": 0,
              "ticks": ""
             }
            },
            "type": "scatterpolargl"
           }
          ],
          "scatterternary": [
           {
            "marker": {
             "colorbar": {
              "outlinewidth": 0,
              "ticks": ""
             }
            },
            "type": "scatterternary"
           }
          ],
          "surface": [
           {
            "colorbar": {
             "outlinewidth": 0,
             "ticks": ""
            },
            "colorscale": [
             [
              0,
              "#0d0887"
             ],
             [
              0.1111111111111111,
              "#46039f"
             ],
             [
              0.2222222222222222,
              "#7201a8"
             ],
             [
              0.3333333333333333,
              "#9c179e"
             ],
             [
              0.4444444444444444,
              "#bd3786"
             ],
             [
              0.5555555555555556,
              "#d8576b"
             ],
             [
              0.6666666666666666,
              "#ed7953"
             ],
             [
              0.7777777777777778,
              "#fb9f3a"
             ],
             [
              0.8888888888888888,
              "#fdca26"
             ],
             [
              1,
              "#f0f921"
             ]
            ],
            "type": "surface"
           }
          ],
          "table": [
           {
            "cells": {
             "fill": {
              "color": "#EBF0F8"
             },
             "line": {
              "color": "white"
             }
            },
            "header": {
             "fill": {
              "color": "#C8D4E3"
             },
             "line": {
              "color": "white"
             }
            },
            "type": "table"
           }
          ]
         },
         "layout": {
          "annotationdefaults": {
           "arrowcolor": "#2a3f5f",
           "arrowhead": 0,
           "arrowwidth": 1
          },
          "coloraxis": {
           "colorbar": {
            "outlinewidth": 0,
            "ticks": ""
           }
          },
          "colorscale": {
           "diverging": [
            [
             0,
             "#8e0152"
            ],
            [
             0.1,
             "#c51b7d"
            ],
            [
             0.2,
             "#de77ae"
            ],
            [
             0.3,
             "#f1b6da"
            ],
            [
             0.4,
             "#fde0ef"
            ],
            [
             0.5,
             "#f7f7f7"
            ],
            [
             0.6,
             "#e6f5d0"
            ],
            [
             0.7,
             "#b8e186"
            ],
            [
             0.8,
             "#7fbc41"
            ],
            [
             0.9,
             "#4d9221"
            ],
            [
             1,
             "#276419"
            ]
           ],
           "sequential": [
            [
             0,
             "#0d0887"
            ],
            [
             0.1111111111111111,
             "#46039f"
            ],
            [
             0.2222222222222222,
             "#7201a8"
            ],
            [
             0.3333333333333333,
             "#9c179e"
            ],
            [
             0.4444444444444444,
             "#bd3786"
            ],
            [
             0.5555555555555556,
             "#d8576b"
            ],
            [
             0.6666666666666666,
             "#ed7953"
            ],
            [
             0.7777777777777778,
             "#fb9f3a"
            ],
            [
             0.8888888888888888,
             "#fdca26"
            ],
            [
             1,
             "#f0f921"
            ]
           ],
           "sequentialminus": [
            [
             0,
             "#0d0887"
            ],
            [
             0.1111111111111111,
             "#46039f"
            ],
            [
             0.2222222222222222,
             "#7201a8"
            ],
            [
             0.3333333333333333,
             "#9c179e"
            ],
            [
             0.4444444444444444,
             "#bd3786"
            ],
            [
             0.5555555555555556,
             "#d8576b"
            ],
            [
             0.6666666666666666,
             "#ed7953"
            ],
            [
             0.7777777777777778,
             "#fb9f3a"
            ],
            [
             0.8888888888888888,
             "#fdca26"
            ],
            [
             1,
             "#f0f921"
            ]
           ]
          },
          "colorway": [
           "#636efa",
           "#EF553B",
           "#00cc96",
           "#ab63fa",
           "#FFA15A",
           "#19d3f3",
           "#FF6692",
           "#B6E880",
           "#FF97FF",
           "#FECB52"
          ],
          "font": {
           "color": "#2a3f5f"
          },
          "geo": {
           "bgcolor": "white",
           "lakecolor": "white",
           "landcolor": "#E5ECF6",
           "showlakes": true,
           "showland": true,
           "subunitcolor": "white"
          },
          "hoverlabel": {
           "align": "left"
          },
          "hovermode": "closest",
          "mapbox": {
           "style": "light"
          },
          "paper_bgcolor": "white",
          "plot_bgcolor": "#E5ECF6",
          "polar": {
           "angularaxis": {
            "gridcolor": "white",
            "linecolor": "white",
            "ticks": ""
           },
           "bgcolor": "#E5ECF6",
           "radialaxis": {
            "gridcolor": "white",
            "linecolor": "white",
            "ticks": ""
           }
          },
          "scene": {
           "xaxis": {
            "backgroundcolor": "#E5ECF6",
            "gridcolor": "white",
            "gridwidth": 2,
            "linecolor": "white",
            "showbackground": true,
            "ticks": "",
            "zerolinecolor": "white"
           },
           "yaxis": {
            "backgroundcolor": "#E5ECF6",
            "gridcolor": "white",
            "gridwidth": 2,
            "linecolor": "white",
            "showbackground": true,
            "ticks": "",
            "zerolinecolor": "white"
           },
           "zaxis": {
            "backgroundcolor": "#E5ECF6",
            "gridcolor": "white",
            "gridwidth": 2,
            "linecolor": "white",
            "showbackground": true,
            "ticks": "",
            "zerolinecolor": "white"
           }
          },
          "shapedefaults": {
           "line": {
            "color": "#2a3f5f"
           }
          },
          "ternary": {
           "aaxis": {
            "gridcolor": "white",
            "linecolor": "white",
            "ticks": ""
           },
           "baxis": {
            "gridcolor": "white",
            "linecolor": "white",
            "ticks": ""
           },
           "bgcolor": "#E5ECF6",
           "caxis": {
            "gridcolor": "white",
            "linecolor": "white",
            "ticks": ""
           }
          },
          "title": {
           "x": 0.05
          },
          "xaxis": {
           "automargin": true,
           "gridcolor": "white",
           "linecolor": "white",
           "ticks": "",
           "title": {
            "standoff": 15
           },
           "zerolinecolor": "white",
           "zerolinewidth": 2
          },
          "yaxis": {
           "automargin": true,
           "gridcolor": "white",
           "linecolor": "white",
           "ticks": "",
           "title": {
            "standoff": 15
           },
           "zerolinecolor": "white",
           "zerolinewidth": 2
          }
         }
        }
       }
      },
      "text/html": [
       "<div>\n",
       "        \n",
       "        \n",
       "            <div id=\"f747e7c7-ffbf-4f3b-8e08-44f3d9763702\" class=\"plotly-graph-div\" style=\"height:525px; width:100%;\"></div>\n",
       "            <script type=\"text/javascript\">\n",
       "                require([\"plotly\"], function(Plotly) {\n",
       "                    window.PLOTLYENV=window.PLOTLYENV || {};\n",
       "                    \n",
       "                if (document.getElementById(\"f747e7c7-ffbf-4f3b-8e08-44f3d9763702\")) {\n",
       "                    Plotly.newPlot(\n",
       "                        'f747e7c7-ffbf-4f3b-8e08-44f3d9763702',\n",
       "                        [{\"error_y\": {\"array\": [0.0009666386311703197, 0.00039869674416872407, 0.0020371769335209115, 0.001344095734323236, 0.000982037117188488, 0.0014215527038941873, 0.0009655174004876196, 0.001029563202915246], \"type\": \"data\", \"visible\": true}, \"marker\": {\"color\": [0.0030619847466108567, -0.00137671230729633, 0.002165650263395785, 0.0022225742281668666, -0.001215841102565049, 0.003417004162376256, 0.0022315168786104034, -0.004386123224111853], \"colorscale\": [[0.0, \"rgb(0,0,255)\"], [1.0, \"rgb(255,0,0)\"]], \"opacity\": 0.8, \"showscale\": true}, \"name\": \"Ratings_Score_Top_Coef\", \"type\": \"bar\", \"x\": [\"gender_M\", \"years_member\", \"25_and_less\", \"25_to_40\", \"60+\", \"group1\", \"group2\", \"group3\"], \"y\": [0.0030619847466108567, -0.00137671230729633, 0.002165650263395785, 0.0022225742281668666, -0.001215841102565049, 0.003417004162376256, 0.0022315168786104034, -0.004386123224111853]}],\n",
       "                        {\"template\": {\"data\": {\"bar\": [{\"error_x\": {\"color\": \"#2a3f5f\"}, \"error_y\": {\"color\": \"#2a3f5f\"}, \"marker\": {\"line\": {\"color\": \"#E5ECF6\", \"width\": 0.5}}, \"type\": \"bar\"}], \"barpolar\": [{\"marker\": {\"line\": {\"color\": \"#E5ECF6\", \"width\": 0.5}}, \"type\": \"barpolar\"}], \"carpet\": [{\"aaxis\": {\"endlinecolor\": \"#2a3f5f\", \"gridcolor\": \"white\", \"linecolor\": \"white\", \"minorgridcolor\": \"white\", \"startlinecolor\": \"#2a3f5f\"}, \"baxis\": {\"endlinecolor\": \"#2a3f5f\", \"gridcolor\": \"white\", \"linecolor\": \"white\", \"minorgridcolor\": \"white\", \"startlinecolor\": \"#2a3f5f\"}, \"type\": \"carpet\"}], \"choropleth\": [{\"colorbar\": {\"outlinewidth\": 0, \"ticks\": \"\"}, \"type\": \"choropleth\"}], \"contour\": [{\"colorbar\": {\"outlinewidth\": 0, \"ticks\": \"\"}, \"colorscale\": [[0.0, \"#0d0887\"], [0.1111111111111111, \"#46039f\"], [0.2222222222222222, \"#7201a8\"], [0.3333333333333333, \"#9c179e\"], [0.4444444444444444, \"#bd3786\"], [0.5555555555555556, \"#d8576b\"], [0.6666666666666666, \"#ed7953\"], [0.7777777777777778, \"#fb9f3a\"], [0.8888888888888888, \"#fdca26\"], [1.0, \"#f0f921\"]], \"type\": \"contour\"}], \"contourcarpet\": [{\"colorbar\": {\"outlinewidth\": 0, \"ticks\": \"\"}, \"type\": \"contourcarpet\"}], \"heatmap\": [{\"colorbar\": {\"outlinewidth\": 0, \"ticks\": \"\"}, \"colorscale\": [[0.0, \"#0d0887\"], [0.1111111111111111, \"#46039f\"], [0.2222222222222222, \"#7201a8\"], [0.3333333333333333, \"#9c179e\"], [0.4444444444444444, \"#bd3786\"], [0.5555555555555556, \"#d8576b\"], [0.6666666666666666, \"#ed7953\"], [0.7777777777777778, \"#fb9f3a\"], [0.8888888888888888, \"#fdca26\"], [1.0, \"#f0f921\"]], \"type\": \"heatmap\"}], \"heatmapgl\": [{\"colorbar\": {\"outlinewidth\": 0, \"ticks\": \"\"}, \"colorscale\": [[0.0, \"#0d0887\"], [0.1111111111111111, \"#46039f\"], [0.2222222222222222, \"#7201a8\"], [0.3333333333333333, \"#9c179e\"], [0.4444444444444444, \"#bd3786\"], [0.5555555555555556, \"#d8576b\"], [0.6666666666666666, \"#ed7953\"], [0.7777777777777778, \"#fb9f3a\"], [0.8888888888888888, \"#fdca26\"], [1.0, \"#f0f921\"]], \"type\": \"heatmapgl\"}], \"histogram\": [{\"marker\": {\"colorbar\": {\"outlinewidth\": 0, \"ticks\": \"\"}}, \"type\": \"histogram\"}], \"histogram2d\": [{\"colorbar\": {\"outlinewidth\": 0, \"ticks\": \"\"}, \"colorscale\": [[0.0, \"#0d0887\"], [0.1111111111111111, \"#46039f\"], [0.2222222222222222, \"#7201a8\"], [0.3333333333333333, \"#9c179e\"], [0.4444444444444444, \"#bd3786\"], [0.5555555555555556, \"#d8576b\"], [0.6666666666666666, \"#ed7953\"], [0.7777777777777778, \"#fb9f3a\"], [0.8888888888888888, \"#fdca26\"], [1.0, \"#f0f921\"]], \"type\": \"histogram2d\"}], \"histogram2dcontour\": [{\"colorbar\": {\"outlinewidth\": 0, \"ticks\": \"\"}, \"colorscale\": [[0.0, \"#0d0887\"], [0.1111111111111111, \"#46039f\"], [0.2222222222222222, \"#7201a8\"], [0.3333333333333333, \"#9c179e\"], [0.4444444444444444, \"#bd3786\"], [0.5555555555555556, \"#d8576b\"], [0.6666666666666666, \"#ed7953\"], [0.7777777777777778, \"#fb9f3a\"], [0.8888888888888888, \"#fdca26\"], [1.0, \"#f0f921\"]], \"type\": \"histogram2dcontour\"}], \"mesh3d\": [{\"colorbar\": {\"outlinewidth\": 0, \"ticks\": \"\"}, \"type\": \"mesh3d\"}], \"parcoords\": [{\"line\": {\"colorbar\": {\"outlinewidth\": 0, \"ticks\": \"\"}}, \"type\": \"parcoords\"}], \"pie\": [{\"automargin\": true, \"type\": \"pie\"}], \"scatter\": [{\"marker\": {\"colorbar\": {\"outlinewidth\": 0, \"ticks\": \"\"}}, \"type\": \"scatter\"}], \"scatter3d\": [{\"line\": {\"colorbar\": {\"outlinewidth\": 0, \"ticks\": \"\"}}, \"marker\": {\"colorbar\": {\"outlinewidth\": 0, \"ticks\": \"\"}}, \"type\": \"scatter3d\"}], \"scattercarpet\": [{\"marker\": {\"colorbar\": {\"outlinewidth\": 0, \"ticks\": \"\"}}, \"type\": \"scattercarpet\"}], \"scattergeo\": [{\"marker\": {\"colorbar\": {\"outlinewidth\": 0, \"ticks\": \"\"}}, \"type\": \"scattergeo\"}], \"scattergl\": [{\"marker\": {\"colorbar\": {\"outlinewidth\": 0, \"ticks\": \"\"}}, \"type\": \"scattergl\"}], \"scattermapbox\": [{\"marker\": {\"colorbar\": {\"outlinewidth\": 0, \"ticks\": \"\"}}, \"type\": \"scattermapbox\"}], \"scatterpolar\": [{\"marker\": {\"colorbar\": {\"outlinewidth\": 0, \"ticks\": \"\"}}, \"type\": \"scatterpolar\"}], \"scatterpolargl\": [{\"marker\": {\"colorbar\": {\"outlinewidth\": 0, \"ticks\": \"\"}}, \"type\": \"scatterpolargl\"}], \"scatterternary\": [{\"marker\": {\"colorbar\": {\"outlinewidth\": 0, \"ticks\": \"\"}}, \"type\": \"scatterternary\"}], \"surface\": [{\"colorbar\": {\"outlinewidth\": 0, \"ticks\": \"\"}, \"colorscale\": [[0.0, \"#0d0887\"], [0.1111111111111111, \"#46039f\"], [0.2222222222222222, \"#7201a8\"], [0.3333333333333333, \"#9c179e\"], [0.4444444444444444, \"#bd3786\"], [0.5555555555555556, \"#d8576b\"], [0.6666666666666666, \"#ed7953\"], [0.7777777777777778, \"#fb9f3a\"], [0.8888888888888888, \"#fdca26\"], [1.0, \"#f0f921\"]], \"type\": \"surface\"}], \"table\": [{\"cells\": {\"fill\": {\"color\": \"#EBF0F8\"}, \"line\": {\"color\": \"white\"}}, \"header\": {\"fill\": {\"color\": \"#C8D4E3\"}, \"line\": {\"color\": \"white\"}}, \"type\": \"table\"}]}, \"layout\": {\"annotationdefaults\": {\"arrowcolor\": \"#2a3f5f\", \"arrowhead\": 0, \"arrowwidth\": 1}, \"coloraxis\": {\"colorbar\": {\"outlinewidth\": 0, \"ticks\": \"\"}}, \"colorscale\": {\"diverging\": [[0, \"#8e0152\"], [0.1, \"#c51b7d\"], [0.2, \"#de77ae\"], [0.3, \"#f1b6da\"], [0.4, \"#fde0ef\"], [0.5, \"#f7f7f7\"], [0.6, \"#e6f5d0\"], [0.7, \"#b8e186\"], [0.8, \"#7fbc41\"], [0.9, \"#4d9221\"], [1, \"#276419\"]], \"sequential\": [[0.0, \"#0d0887\"], [0.1111111111111111, \"#46039f\"], [0.2222222222222222, \"#7201a8\"], [0.3333333333333333, \"#9c179e\"], [0.4444444444444444, \"#bd3786\"], [0.5555555555555556, \"#d8576b\"], [0.6666666666666666, \"#ed7953\"], [0.7777777777777778, \"#fb9f3a\"], [0.8888888888888888, \"#fdca26\"], [1.0, \"#f0f921\"]], \"sequentialminus\": [[0.0, \"#0d0887\"], [0.1111111111111111, \"#46039f\"], [0.2222222222222222, \"#7201a8\"], [0.3333333333333333, \"#9c179e\"], [0.4444444444444444, \"#bd3786\"], [0.5555555555555556, \"#d8576b\"], [0.6666666666666666, \"#ed7953\"], [0.7777777777777778, \"#fb9f3a\"], [0.8888888888888888, \"#fdca26\"], [1.0, \"#f0f921\"]]}, \"colorway\": [\"#636efa\", \"#EF553B\", \"#00cc96\", \"#ab63fa\", \"#FFA15A\", \"#19d3f3\", \"#FF6692\", \"#B6E880\", \"#FF97FF\", \"#FECB52\"], \"font\": {\"color\": \"#2a3f5f\"}, \"geo\": {\"bgcolor\": \"white\", \"lakecolor\": \"white\", \"landcolor\": \"#E5ECF6\", \"showlakes\": true, \"showland\": true, \"subunitcolor\": \"white\"}, \"hoverlabel\": {\"align\": \"left\"}, \"hovermode\": \"closest\", \"mapbox\": {\"style\": \"light\"}, \"paper_bgcolor\": \"white\", \"plot_bgcolor\": \"#E5ECF6\", \"polar\": {\"angularaxis\": {\"gridcolor\": \"white\", \"linecolor\": \"white\", \"ticks\": \"\"}, \"bgcolor\": \"#E5ECF6\", \"radialaxis\": {\"gridcolor\": \"white\", \"linecolor\": \"white\", \"ticks\": \"\"}}, \"scene\": {\"xaxis\": {\"backgroundcolor\": \"#E5ECF6\", \"gridcolor\": \"white\", \"gridwidth\": 2, \"linecolor\": \"white\", \"showbackground\": true, \"ticks\": \"\", \"zerolinecolor\": \"white\"}, \"yaxis\": {\"backgroundcolor\": \"#E5ECF6\", \"gridcolor\": \"white\", \"gridwidth\": 2, \"linecolor\": \"white\", \"showbackground\": true, \"ticks\": \"\", \"zerolinecolor\": \"white\"}, \"zaxis\": {\"backgroundcolor\": \"#E5ECF6\", \"gridcolor\": \"white\", \"gridwidth\": 2, \"linecolor\": \"white\", \"showbackground\": true, \"ticks\": \"\", \"zerolinecolor\": \"white\"}}, \"shapedefaults\": {\"line\": {\"color\": \"#2a3f5f\"}}, \"ternary\": {\"aaxis\": {\"gridcolor\": \"white\", \"linecolor\": \"white\", \"ticks\": \"\"}, \"baxis\": {\"gridcolor\": \"white\", \"linecolor\": \"white\", \"ticks\": \"\"}, \"bgcolor\": \"#E5ECF6\", \"caxis\": {\"gridcolor\": \"white\", \"linecolor\": \"white\", \"ticks\": \"\"}}, \"title\": {\"x\": 0.05}, \"xaxis\": {\"automargin\": true, \"gridcolor\": \"white\", \"linecolor\": \"white\", \"ticks\": \"\", \"title\": {\"standoff\": 15}, \"zerolinecolor\": \"white\", \"zerolinewidth\": 2}, \"yaxis\": {\"automargin\": true, \"gridcolor\": \"white\", \"linecolor\": \"white\", \"ticks\": \"\", \"title\": {\"standoff\": 15}, \"zerolinecolor\": \"white\", \"zerolinewidth\": 2}}}},\n",
       "                        {\"responsive\": true}\n",
       "                    ).then(function(){\n",
       "                            \n",
       "var gd = document.getElementById('f747e7c7-ffbf-4f3b-8e08-44f3d9763702');\n",
       "var x = new MutationObserver(function (mutations, observer) {{\n",
       "        var display = window.getComputedStyle(gd).display;\n",
       "        if (!display || display === 'none') {{\n",
       "            console.log([gd, 'removed!']);\n",
       "            Plotly.purge(gd);\n",
       "            observer.disconnect();\n",
       "        }}\n",
       "}});\n",
       "\n",
       "// Listen for the removal of the full notebook cells\n",
       "var notebookContainer = gd.closest('#notebook-container');\n",
       "if (notebookContainer) {{\n",
       "    x.observe(notebookContainer, {childList: true});\n",
       "}}\n",
       "\n",
       "// Listen for the clearing of the current output cell\n",
       "var outputEl = gd.closest('.output');\n",
       "if (outputEl) {{\n",
       "    x.observe(outputEl, {childList: true});\n",
       "}}\n",
       "\n",
       "                        })\n",
       "                };\n",
       "                });\n",
       "            </script>\n",
       "        </div>"
      ]
     },
     "metadata": {},
     "output_type": "display_data"
    }
   ],
   "source": [
    "\n",
    "lm_results_sig = lm_results[lm_results['pvalues'] < 0.05]\n",
    "plot_sig_results(lm_results_sig)"
   ]
  },
  {
   "cell_type": "markdown",
   "metadata": {},
   "source": [
    "Takeaways:\n",
    "* consistency between rf regression and lm regression\n",
    "* biggest predictors of rewards increasing purchases: Male, 40 and less, make less than 75k a year\n",
    "* biggest predictors of rewards not greatly increasing purchases: Female, 60 +, longer years member, making greater than 75k\n",
    "\n",
    "While there may be greater long term benefits to rewarding long term members, and interaction effects are possible, it seems most impactful to reward people who are male, low-mid income, and/or young."
   ]
  },
  {
   "cell_type": "markdown",
   "metadata": {},
   "source": [
    "# WHICH OFFERS IN GENERAL ARE MOST IMPACTFUL?"
   ]
  },
  {
   "cell_type": "code",
   "execution_count": 376,
   "metadata": {},
   "outputs": [
    {
     "data": {
      "text/plain": [
       "Index(['user_id', 'offer_id', 'time', 'age', 'income', 'amount', 'reward',\n",
       "       'difficulty', 'duration', 'years_member', 'event_offer completed',\n",
       "       'event_offer received', 'event_offer viewed', 'event_transaction',\n",
       "       'gender_F', 'gender_M', 'gender_O', 'offer_type_bogo',\n",
       "       'offer_type_discount', 'offer_type_informational', 'web', 'email',\n",
       "       'mobile', 'social'],\n",
       "      dtype='object')"
      ]
     },
     "execution_count": 376,
     "metadata": {},
     "output_type": "execute_result"
    }
   ],
   "source": [
    "df_gb.columns"
   ]
  },
  {
   "cell_type": "code",
   "execution_count": null,
   "metadata": {},
   "outputs": [],
   "source": [
    "offer_df = df_gb[['user_id','offer_id', 'event_offer completed', 'event_offer viewed', 'event_offer received',  'offer_type_bogo','offer_type_discount', 'offer_type_informational', 'web', 'email', 'mobile', 'social', 'reward']]\n",
    "offer_df['reward_viewed_and_used'] = offer_influence(offer_df)"
   ]
  },
  {
   "cell_type": "code",
   "execution_count": 368,
   "metadata": {},
   "outputs": [
    {
     "name": "stdout",
     "output_type": "stream",
     "text": [
      "{'max_features': 4, 'min_samples_split': 82}\n"
     ]
    }
   ],
   "source": [
    "X = offer_df.reset_index(drop = True)\n",
    "X = X.drop(['event_offer completed',  'event_offer viewed', 'event_offer received',  'reward_viewed_and_used','', 'offer_id'], axis = 1)\n",
    "y = np.array(offer_df['reward_viewed_and_used'])\n",
    "\n",
    "\n",
    "best_param = specify_best(model = RandomForestRegressor(random_state = 15), typ = 'RF', X = X, y = y)\n",
    "\n",
    "rf = RandomForestRegressor(min_samples_split=best_param.get('min_samples_split'), \n",
    "                           max_features= best_param.get('max_features'),random_state = 15)"
   ]
  },
  {
   "cell_type": "code",
   "execution_count": 369,
   "metadata": {},
   "outputs": [],
   "source": [
    "rf_res = run_models_kfold(rf, X, offer_df['reward_viewed_and_used'])"
   ]
  },
  {
   "cell_type": "code",
   "execution_count": 370,
   "metadata": {},
   "outputs": [
    {
     "name": "stdout",
     "output_type": "stream",
     "text": [
      "mss: 82\n",
      "max_feat: 4\n",
      "mean_mae: 0.3580993670576159\n",
      "mean_mse: 0.18721095211027367\n",
      "\n",
      "frequency: \n",
      "\n",
      "10\n",
      "10\n",
      "10\n",
      "10\n",
      "10\n",
      "10\n",
      "10\n",
      "10\n",
      "\n",
      "feat_imp: \n",
      "\n",
      "-0.0053866133612489025\n",
      "-0.0036826135903737997\n",
      "0.0\n",
      "0.001781630311206028\n",
      "0.005059739315259287\n",
      "0.05986518907326386\n",
      "0.08624426531638976\n",
      "0.10601407975616255\n",
      "\n",
      "top_ features\n",
      "\n",
      "offer_type_discount\n",
      "web\n",
      "email\n",
      "user_id\n",
      "mobile\n",
      "reward\n",
      "social\n",
      "offer_type_informational\n"
     ]
    }
   ],
   "source": [
    "#because of the small # of features, only 2 were > mean so in order to cast a wider net, we've included top 5\n",
    "eprf = top_features(rf_res[2], featn = 8, mean = False)\n",
    "print_vals(best_param, rf_res, eprf)"
   ]
  },
  {
   "cell_type": "code",
   "execution_count": 371,
   "metadata": {},
   "outputs": [
    {
     "name": "stdout",
     "output_type": "stream",
     "text": [
      "Optimization terminated successfully.\n",
      "         Current function value: 0.684838\n",
      "         Iterations 3\n",
      "                             Logit Regression Results                             \n",
      "==================================================================================\n",
      "Dep. Variable:     reward_viewed_and_used   No. Observations:                55222\n",
      "Model:                              Logit   Df Residuals:                    55221\n",
      "Method:                               MLE   Df Model:                            0\n",
      "Date:                    Sun, 18 Oct 2020   Pseudo R-squ.:               -0.004138\n",
      "Time:                            15:00:11   Log-Likelihood:                -37818.\n",
      "converged:                           True   LL-Null:                       -37662.\n",
      "Covariance Type:                nonrobust   LLR p-value:                       nan\n",
      "==============================================================================\n",
      "                 coef    std err          z      P>|z|      [0.025      0.975]\n",
      "------------------------------------------------------------------------------\n",
      "user_id    -3.133e-05   1.04e-06    -30.060      0.000   -3.34e-05   -2.93e-05\n",
      "==============================================================================\n",
      "Optimization terminated successfully.\n",
      "         Current function value: 0.692792\n",
      "         Iterations 3\n"
     ]
    },
    {
     "name": "stderr",
     "output_type": "stream",
     "text": [
      "C:\\Users\\madke\\AppData\\Roaming\\Python\\Python36\\site-packages\\numpy\\linalg\\linalg.py:1872: RuntimeWarning:\n",
      "\n",
      "invalid value encountered in greater\n",
      "\n",
      "C:\\Users\\madke\\AppData\\Roaming\\Python\\Python36\\site-packages\\numpy\\linalg\\linalg.py:1872: RuntimeWarning:\n",
      "\n",
      "invalid value encountered in greater\n",
      "\n"
     ]
    },
    {
     "name": "stdout",
     "output_type": "stream",
     "text": [
      "                             Logit Regression Results                             \n",
      "==================================================================================\n",
      "Dep. Variable:     reward_viewed_and_used   No. Observations:                55222\n",
      "Model:                              Logit   Df Residuals:                    55221\n",
      "Method:                               MLE   Df Model:                            0\n",
      "Date:                    Sun, 18 Oct 2020   Pseudo R-squ.:                -0.01580\n",
      "Time:                            15:00:11   Log-Likelihood:                -38257.\n",
      "converged:                           True   LL-Null:                       -37662.\n",
      "Covariance Type:                nonrobust   LLR p-value:                       nan\n",
      "===================================================================================\n",
      "                      coef    std err          z      P>|z|      [0.025      0.975]\n",
      "-----------------------------------------------------------------------------------\n",
      "offer_type_bogo     0.0844      0.013      6.259      0.000       0.058       0.111\n",
      "===================================================================================\n",
      "Optimization terminated successfully.\n",
      "         Current function value: 0.691688\n",
      "         Iterations 3\n",
      "                             Logit Regression Results                             \n",
      "==================================================================================\n",
      "Dep. Variable:     reward_viewed_and_used   No. Observations:                55222\n",
      "Model:                              Logit   Df Residuals:                    55221\n",
      "Method:                               MLE   Df Model:                            0\n",
      "Date:                    Sun, 18 Oct 2020   Pseudo R-squ.:                -0.01418\n",
      "Time:                            15:00:11   Log-Likelihood:                -38196.\n",
      "converged:                           True   LL-Null:                       -37662.\n",
      "Covariance Type:                nonrobust   LLR p-value:                       nan\n",
      "=======================================================================================\n",
      "                          coef    std err          z      P>|z|      [0.025      0.975]\n",
      "---------------------------------------------------------------------------------------\n",
      "offer_type_discount     0.1710      0.013     12.672      0.000       0.145       0.197\n",
      "=======================================================================================\n"
     ]
    },
    {
     "name": "stderr",
     "output_type": "stream",
     "text": [
      "C:\\Users\\madke\\AppData\\Roaming\\Python\\Python36\\site-packages\\numpy\\linalg\\linalg.py:1872: RuntimeWarning:\n",
      "\n",
      "invalid value encountered in greater\n",
      "\n",
      "C:\\Users\\madke\\AppData\\Roaming\\Python\\Python36\\site-packages\\statsmodels\\base\\model.py:568: ConvergenceWarning:\n",
      "\n",
      "Maximum Likelihood optimization failed to converge. Check mle_retvals\n",
      "\n"
     ]
    },
    {
     "name": "stdout",
     "output_type": "stream",
     "text": [
      "Warning: Maximum number of iterations has been exceeded.\n",
      "         Current function value: 0.554560\n",
      "         Iterations: 35\n",
      "                             Logit Regression Results                             \n",
      "==================================================================================\n",
      "Dep. Variable:     reward_viewed_and_used   No. Observations:                55222\n",
      "Model:                              Logit   Df Residuals:                    55221\n",
      "Method:                               MLE   Df Model:                            0\n",
      "Date:                    Sun, 18 Oct 2020   Pseudo R-squ.:                  0.1869\n",
      "Time:                            15:00:11   Log-Likelihood:                -30624.\n",
      "converged:                          False   LL-Null:                       -37662.\n",
      "Covariance Type:                nonrobust   LLR p-value:                       nan\n",
      "============================================================================================\n",
      "                               coef    std err          z      P>|z|      [0.025      0.975]\n",
      "--------------------------------------------------------------------------------------------\n",
      "offer_type_informational   -20.4556    263.249     -0.078      0.938    -536.415     495.504\n",
      "============================================================================================\n",
      "\n",
      "Possibly complete quasi-separation: A fraction 0.20 of observations can be\n",
      "perfectly predicted. This might indicate that there is complete\n",
      "quasi-separation. In this case some parameters will not be identified.\n",
      "Optimization terminated successfully.\n",
      "         Current function value: 0.691573\n",
      "         Iterations 3\n"
     ]
    },
    {
     "name": "stderr",
     "output_type": "stream",
     "text": [
      "C:\\Users\\madke\\AppData\\Roaming\\Python\\Python36\\site-packages\\numpy\\linalg\\linalg.py:1872: RuntimeWarning:\n",
      "\n",
      "invalid value encountered in greater\n",
      "\n",
      "C:\\Users\\madke\\AppData\\Roaming\\Python\\Python36\\site-packages\\statsmodels\\tools\\tools.py:689: RuntimeWarning:\n",
      "\n",
      "invalid value encountered in greater\n",
      "\n"
     ]
    },
    {
     "name": "stdout",
     "output_type": "stream",
     "text": [
      "                             Logit Regression Results                             \n",
      "==================================================================================\n",
      "Dep. Variable:     reward_viewed_and_used   No. Observations:                55222\n",
      "Model:                              Logit   Df Residuals:                    55221\n",
      "Method:                               MLE   Df Model:                            0\n",
      "Date:                    Sun, 18 Oct 2020   Pseudo R-squ.:                -0.01401\n",
      "Time:                            15:00:11   Log-Likelihood:                -38190.\n",
      "converged:                           True   LL-Null:                       -37662.\n",
      "Covariance Type:                nonrobust   LLR p-value:                       nan\n",
      "==============================================================================\n",
      "                 coef    std err          z      P>|z|      [0.025      0.975]\n",
      "------------------------------------------------------------------------------\n",
      "web           -0.1256      0.010    -13.171      0.000      -0.144      -0.107\n",
      "==============================================================================\n",
      "Optimization terminated successfully.\n",
      "         Current function value: 0.682016\n",
      "         Iterations 4\n",
      "                             Logit Regression Results                             \n",
      "==================================================================================\n",
      "Dep. Variable:     reward_viewed_and_used   No. Observations:                55222\n",
      "Model:                              Logit   Df Residuals:                    55222\n",
      "Method:                               MLE   Df Model:                           -1\n",
      "Date:                    Sun, 18 Oct 2020   Pseudo R-squ.:               8.364e-11\n",
      "Time:                            15:00:12   Log-Likelihood:                -37662.\n",
      "converged:                           True   LL-Null:                       -37662.\n",
      "Covariance Type:                nonrobust   LLR p-value:                       nan\n",
      "==============================================================================\n",
      "                 coef    std err          z      P>|z|      [0.025      0.975]\n",
      "------------------------------------------------------------------------------\n",
      "email         -0.3001      0.009    -34.866      0.000      -0.317      -0.283\n",
      "==============================================================================\n",
      "Optimization terminated successfully.\n",
      "         Current function value: 0.687537\n",
      "         Iterations 4\n",
      "                             Logit Regression Results                             \n",
      "==================================================================================\n",
      "Dep. Variable:     reward_viewed_and_used   No. Observations:                55222\n",
      "Model:                              Logit   Df Residuals:                    55221\n",
      "Method:                               MLE   Df Model:                            0\n",
      "Date:                    Sun, 18 Oct 2020   Pseudo R-squ.:               -0.008094\n",
      "Time:                            15:00:12   Log-Likelihood:                -37967.\n",
      "converged:                           True   LL-Null:                       -37662.\n",
      "Covariance Type:                nonrobust   LLR p-value:                       nan\n",
      "==============================================================================\n",
      "                 coef    std err          z      P>|z|      [0.025      0.975]\n",
      "------------------------------------------------------------------------------\n",
      "mobile        -0.2242      0.009    -24.815      0.000      -0.242      -0.206\n",
      "==============================================================================\n",
      "Optimization terminated successfully.\n",
      "         Current function value: 0.692496\n",
      "         Iterations 3\n",
      "                             Logit Regression Results                             \n",
      "==================================================================================\n",
      "Dep. Variable:     reward_viewed_and_used   No. Observations:                55222\n",
      "Model:                              Logit   Df Residuals:                    55221\n",
      "Method:                               MLE   Df Model:                            0\n",
      "Date:                    Sun, 18 Oct 2020   Pseudo R-squ.:                -0.01537\n",
      "Time:                            15:00:12   Log-Likelihood:                -38241.\n",
      "converged:                           True   LL-Null:                       -37662.\n",
      "Covariance Type:                nonrobust   LLR p-value:                       nan\n",
      "==============================================================================\n",
      "                 coef    std err          z      P>|z|      [0.025      0.975]\n",
      "------------------------------------------------------------------------------\n",
      "social         0.0933      0.011      8.474      0.000       0.072       0.115\n",
      "==============================================================================\n",
      "Optimization terminated successfully.\n",
      "         Current function value: 0.693067\n",
      "         Iterations 3\n"
     ]
    },
    {
     "name": "stderr",
     "output_type": "stream",
     "text": [
      "C:\\Users\\madke\\AppData\\Roaming\\Python\\Python36\\site-packages\\numpy\\linalg\\linalg.py:1872: RuntimeWarning:\n",
      "\n",
      "invalid value encountered in greater\n",
      "\n",
      "C:\\Users\\madke\\AppData\\Roaming\\Python\\Python36\\site-packages\\numpy\\linalg\\linalg.py:1872: RuntimeWarning:\n",
      "\n",
      "invalid value encountered in greater\n",
      "\n"
     ]
    },
    {
     "name": "stdout",
     "output_type": "stream",
     "text": [
      "                             Logit Regression Results                             \n",
      "==================================================================================\n",
      "Dep. Variable:     reward_viewed_and_used   No. Observations:                55222\n",
      "Model:                              Logit   Df Residuals:                    55221\n",
      "Method:                               MLE   Df Model:                            0\n",
      "Date:                    Sun, 18 Oct 2020   Pseudo R-squ.:                -0.01620\n",
      "Time:                            15:00:12   Log-Likelihood:                -38273.\n",
      "converged:                           True   LL-Null:                       -37662.\n",
      "Covariance Type:                nonrobust   LLR p-value:                       nan\n",
      "==============================================================================\n",
      "                 coef    std err          z      P>|z|      [0.025      0.975]\n",
      "------------------------------------------------------------------------------\n",
      "reward         0.0047      0.002      2.985      0.003       0.002       0.008\n",
      "==============================================================================\n"
     ]
    }
   ],
   "source": [
    "models = []\n",
    "cols = X.columns\n",
    "\n",
    "for i in cols:\n",
    "    lm_i = logm(offer_df[i], offer_df['reward_viewed_and_used'], offer_df)\n",
    "    models.append(lm_i)\n",
    "    if lm_i != 'FAIL':\n",
    "        print(lm_i.summary())"
   ]
  },
  {
   "cell_type": "code",
   "execution_count": 372,
   "metadata": {},
   "outputs": [
    {
     "data": {
      "text/html": [
       "<style  type=\"text/css\" >\n",
       "#T_8a62311c_117c_11eb_8625_8cec4b0ec919row0_col1,#T_8a62311c_117c_11eb_8625_8cec4b0ec919row1_col1,#T_8a62311c_117c_11eb_8625_8cec4b0ec919row2_col1,#T_8a62311c_117c_11eb_8625_8cec4b0ec919row4_col1,#T_8a62311c_117c_11eb_8625_8cec4b0ec919row5_col1,#T_8a62311c_117c_11eb_8625_8cec4b0ec919row6_col1,#T_8a62311c_117c_11eb_8625_8cec4b0ec919row7_col1,#T_8a62311c_117c_11eb_8625_8cec4b0ec919row8_col1{\n",
       "            background-color:  #fff7fb;\n",
       "            color:  #000000;\n",
       "        }#T_8a62311c_117c_11eb_8625_8cec4b0ec919row3_col1{\n",
       "            background-color:  #023858;\n",
       "            color:  #f1f1f1;\n",
       "        }</style><table id=\"T_8a62311c_117c_11eb_8625_8cec4b0ec919\" ><thead>    <tr>        <th class=\"blank level0\" ></th>        <th class=\"col_heading level0 col0\" >features</th>        <th class=\"col_heading level0 col1\" >pvalues</th>    </tr></thead><tbody>\n",
       "                <tr>\n",
       "                        <th id=\"T_8a62311c_117c_11eb_8625_8cec4b0ec919level0_row0\" class=\"row_heading level0 row0\" >0</th>\n",
       "                        <td id=\"T_8a62311c_117c_11eb_8625_8cec4b0ec919row0_col0\" class=\"data row0 col0\" >user_id</td>\n",
       "                        <td id=\"T_8a62311c_117c_11eb_8625_8cec4b0ec919row0_col1\" class=\"data row0 col1\" >0.000000</td>\n",
       "            </tr>\n",
       "            <tr>\n",
       "                        <th id=\"T_8a62311c_117c_11eb_8625_8cec4b0ec919level0_row1\" class=\"row_heading level0 row1\" >1</th>\n",
       "                        <td id=\"T_8a62311c_117c_11eb_8625_8cec4b0ec919row1_col0\" class=\"data row1 col0\" >offer_type_bogo</td>\n",
       "                        <td id=\"T_8a62311c_117c_11eb_8625_8cec4b0ec919row1_col1\" class=\"data row1 col1\" >0.000000</td>\n",
       "            </tr>\n",
       "            <tr>\n",
       "                        <th id=\"T_8a62311c_117c_11eb_8625_8cec4b0ec919level0_row2\" class=\"row_heading level0 row2\" >2</th>\n",
       "                        <td id=\"T_8a62311c_117c_11eb_8625_8cec4b0ec919row2_col0\" class=\"data row2 col0\" >offer_type_discount</td>\n",
       "                        <td id=\"T_8a62311c_117c_11eb_8625_8cec4b0ec919row2_col1\" class=\"data row2 col1\" >0.000000</td>\n",
       "            </tr>\n",
       "            <tr>\n",
       "                        <th id=\"T_8a62311c_117c_11eb_8625_8cec4b0ec919level0_row3\" class=\"row_heading level0 row3\" >3</th>\n",
       "                        <td id=\"T_8a62311c_117c_11eb_8625_8cec4b0ec919row3_col0\" class=\"data row3 col0\" >offer_type_informational</td>\n",
       "                        <td id=\"T_8a62311c_117c_11eb_8625_8cec4b0ec919row3_col1\" class=\"data row3 col1\" >0.938063</td>\n",
       "            </tr>\n",
       "            <tr>\n",
       "                        <th id=\"T_8a62311c_117c_11eb_8625_8cec4b0ec919level0_row4\" class=\"row_heading level0 row4\" >4</th>\n",
       "                        <td id=\"T_8a62311c_117c_11eb_8625_8cec4b0ec919row4_col0\" class=\"data row4 col0\" >web</td>\n",
       "                        <td id=\"T_8a62311c_117c_11eb_8625_8cec4b0ec919row4_col1\" class=\"data row4 col1\" >0.000000</td>\n",
       "            </tr>\n",
       "            <tr>\n",
       "                        <th id=\"T_8a62311c_117c_11eb_8625_8cec4b0ec919level0_row5\" class=\"row_heading level0 row5\" >5</th>\n",
       "                        <td id=\"T_8a62311c_117c_11eb_8625_8cec4b0ec919row5_col0\" class=\"data row5 col0\" >email</td>\n",
       "                        <td id=\"T_8a62311c_117c_11eb_8625_8cec4b0ec919row5_col1\" class=\"data row5 col1\" >0.000000</td>\n",
       "            </tr>\n",
       "            <tr>\n",
       "                        <th id=\"T_8a62311c_117c_11eb_8625_8cec4b0ec919level0_row6\" class=\"row_heading level0 row6\" >6</th>\n",
       "                        <td id=\"T_8a62311c_117c_11eb_8625_8cec4b0ec919row6_col0\" class=\"data row6 col0\" >mobile</td>\n",
       "                        <td id=\"T_8a62311c_117c_11eb_8625_8cec4b0ec919row6_col1\" class=\"data row6 col1\" >0.000000</td>\n",
       "            </tr>\n",
       "            <tr>\n",
       "                        <th id=\"T_8a62311c_117c_11eb_8625_8cec4b0ec919level0_row7\" class=\"row_heading level0 row7\" >7</th>\n",
       "                        <td id=\"T_8a62311c_117c_11eb_8625_8cec4b0ec919row7_col0\" class=\"data row7 col0\" >social</td>\n",
       "                        <td id=\"T_8a62311c_117c_11eb_8625_8cec4b0ec919row7_col1\" class=\"data row7 col1\" >0.000000</td>\n",
       "            </tr>\n",
       "            <tr>\n",
       "                        <th id=\"T_8a62311c_117c_11eb_8625_8cec4b0ec919level0_row8\" class=\"row_heading level0 row8\" >8</th>\n",
       "                        <td id=\"T_8a62311c_117c_11eb_8625_8cec4b0ec919row8_col0\" class=\"data row8 col0\" >reward</td>\n",
       "                        <td id=\"T_8a62311c_117c_11eb_8625_8cec4b0ec919row8_col1\" class=\"data row8 col1\" >0.002838</td>\n",
       "            </tr>\n",
       "    </tbody></table>"
      ],
      "text/plain": [
       "<pandas.io.formats.style.Styler at 0x17f40b19978>"
      ]
     },
     "execution_count": 372,
     "metadata": {},
     "output_type": "execute_result"
    }
   ],
   "source": [
    "logm_results = pd.DataFrame({\n",
    "    \n",
    "    'features': [i.pvalues.index[0] for i in models],\n",
    "    'pvalues':[i.pvalues[0] for i in models],\n",
    "    'coef': [i.params[0] for i in models],\n",
    "    'conf_int_025': [i.conf_int()[0][0] for i in models],\n",
    "    'conf_int_975': [i.conf_int()[1][0] for i in models]\n",
    "    \n",
    "})\n",
    "\n",
    "logm_results[['features', 'pvalues']].style.background_gradient()"
   ]
  },
  {
   "cell_type": "code",
   "execution_count": 373,
   "metadata": {},
   "outputs": [
    {
     "data": {
      "application/vnd.plotly.v1+json": {
       "config": {
        "plotlyServerURL": "https://plot.ly"
       },
       "data": [
        {
         "error_y": {
          "array": [
           4.085864424707486e-06,
           0.052828933834152936,
           0.05290680280542165,
           0.03738894335157944,
           0.03373823323851388,
           0.03541120751600629,
           0.04314643777468177,
           0.0061693624408791035
          ],
          "type": "data",
          "visible": true
         },
         "marker": {
          "color": [
           -3.13327594034691e-05,
           0.08435785003460006,
           0.17103828973548915,
           -0.1256265488248095,
           -0.30008410279485564,
           -0.22416810905333598,
           0.09327356034904723,
           0.004697549758264968
          ],
          "colorscale": [
           [
            0,
            "rgb(0,0,255)"
           ],
           [
            1,
            "rgb(255,0,0)"
           ]
          ],
          "opacity": 0.8,
          "showscale": true
         },
         "name": "Ratings_Score_Top_Coef",
         "type": "bar",
         "x": [
          "user_id",
          "offer_type_bogo",
          "offer_type_discount",
          "web",
          "email",
          "mobile",
          "social",
          "reward"
         ],
         "y": [
          -3.13327594034691e-05,
          0.08435785003460006,
          0.17103828973548915,
          -0.1256265488248095,
          -0.30008410279485564,
          -0.22416810905333598,
          0.09327356034904723,
          0.004697549758264968
         ]
        }
       ],
       "layout": {
        "template": {
         "data": {
          "bar": [
           {
            "error_x": {
             "color": "#2a3f5f"
            },
            "error_y": {
             "color": "#2a3f5f"
            },
            "marker": {
             "line": {
              "color": "#E5ECF6",
              "width": 0.5
             }
            },
            "type": "bar"
           }
          ],
          "barpolar": [
           {
            "marker": {
             "line": {
              "color": "#E5ECF6",
              "width": 0.5
             }
            },
            "type": "barpolar"
           }
          ],
          "carpet": [
           {
            "aaxis": {
             "endlinecolor": "#2a3f5f",
             "gridcolor": "white",
             "linecolor": "white",
             "minorgridcolor": "white",
             "startlinecolor": "#2a3f5f"
            },
            "baxis": {
             "endlinecolor": "#2a3f5f",
             "gridcolor": "white",
             "linecolor": "white",
             "minorgridcolor": "white",
             "startlinecolor": "#2a3f5f"
            },
            "type": "carpet"
           }
          ],
          "choropleth": [
           {
            "colorbar": {
             "outlinewidth": 0,
             "ticks": ""
            },
            "type": "choropleth"
           }
          ],
          "contour": [
           {
            "colorbar": {
             "outlinewidth": 0,
             "ticks": ""
            },
            "colorscale": [
             [
              0,
              "#0d0887"
             ],
             [
              0.1111111111111111,
              "#46039f"
             ],
             [
              0.2222222222222222,
              "#7201a8"
             ],
             [
              0.3333333333333333,
              "#9c179e"
             ],
             [
              0.4444444444444444,
              "#bd3786"
             ],
             [
              0.5555555555555556,
              "#d8576b"
             ],
             [
              0.6666666666666666,
              "#ed7953"
             ],
             [
              0.7777777777777778,
              "#fb9f3a"
             ],
             [
              0.8888888888888888,
              "#fdca26"
             ],
             [
              1,
              "#f0f921"
             ]
            ],
            "type": "contour"
           }
          ],
          "contourcarpet": [
           {
            "colorbar": {
             "outlinewidth": 0,
             "ticks": ""
            },
            "type": "contourcarpet"
           }
          ],
          "heatmap": [
           {
            "colorbar": {
             "outlinewidth": 0,
             "ticks": ""
            },
            "colorscale": [
             [
              0,
              "#0d0887"
             ],
             [
              0.1111111111111111,
              "#46039f"
             ],
             [
              0.2222222222222222,
              "#7201a8"
             ],
             [
              0.3333333333333333,
              "#9c179e"
             ],
             [
              0.4444444444444444,
              "#bd3786"
             ],
             [
              0.5555555555555556,
              "#d8576b"
             ],
             [
              0.6666666666666666,
              "#ed7953"
             ],
             [
              0.7777777777777778,
              "#fb9f3a"
             ],
             [
              0.8888888888888888,
              "#fdca26"
             ],
             [
              1,
              "#f0f921"
             ]
            ],
            "type": "heatmap"
           }
          ],
          "heatmapgl": [
           {
            "colorbar": {
             "outlinewidth": 0,
             "ticks": ""
            },
            "colorscale": [
             [
              0,
              "#0d0887"
             ],
             [
              0.1111111111111111,
              "#46039f"
             ],
             [
              0.2222222222222222,
              "#7201a8"
             ],
             [
              0.3333333333333333,
              "#9c179e"
             ],
             [
              0.4444444444444444,
              "#bd3786"
             ],
             [
              0.5555555555555556,
              "#d8576b"
             ],
             [
              0.6666666666666666,
              "#ed7953"
             ],
             [
              0.7777777777777778,
              "#fb9f3a"
             ],
             [
              0.8888888888888888,
              "#fdca26"
             ],
             [
              1,
              "#f0f921"
             ]
            ],
            "type": "heatmapgl"
           }
          ],
          "histogram": [
           {
            "marker": {
             "colorbar": {
              "outlinewidth": 0,
              "ticks": ""
             }
            },
            "type": "histogram"
           }
          ],
          "histogram2d": [
           {
            "colorbar": {
             "outlinewidth": 0,
             "ticks": ""
            },
            "colorscale": [
             [
              0,
              "#0d0887"
             ],
             [
              0.1111111111111111,
              "#46039f"
             ],
             [
              0.2222222222222222,
              "#7201a8"
             ],
             [
              0.3333333333333333,
              "#9c179e"
             ],
             [
              0.4444444444444444,
              "#bd3786"
             ],
             [
              0.5555555555555556,
              "#d8576b"
             ],
             [
              0.6666666666666666,
              "#ed7953"
             ],
             [
              0.7777777777777778,
              "#fb9f3a"
             ],
             [
              0.8888888888888888,
              "#fdca26"
             ],
             [
              1,
              "#f0f921"
             ]
            ],
            "type": "histogram2d"
           }
          ],
          "histogram2dcontour": [
           {
            "colorbar": {
             "outlinewidth": 0,
             "ticks": ""
            },
            "colorscale": [
             [
              0,
              "#0d0887"
             ],
             [
              0.1111111111111111,
              "#46039f"
             ],
             [
              0.2222222222222222,
              "#7201a8"
             ],
             [
              0.3333333333333333,
              "#9c179e"
             ],
             [
              0.4444444444444444,
              "#bd3786"
             ],
             [
              0.5555555555555556,
              "#d8576b"
             ],
             [
              0.6666666666666666,
              "#ed7953"
             ],
             [
              0.7777777777777778,
              "#fb9f3a"
             ],
             [
              0.8888888888888888,
              "#fdca26"
             ],
             [
              1,
              "#f0f921"
             ]
            ],
            "type": "histogram2dcontour"
           }
          ],
          "mesh3d": [
           {
            "colorbar": {
             "outlinewidth": 0,
             "ticks": ""
            },
            "type": "mesh3d"
           }
          ],
          "parcoords": [
           {
            "line": {
             "colorbar": {
              "outlinewidth": 0,
              "ticks": ""
             }
            },
            "type": "parcoords"
           }
          ],
          "pie": [
           {
            "automargin": true,
            "type": "pie"
           }
          ],
          "scatter": [
           {
            "marker": {
             "colorbar": {
              "outlinewidth": 0,
              "ticks": ""
             }
            },
            "type": "scatter"
           }
          ],
          "scatter3d": [
           {
            "line": {
             "colorbar": {
              "outlinewidth": 0,
              "ticks": ""
             }
            },
            "marker": {
             "colorbar": {
              "outlinewidth": 0,
              "ticks": ""
             }
            },
            "type": "scatter3d"
           }
          ],
          "scattercarpet": [
           {
            "marker": {
             "colorbar": {
              "outlinewidth": 0,
              "ticks": ""
             }
            },
            "type": "scattercarpet"
           }
          ],
          "scattergeo": [
           {
            "marker": {
             "colorbar": {
              "outlinewidth": 0,
              "ticks": ""
             }
            },
            "type": "scattergeo"
           }
          ],
          "scattergl": [
           {
            "marker": {
             "colorbar": {
              "outlinewidth": 0,
              "ticks": ""
             }
            },
            "type": "scattergl"
           }
          ],
          "scattermapbox": [
           {
            "marker": {
             "colorbar": {
              "outlinewidth": 0,
              "ticks": ""
             }
            },
            "type": "scattermapbox"
           }
          ],
          "scatterpolar": [
           {
            "marker": {
             "colorbar": {
              "outlinewidth": 0,
              "ticks": ""
             }
            },
            "type": "scatterpolar"
           }
          ],
          "scatterpolargl": [
           {
            "marker": {
             "colorbar": {
              "outlinewidth": 0,
              "ticks": ""
             }
            },
            "type": "scatterpolargl"
           }
          ],
          "scatterternary": [
           {
            "marker": {
             "colorbar": {
              "outlinewidth": 0,
              "ticks": ""
             }
            },
            "type": "scatterternary"
           }
          ],
          "surface": [
           {
            "colorbar": {
             "outlinewidth": 0,
             "ticks": ""
            },
            "colorscale": [
             [
              0,
              "#0d0887"
             ],
             [
              0.1111111111111111,
              "#46039f"
             ],
             [
              0.2222222222222222,
              "#7201a8"
             ],
             [
              0.3333333333333333,
              "#9c179e"
             ],
             [
              0.4444444444444444,
              "#bd3786"
             ],
             [
              0.5555555555555556,
              "#d8576b"
             ],
             [
              0.6666666666666666,
              "#ed7953"
             ],
             [
              0.7777777777777778,
              "#fb9f3a"
             ],
             [
              0.8888888888888888,
              "#fdca26"
             ],
             [
              1,
              "#f0f921"
             ]
            ],
            "type": "surface"
           }
          ],
          "table": [
           {
            "cells": {
             "fill": {
              "color": "#EBF0F8"
             },
             "line": {
              "color": "white"
             }
            },
            "header": {
             "fill": {
              "color": "#C8D4E3"
             },
             "line": {
              "color": "white"
             }
            },
            "type": "table"
           }
          ]
         },
         "layout": {
          "annotationdefaults": {
           "arrowcolor": "#2a3f5f",
           "arrowhead": 0,
           "arrowwidth": 1
          },
          "coloraxis": {
           "colorbar": {
            "outlinewidth": 0,
            "ticks": ""
           }
          },
          "colorscale": {
           "diverging": [
            [
             0,
             "#8e0152"
            ],
            [
             0.1,
             "#c51b7d"
            ],
            [
             0.2,
             "#de77ae"
            ],
            [
             0.3,
             "#f1b6da"
            ],
            [
             0.4,
             "#fde0ef"
            ],
            [
             0.5,
             "#f7f7f7"
            ],
            [
             0.6,
             "#e6f5d0"
            ],
            [
             0.7,
             "#b8e186"
            ],
            [
             0.8,
             "#7fbc41"
            ],
            [
             0.9,
             "#4d9221"
            ],
            [
             1,
             "#276419"
            ]
           ],
           "sequential": [
            [
             0,
             "#0d0887"
            ],
            [
             0.1111111111111111,
             "#46039f"
            ],
            [
             0.2222222222222222,
             "#7201a8"
            ],
            [
             0.3333333333333333,
             "#9c179e"
            ],
            [
             0.4444444444444444,
             "#bd3786"
            ],
            [
             0.5555555555555556,
             "#d8576b"
            ],
            [
             0.6666666666666666,
             "#ed7953"
            ],
            [
             0.7777777777777778,
             "#fb9f3a"
            ],
            [
             0.8888888888888888,
             "#fdca26"
            ],
            [
             1,
             "#f0f921"
            ]
           ],
           "sequentialminus": [
            [
             0,
             "#0d0887"
            ],
            [
             0.1111111111111111,
             "#46039f"
            ],
            [
             0.2222222222222222,
             "#7201a8"
            ],
            [
             0.3333333333333333,
             "#9c179e"
            ],
            [
             0.4444444444444444,
             "#bd3786"
            ],
            [
             0.5555555555555556,
             "#d8576b"
            ],
            [
             0.6666666666666666,
             "#ed7953"
            ],
            [
             0.7777777777777778,
             "#fb9f3a"
            ],
            [
             0.8888888888888888,
             "#fdca26"
            ],
            [
             1,
             "#f0f921"
            ]
           ]
          },
          "colorway": [
           "#636efa",
           "#EF553B",
           "#00cc96",
           "#ab63fa",
           "#FFA15A",
           "#19d3f3",
           "#FF6692",
           "#B6E880",
           "#FF97FF",
           "#FECB52"
          ],
          "font": {
           "color": "#2a3f5f"
          },
          "geo": {
           "bgcolor": "white",
           "lakecolor": "white",
           "landcolor": "#E5ECF6",
           "showlakes": true,
           "showland": true,
           "subunitcolor": "white"
          },
          "hoverlabel": {
           "align": "left"
          },
          "hovermode": "closest",
          "mapbox": {
           "style": "light"
          },
          "paper_bgcolor": "white",
          "plot_bgcolor": "#E5ECF6",
          "polar": {
           "angularaxis": {
            "gridcolor": "white",
            "linecolor": "white",
            "ticks": ""
           },
           "bgcolor": "#E5ECF6",
           "radialaxis": {
            "gridcolor": "white",
            "linecolor": "white",
            "ticks": ""
           }
          },
          "scene": {
           "xaxis": {
            "backgroundcolor": "#E5ECF6",
            "gridcolor": "white",
            "gridwidth": 2,
            "linecolor": "white",
            "showbackground": true,
            "ticks": "",
            "zerolinecolor": "white"
           },
           "yaxis": {
            "backgroundcolor": "#E5ECF6",
            "gridcolor": "white",
            "gridwidth": 2,
            "linecolor": "white",
            "showbackground": true,
            "ticks": "",
            "zerolinecolor": "white"
           },
           "zaxis": {
            "backgroundcolor": "#E5ECF6",
            "gridcolor": "white",
            "gridwidth": 2,
            "linecolor": "white",
            "showbackground": true,
            "ticks": "",
            "zerolinecolor": "white"
           }
          },
          "shapedefaults": {
           "line": {
            "color": "#2a3f5f"
           }
          },
          "ternary": {
           "aaxis": {
            "gridcolor": "white",
            "linecolor": "white",
            "ticks": ""
           },
           "baxis": {
            "gridcolor": "white",
            "linecolor": "white",
            "ticks": ""
           },
           "bgcolor": "#E5ECF6",
           "caxis": {
            "gridcolor": "white",
            "linecolor": "white",
            "ticks": ""
           }
          },
          "title": {
           "x": 0.05
          },
          "xaxis": {
           "automargin": true,
           "gridcolor": "white",
           "linecolor": "white",
           "ticks": "",
           "title": {
            "standoff": 15
           },
           "zerolinecolor": "white",
           "zerolinewidth": 2
          },
          "yaxis": {
           "automargin": true,
           "gridcolor": "white",
           "linecolor": "white",
           "ticks": "",
           "title": {
            "standoff": 15
           },
           "zerolinecolor": "white",
           "zerolinewidth": 2
          }
         }
        }
       }
      },
      "text/html": [
       "<div>\n",
       "        \n",
       "        \n",
       "            <div id=\"7bb0c6fa-e0cc-4e6f-9e56-09d160d1f9f8\" class=\"plotly-graph-div\" style=\"height:525px; width:100%;\"></div>\n",
       "            <script type=\"text/javascript\">\n",
       "                require([\"plotly\"], function(Plotly) {\n",
       "                    window.PLOTLYENV=window.PLOTLYENV || {};\n",
       "                    \n",
       "                if (document.getElementById(\"7bb0c6fa-e0cc-4e6f-9e56-09d160d1f9f8\")) {\n",
       "                    Plotly.newPlot(\n",
       "                        '7bb0c6fa-e0cc-4e6f-9e56-09d160d1f9f8',\n",
       "                        [{\"error_y\": {\"array\": [4.085864424707486e-06, 0.052828933834152936, 0.05290680280542165, 0.03738894335157944, 0.03373823323851388, 0.03541120751600629, 0.04314643777468177, 0.0061693624408791035], \"type\": \"data\", \"visible\": true}, \"marker\": {\"color\": [-3.13327594034691e-05, 0.08435785003460006, 0.17103828973548915, -0.1256265488248095, -0.30008410279485564, -0.22416810905333598, 0.09327356034904723, 0.004697549758264968], \"colorscale\": [[0.0, \"rgb(0,0,255)\"], [1.0, \"rgb(255,0,0)\"]], \"opacity\": 0.8, \"showscale\": true}, \"name\": \"Ratings_Score_Top_Coef\", \"type\": \"bar\", \"x\": [\"user_id\", \"offer_type_bogo\", \"offer_type_discount\", \"web\", \"email\", \"mobile\", \"social\", \"reward\"], \"y\": [-3.13327594034691e-05, 0.08435785003460006, 0.17103828973548915, -0.1256265488248095, -0.30008410279485564, -0.22416810905333598, 0.09327356034904723, 0.004697549758264968]}],\n",
       "                        {\"template\": {\"data\": {\"bar\": [{\"error_x\": {\"color\": \"#2a3f5f\"}, \"error_y\": {\"color\": \"#2a3f5f\"}, \"marker\": {\"line\": {\"color\": \"#E5ECF6\", \"width\": 0.5}}, \"type\": \"bar\"}], \"barpolar\": [{\"marker\": {\"line\": {\"color\": \"#E5ECF6\", \"width\": 0.5}}, \"type\": \"barpolar\"}], \"carpet\": [{\"aaxis\": {\"endlinecolor\": \"#2a3f5f\", \"gridcolor\": \"white\", \"linecolor\": \"white\", \"minorgridcolor\": \"white\", \"startlinecolor\": \"#2a3f5f\"}, \"baxis\": {\"endlinecolor\": \"#2a3f5f\", \"gridcolor\": \"white\", \"linecolor\": \"white\", \"minorgridcolor\": \"white\", \"startlinecolor\": \"#2a3f5f\"}, \"type\": \"carpet\"}], \"choropleth\": [{\"colorbar\": {\"outlinewidth\": 0, \"ticks\": \"\"}, \"type\": \"choropleth\"}], \"contour\": [{\"colorbar\": {\"outlinewidth\": 0, \"ticks\": \"\"}, \"colorscale\": [[0.0, \"#0d0887\"], [0.1111111111111111, \"#46039f\"], [0.2222222222222222, \"#7201a8\"], [0.3333333333333333, \"#9c179e\"], [0.4444444444444444, \"#bd3786\"], [0.5555555555555556, \"#d8576b\"], [0.6666666666666666, \"#ed7953\"], [0.7777777777777778, \"#fb9f3a\"], [0.8888888888888888, \"#fdca26\"], [1.0, \"#f0f921\"]], \"type\": \"contour\"}], \"contourcarpet\": [{\"colorbar\": {\"outlinewidth\": 0, \"ticks\": \"\"}, \"type\": \"contourcarpet\"}], \"heatmap\": [{\"colorbar\": {\"outlinewidth\": 0, \"ticks\": \"\"}, \"colorscale\": [[0.0, \"#0d0887\"], [0.1111111111111111, \"#46039f\"], [0.2222222222222222, \"#7201a8\"], [0.3333333333333333, \"#9c179e\"], [0.4444444444444444, \"#bd3786\"], [0.5555555555555556, \"#d8576b\"], [0.6666666666666666, \"#ed7953\"], [0.7777777777777778, \"#fb9f3a\"], [0.8888888888888888, \"#fdca26\"], [1.0, \"#f0f921\"]], \"type\": \"heatmap\"}], \"heatmapgl\": [{\"colorbar\": {\"outlinewidth\": 0, \"ticks\": \"\"}, \"colorscale\": [[0.0, \"#0d0887\"], [0.1111111111111111, \"#46039f\"], [0.2222222222222222, \"#7201a8\"], [0.3333333333333333, \"#9c179e\"], [0.4444444444444444, \"#bd3786\"], [0.5555555555555556, \"#d8576b\"], [0.6666666666666666, \"#ed7953\"], [0.7777777777777778, \"#fb9f3a\"], [0.8888888888888888, \"#fdca26\"], [1.0, \"#f0f921\"]], \"type\": \"heatmapgl\"}], \"histogram\": [{\"marker\": {\"colorbar\": {\"outlinewidth\": 0, \"ticks\": \"\"}}, \"type\": \"histogram\"}], \"histogram2d\": [{\"colorbar\": {\"outlinewidth\": 0, \"ticks\": \"\"}, \"colorscale\": [[0.0, \"#0d0887\"], [0.1111111111111111, \"#46039f\"], [0.2222222222222222, \"#7201a8\"], [0.3333333333333333, \"#9c179e\"], [0.4444444444444444, \"#bd3786\"], [0.5555555555555556, \"#d8576b\"], [0.6666666666666666, \"#ed7953\"], [0.7777777777777778, \"#fb9f3a\"], [0.8888888888888888, \"#fdca26\"], [1.0, \"#f0f921\"]], \"type\": \"histogram2d\"}], \"histogram2dcontour\": [{\"colorbar\": {\"outlinewidth\": 0, \"ticks\": \"\"}, \"colorscale\": [[0.0, \"#0d0887\"], [0.1111111111111111, \"#46039f\"], [0.2222222222222222, \"#7201a8\"], [0.3333333333333333, \"#9c179e\"], [0.4444444444444444, \"#bd3786\"], [0.5555555555555556, \"#d8576b\"], [0.6666666666666666, \"#ed7953\"], [0.7777777777777778, \"#fb9f3a\"], [0.8888888888888888, \"#fdca26\"], [1.0, \"#f0f921\"]], \"type\": \"histogram2dcontour\"}], \"mesh3d\": [{\"colorbar\": {\"outlinewidth\": 0, \"ticks\": \"\"}, \"type\": \"mesh3d\"}], \"parcoords\": [{\"line\": {\"colorbar\": {\"outlinewidth\": 0, \"ticks\": \"\"}}, \"type\": \"parcoords\"}], \"pie\": [{\"automargin\": true, \"type\": \"pie\"}], \"scatter\": [{\"marker\": {\"colorbar\": {\"outlinewidth\": 0, \"ticks\": \"\"}}, \"type\": \"scatter\"}], \"scatter3d\": [{\"line\": {\"colorbar\": {\"outlinewidth\": 0, \"ticks\": \"\"}}, \"marker\": {\"colorbar\": {\"outlinewidth\": 0, \"ticks\": \"\"}}, \"type\": \"scatter3d\"}], \"scattercarpet\": [{\"marker\": {\"colorbar\": {\"outlinewidth\": 0, \"ticks\": \"\"}}, \"type\": \"scattercarpet\"}], \"scattergeo\": [{\"marker\": {\"colorbar\": {\"outlinewidth\": 0, \"ticks\": \"\"}}, \"type\": \"scattergeo\"}], \"scattergl\": [{\"marker\": {\"colorbar\": {\"outlinewidth\": 0, \"ticks\": \"\"}}, \"type\": \"scattergl\"}], \"scattermapbox\": [{\"marker\": {\"colorbar\": {\"outlinewidth\": 0, \"ticks\": \"\"}}, \"type\": \"scattermapbox\"}], \"scatterpolar\": [{\"marker\": {\"colorbar\": {\"outlinewidth\": 0, \"ticks\": \"\"}}, \"type\": \"scatterpolar\"}], \"scatterpolargl\": [{\"marker\": {\"colorbar\": {\"outlinewidth\": 0, \"ticks\": \"\"}}, \"type\": \"scatterpolargl\"}], \"scatterternary\": [{\"marker\": {\"colorbar\": {\"outlinewidth\": 0, \"ticks\": \"\"}}, \"type\": \"scatterternary\"}], \"surface\": [{\"colorbar\": {\"outlinewidth\": 0, \"ticks\": \"\"}, \"colorscale\": [[0.0, \"#0d0887\"], [0.1111111111111111, \"#46039f\"], [0.2222222222222222, \"#7201a8\"], [0.3333333333333333, \"#9c179e\"], [0.4444444444444444, \"#bd3786\"], [0.5555555555555556, \"#d8576b\"], [0.6666666666666666, \"#ed7953\"], [0.7777777777777778, \"#fb9f3a\"], [0.8888888888888888, \"#fdca26\"], [1.0, \"#f0f921\"]], \"type\": \"surface\"}], \"table\": [{\"cells\": {\"fill\": {\"color\": \"#EBF0F8\"}, \"line\": {\"color\": \"white\"}}, \"header\": {\"fill\": {\"color\": \"#C8D4E3\"}, \"line\": {\"color\": \"white\"}}, \"type\": \"table\"}]}, \"layout\": {\"annotationdefaults\": {\"arrowcolor\": \"#2a3f5f\", \"arrowhead\": 0, \"arrowwidth\": 1}, \"coloraxis\": {\"colorbar\": {\"outlinewidth\": 0, \"ticks\": \"\"}}, \"colorscale\": {\"diverging\": [[0, \"#8e0152\"], [0.1, \"#c51b7d\"], [0.2, \"#de77ae\"], [0.3, \"#f1b6da\"], [0.4, \"#fde0ef\"], [0.5, \"#f7f7f7\"], [0.6, \"#e6f5d0\"], [0.7, \"#b8e186\"], [0.8, \"#7fbc41\"], [0.9, \"#4d9221\"], [1, \"#276419\"]], \"sequential\": [[0.0, \"#0d0887\"], [0.1111111111111111, \"#46039f\"], [0.2222222222222222, \"#7201a8\"], [0.3333333333333333, \"#9c179e\"], [0.4444444444444444, \"#bd3786\"], [0.5555555555555556, \"#d8576b\"], [0.6666666666666666, \"#ed7953\"], [0.7777777777777778, \"#fb9f3a\"], [0.8888888888888888, \"#fdca26\"], [1.0, \"#f0f921\"]], \"sequentialminus\": [[0.0, \"#0d0887\"], [0.1111111111111111, \"#46039f\"], [0.2222222222222222, \"#7201a8\"], [0.3333333333333333, \"#9c179e\"], [0.4444444444444444, \"#bd3786\"], [0.5555555555555556, \"#d8576b\"], [0.6666666666666666, \"#ed7953\"], [0.7777777777777778, \"#fb9f3a\"], [0.8888888888888888, \"#fdca26\"], [1.0, \"#f0f921\"]]}, \"colorway\": [\"#636efa\", \"#EF553B\", \"#00cc96\", \"#ab63fa\", \"#FFA15A\", \"#19d3f3\", \"#FF6692\", \"#B6E880\", \"#FF97FF\", \"#FECB52\"], \"font\": {\"color\": \"#2a3f5f\"}, \"geo\": {\"bgcolor\": \"white\", \"lakecolor\": \"white\", \"landcolor\": \"#E5ECF6\", \"showlakes\": true, \"showland\": true, \"subunitcolor\": \"white\"}, \"hoverlabel\": {\"align\": \"left\"}, \"hovermode\": \"closest\", \"mapbox\": {\"style\": \"light\"}, \"paper_bgcolor\": \"white\", \"plot_bgcolor\": \"#E5ECF6\", \"polar\": {\"angularaxis\": {\"gridcolor\": \"white\", \"linecolor\": \"white\", \"ticks\": \"\"}, \"bgcolor\": \"#E5ECF6\", \"radialaxis\": {\"gridcolor\": \"white\", \"linecolor\": \"white\", \"ticks\": \"\"}}, \"scene\": {\"xaxis\": {\"backgroundcolor\": \"#E5ECF6\", \"gridcolor\": \"white\", \"gridwidth\": 2, \"linecolor\": \"white\", \"showbackground\": true, \"ticks\": \"\", \"zerolinecolor\": \"white\"}, \"yaxis\": {\"backgroundcolor\": \"#E5ECF6\", \"gridcolor\": \"white\", \"gridwidth\": 2, \"linecolor\": \"white\", \"showbackground\": true, \"ticks\": \"\", \"zerolinecolor\": \"white\"}, \"zaxis\": {\"backgroundcolor\": \"#E5ECF6\", \"gridcolor\": \"white\", \"gridwidth\": 2, \"linecolor\": \"white\", \"showbackground\": true, \"ticks\": \"\", \"zerolinecolor\": \"white\"}}, \"shapedefaults\": {\"line\": {\"color\": \"#2a3f5f\"}}, \"ternary\": {\"aaxis\": {\"gridcolor\": \"white\", \"linecolor\": \"white\", \"ticks\": \"\"}, \"baxis\": {\"gridcolor\": \"white\", \"linecolor\": \"white\", \"ticks\": \"\"}, \"bgcolor\": \"#E5ECF6\", \"caxis\": {\"gridcolor\": \"white\", \"linecolor\": \"white\", \"ticks\": \"\"}}, \"title\": {\"x\": 0.05}, \"xaxis\": {\"automargin\": true, \"gridcolor\": \"white\", \"linecolor\": \"white\", \"ticks\": \"\", \"title\": {\"standoff\": 15}, \"zerolinecolor\": \"white\", \"zerolinewidth\": 2}, \"yaxis\": {\"automargin\": true, \"gridcolor\": \"white\", \"linecolor\": \"white\", \"ticks\": \"\", \"title\": {\"standoff\": 15}, \"zerolinecolor\": \"white\", \"zerolinewidth\": 2}}}},\n",
       "                        {\"responsive\": true}\n",
       "                    ).then(function(){\n",
       "                            \n",
       "var gd = document.getElementById('7bb0c6fa-e0cc-4e6f-9e56-09d160d1f9f8');\n",
       "var x = new MutationObserver(function (mutations, observer) {{\n",
       "        var display = window.getComputedStyle(gd).display;\n",
       "        if (!display || display === 'none') {{\n",
       "            console.log([gd, 'removed!']);\n",
       "            Plotly.purge(gd);\n",
       "            observer.disconnect();\n",
       "        }}\n",
       "}});\n",
       "\n",
       "// Listen for the removal of the full notebook cells\n",
       "var notebookContainer = gd.closest('#notebook-container');\n",
       "if (notebookContainer) {{\n",
       "    x.observe(notebookContainer, {childList: true});\n",
       "}}\n",
       "\n",
       "// Listen for the clearing of the current output cell\n",
       "var outputEl = gd.closest('.output');\n",
       "if (outputEl) {{\n",
       "    x.observe(outputEl, {childList: true});\n",
       "}}\n",
       "\n",
       "                        })\n",
       "                };\n",
       "                });\n",
       "            </script>\n",
       "        </div>"
      ]
     },
     "metadata": {},
     "output_type": "display_data"
    }
   ],
   "source": [
    "\n",
    "logm_results_sig = logm_results[logm_results['pvalues'] < 0.05]\n",
    "\n",
    "plot_sig_results(logm_results_sig)"
   ]
  },
  {
   "cell_type": "code",
   "execution_count": 332,
   "metadata": {},
   "outputs": [
    {
     "data": {
      "text/plain": [
       "Index(['offer_id', 'event_offer completed', 'offer_type_bogo',\n",
       "       'offer_type_discount', 'offer_type_informational', 'web', 'email',\n",
       "       'mobile', 'social', 'reward', 'reward_used'],\n",
       "      dtype='object')"
      ]
     },
     "execution_count": 332,
     "metadata": {},
     "output_type": "execute_result"
    }
   ],
   "source": [
    "offer_df.columns"
   ]
  },
  {
   "cell_type": "code",
   "execution_count": 374,
   "metadata": {},
   "outputs": [
    {
     "ename": "KeyError",
     "evalue": "'event_offer received'",
     "output_type": "error",
     "traceback": [
      "\u001b[1;31m---------------------------------------------------------------------------\u001b[0m",
      "\u001b[1;31mKeyError\u001b[0m                                  Traceback (most recent call last)",
      "\u001b[1;32m~\\Anaconda3\\lib\\site-packages\\pandas\\core\\indexes\\base.py\u001b[0m in \u001b[0;36mget_loc\u001b[1;34m(self, key, method, tolerance)\u001b[0m\n\u001b[0;32m   2890\u001b[0m             \u001b[1;32mtry\u001b[0m\u001b[1;33m:\u001b[0m\u001b[1;33m\u001b[0m\u001b[0m\n\u001b[1;32m-> 2891\u001b[1;33m                 \u001b[1;32mreturn\u001b[0m \u001b[0mself\u001b[0m\u001b[1;33m.\u001b[0m\u001b[0m_engine\u001b[0m\u001b[1;33m.\u001b[0m\u001b[0mget_loc\u001b[0m\u001b[1;33m(\u001b[0m\u001b[0mcasted_key\u001b[0m\u001b[1;33m)\u001b[0m\u001b[1;33m\u001b[0m\u001b[0m\n\u001b[0m\u001b[0;32m   2892\u001b[0m             \u001b[1;32mexcept\u001b[0m \u001b[0mKeyError\u001b[0m \u001b[1;32mas\u001b[0m \u001b[0merr\u001b[0m\u001b[1;33m:\u001b[0m\u001b[1;33m\u001b[0m\u001b[0m\n",
      "\u001b[1;32mpandas\\_libs\\index.pyx\u001b[0m in \u001b[0;36mpandas._libs.index.IndexEngine.get_loc\u001b[1;34m()\u001b[0m\n",
      "\u001b[1;32mpandas\\_libs\\index.pyx\u001b[0m in \u001b[0;36mpandas._libs.index.IndexEngine.get_loc\u001b[1;34m()\u001b[0m\n",
      "\u001b[1;32mpandas\\_libs\\hashtable_class_helper.pxi\u001b[0m in \u001b[0;36mpandas._libs.hashtable.PyObjectHashTable.get_item\u001b[1;34m()\u001b[0m\n",
      "\u001b[1;32mpandas\\_libs\\hashtable_class_helper.pxi\u001b[0m in \u001b[0;36mpandas._libs.hashtable.PyObjectHashTable.get_item\u001b[1;34m()\u001b[0m\n",
      "\u001b[1;31mKeyError\u001b[0m: 'event_offer received'",
      "\nThe above exception was the direct cause of the following exception:\n",
      "\u001b[1;31mKeyError\u001b[0m                                  Traceback (most recent call last)",
      "\u001b[1;32m<ipython-input-374-8426610e05ca>\u001b[0m in \u001b[0;36m<module>\u001b[1;34m\u001b[0m\n\u001b[0;32m      2\u001b[0m \u001b[1;33m\u001b[0m\u001b[0m\n\u001b[0;32m      3\u001b[0m \u001b[0mfig\u001b[0m \u001b[1;33m=\u001b[0m \u001b[0mgo\u001b[0m\u001b[1;33m.\u001b[0m\u001b[0mFigure\u001b[0m\u001b[1;33m(\u001b[0m\u001b[1;33m)\u001b[0m\u001b[1;33m\u001b[0m\u001b[0m\n\u001b[1;32m----> 4\u001b[1;33m \u001b[0mfig\u001b[0m\u001b[1;33m.\u001b[0m\u001b[0madd_trace\u001b[0m\u001b[1;33m(\u001b[0m\u001b[0mgo\u001b[0m\u001b[1;33m.\u001b[0m\u001b[0mBar\u001b[0m\u001b[1;33m(\u001b[0m\u001b[0mx\u001b[0m\u001b[1;33m=\u001b[0m\u001b[0moffer_agg\u001b[0m\u001b[1;33m[\u001b[0m\u001b[1;34m'offer_id'\u001b[0m\u001b[1;33m]\u001b[0m\u001b[1;33m,\u001b[0m \u001b[0my\u001b[0m \u001b[1;33m=\u001b[0m \u001b[0moffer_agg\u001b[0m\u001b[1;33m[\u001b[0m\u001b[1;34m'reward_viewed_and_used'\u001b[0m\u001b[1;33m]\u001b[0m\u001b[1;33m/\u001b[0m\u001b[1;33m[\u001b[0m\u001b[1;36m1\u001b[0m \u001b[1;32mif\u001b[0m \u001b[0mi\u001b[0m \u001b[1;33m>\u001b[0m \u001b[1;36m0\u001b[0m \u001b[1;32melse\u001b[0m \u001b[1;36m0\u001b[0m \u001b[1;32mfor\u001b[0m \u001b[0mi\u001b[0m \u001b[1;32min\u001b[0m \u001b[0moffer_agg\u001b[0m\u001b[1;33m[\u001b[0m\u001b[1;34m'event_offer received'\u001b[0m\u001b[1;33m]\u001b[0m\u001b[1;33m]\u001b[0m\u001b[1;33m,\u001b[0m \u001b[0mname\u001b[0m \u001b[1;33m=\u001b[0m \u001b[1;34m'times_reward_used'\u001b[0m\u001b[1;33m)\u001b[0m\u001b[1;33m)\u001b[0m\u001b[1;33m\u001b[0m\u001b[0m\n\u001b[0m",
      "\u001b[1;32m~\\Anaconda3\\lib\\site-packages\\pandas\\core\\frame.py\u001b[0m in \u001b[0;36m__getitem__\u001b[1;34m(self, key)\u001b[0m\n\u001b[0;32m   2900\u001b[0m             \u001b[1;32mif\u001b[0m \u001b[0mself\u001b[0m\u001b[1;33m.\u001b[0m\u001b[0mcolumns\u001b[0m\u001b[1;33m.\u001b[0m\u001b[0mnlevels\u001b[0m \u001b[1;33m>\u001b[0m \u001b[1;36m1\u001b[0m\u001b[1;33m:\u001b[0m\u001b[1;33m\u001b[0m\u001b[0m\n\u001b[0;32m   2901\u001b[0m                 \u001b[1;32mreturn\u001b[0m \u001b[0mself\u001b[0m\u001b[1;33m.\u001b[0m\u001b[0m_getitem_multilevel\u001b[0m\u001b[1;33m(\u001b[0m\u001b[0mkey\u001b[0m\u001b[1;33m)\u001b[0m\u001b[1;33m\u001b[0m\u001b[0m\n\u001b[1;32m-> 2902\u001b[1;33m             \u001b[0mindexer\u001b[0m \u001b[1;33m=\u001b[0m \u001b[0mself\u001b[0m\u001b[1;33m.\u001b[0m\u001b[0mcolumns\u001b[0m\u001b[1;33m.\u001b[0m\u001b[0mget_loc\u001b[0m\u001b[1;33m(\u001b[0m\u001b[0mkey\u001b[0m\u001b[1;33m)\u001b[0m\u001b[1;33m\u001b[0m\u001b[0m\n\u001b[0m\u001b[0;32m   2903\u001b[0m             \u001b[1;32mif\u001b[0m \u001b[0mis_integer\u001b[0m\u001b[1;33m(\u001b[0m\u001b[0mindexer\u001b[0m\u001b[1;33m)\u001b[0m\u001b[1;33m:\u001b[0m\u001b[1;33m\u001b[0m\u001b[0m\n\u001b[0;32m   2904\u001b[0m                 \u001b[0mindexer\u001b[0m \u001b[1;33m=\u001b[0m \u001b[1;33m[\u001b[0m\u001b[0mindexer\u001b[0m\u001b[1;33m]\u001b[0m\u001b[1;33m\u001b[0m\u001b[0m\n",
      "\u001b[1;32m~\\Anaconda3\\lib\\site-packages\\pandas\\core\\indexes\\base.py\u001b[0m in \u001b[0;36mget_loc\u001b[1;34m(self, key, method, tolerance)\u001b[0m\n\u001b[0;32m   2891\u001b[0m                 \u001b[1;32mreturn\u001b[0m \u001b[0mself\u001b[0m\u001b[1;33m.\u001b[0m\u001b[0m_engine\u001b[0m\u001b[1;33m.\u001b[0m\u001b[0mget_loc\u001b[0m\u001b[1;33m(\u001b[0m\u001b[0mcasted_key\u001b[0m\u001b[1;33m)\u001b[0m\u001b[1;33m\u001b[0m\u001b[0m\n\u001b[0;32m   2892\u001b[0m             \u001b[1;32mexcept\u001b[0m \u001b[0mKeyError\u001b[0m \u001b[1;32mas\u001b[0m \u001b[0merr\u001b[0m\u001b[1;33m:\u001b[0m\u001b[1;33m\u001b[0m\u001b[0m\n\u001b[1;32m-> 2893\u001b[1;33m                 \u001b[1;32mraise\u001b[0m \u001b[0mKeyError\u001b[0m\u001b[1;33m(\u001b[0m\u001b[0mkey\u001b[0m\u001b[1;33m)\u001b[0m \u001b[1;32mfrom\u001b[0m \u001b[0merr\u001b[0m\u001b[1;33m\u001b[0m\u001b[0m\n\u001b[0m\u001b[0;32m   2894\u001b[0m \u001b[1;33m\u001b[0m\u001b[0m\n\u001b[0;32m   2895\u001b[0m         \u001b[1;32mif\u001b[0m \u001b[0mtolerance\u001b[0m \u001b[1;32mis\u001b[0m \u001b[1;32mnot\u001b[0m \u001b[1;32mNone\u001b[0m\u001b[1;33m:\u001b[0m\u001b[1;33m\u001b[0m\u001b[0m\n",
      "\u001b[1;31mKeyError\u001b[0m: 'event_offer received'"
     ]
    }
   ],
   "source": [
    "offer_agg = offer_df.groupby('offer_id').sum().reset_index()\n",
    "\n",
    "fig = go.Figure()\n",
    "fig.add_trace(go.Bar(x=offer_agg['offer_id'], y = offer_agg['reward_viewed_and_used']/[1 if i > 0 else 0 for i in offer_agg['event_offer recieved']], name = 'times_reward_used'))"
   ]
  },
  {
   "cell_type": "markdown",
   "metadata": {},
   "source": [
    "# FUNKSVD"
   ]
  },
  {
   "cell_type": "code",
   "execution_count": 17,
   "metadata": {},
   "outputs": [
    {
     "name": "stderr",
     "output_type": "stream",
     "text": [
      "C:\\Users\\madke\\Anaconda3\\lib\\site-packages\\ipykernel_launcher.py:16: SettingWithCopyWarning: \n",
      "A value is trying to be set on a copy of a slice from a DataFrame.\n",
      "Try using .loc[row_indexer,col_indexer] = value instead\n",
      "\n",
      "See the caveats in the documentation: https://pandas.pydata.org/pandas-docs/stable/user_guide/indexing.html#returning-a-view-versus-a-copy\n",
      "  app.launch_new_instance()\n"
     ]
    }
   ],
   "source": [
    "df_train = df_gb_time.head(int(np.rint(df_gb_time.shape[0]*.7)))\n",
    "df_test = df_gb_time.tail(int(np.rint(df_gb_time.shape[0]*.3)))\n",
    "user_item_train, user_item_test, test_idx, test_arts = create_test_and_train_user_item(df_train, df_test)"
   ]
  },
  {
   "cell_type": "code",
   "execution_count": null,
   "metadata": {},
   "outputs": [],
   "source": [
    "sse_tests = []\n",
    "sse_alls = []\n",
    "latent_factors = []\n",
    "\n",
    "learning_rate = 0.000001\n",
    "for i in range(8, 10, 3):\n",
    "    sse_test_ls, sse_all_ls = test_different_lf(i, learning_rate, iter_ls = range(5000, 5400, 200))\n",
    "    sse_tests.append(sse_test_ls)\n",
    "    sse_alls.append(sse_all_ls)\n",
    "    latent_factors.append(i)\n",
    "    \n",
    "    "
   ]
  },
  {
   "cell_type": "code",
   "execution_count": 55,
   "metadata": {},
   "outputs": [
    {
     "name": "stdout",
     "output_type": "stream",
     "text": [
      "Optimization Statistics\n",
      "Iterations | Mean Squared Error \n",
      "1 1265.5277972365177\n",
      "2 1195.6534552075966\n",
      "3 1144.7552443726545\n",
      "4 1095.8511136137818\n",
      "5 1048.852919957678\n",
      "6 1003.6559478997798\n",
      "7 960.1537547397578\n",
      "8 918.2531146432336\n",
      "9 877.887080527829\n",
      "10 839.0240709944834\n",
      "11 801.671218617963\n",
      "12 765.8711113225721\n",
      "13 731.6923839494586\n",
      "14 699.2159231067362\n",
      "15 668.5192610861459\n",
      "16 639.6618723652008\n",
      "17 612.6736390885364\n",
      "18 587.5478990488328\n",
      "19 564.2394591079259\n",
      "20 542.6670311610694\n",
      "21 522.7189529663498\n",
      "22 504.2608507030002\n",
      "23 487.14399534391134\n",
      "24 471.213364881283\n",
      "25 456.31473782183485\n",
      "26 442.30044147810037\n",
      "27 429.03362616635354\n",
      "28 416.3911192443539\n",
      "29 404.2650298940955\n",
      "30 392.56333444901446\n",
      "31 381.209686128621\n",
      "32 370.1426771798237\n",
      "33 359.31474848220455\n",
      "34 348.6909002686806\n",
      "35 338.24731250876033\n",
      "36 327.9699382141056\n",
      "37 317.8530925037284\n",
      "38 307.89803174129645\n",
      "39 298.1115067667352\n",
      "40 288.5042840525145\n",
      "41 279.0896541795468\n",
      "42 269.8819792788714\n",
      "43 260.8953592325393\n",
      "44 252.14251047774144\n",
      "45 243.63394395779238\n",
      "46 235.37749790666996\n",
      "47 227.37823184349145\n",
      "48 219.63863293665068\n",
      "49 212.15904093781782\n",
      "50 204.93817606776153\n",
      "51 197.97365933062983\n",
      "52 191.26244079686722\n",
      "53 184.8010874471245\n",
      "54 178.58591809784429\n",
      "55 172.61300262137152\n",
      "56 166.8780636287906\n",
      "57 161.3763301548707\n",
      "58 156.10239421300975\n",
      "59 151.05011261961366\n",
      "60 146.21258034846466\n",
      "61 141.58218230956663\n",
      "62 137.15071330316164\n",
      "63 132.90954506650627\n",
      "64 128.84981593699356\n",
      "65 124.96262110886624\n",
      "66 121.23918697547612\n",
      "67 117.67101914142414\n",
      "68 114.25001888149232\n",
      "69 110.96856661750351\n",
      "70 107.81957351361126\n",
      "71 104.79650395289289\n",
      "72 101.89337284225687\n",
      "73 99.10472262830255\n",
      "74 96.42558563088609\n",
      "75 93.8514377130682\n",
      "76 91.37814924563106\n",
      "77 89.00193864125407\n",
      "78 86.71933233992526\n",
      "79 84.52713306375281\n",
      "80 82.42239566397184\n",
      "81 80.4024074275008\n",
      "82 78.46466793164952\n",
      "83 76.60686304365359\n",
      "84 74.82682878051898\n",
      "85 73.12250331446899\n",
      "86 71.49186877116983\n",
      "87 69.93288766433861\n",
      "88 68.44344091875847\n",
      "89 67.02127488830213\n",
      "90 65.6639635397779\n",
      "91 64.36888950805773\n",
      "92 63.13324478216743\n",
      "93 61.95404911052692\n",
      "94 60.82818234021167\n",
      "95 59.752426020016905\n",
      "96 58.723509596552084\n",
      "97 57.73815714390553\n",
      "98 56.79313148059993\n",
      "99 55.88527348416922\n",
      "100 55.011535245590736\n",
      "101 54.16900634360451\n",
      "102 53.35493298172072\n",
      "103 52.56673009859665\n",
      "104 51.80198692899982\n",
      "105 51.058466906664904\n",
      "106 50.3341032278367\n",
      "107 49.626991725846864\n",
      "108 48.93538281309631\n",
      "109 48.257674050425145\n",
      "110 47.59240442809996\n",
      "111 46.93825080718935\n",
      "112 46.29402634020175\n",
      "113 45.6586802079349\n",
      "114 45.031297745888786\n",
      "115 44.41109997783579\n",
      "116 43.7974416656712\n",
      "117 43.18980715762335\n",
      "118 42.587803531932146\n",
      "119 41.991150781150054\n",
      "120 41.39966906560815\n",
      "121 40.81326337428889\n",
      "122 40.231906234733856\n",
      "123 39.655619360665476\n",
      "124 39.08445526635397\n",
      "125 38.51847987999585\n",
      "126 37.95775705637603\n",
      "127 37.40233565715866\n",
      "128 36.85223959183637\n",
      "129 36.30746095250609\n",
      "130 35.76795617369247\n",
      "131 35.23364501984603\n",
      "132 34.704412137648326\n",
      "133 34.18011088222496\n",
      "134 33.6605691077306\n",
      "135 33.14559658292375\n",
      "136 32.63499364225603\n",
      "137 32.128560615381566\n",
      "138 31.626107506174296\n",
      "139 31.127463338535758\n",
      "140 30.632484577398785\n",
      "141 30.141062093439512\n",
      "142 29.653126279425074\n",
      "143 29.168650133031935\n",
      "144 28.687650359168003\n",
      "145 28.210186762323342\n",
      "146 27.736360344433255\n",
      "147 27.2663105630288\n",
      "148 26.800212135765605\n",
      "149 26.33827163076114\n",
      "150 25.88072390907289\n",
      "151 25.427828341095935\n",
      "152 24.979864643072787\n",
      "153 24.537128187674732\n",
      "154 24.099924720979907\n",
      "155 23.668564535715532\n",
      "156 23.243356269990098\n",
      "157 22.82460059146473\n",
      "158 22.41258407234476\n",
      "159 22.007573559082534\n",
      "160 21.609811301259256\n",
      "161 21.219511040390586\n",
      "162 20.836855184072235\n",
      "163 20.46199311337064\n",
      "164 20.09504059747148\n",
      "165 19.7360802232185\n",
      "166 19.385162691756026\n",
      "167 19.042308793695454\n",
      "168 18.707511851542236\n",
      "169 18.380740415656774\n",
      "170 18.061941017477363\n",
      "171 17.75104081800201\n",
      "172 17.447950035059257\n",
      "173 17.152564082796435\n",
      "174 16.864765404280448\n",
      "175 16.584425017508053\n",
      "176 16.311403822928842\n",
      "177 16.04555373553294\n",
      "178 15.786718707384356\n",
      "179 15.534735699509639\n",
      "180 15.28943564837739\n",
      "181 15.050644455169618\n",
      "182 14.818184008683467\n",
      "183 14.591873237395854\n",
      "184 14.371529174574464\n",
      "185 14.15696801305699\n",
      "186 13.948006123470932\n",
      "187 13.74446101068021\n",
      "188 13.546152187170936\n",
      "189 13.352901947884064\n",
      "190 13.164536037587418\n",
      "191 12.980884208335778\n",
      "192 12.801780670267682\n",
      "193 12.627064443433845\n",
      "194 12.456579621428926\n",
      "195 12.29017555924981\n",
      "196 12.1277069982108\n",
      "197 11.969034140107542\n",
      "198 11.814022681427423\n",
      "199 11.662543816509704\n",
      "200 11.514474216440847\n",
      "201 11.369695988333914\n",
      "202 11.228096617698291\n",
      "203 11.089568894965897\n",
      "204 10.95401082601415\n",
      "205 10.821325525741825\n",
      "206 10.69142109341219\n",
      "207 10.564210468543125\n",
      "208 10.43961126651102\n",
      "209 10.31754559367668\n",
      "210 10.197939842620391\n",
      "211 10.080724468919342\n",
      "212 9.965833751697229\n",
      "213 9.853205540894473\n",
      "214 9.74278099475606\n",
      "215 9.634504311422392\n",
      "216 9.528322458683139\n",
      "217 9.424184905967259\n",
      "218 9.32204336245333\n",
      "219 9.221851524882476\n",
      "220 9.123564838206814\n",
      "221 9.027140271705175\n",
      "222 8.932536112622408\n",
      "223 8.839711778813538\n",
      "224 8.748627651300051\n",
      "225 8.659244927105062\n",
      "226 8.57152549225092\n",
      "227 8.48543181437123\n",
      "228 8.400926854053685\n",
      "229 8.317973993742395\n",
      "230 8.236536982844935\n",
      "231 8.156579897561302\n",
      "232 8.078067113892455\n",
      "233 8.000963292289763\n",
      "234 7.925233372443669\n",
      "235 7.850842576791696\n",
      "236 7.777756421420362\n",
      "237 7.705940733152108\n",
      "238 7.635361671715003\n",
      "239 7.565985756010639\n",
      "240 7.497779893590722\n",
      "241 7.430711412542477\n",
      "242 7.364748095057706\n",
      "243 7.299858212019318\n",
      "244 7.236010557990702\n",
      "245 7.173174486029069\n",
      "246 7.111319941780078\n",
      "247 7.05041749633914\n",
      "248 6.990438377396794\n",
      "249 6.931354498217726\n",
      "250 6.873138484040961\n",
      "251 6.815763695530146\n",
      "252 6.759204248959383\n",
      "253 6.703435032867859\n",
      "254 6.648431720986774\n",
      "255 6.594170781302842\n",
      "256 6.54062948119473\n",
      "257 6.487785888647444\n",
      "258 6.435618869615409\n",
      "259 6.384108081675361\n",
      "260 6.333233964163438\n",
      "261 6.282977725048258\n",
      "262 6.23332132483527\n",
      "263 6.184247457833176\n",
      "264 6.135739531143123\n",
      "265 6.08778164174456\n",
      "266 6.040358552063678\n",
      "267 5.993455664407314\n",
      "268 5.947058994636994\n",
      "269 5.901155145441017\n",
      "270 5.85573127954042\n",
      "271 5.810775093134641\n",
      "272 5.766274789865046\n",
      "273 5.722219055533124\n",
      "274 5.678597033779631\n",
      "275 5.635398302890206\n",
      "276 5.592612853856126\n",
      "277 5.550231069782392\n",
      "278 5.508243706704871\n",
      "279 5.466641875838941\n",
      "280 5.425417027260504\n",
      "281 5.384560934990793\n",
      "282 5.344065683433517\n",
      "283 5.30392365509571\n",
      "284 5.264127519507829\n",
      "285 5.224670223246317\n",
      "286 5.185544980952525\n",
      "287 5.14674526723853\n",
      "288 5.108264809364711\n",
      "289 5.070097580576588\n",
      "290 5.032237793987547\n",
      "291 4.994679896900935\n",
      "292 4.957418565467328\n",
      "293 4.920448699582932\n",
      "294 4.88376541793972\n",
      "295 4.8473640531495965\n",
      "296 4.8112401468701815\n",
      "297 4.775389444873817\n",
      "298 4.739807892005864\n",
      "299 4.704491626991841\n",
      "300 4.669436977058734\n",
      "301 4.6346404523467335\n",
      "302 4.600098740094723\n",
      "303 4.565808698590061\n",
      "304 4.531767350880655\n",
      "305 4.497971878254574\n",
      "306 4.464419613495787\n",
      "307 4.43110803393059\n",
      "308 4.398034754284931\n",
      "309 4.365197519373194\n",
      "310 4.332594196645036\n",
      "311 4.300222768616318\n",
      "312 4.268081325214306\n",
      "313 4.236168056066461\n",
      "314 4.204481242763035\n",
      "315 4.173019251126009\n",
      "316 4.141780523512399\n",
      "317 4.110763571184419\n",
      "318 4.079966966772826\n",
      "319 4.049389336864481\n",
      "320 4.01902935473752\n",
      "321 3.9888857332715864\n",
      "322 3.9589572180541697\n",
      "323 3.929242580707952\n",
      "324 3.899740612454841\n",
      "325 3.8704501179387916\n",
      "326 3.841369909320155\n",
      "327 3.812498800659193\n",
      "328 3.7838356025982205\n",
      "329 3.7553791173565063\n",
      "330 3.7271281340445785\n",
      "331 3.69908142430725\n",
      "332 3.671237738301807\n",
      "333 3.643595801015311\n",
      "334 3.616154308925296\n",
      "335 3.5889119270058023\n",
      "336 3.5618672860809406\n",
      "337 3.5350189805242973\n",
      "338 3.5083655663059012\n",
      "339 3.481905559381883\n",
      "340 3.455637434426757\n",
      "341 3.429559623903336\n",
      "342 3.403670517466058\n",
      "343 3.377968461692568\n",
      "344 3.3524517601379484\n",
      "345 3.32711867370414\n",
      "346 3.3019674213177934\n",
      "347 3.2769961809075596\n",
      "348 3.252203090672832\n",
      "349 3.2275862506327817\n",
      "350 3.2031437244469716\n",
      "351 3.1788735414941316\n",
      "352 3.1547736991993025\n",
      "353 3.1308421655947507\n",
      "354 3.1070768821018553\n",
      "355 3.0834757665197436\n",
      "356 3.060036716205062\n",
      "357 3.0367576114271335\n",
      "358 3.0136363188824515\n",
      "359 2.9906706953503694\n",
      "360 2.9678585914729902\n",
      "361 2.945197855639926\n",
      "362 2.9226863379591546\n",
      "363 2.900321894295759\n",
      "364 2.8781023903560956\n",
      "365 2.856025705799539\n",
      "366 2.834089738357018\n",
      "367 2.8122924079350553\n",
      "368 2.7906316606854897\n",
      "369 2.769105473021867\n",
      "370 2.747711855559674\n"
     ]
    },
    {
     "name": "stdout",
     "output_type": "stream",
     "text": [
      "371 2.7264488569643013\n",
      "372 2.7053145676856283\n",
      "373 2.6843071235611067\n",
      "374 2.663424709270546\n",
      "375 2.6426655616259387\n",
      "376 2.6220279726799416\n",
      "377 2.6015102926395466\n",
      "378 2.581110932571346\n",
      "379 2.5608283668865712\n",
      "380 2.5406611355960926\n",
      "381 2.5206078463250927\n",
      "382 2.500667176082456\n",
      "383 2.4808378727766485\n",
      "384 2.461118756475768\n",
      "385 2.4415087204084944\n",
      "386 2.4220067317054665\n",
      "387 2.4026118318818575\n",
      "388 2.383323137063036\n",
      "389 2.364139837958207\n",
      "390 2.3450611995855843\n",
      "391 2.326086560758247\n",
      "392 2.3072153333360124\n",
      "393 2.288447001254333\n",
      "394 2.2697811193391377\n",
      "395 2.251217311919399\n",
      "396 2.2327552712488687\n",
      "397 2.214394755749308\n",
      "398 2.1961355880886027\n",
      "399 2.1779776531067374\n",
      "400 2.159920895603679\n",
      "401 2.1419653180018923\n",
      "402 2.1241109778987393\n",
      "403 2.1063579855205945\n",
      "404 2.0887065010935313\n",
      "405 2.0711567321425552\n",
      "406 2.053708930732454\n",
      "407 2.0363633906622827\n",
      "408 2.019120444625059\n",
      "409 2.001980461343388\n",
      "410 1.984943842691879\n",
      "411 1.9680110208150137\n",
      "412 1.9511824552509833\n",
      "413 1.9344586300679305\n",
      "414 1.917840051021744\n",
      "415 1.9013272427419698\n",
      "416 1.8849207459511546\n",
      "417 1.8686211147255274\n",
      "418 1.8524289138000813\n",
      "419 1.8363447159241129\n",
      "420 1.8203690992710375\n",
      "421 1.804502644906515\n",
      "422 1.7887459343179755\n",
      "423 1.7730995470093813\n",
      "424 1.7575640581636336\n",
      "425 1.7421400363754798\n",
      "426 1.7268280414577362\n",
      "427 1.7116286223225297\n",
      "428 1.6965423149405803\n",
      "429 1.6815696403801283\n",
      "430 1.6667111029279402\n",
      "431 1.651967188294076\n",
      "432 1.6373383619026136\n",
      "433 1.6228250672703435\n",
      "434 1.60842772447483\n",
      "435 1.594146728713947\n",
      "436 1.5799824489585879\n",
      "437 1.5659352266998194\n",
      "438 1.5520053747922449\n",
      "439 1.5381931763946621\n",
      "440 1.5244988840091784\n",
      "441 1.5109227186197887\n",
      "442 1.4974648689310337\n",
      "443 1.4841254907070593\n",
      "444 1.4709047062116212\n",
      "445 1.457802603748473\n",
      "446 1.4448192373018798\n",
      "447 1.4319546262766087\n",
      "448 1.4192087553359962\n",
      "449 1.4065815743368077\n",
      "450 1.394072998358873\n",
      "451 1.3816829078275228\n",
      "452 1.3694111487259044\n",
      "453 1.3572575328945244\n",
      "454 1.3452218384145407\n",
      "455 1.3333038100712404\n",
      "456 1.3215031598937514\n",
      "457 1.3098195677667699\n",
      "458 1.298252682109699\n",
      "459 1.2868021206187548\n",
      "460 1.2754674710662854\n",
      "461 1.2642482921534866\n",
      "462 1.253144114409747\n",
      "463 1.2421544411345296\n",
      "464 1.231278749375257\n",
      "465 1.2205164909366828\n",
      "466 1.2098670934153612\n",
      "467 1.1993299612545172\n",
      "468 1.188904476813458\n",
      "469 1.1785900014464814\n",
      "470 1.1683858765861506\n",
      "471 1.1582914248259317\n",
      "472 1.1483059509975262\n",
      "473 1.1384287432383047\n",
      "474 1.128659074044689\n",
      "475 1.1189962013075863\n",
      "476 1.1094393693257474\n",
      "477 1.0999878097943288\n",
      "478 1.0906407427650164\n",
      "479 1.081397377575324\n",
      "480 1.0722569137445814\n",
      "481 1.063218541834407\n",
      "482 1.0542814442722\n",
      "483 1.0454447961359261\n",
      "484 1.036707765899575\n",
      "485 1.0280695161379765\n",
      "486 1.019529204191078\n",
      "487 1.0110859827872087\n",
      "488 1.002739000625548\n",
      "489 0.9944874029183085\n",
      "490 0.9863303318931913\n",
      "491 0.9782669272569839\n",
      "492 0.9702963266215345\n",
      "493 0.9624176658934872\n",
      "494 0.9546300796287256\n",
      "495 0.9469327013540106\n",
      "496 0.9393246638569166\n",
      "497 0.931805099446051\n",
      "498 0.9243731401839155\n",
      "499 0.9170279180939591\n",
      "500 0.9097685653442977\n",
      "501 0.9025942144100169\n",
      "502 0.8955039982163127\n",
      "503 0.888497050264627\n",
      "504 0.8815725047438536\n",
      "505 0.8747294966288108\n",
      "506 0.8679671617679364\n",
      "507 0.8612846369622912\n",
      "508 0.8546810600378122\n",
      "509 0.8481555699125728\n",
      "510 0.8417073066609755\n",
      "511 0.8353354115762636\n",
      "512 0.8290390272333448\n",
      "513 0.8228172975529309\n",
      "514 0.8166693678686134\n",
      "515 0.8105943849980206\n",
      "516 0.8045914973190916\n",
      "517 0.7986598548524751\n",
      "518 0.7927986093510015\n",
      "519 0.7870069143967513\n",
      "520 0.781283925506505\n",
      "521 0.7756288002459656\n",
      "522 0.7700406983530745\n",
      "523 0.7645187818708569\n",
      "524 0.7590622152895897\n",
      "525 0.753670165698784\n",
      "526 0.7483418029483782\n",
      "527 0.7430762998195256\n",
      "528 0.7378728322041346\n",
      "529 0.7327305792933853\n",
      "530 0.7276487237743362\n",
      "531 0.7226264520343179\n",
      "532 0.7176629543726714\n",
      "533 0.7127574252188353\n",
      "534 0.7079090633565377\n",
      "535 0.703117072153007\n",
      "536 0.6983806597926715\n",
      "537 0.6936990395144043\n",
      "538 0.6890714298515463\n",
      "539 0.6844970548739094\n",
      "540 0.679975144430745\n",
      "541 0.6755049343939815\n",
      "542 0.6710856669007488\n",
      "543 0.6667165905943926\n",
      "544 0.6623969608629998\n",
      "545 0.6581260400747876\n",
      "546 0.6539030978093012\n",
      "547 0.6497274110838044\n",
      "548 0.6455982645739546\n",
      "549 0.6415149508280682\n",
      "550 0.6374767704743369\n",
      "551 0.6334830324200775\n",
      "552 0.6295330540427364\n",
      "553 0.6256261613717009\n",
      "554 0.6217616892605845\n",
      "555 0.6179389815494247\n",
      "556 0.6141573912163082\n",
      "557 0.610416280518057\n",
      "558 0.6067150211195034\n",
      "559 0.6030529942112698\n",
      "560 0.5994295906155509\n",
      "561 0.595844210879788\n",
      "562 0.5922962653580718\n",
      "563 0.5887851742802215\n",
      "564 0.5853103678082783\n",
      "565 0.5818712860806037\n",
      "566 0.5784673792435527\n",
      "567 0.5750981074705952\n",
      "568 0.571762940969359\n",
      "569 0.5684613599764048\n",
      "570 0.5651928547400533\n",
      "571 0.5619569254916545\n",
      "572 0.5587530824051453\n",
      "573 0.5555808455456508\n",
      "574 0.5524397448071392\n",
      "575 0.5493293198395649\n",
      "576 0.5462491199660314\n",
      "577 0.5431987040899429\n",
      "578 0.5401776405931737\n",
      "579 0.5371855072251226\n",
      "580 0.5342218909834211\n",
      "581 0.5312863879867324\n",
      "582 0.5283786033399753\n",
      "583 0.5254981509926305\n",
      "584 0.5226446535904494\n",
      "585 0.5198177423212414\n",
      "586 0.5170170567550986\n",
      "587 0.5142422446795893\n",
      "588 0.5114929619304521\n",
      "589 0.5087688722183122\n",
      "590 0.5060696469517604\n",
      "591 0.5033949650574664\n",
      "592 0.5007445127976917\n",
      "593 0.4981179835856837\n",
      "594 0.49551507779940995\n",
      "595 0.49293550259408975\n",
      "596 0.4903789717139756\n",
      "597 0.48784520530366776\n",
      "598 0.4853339297196414\n",
      "599 0.48284487734199477\n",
      "600 0.4803777863871703\n",
      "601 0.47793240072167426\n",
      "602 0.4755084696774319\n",
      "603 0.47310574786877013\n",
      "604 0.4707239950117028\n",
      "605 0.4683629757453834\n",
      "606 0.46602245945641496\n",
      "607 0.46370222010591416\n",
      "608 0.4614020360597487\n",
      "609 0.4591216899220881\n",
      "610 0.4568609683725323\n",
      "611 0.45461966200683945\n",
      "612 0.4523975651815908\n",
      "613 0.4501944758628119\n",
      "614 0.44801019547866994\n",
      "615 0.44584452877646796\n",
      "616 0.4436972836838665\n",
      "617 0.44156827117450514\n",
      "618 0.43945730513808445\n",
      "619 0.4373642022548917\n",
      "620 0.4352887818748682\n",
      "621 0.43323086590118254\n",
      "622 0.4311902786783113\n",
      "623 0.42916684688470264\n",
      "624 0.42716039942992357\n",
      "625 0.4251707673562253\n",
      "626 0.4231977837446024\n",
      "627 0.42124128362526486\n",
      "628 0.4193011038923183\n",
      "629 0.4173770832228711\n",
      "630 0.41546906200017014\n",
      "631 0.4135768822409348\n",
      "632 0.41170038752675114\n",
      "633 0.40983942293928777\n",
      "634 0.40799383499940167\n",
      "635 0.4061634716100265\n",
      "636 0.4043481820026021\n",
      "637 0.4025478166870837\n",
      "638 0.40076222740535594\n",
      "639 0.39899126708790456\n",
      "640 0.3972347898137247\n",
      "641 0.3954926507732817\n",
      "642 0.3937647062343554\n",
      "643 0.3920508135108591\n",
      "644 0.39035083093421263\n",
      "645 0.38866461782741335\n",
      "646 0.38699203448157937\n",
      "647 0.38533294213481817\n",
      "648 0.38368720295334735\n",
      "649 0.38205468001482157\n",
      "650 0.38043523729358886\n",
      "651 0.37882873964791813\n",
      "652 0.37723505280903064\n",
      "653 0.3756540433718112\n",
      "654 0.37408557878714516\n",
      "655 0.3725295273557212\n",
      "656 0.37098575822329555\n",
      "657 0.36945414137715715\n",
      "658 0.3679345476439458\n",
      "659 0.3664268486884704\n",
      "660 0.36493091701362085\n",
      "661 0.3634466259612793\n",
      "662 0.3619738497140078\n",
      "663 0.3605124632976262\n",
      "664 0.3590623425844875\n",
      "665 0.3576233642973398\n",
      "666 0.3561954060139367\n",
      "667 0.3547783461719983\n",
      "668 0.35337206407472477\n",
      "669 0.35197643989673294\n",
      "670 0.3505913546902494\n",
      "671 0.3492166903917008\n",
      "672 0.34785232982848396\n",
      "673 0.34649815672594064\n",
      "674 0.3451540557144992\n",
      "675 0.3438199123369455\n",
      "676 0.34249561305568277\n",
      "677 0.3411810452601352\n",
      "678 0.3398760972740569\n",
      "679 0.33858065836286955\n",
      "680 0.337294618740872\n",
      "681 0.33601786957841023\n",
      "682 0.3347503030088782\n",
      "683 0.3334918121356376\n",
      "684 0.3322422910386744\n",
      "685 0.33100163478112826\n",
      "686 0.32976973941561166\n",
      "687 0.3285465019902889\n",
      "688 0.32733182055464893\n",
      "689 0.3261255941651447\n",
      "690 0.3249277228904164\n",
      "691 0.32373810781634677\n",
      "692 0.32255665105071496\n",
      "693 0.32138325572762844\n",
      "694 0.3202178260115895\n",
      "695 0.31906026710119967\n",
      "696 0.3179104852326431\n",
      "697 0.31676838768269655\n",
      "698 0.31563388277148513\n",
      "699 0.3145068798648744\n",
      "700 0.31338728937643784\n",
      "701 0.31227502276921354\n",
      "702 0.31116999255691685\n",
      "703 0.310072112304959\n",
      "704 0.3089812966310046\n",
      "705 0.3078974612052086\n",
      "706 0.30682052275008476\n",
      "707 0.30575039904000256\n",
      "708 0.304687008900355\n",
      "709 0.30363027220633143\n",
      "710 0.3025801098813645\n",
      "711 0.30153644389524437\n",
      "712 0.30049919726181606\n",
      "713 0.29946829403639447\n",
      "714 0.298443659312848\n",
      "715 0.29742521922028364\n",
      "716 0.29641290091947814\n",
      "717 0.2954066325988866\n",
      "718 0.2944063434704722\n",
      "719 0.2934119637650758\n",
      "720 0.2924234247275627\n",
      "721 0.29144065861167756\n",
      "722 0.2904635986745313\n",
      "723 0.2894921791708826\n",
      "724 0.2885263353470884\n",
      "725 0.28756600343481314\n",
      "726 0.2866111206444285\n"
     ]
    },
    {
     "name": "stdout",
     "output_type": "stream",
     "text": [
      "727 0.28566162515821036\n",
      "728 0.2847174561232594\n",
      "729 0.2837785536441793\n",
      "730 0.28284485877552046\n",
      "731 0.28191631351401986\n",
      "732 0.28099286079059627\n",
      "733 0.28007444446219193\n",
      "734 0.2791610093033208\n",
      "735 0.27825250099753934\n",
      "736 0.2773488661286573\n",
      "737 0.27645005217182955\n",
      "738 0.27555600748443987\n",
      "739 0.2746666812968731\n",
      "740 0.27378202370309307\n",
      "741 0.2729019856511903\n",
      "742 0.2720265189336639\n",
      "743 0.2711555761776772\n",
      "744 0.27028911083521817\n",
      "745 0.26942707717310205\n",
      "746 0.2685694302629061\n",
      "747 0.26771612597085515\n",
      "748 0.2668671209476042\n",
      "749 0.2660223726179616\n",
      "750 0.2651818391705523\n",
      "751 0.26434547954746823\n",
      "752 0.2635132534338482\n",
      "753 0.26268512124740895\n",
      "754 0.26186104412801803\n",
      "755 0.26104098392720654\n",
      "756 0.2602249031976592\n",
      "757 0.25941276518275935\n",
      "758 0.2586045338060807\n",
      "759 0.2578001736609477\n",
      "760 0.25699964999998076\n",
      "761 0.25620292872467154\n",
      "762 0.25540997637502927\n",
      "763 0.2546207601191694\n",
      "764 0.253835247743109\n",
      "765 0.2530534076404414\n",
      "766 0.25227520880218035\n",
      "767 0.2515006208066114\n",
      "768 0.25072961380924624\n",
      "769 0.24996215853280745\n",
      "770 0.2491982262573162\n",
      "771 0.2484377888102466\n",
      "772 0.2476808185567777\n",
      "773 0.24692728839010425\n",
      "774 0.24617717172188408\n",
      "775 0.2454304424727007\n",
      "776 0.24468707506270515\n",
      "777 0.24394704440230872\n",
      "778 0.24321032588300293\n",
      "779 0.24247689536822875\n",
      "780 0.24174672918443685\n",
      "781 0.2410198041121869\n",
      "782 0.2402960973773664\n",
      "783 0.23957558664255807\n",
      "784 0.2388582499984622\n",
      "785 0.23814406595549859\n",
      "786 0.23743301343544884\n",
      "787 0.2367250717632552\n",
      "788 0.23602022065896644\n",
      "789 0.2353184402297086\n",
      "790 0.23461971096185602\n",
      "791 0.2339240137132812\n",
      "792 0.2332313297057284\n",
      "793 0.23254164051727796\n",
      "794 0.2318549280749958\n",
      "795 0.23117117464759668\n",
      "796 0.2304903628383173\n",
      "797 0.22981247557783757\n",
      "798 0.22913749611736745\n",
      "799 0.22846540802178167\n",
      "800 0.2277961951629281\n",
      "801 0.22712984171302678\n",
      "802 0.22646633213816914\n",
      "803 0.22580565119191032\n",
      "804 0.2251477839090231\n",
      "805 0.22449271559929634\n",
      "806 0.22384043184148472\n",
      "807 0.22319091847733846\n",
      "808 0.22254416160574467\n",
      "809 0.2219001475769412\n",
      "810 0.22125886298689912\n",
      "811 0.22062029467172853\n",
      "812 0.2199844297022019\n",
      "813 0.21935125537841862\n",
      "814 0.21872075922448536\n",
      "815 0.2180929289833638\n",
      "816 0.21746775261176043\n",
      "817 0.21684521827511014\n",
      "818 0.21622531434267508\n",
      "819 0.21560802938270818\n",
      "820 0.21499335215769444\n",
      "821 0.21438127161970627\n",
      "822 0.21377177690579882\n",
      "823 0.21316485733352616\n",
      "824 0.21256050239651494\n",
      "825 0.21195870176011247\n",
      "826 0.21135944525712794\n",
      "827 0.21076272288363831\n",
      "828 0.21016852479486656\n",
      "829 0.20957684130114324\n",
      "830 0.20898766286392306\n",
      "831 0.20840098009188707\n",
      "832 0.20781678373711446\n",
      "833 0.20723506469131556\n",
      "834 0.2066558139821262\n",
      "835 0.20607902276949097\n",
      "836 0.205504682342078\n",
      "837 0.20493278411381002\n",
      "838 0.2043633196203946\n",
      "839 0.2037962805159741\n",
      "840 0.2032316585698099\n",
      "841 0.20266944566302605\n",
      "842 0.20210963378542268\n",
      "843 0.20155221503236398\n",
      "844 0.20099718160168634\n",
      "845 0.20044452579070884\n",
      "846 0.1998942399932756\n",
      "847 0.19934631669684963\n",
      "848 0.19880074847970652\n",
      "849 0.19825752800813615\n",
      "850 0.1977166480337233\n",
      "851 0.19717810139068118\n",
      "852 0.19664188099325797\n",
      "853 0.19610797983314568\n",
      "854 0.1955763909770319\n",
      "855 0.19504710756410037\n",
      "856 0.1945201228036767\n",
      "857 0.19399542997287325\n",
      "858 0.19347302241430508\n",
      "859 0.19295289353385967\n",
      "860 0.19243503679851842\n",
      "861 0.19191944573422157\n",
      "862 0.19140611392379384\n",
      "863 0.19089503500491495\n",
      "864 0.19038620266815165\n",
      "865 0.18987961065502168\n",
      "866 0.18937525275611441\n",
      "867 0.18887312280927046\n",
      "868 0.18837321469780222\n",
      "869 0.18787552234875682\n",
      "870 0.1873800397312231\n",
      "871 0.1868867608547\n",
      "872 0.18639567976752053\n",
      "873 0.18590679055526727\n",
      "874 0.18542008733929324\n",
      "875 0.18493556427525268\n",
      "876 0.18445321555168948\n",
      "877 0.18397303538866272\n",
      "878 0.18349501803639592\n",
      "879 0.18301915777400815\n",
      "880 0.18254544890823213\n",
      "881 0.18207388577222208\n",
      "882 0.1816044627243574\n",
      "883 0.1811371741471179\n",
      "884 0.18067201444596426\n",
      "885 0.18020897804827166\n",
      "886 0.1797480594022956\n",
      "887 0.17928925297614762\n",
      "888 0.17883255325686007\n",
      "889 0.17837795474940524\n",
      "890 0.1779254519758126\n",
      "891 0.1774750394742522\n",
      "892 0.1770267117982116\n",
      "893 0.17658046351562884\n",
      "894 0.17613628920812785\n",
      "895 0.17569418347020277\n",
      "896 0.1752541409084859\n",
      "897 0.17481615614097243\n",
      "898 0.17438022379635332\n",
      "899 0.1739463385132965\n",
      "900 0.17351449493975804\n",
      "901 0.17308468773235133\n",
      "902 0.17265691155567645\n",
      "903 0.1722311610817241\n",
      "904 0.17180743098924678\n",
      "905 0.1713857159631616\n",
      "906 0.1709660106939783\n",
      "907 0.17054830987722297\n",
      "908 0.1701326082128813\n",
      "909 0.16971890040484192\n",
      "910 0.16930718116037266\n",
      "911 0.1688974451895907\n",
      "912 0.16848968720492175\n",
      "913 0.1680839019206234\n",
      "914 0.16768008405225135\n",
      "915 0.16727822831617534\n",
      "916 0.1668783294290884\n",
      "917 0.16648038210752436\n",
      "918 0.16608438106737825\n",
      "919 0.16569032102342565\n",
      "920 0.16529819668886037\n",
      "921 0.16490800277483292\n",
      "922 0.16451973398999106\n",
      "923 0.16413338504001954\n",
      "924 0.16374895062718664\n",
      "925 0.16336642544991573\n",
      "926 0.16298580420231473\n",
      "927 0.16260708157376344\n",
      "928 0.16223025224845242\n",
      "929 0.16185531090498145\n",
      "930 0.16148225221589857\n",
      "931 0.16111107084730303\n",
      "932 0.16074176145841554\n",
      "933 0.16037431870116148\n",
      "934 0.16000873721975506\n",
      "935 0.15964501165032763\n",
      "936 0.15928313662047125\n",
      "937 0.15892310674888915\n",
      "938 0.1585649166449924\n",
      "939 0.15820856090849877\n",
      "940 0.15785403412908877\n",
      "941 0.15750133088600388\n",
      "942 0.15715044574770004\n",
      "943 0.15680137327148203\n",
      "944 0.15645410800315232\n",
      "945 0.15610864447669381\n",
      "946 0.15576497721389193\n",
      "947 0.1554231007240478\n",
      "948 0.1550830095036552\n",
      "949 0.1547446980360834\n",
      "950 0.15440816079127923\n",
      "951 0.15407339222550645\n",
      "952 0.1537403867810383\n",
      "953 0.15340913888591187\n",
      "954 0.15307964295366538\n",
      "955 0.15275189338310868\n",
      "956 0.15242588455807315\n",
      "957 0.1521016108472096\n",
      "958 0.1517790666037707\n",
      "959 0.15145824616543152\n",
      "960 0.15113914385408553\n",
      "961 0.15082175397570302\n",
      "962 0.1505060708201552\n",
      "963 0.1501920886610847\n",
      "964 0.14987980175577423\n",
      "965 0.1495692043450279\n",
      "966 0.14926029065308402\n",
      "967 0.14895305488750205\n",
      "968 0.14864749123912813\n",
      "969 0.14834359388199583\n",
      "970 0.14804135697331272\n",
      "971 0.1477407746534138\n",
      "972 0.14744184104574745\n",
      "973 0.1471445502568847\n",
      "974 0.14684889637649745\n",
      "975 0.14655487347742915\n",
      "976 0.1462624756157075\n",
      "977 0.14597169683059033\n",
      "978 0.14568253114465574\n",
      "979 0.1453949725638657\n",
      "980 0.14510901507767116\n",
      "981 0.14482465265909833\n",
      "982 0.14454187926490147\n",
      "983 0.14426068883566187\n",
      "984 0.14398107529595888\n",
      "985 0.14370303255452707\n",
      "986 0.14342655450439878\n",
      "987 0.14315163502313105\n",
      "988 0.14287826797296607\n",
      "989 0.14260644720105184\n",
      "990 0.14233616653965905\n",
      "991 0.14206741980641638\n",
      "992 0.14180020080454278\n",
      "993 0.14153450332310716\n",
      "994 0.14127032113727636\n",
      "995 0.14100764800861224\n",
      "996 0.14074647768533036\n",
      "997 0.14048680390261256\n",
      "998 0.14022862038290043\n",
      "999 0.13997192083619883\n",
      "1000 0.13971669896041666\n",
      "1000 0.13971669896041666\n"
     ]
    }
   ],
   "source": [
    "\n",
    "\n",
    "user_item = create_user_item_matrix(df_gb)\n",
    "\n",
    "#learning_rate = 0.01\n",
    "u, vt, sse_totals = FunkSVD(user_item, latent_features=6, learning_rate=0.02, iters=1000)"
   ]
  },
  {
   "cell_type": "code",
   "execution_count": 56,
   "metadata": {},
   "outputs": [
    {
     "data": {
      "image/png": "[encoded data removed]",
      "text/plain": [
       "<matplotlib.figure.Figure at 0x17f3d2c1240>"
      ]
     },
     "metadata": {},
     "output_type": "display_data"
    }
   ],
   "source": [
    "plot_sse_fig(range(1000), sse_totals, met_label = \"SSE\")"
   ]
  },
  {
   "cell_type": "code",
   "execution_count": 59,
   "metadata": {},
   "outputs": [
    {
     "data": {
      "text/html": [
       "<div>\n",
       "<style scoped>\n",
       "    .dataframe tbody tr th:only-of-type {\n",
       "        vertical-align: middle;\n",
       "    }\n",
       "\n",
       "    .dataframe tbody tr th {\n",
       "        vertical-align: top;\n",
       "    }\n",
       "\n",
       "    .dataframe thead th {\n",
       "        text-align: right;\n",
       "    }\n",
       "</style>\n",
       "<table border=\"1\" class=\"dataframe\">\n",
       "  <thead>\n",
       "    <tr style=\"text-align: right;\">\n",
       "      <th></th>\n",
       "      <th>0</th>\n",
       "      <th>1</th>\n",
       "      <th>2</th>\n",
       "      <th>3</th>\n",
       "      <th>4</th>\n",
       "      <th>5</th>\n",
       "    </tr>\n",
       "    <tr>\n",
       "      <th>user_id</th>\n",
       "      <th></th>\n",
       "      <th></th>\n",
       "      <th></th>\n",
       "      <th></th>\n",
       "      <th></th>\n",
       "      <th></th>\n",
       "    </tr>\n",
       "  </thead>\n",
       "  <tbody>\n",
       "    <tr>\n",
       "      <th>1</th>\n",
       "      <td>0.733519</td>\n",
       "      <td>0.830973</td>\n",
       "      <td>0.688329</td>\n",
       "      <td>0.233692</td>\n",
       "      <td>0.376631</td>\n",
       "      <td>0.663054</td>\n",
       "    </tr>\n",
       "    <tr>\n",
       "      <th>2</th>\n",
       "      <td>1.189134</td>\n",
       "      <td>0.500120</td>\n",
       "      <td>0.532125</td>\n",
       "      <td>0.456993</td>\n",
       "      <td>1.245891</td>\n",
       "      <td>0.205037</td>\n",
       "    </tr>\n",
       "    <tr>\n",
       "      <th>3</th>\n",
       "      <td>0.476288</td>\n",
       "      <td>0.784937</td>\n",
       "      <td>0.587246</td>\n",
       "      <td>0.332231</td>\n",
       "      <td>0.603149</td>\n",
       "      <td>0.664323</td>\n",
       "    </tr>\n",
       "    <tr>\n",
       "      <th>4</th>\n",
       "      <td>0.281185</td>\n",
       "      <td>1.015579</td>\n",
       "      <td>0.846028</td>\n",
       "      <td>-0.211597</td>\n",
       "      <td>1.315794</td>\n",
       "      <td>0.251268</td>\n",
       "    </tr>\n",
       "    <tr>\n",
       "      <th>5</th>\n",
       "      <td>0.346533</td>\n",
       "      <td>0.699192</td>\n",
       "      <td>0.837164</td>\n",
       "      <td>0.555242</td>\n",
       "      <td>0.504703</td>\n",
       "      <td>-0.225238</td>\n",
       "    </tr>\n",
       "    <tr>\n",
       "      <th>...</th>\n",
       "      <td>...</td>\n",
       "      <td>...</td>\n",
       "      <td>...</td>\n",
       "      <td>...</td>\n",
       "      <td>...</td>\n",
       "      <td>...</td>\n",
       "    </tr>\n",
       "    <tr>\n",
       "      <th>14821</th>\n",
       "      <td>0.713814</td>\n",
       "      <td>0.434745</td>\n",
       "      <td>0.158671</td>\n",
       "      <td>0.127398</td>\n",
       "      <td>0.623298</td>\n",
       "      <td>0.597784</td>\n",
       "    </tr>\n",
       "    <tr>\n",
       "      <th>14822</th>\n",
       "      <td>0.225973</td>\n",
       "      <td>-0.042456</td>\n",
       "      <td>0.192779</td>\n",
       "      <td>0.332013</td>\n",
       "      <td>0.006051</td>\n",
       "      <td>0.151658</td>\n",
       "    </tr>\n",
       "    <tr>\n",
       "      <th>14823</th>\n",
       "      <td>0.052583</td>\n",
       "      <td>0.112124</td>\n",
       "      <td>-0.115893</td>\n",
       "      <td>0.197491</td>\n",
       "      <td>0.044051</td>\n",
       "      <td>-0.061687</td>\n",
       "    </tr>\n",
       "    <tr>\n",
       "      <th>14824</th>\n",
       "      <td>0.200443</td>\n",
       "      <td>0.137147</td>\n",
       "      <td>0.851971</td>\n",
       "      <td>0.530969</td>\n",
       "      <td>0.173120</td>\n",
       "      <td>0.417770</td>\n",
       "    </tr>\n",
       "    <tr>\n",
       "      <th>14825</th>\n",
       "      <td>0.362630</td>\n",
       "      <td>0.076283</td>\n",
       "      <td>0.230819</td>\n",
       "      <td>0.611912</td>\n",
       "      <td>0.566344</td>\n",
       "      <td>-0.052508</td>\n",
       "    </tr>\n",
       "  </tbody>\n",
       "</table>\n",
       "<p>14820 rows × 6 columns</p>\n",
       "</div>"
      ],
      "text/plain": [
       "                0         1         2         3         4         5\n",
       "user_id                                                            \n",
       "1        0.733519  0.830973  0.688329  0.233692  0.376631  0.663054\n",
       "2        1.189134  0.500120  0.532125  0.456993  1.245891  0.205037\n",
       "3        0.476288  0.784937  0.587246  0.332231  0.603149  0.664323\n",
       "4        0.281185  1.015579  0.846028 -0.211597  1.315794  0.251268\n",
       "5        0.346533  0.699192  0.837164  0.555242  0.504703 -0.225238\n",
       "...           ...       ...       ...       ...       ...       ...\n",
       "14821    0.713814  0.434745  0.158671  0.127398  0.623298  0.597784\n",
       "14822    0.225973 -0.042456  0.192779  0.332013  0.006051  0.151658\n",
       "14823    0.052583  0.112124 -0.115893  0.197491  0.044051 -0.061687\n",
       "14824    0.200443  0.137147  0.851971  0.530969  0.173120  0.417770\n",
       "14825    0.362630  0.076283  0.230819  0.611912  0.566344 -0.052508\n",
       "\n",
       "[14820 rows x 6 columns]"
      ]
     },
     "execution_count": 59,
     "metadata": {},
     "output_type": "execute_result"
    }
   ],
   "source": [
    "\n",
    "v = vt.T\n",
    "\n",
    "for_cor = pd.concat([v, u], axis = 0)"
   ]
  },
  {
   "cell_type": "code",
   "execution_count": 63,
   "metadata": {},
   "outputs": [],
   "source": [
    "for_cor.to_csv('./output_funksvd.csv')"
   ]
  },
  {
   "cell_type": "code",
   "execution_count": 143,
   "metadata": {},
   "outputs": [],
   "source": [
    "df_gb.columns"
   ]
  },
  {
   "cell_type": "code",
   "execution_count": 209,
   "metadata": {},
   "outputs": [],
   "source": []
  },
  {
   "cell_type": "code",
   "execution_count": 372,
   "metadata": {},
   "outputs": [
    {
     "name": "stdout",
     "output_type": "stream",
     "text": [
      "2\n",
      "\n"
     ]
    },
    {
     "data": {
      "image/png": "[encoded data removed]",
      "text/plain": [
       "<matplotlib.figure.Figure at 0x1afff062f98>"
      ]
     },
     "metadata": {},
     "output_type": "display_data"
    },
    {
     "name": "stdout",
     "output_type": "stream",
     "text": [
      "4\n",
      "\n"
     ]
    },
    {
     "data": {
      "image/png": "[encoded data removed]",
      "text/plain": [
       "<matplotlib.figure.Figure at 0x1afff2b4be0>"
      ]
     },
     "metadata": {},
     "output_type": "display_data"
    },
    {
     "name": "stdout",
     "output_type": "stream",
     "text": [
      "6\n",
      "\n"
     ]
    },
    {
     "data": {
      "image/png": "[encoded data removed]",
      "text/plain": [
       "<matplotlib.figure.Figure at 0x1afff2c01d0>"
      ]
     },
     "metadata": {},
     "output_type": "display_data"
    },
    {
     "name": "stdout",
     "output_type": "stream",
     "text": [
      "8\n",
      "\n"
     ]
    },
    {
     "data": {
      "image/png": "[encoded data removed]",
      "text/plain": [
       "<matplotlib.figure.Figure at 0x1afff2b9198>"
      ]
     },
     "metadata": {},
     "output_type": "display_data"
    }
   ],
   "source": [
    "#learning rate .005\n",
    "for i, j in enumerate(sse_tests):\n",
    "    print(latent_factors[i])\n",
    "    print()\n",
    "    plot_sse_fig(range(10, 80, 20),j, sse_alls[i])\n"
   ]
  },
  {
   "cell_type": "code",
   "execution_count": 378,
   "metadata": {},
   "outputs": [
    {
     "name": "stdout",
     "output_type": "stream",
     "text": [
      "2\n",
      "\n"
     ]
    },
    {
     "data": {
      "image/png": "[encoded data removed]",
      "text/plain": [
       "<matplotlib.figure.Figure at 0x1affedff320>"
      ]
     },
     "metadata": {},
     "output_type": "display_data"
    },
    {
     "name": "stdout",
     "output_type": "stream",
     "text": [
      "4\n",
      "\n"
     ]
    },
    {
     "data": {
      "image/png": "[encoded data removed]",
      "text/plain": [
       "<matplotlib.figure.Figure at 0x1afff2200b8>"
      ]
     },
     "metadata": {},
     "output_type": "display_data"
    },
    {
     "name": "stdout",
     "output_type": "stream",
     "text": [
      "6\n",
      "\n"
     ]
    },
    {
     "data": {
      "image/png": "[encoded data removed]",
      "text/plain": [
       "<matplotlib.figure.Figure at 0x1afff0cb630>"
      ]
     },
     "metadata": {},
     "output_type": "display_data"
    },
    {
     "name": "stdout",
     "output_type": "stream",
     "text": [
      "8\n",
      "\n"
     ]
    },
    {
     "data": {
      "image/png": "[encoded data removed]",
      "text/plain": [
       "<matplotlib.figure.Figure at 0x1affed7ac50>"
      ]
     },
     "metadata": {},
     "output_type": "display_data"
    }
   ],
   "source": [
    "#learning rate 0.05\n",
    "\n",
    "for i, j in enumerate(sse_tests):\n",
    "    print(latent_factors[i])\n",
    "    print()\n",
    "    plot_sse_fig(range(10, 80, 20),j, sse_alls[i])"
   ]
  },
  {
   "cell_type": "code",
   "execution_count": 381,
   "metadata": {},
   "outputs": [
    {
     "name": "stdout",
     "output_type": "stream",
     "text": [
      "2\n",
      "\n"
     ]
    },
    {
     "data": {
      "image/png": "[encoded data removed]",
      "text/plain": [
       "<matplotlib.figure.Figure at 0x1affec5a518>"
      ]
     },
     "metadata": {},
     "output_type": "display_data"
    },
    {
     "name": "stdout",
     "output_type": "stream",
     "text": [
      "4\n",
      "\n"
     ]
    },
    {
     "data": {
      "image/png": "[encoded data removed]",
      "text/plain": [
       "<matplotlib.figure.Figure at 0x1affeff3fd0>"
      ]
     },
     "metadata": {},
     "output_type": "display_data"
    },
    {
     "name": "stdout",
     "output_type": "stream",
     "text": [
      "6\n",
      "\n"
     ]
    },
    {
     "data": {
      "image/png": "[encoded data removed]",
      "text/plain": [
       "<matplotlib.figure.Figure at 0x1afff0945c0>"
      ]
     },
     "metadata": {},
     "output_type": "display_data"
    },
    {
     "name": "stdout",
     "output_type": "stream",
     "text": [
      "8\n",
      "\n"
     ]
    },
    {
     "data": {
      "image/png": "[encoded data removed]",
      "text/plain": [
       "<matplotlib.figure.Figure at 0x1affebe6be0>"
      ]
     },
     "metadata": {},
     "output_type": "display_data"
    }
   ],
   "source": [
    "#learning rate .0005\n",
    "for i, j in enumerate(sse_tests):\n",
    "    print(latent_factors[i])\n",
    "    print()\n",
    "    plot_sse_fig(range(10, 80, 20),j, sse_alls[i])"
   ]
  },
  {
   "cell_type": "code",
   "execution_count": 25,
   "metadata": {},
   "outputs": [
    {
     "name": "stdout",
     "output_type": "stream",
     "text": [
      "2\n",
      "\n"
     ]
    },
    {
     "data": {
      "image/png": "[encoded data removed]",
      "text/plain": [
       "<matplotlib.figure.Figure at 0x17f3d011b70>"
      ]
     },
     "metadata": {},
     "output_type": "display_data"
    }
   ],
   "source": [
    "#try more iterations with the low learning rate\n",
    "#.001, looks like 500 maxed out\n",
    "for i, j in enumerate(sse_tests):\n",
    "    print(latent_factors[i])\n",
    "    print()\n",
    "    plot_sse_fig(range(500, 2000, 200), j, sse_alls[i])"
   ]
  },
  {
   "cell_type": "code",
   "execution_count": 27,
   "metadata": {},
   "outputs": [
    {
     "name": "stdout",
     "output_type": "stream",
     "text": [
      "2\n",
      "\n"
     ]
    },
    {
     "data": {
      "image/png": "[encoded data removed]",
      "text/plain": [
       "<matplotlib.figure.Figure at 0x17f3d0425f8>"
      ]
     },
     "metadata": {},
     "output_type": "display_data"
    },
    {
     "name": "stdout",
     "output_type": "stream",
     "text": [
      "4\n",
      "\n"
     ]
    },
    {
     "data": {
      "image/png": "[encoded data removed]",
      "text/plain": [
       "<matplotlib.figure.Figure at 0x17f3d06a470>"
      ]
     },
     "metadata": {},
     "output_type": "display_data"
    },
    {
     "name": "stdout",
     "output_type": "stream",
     "text": [
      "6\n",
      "\n"
     ]
    },
    {
     "data": {
      "image/png": "[encoded data removed]",
      "text/plain": [
       "<matplotlib.figure.Figure at 0x17f3d0cbe48>"
      ]
     },
     "metadata": {},
     "output_type": "display_data"
    },
    {
     "name": "stdout",
     "output_type": "stream",
     "text": [
      "8\n",
      "\n"
     ]
    },
    {
     "data": {
      "image/png": "[encoded data removed]",
      "text/plain": [
       "<matplotlib.figure.Figure at 0x17f3d106fd0>"
      ]
     },
     "metadata": {},
     "output_type": "display_data"
    }
   ],
   "source": [
    "# lr = 0.0005\n",
    "for i, j in enumerate(sse_tests):\n",
    "    print(latent_factors[i])\n",
    "    print()\n",
    "    plot_sse_fig(range(300, 600, 200), j, sse_alls[i])"
   ]
  },
  {
   "cell_type": "code",
   "execution_count": 31,
   "metadata": {},
   "outputs": [
    {
     "name": "stdout",
     "output_type": "stream",
     "text": [
      "2\n",
      "\n"
     ]
    },
    {
     "data": {
      "image/png": "[encoded data removed]",
      "text/plain": [
       "<matplotlib.figure.Figure at 0x17f3d12db70>"
      ]
     },
     "metadata": {},
     "output_type": "display_data"
    },
    {
     "name": "stdout",
     "output_type": "stream",
     "text": [
      "5\n",
      "\n"
     ]
    },
    {
     "data": {
      "image/png": "[encoded data removed]",
      "text/plain": [
       "<matplotlib.figure.Figure at 0x17f3d13fe48>"
      ]
     },
     "metadata": {},
     "output_type": "display_data"
    }
   ],
   "source": [
    "#lr = 0.000001\n",
    "\n",
    "for i, j in enumerate(sse_tests):\n",
    "    print(latent_factors[i])\n",
    "    print()\n",
    "    plot_sse_fig(range(300, 600, 200), j, sse_alls[i])"
   ]
  },
  {
   "cell_type": "markdown",
   "metadata": {},
   "source": [
    "It looks like, based on the computational power I have, we will have to either be okay with stopping the algorithm early or overfitting.  We will purse both in further analyses"
   ]
  },
  {
   "cell_type": "code",
   "execution_count": 33,
   "metadata": {},
   "outputs": [
    {
     "name": "stdout",
     "output_type": "stream",
     "text": [
      "4\n",
      "\n"
     ]
    },
    {
     "data": {
      "image/png": "[encoded data removed]",
      "text/plain": [
       "<matplotlib.figure.Figure at 0x17f3d034b70>"
      ]
     },
     "metadata": {},
     "output_type": "display_data"
    },
    {
     "name": "stdout",
     "output_type": "stream",
     "text": [
      "7\n",
      "\n"
     ]
    },
    {
     "data": {
      "image/png": "[encoded data removed]",
      "text/plain": [
       "<matplotlib.figure.Figure at 0x17f3d1dfc88>"
      ]
     },
     "metadata": {},
     "output_type": "display_data"
    }
   ],
   "source": []
  },
  {
   "cell_type": "code",
   "execution_count": null,
   "metadata": {},
   "outputs": [],
   "source": []
  }
 ],
 "metadata": {
  "kernelspec": {
   "display_name": "Python 3",
   "language": "python",
   "name": "python3"
  },
  "language_info": {
   "codemirror_mode": {
    "name": "ipython",
    "version": 3
   },
   "file_extension": ".py",
   "mimetype": "text/x-python",
   "name": "python",
   "nbconvert_exporter": "python",
   "pygments_lexer": "ipython3",
   "version": "3.6.4"
  }
 },
 "nbformat": 4,
 "nbformat_minor": 2
}
