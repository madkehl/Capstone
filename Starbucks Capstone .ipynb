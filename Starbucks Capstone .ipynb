{
 "cells": [
  {
   "cell_type": "markdown",
   "metadata": {},
   "source": [
    "# Starbucks Capstone Challenge\n",
    "\n",
    "### Introduction\n",
    "\n",
    "We address the issue that not all users receive the same offer by looking at a general offer impact factor and assessing offer characteristics across the population.\n",
    "\n",
    "\n",
    "Which demographic groups respond best to which offer type. We will address this using latent factors.\n",
    "\n",
    "Found informational offers hard to assess\n",
    "\n",
    "Offer counts only use the event_offer completed tag, since the transactions are not necessarily just offer-related.  The overall amount is used to provide reference and also adress the issue that \"some demographic groups will make purchases even if they don't receive an offer\"\n",
    "\n",
    "### Example\n",
    "\n",
    "However, there are a few things to watch out for in this data set. Customers do not opt into the offers that they receive; in other words, a user can receive an offer, never actually view the offer, and still complete the offer. For example, a user might receive the \"buy 10 dollars get 2 dollars off offer\", but the user never opens the offer during the 10 day validity period. The customer spends 15 dollars during those ten days. There will be an offer completion record in the data set; however, the customer was not influenced by the offer because the customer never viewed the offer.\n",
    "\n",
    "\n",
    "### Final Advice\n",
    "\n",
    "Because this is a capstone project, you are free to analyze the data any way you see fit. For example, you could build a machine learning model that predicts how much someone will spend based on demographics and offer type. Or you could build a model that predicts whether or not someone will respond to an offer. Or, you don't need to build a machine learning model at all. You could develop a set of heuristics that determine what offer you should send to each customer (i.e., 75 percent of women customers who were 35 years old responded to offer A vs 40 percent from the same demographic to offer B, so send offer A)."
   ]
  },
  {
   "cell_type": "code",
   "execution_count": 344,
   "metadata": {},
   "outputs": [],
   "source": [
    "import pandas as pd\n",
    "import numpy as np\n",
    "import math\n",
    "import json\n",
    "import math\n",
    "import matplotlib.pyplot as plt\n",
    "import seaborn as sns\n",
    "\n",
    "import plotly.graph_objs as go\n",
    "\n",
    "from plotly.subplots import make_subplots\n",
    "exec(open(\"./randomforestfunctions.py\").read())\n",
    "\n",
    "import statsmodels.api as sm\n",
    "import statsmodels.formula.api as smf\n",
    "%matplotlib inline\n",
    "\n",
    "# read in the json files\n",
    "portfolio = pd.read_json('data/portfolio.json', orient='records', lines=True)\n",
    "profile = pd.read_json('data/profile.json', orient='records', lines=True)\n",
    "transcript = pd.read_json('data/transcript.json', orient='records', lines=True)"
   ]
  },
  {
   "cell_type": "code",
   "execution_count": 2,
   "metadata": {},
   "outputs": [],
   "source": [
    "\n",
    "#thanks Udacity course\n",
    "def create_dummy_df(df, cat_cols, dum_na):\n",
    "    '''\n",
    "    INPUT:\n",
    "    df - pandas dataframe with categorical variables you want to dummy\n",
    "    cat_cols - list of strings that are associated with names of the categorical columns\n",
    "    dummy_na - Bool holding whether you want to dummy NA vals of categorical columns or not\n",
    "    \n",
    "    OUTPUT:\n",
    "    df - a new dataframe that has the following characteristics:\n",
    "            1. contains all columns that were not specified as categorical\n",
    "            2. removes all the original columns in cat_cols\n",
    "            3. dummy columns for each of the categorical columns in cat_cols\n",
    "            4. if dummy_na is True - it also contains dummy columns for the NaN values\n",
    "            5. Use a prefix of the column name with an underscore (_) for separating \n",
    "            \n",
    "    '''\n",
    "    new_df = df.copy()\n",
    "    for col in  cat_cols:\n",
    "        try:\n",
    "            dums =  pd.get_dummies(df[col], prefix=col, prefix_sep='_', drop_first=False, dummy_na=dum_na)\n",
    "            new_df = pd.concat([new_df.drop(col, axis=1), dums], axis=1)\n",
    "        except:\n",
    "            print(col)\n",
    "            continue\n",
    "    return new_df\n",
    "\n",
    "def list_to_cols(series):\n",
    "    '''\n",
    "    INPUT:\n",
    "    series consisting of a list \n",
    "    \n",
    "    OUTPUT:\n",
    "    dataframe where items in the list are columns\n",
    "    '''\n",
    "    column_names = []\n",
    "    for i in series:\n",
    "        if isinstance(i, float) == False:\n",
    "            for n in i:\n",
    "                if n not in column_names:\n",
    "                    column_names.append(n)\n",
    "    df = pd.DataFrame(columns = column_names)\n",
    "    series = series.fillna('mk162rl8619')\n",
    "    for z in column_names:\n",
    "        df[z] = [1 if z in x else 0 for x in series]\n",
    "    return(df)\n",
    "\n",
    "def get_years(date_int):\n",
    "    '''\n",
    "    INPUT:\n",
    "    date in the format YYYYMMDD\n",
    "    \n",
    "    OUTPUT:\n",
    "    2020 - year in question\n",
    "    \n",
    "    Decided month to month variation was probably not super important\n",
    "    '''\n",
    "    string = str(date_int)\n",
    "    short = string[0:4]\n",
    "    year = int(short)\n",
    "    year = 2020 - year\n",
    "    return(year)\n",
    "\n",
    "\n",
    "def new_offer_id(col1, col2):\n",
    "    new_col = []\n",
    "    for i in range(len(col1)):\n",
    "        if isinstance(col1[i], str):\n",
    "            new_col.append(col1[i])\n",
    "            if isinstance(col2[i], str):\n",
    "                print('doubleval')\n",
    "        elif isinstance(col2[i], str):\n",
    "            new_col.append(col2[i])\n",
    "            if isinstance(col1[i], str):\n",
    "                print('doubleval')\n",
    "        else:\n",
    "            new_col.append(col1[i])\n",
    "    if len(new_col) == len(col1):\n",
    "        return(new_col)\n",
    "    else:\n",
    "        print('fail')\n",
    "        \n",
    "\n",
    "def mapper(col):\n",
    "    coded_dict = dict()\n",
    "    cter = 1\n",
    "    encoded = []\n",
    "    \n",
    "    for val in df[col]:\n",
    "        if val not in coded_dict:\n",
    "            coded_dict[val] = cter\n",
    "            cter+=1\n",
    "        \n",
    "        encoded.append(coded_dict[val])\n",
    "    return encoded\n",
    "\n",
    "def offer_influence(df = df_for_amount_new):\n",
    "    new_offer_impact = []\n",
    "    for i, j in enumerate(df['event_offer completed']):\n",
    "        if j > 0:\n",
    "            if list(df['event_offer viewed'])[i] > 0:\n",
    "                new_offer_impact.append(1)\n",
    "            else:\n",
    "                new_offer_impact.append(0)\n",
    "        else:\n",
    "            new_offer_impact.append(0)\n",
    "    return(new_offer_impact)"
   ]
  },
  {
   "cell_type": "code",
   "execution_count": 319,
   "metadata": {},
   "outputs": [],
   "source": [
    "def lm(df_x, df_y, df):\n",
    "    '''\n",
    "    INPUT:\n",
    "    string of independent var, string of dependent var, string of group, df hosting, string of nested group if relevant\n",
    "    \n",
    "    OUTPUT:\n",
    "    a statsmodel instance of a mixed effects/multilevel model\n",
    "    \n",
    "    '''\n",
    "    \n",
    "    try:\n",
    "        X = sm.add_constant(df_x)\n",
    "        try:\n",
    "            est = sm.OLS(df_y, X).fit()\n",
    "            return(est)\n",
    "        except:\n",
    "            print(str(df_x) + 'fit failed')\n",
    "    except:\n",
    "        print(str(df_x) + 'did not converge')\n",
    "    return('FAIL')\n",
    "\n",
    "def logm(df_x, df_y, df):\n",
    "    '''\n",
    "    INPUT:\n",
    "    string of independent var, string of dependent var, string of group, df hosting, string of nested group if relevant\n",
    "    \n",
    "    OUTPUT:\n",
    "    a statsmodel instance of a mixed effects/multilevel model\n",
    "    \n",
    "    '''\n",
    "    \n",
    "    try:\n",
    "        est = sm.Logit(df_y, df_x).fit() \n",
    "        return(est)\n",
    "    except:\n",
    "        print(str(df_x) + 'did not converge')\n",
    "    return('FAIL')\n",
    "\n",
    "def plot_sig_results(sig_df):\n",
    "    fig = go.Figure()\n",
    "\n",
    "    fig.add_trace(go.Bar(x=sig_df['features'], y = sig_df['coef'], name = 'Ratings_Score_Top_Coef', \n",
    "                     marker=dict(color =   sig_df['coef'],\n",
    "                                 colorscale='bluered',   # choose a colorscale\n",
    "                                 opacity=0.8,\n",
    "                                 showscale = True\n",
    "                                ), \n",
    "                     error_y=dict(type='data',\n",
    "                                array= list(sig_df['conf_int_975'] - sig_df['conf_int_025']),\n",
    "                                visible=True)\n",
    "                                ))\n",
    "    return(fig)"
   ]
  },
  {
   "cell_type": "code",
   "execution_count": 46,
   "metadata": {},
   "outputs": [],
   "source": [
    "def create_user_item_matrix(df):\n",
    "    '''\n",
    "    INPUT:\n",
    "    df - pandas dataframe with article_id, title, user_id columns\n",
    "    \n",
    "    OUTPUT:\n",
    "    user_item - user item matrix \n",
    "    \n",
    "    Description:\n",
    "    Return a matrix with user ids as rows and article ids on the columns with 1 values where a user interacted with \n",
    "    an article and a 0 otherwise\n",
    "    '''\n",
    "    # Fill in the function here\n",
    "  \n",
    "    \n",
    "    df['interact'] = [1 if i > 0 else  0 for i in df['event_offer completed']]\n",
    "    user_item_df = df[['offer_id', 'user_id', 'interact']]\n",
    "    user_item_gb = user_item_df.groupby(['user_id','offer_id'])['interact'].max().unstack(fill_value = float('nan'))\n",
    "    user_item = pd.DataFrame(user_item_gb)\n",
    "\n",
    "    return user_item # return the user_item matrix \n",
    "\n",
    "\n",
    "\n",
    "\n",
    "def create_test_and_train_user_item(df_train, df_test):\n",
    "    '''\n",
    "    INPUT:\n",
    "    df_train - training dataframe\n",
    "    df_test - test dataframe\n",
    "    \n",
    "    OUTPUT:\n",
    "    user_item_train - a user-item matrix of the training dataframe \n",
    "                      (unique users for each row and unique articles for each column)\n",
    "    user_item_test - a user-item matrix of the testing dataframe \n",
    "                    (unique users for each row and unique articles for each column)\n",
    "    test_idx - all of the test user ids\n",
    "    test_arts - all of the test article ids\n",
    "    \n",
    "    '''\n",
    "    # Your code here\n",
    "    user_item_train = create_user_item_matrix(df_train)\n",
    "    user_item_test = create_user_item_matrix(df_test)\n",
    "    test_idx = user_item_test.index\n",
    "    test_arts = user_item_test.columns\n",
    "    \n",
    "    return user_item_train, user_item_test, test_idx, test_arts\n",
    "\n",
    "\n",
    "def FunkSVD(ratings, latent_features=4, learning_rate=0.0001, iters=100):\n",
    "    '''\n",
    "    This function performs matrix factorization using a basic form of FunkSVD with no regularization\n",
    "    \n",
    "    INPUT:\n",
    "    ratings_mat - (numpy array) a matrix with users as rows, movies as columns, and ratings as values\n",
    "    latent_features - (int) the number of latent features used\n",
    "    learning_rate - (float) the learning rate \n",
    "    iters - (int) the number of iterations\n",
    "    \n",
    "    OUTPUT:\n",
    "    user_mat - (numpy array) a user by latent feature matrix\n",
    "    movie_mat - (numpy array) a latent feature by movie matrix\n",
    "    '''\n",
    "    ratings_np = np.array(ratings)\n",
    "    n_users = ratings.shape[0]\n",
    "    n_items = ratings.shape[1]\n",
    "    num_ratings = (n_users)*(n_items)\n",
    "    \n",
    "    # initialize the user and movie matrices with random values\n",
    "    user_mat = np.random.rand(n_users,latent_features)\n",
    "    items_mat = np.random.rand(latent_features, n_items) \n",
    "    \n",
    "    sse_accum = 0\n",
    "    \n",
    "    # header for running results\n",
    "    print(\"Optimization Statistics\")\n",
    "    print(\"Iterations | Mean Squared Error \")\n",
    "    \n",
    "    sse_totals = []\n",
    "    for i in range(0, iters):\n",
    "        old_sse = sse_accum\n",
    "        sse_accum = 0\n",
    "        for n in range(n_users): \n",
    "            for m in range(n_items):\n",
    "                # if the rating exists\n",
    "                \n",
    "                if math.isnan(ratings_np[n,m]) == False: \n",
    "                    \n",
    "                    error =  ratings_np[n, m] - np.dot(user_mat[n, :], items_mat[:, m])\n",
    "                    sse_accum += error**2\n",
    "                    # update the values in each matrix in the direction of the gradient\n",
    "                    for x in range(latent_features):\n",
    "                        \n",
    "                        user_mat[n, x] += (learning_rate*(2*error*items_mat[x,m]))\n",
    "                        items_mat[x, m] += (learning_rate*(2*error* user_mat[n, x]))\n",
    "                        \n",
    "        \n",
    "        # print results for iteration\n",
    "        sse_totals.append(sse_accum/m)\n",
    "        print(i + 1, sse_accum/m)\n",
    "    user_mat = pd.DataFrame(user_mat)\n",
    "    user_mat.index = ratings.index\n",
    "    items_mat = pd.DataFrame(items_mat)\n",
    "    items_mat.columns = ratings.columns\n",
    "    print(iters, sse_accum/m)\n",
    "    return user_mat, items_mat, sse_totals\n",
    "\n",
    "# Use these cells to see how well you can use the training \n",
    "# decomposition to predict on test data\n",
    "\n",
    "def latent_feature_pred(ui_train, ui_test, iters_, lf, lr):\n",
    "    '''\n",
    "    INPUT: train mat, test mat, list of latent factor sizes\n",
    "    \n",
    "    OUTPUT: acc test, all\n",
    "    \n",
    "    STEPS:\n",
    "        1. Creates SVD decomposition (Tries twice)\n",
    "        2. subsets by number of latent factors\n",
    "        3. finds dot product\n",
    "        4. subsets test predictions\n",
    "        5. gets test and pred accuracy\n",
    "    \n",
    "    '''\n",
    "    \n",
    "    u, vt, sse = FunkSVD(ui_train, latent_features=lf, learning_rate=lr, iters=iters_)\n",
    "\n",
    "    print('funksvd')\n",
    "    test_ind = ui_test.index\n",
    "    row_ind = ui_train.index.isin(test_ind)  \n",
    "    \n",
    "    test_cols = ui_test.columns\n",
    "    col_ind = ui_train.columns.isin(test_cols)\n",
    "    \n",
    "    train_ind = ui_train.index\n",
    "    row_ind_train = ui_test.index.isin(train_ind)\n",
    "    ui_test_short = (ui_test.loc[row_ind_train])\n",
    "    \n",
    "    u_test = u.loc[row_ind]\n",
    "    vt_test = vt.loc[:, vt.columns.isin(test_cols)]\n",
    "\n",
    "    test_sse_accum = 0\n",
    "    \n",
    "    for n in ui_test_short.index: \n",
    "       # print(n)\n",
    "        for m in ui_test_short.columns:\n",
    "                # if the rating exists\n",
    "          #  print(m)\n",
    "            if math.isnan(ui_test_short.loc[n,m]) == False: \n",
    "                \n",
    "                error =  ui_test_short.loc[n, m] - np.dot(u_test.loc[n, :], vt_test.loc[:, m])\n",
    "                test_sse_accum += error**2\n",
    "                    # update the values in each matrix in the direction of the gradient\n",
    "  \n",
    "    \n",
    "      \n",
    "    \n",
    "    return test_sse_accum/m, sse[len(sse)-1]\n",
    "        \n",
    "def test_different_lf(lf, lr, iter_ls):\n",
    "    \n",
    "    sse_test_ls = []\n",
    "    sse_all_ls = []\n",
    "    for i in iter_ls:\n",
    "        sse_test, sse_all = latent_feature_pred(user_item_train, user_item_test, i, lf, lr)\n",
    "        sse_test_ls.append(sse_test)\n",
    "        print(sse_test)\n",
    "        sse_all_ls.append(sse_all)\n",
    "        \n",
    "    return(sse_test_ls, sse_all_ls)\n",
    "    \n",
    "def plot_sse_fig(iters_ls, met_all_ls, met_test_ls = [], met_label = \"SSE\"): \n",
    "    '''\n",
    "    INPUT: list of latent factor vals, list of all/test accuracies, label for graphs\n",
    "    \n",
    "    OUTPUT: none, plots figures\n",
    "    '''\n",
    "    plt.figure()\n",
    "    plt.plot(iters_ls, met_all_ls, label='All ' + met_label)\n",
    "    \n",
    "    if len(met_test_ls) > 0:\n",
    "        plt.plot(iters_ls, met_test_ls, label='Test')\n",
    "        \n",
    "    plt.xlabel('Number of Iterations')\n",
    "    plt.ylabel(met_label)\n",
    "    plt.title(met_label + ' vs. Iterations')\n",
    "    plt.legend()\n",
    "    plt.show()"
   ]
  },
  {
   "cell_type": "code",
   "execution_count": 277,
   "metadata": {},
   "outputs": [],
   "source": [
    "tpr_df = transcript.merge(profile, left_on = 'person', right_on = 'id')\n",
    "#density of 118 year olds makes it seem likely that this is some kind of missingness in the data that should be disregarded\n",
    "tpr_clean = tpr_df[~(tpr_df['age'] == 118)].reset_index(drop = True)"
   ]
  },
  {
   "cell_type": "code",
   "execution_count": 278,
   "metadata": {},
   "outputs": [],
   "source": [
    "value_df = pd.DataFrame(list(tpr_clean['value']))\n",
    "offer_ids = new_offer_id(value_df['offer id'], value_df['offer_id']) \n",
    "\n",
    "value_df = value_df.drop(['offer id', 'offer_id', 'reward'], axis = 1)\n",
    "value_df['offer_id'] = offer_ids\n",
    "\n",
    "value_df = value_df.merge(portfolio, left_on = 'offer_id', right_on = 'id', how = 'left')\n",
    "\n",
    "\n",
    "df = pd.concat([tpr_clean, value_df], axis = 1)\n",
    "df = df.drop(['value'], axis = 1)"
   ]
  },
  {
   "cell_type": "code",
   "execution_count": 279,
   "metadata": {},
   "outputs": [
    {
     "data": {
      "text/html": [
       "<div>\n",
       "<style scoped>\n",
       "    .dataframe tbody tr th:only-of-type {\n",
       "        vertical-align: middle;\n",
       "    }\n",
       "\n",
       "    .dataframe tbody tr th {\n",
       "        vertical-align: top;\n",
       "    }\n",
       "\n",
       "    .dataframe thead th {\n",
       "        text-align: right;\n",
       "    }\n",
       "</style>\n",
       "<table border=\"1\" class=\"dataframe\">\n",
       "  <thead>\n",
       "    <tr style=\"text-align: right;\">\n",
       "      <th></th>\n",
       "      <th>event</th>\n",
       "      <th>time</th>\n",
       "      <th>gender</th>\n",
       "      <th>age</th>\n",
       "      <th>became_member_on</th>\n",
       "      <th>income</th>\n",
       "      <th>amount</th>\n",
       "      <th>reward</th>\n",
       "      <th>channels</th>\n",
       "      <th>difficulty</th>\n",
       "      <th>duration</th>\n",
       "      <th>offer_type</th>\n",
       "      <th>user_id</th>\n",
       "      <th>offer_id</th>\n",
       "    </tr>\n",
       "  </thead>\n",
       "  <tbody>\n",
       "    <tr>\n",
       "      <th>0</th>\n",
       "      <td>offer received</td>\n",
       "      <td>0</td>\n",
       "      <td>F</td>\n",
       "      <td>75</td>\n",
       "      <td>20170509</td>\n",
       "      <td>100000.0</td>\n",
       "      <td>NaN</td>\n",
       "      <td>5.0</td>\n",
       "      <td>[web, email, mobile]</td>\n",
       "      <td>5.0</td>\n",
       "      <td>7.0</td>\n",
       "      <td>bogo</td>\n",
       "      <td>1</td>\n",
       "      <td>1</td>\n",
       "    </tr>\n",
       "    <tr>\n",
       "      <th>1</th>\n",
       "      <td>offer viewed</td>\n",
       "      <td>6</td>\n",
       "      <td>F</td>\n",
       "      <td>75</td>\n",
       "      <td>20170509</td>\n",
       "      <td>100000.0</td>\n",
       "      <td>NaN</td>\n",
       "      <td>5.0</td>\n",
       "      <td>[web, email, mobile]</td>\n",
       "      <td>5.0</td>\n",
       "      <td>7.0</td>\n",
       "      <td>bogo</td>\n",
       "      <td>1</td>\n",
       "      <td>1</td>\n",
       "    </tr>\n",
       "    <tr>\n",
       "      <th>2</th>\n",
       "      <td>transaction</td>\n",
       "      <td>132</td>\n",
       "      <td>F</td>\n",
       "      <td>75</td>\n",
       "      <td>20170509</td>\n",
       "      <td>100000.0</td>\n",
       "      <td>19.89</td>\n",
       "      <td>NaN</td>\n",
       "      <td>NaN</td>\n",
       "      <td>NaN</td>\n",
       "      <td>NaN</td>\n",
       "      <td>NaN</td>\n",
       "      <td>1</td>\n",
       "      <td>2</td>\n",
       "    </tr>\n",
       "    <tr>\n",
       "      <th>3</th>\n",
       "      <td>offer completed</td>\n",
       "      <td>132</td>\n",
       "      <td>F</td>\n",
       "      <td>75</td>\n",
       "      <td>20170509</td>\n",
       "      <td>100000.0</td>\n",
       "      <td>NaN</td>\n",
       "      <td>5.0</td>\n",
       "      <td>[web, email, mobile]</td>\n",
       "      <td>5.0</td>\n",
       "      <td>7.0</td>\n",
       "      <td>bogo</td>\n",
       "      <td>1</td>\n",
       "      <td>1</td>\n",
       "    </tr>\n",
       "    <tr>\n",
       "      <th>4</th>\n",
       "      <td>transaction</td>\n",
       "      <td>144</td>\n",
       "      <td>F</td>\n",
       "      <td>75</td>\n",
       "      <td>20170509</td>\n",
       "      <td>100000.0</td>\n",
       "      <td>17.78</td>\n",
       "      <td>NaN</td>\n",
       "      <td>NaN</td>\n",
       "      <td>NaN</td>\n",
       "      <td>NaN</td>\n",
       "      <td>NaN</td>\n",
       "      <td>1</td>\n",
       "      <td>2</td>\n",
       "    </tr>\n",
       "  </tbody>\n",
       "</table>\n",
       "</div>"
      ],
      "text/plain": [
       "             event  time gender  age  became_member_on    income  amount  \\\n",
       "0   offer received     0      F   75          20170509  100000.0     NaN   \n",
       "1     offer viewed     6      F   75          20170509  100000.0     NaN   \n",
       "2      transaction   132      F   75          20170509  100000.0   19.89   \n",
       "3  offer completed   132      F   75          20170509  100000.0     NaN   \n",
       "4      transaction   144      F   75          20170509  100000.0   17.78   \n",
       "\n",
       "   reward              channels  difficulty  duration offer_type  user_id  \\\n",
       "0     5.0  [web, email, mobile]         5.0       7.0       bogo        1   \n",
       "1     5.0  [web, email, mobile]         5.0       7.0       bogo        1   \n",
       "2     NaN                   NaN         NaN       NaN        NaN        1   \n",
       "3     5.0  [web, email, mobile]         5.0       7.0       bogo        1   \n",
       "4     NaN                   NaN         NaN       NaN        NaN        1   \n",
       "\n",
       "   offer_id  \n",
       "0         1  \n",
       "1         1  \n",
       "2         2  \n",
       "3         1  \n",
       "4         2  "
      ]
     },
     "execution_count": 279,
     "metadata": {},
     "output_type": "execute_result"
    }
   ],
   "source": [
    "person_encoded = mapper('person')\n",
    "del df['person']\n",
    "del df['id']\n",
    "df['user_id'] = person_encoded\n",
    "\n",
    "#nas were set to 2\n",
    "offer_encoded = mapper('offer_id')\n",
    "del df['offer_id']\n",
    "df['offer_id'] = offer_encoded\n",
    "\n",
    "# show header\n",
    "df.head()"
   ]
  },
  {
   "cell_type": "code",
   "execution_count": 280,
   "metadata": {},
   "outputs": [
    {
     "data": {
      "text/html": [
       "<div>\n",
       "<style scoped>\n",
       "    .dataframe tbody tr th:only-of-type {\n",
       "        vertical-align: middle;\n",
       "    }\n",
       "\n",
       "    .dataframe tbody tr th {\n",
       "        vertical-align: top;\n",
       "    }\n",
       "\n",
       "    .dataframe thead th {\n",
       "        text-align: right;\n",
       "    }\n",
       "</style>\n",
       "<table border=\"1\" class=\"dataframe\">\n",
       "  <thead>\n",
       "    <tr style=\"text-align: right;\">\n",
       "      <th></th>\n",
       "      <th>event</th>\n",
       "      <th>time</th>\n",
       "      <th>gender</th>\n",
       "      <th>age</th>\n",
       "      <th>became_member_on</th>\n",
       "      <th>income</th>\n",
       "      <th>amount</th>\n",
       "      <th>reward</th>\n",
       "      <th>channels</th>\n",
       "      <th>difficulty</th>\n",
       "      <th>duration</th>\n",
       "      <th>offer_type</th>\n",
       "      <th>user_id</th>\n",
       "      <th>offer_id</th>\n",
       "    </tr>\n",
       "  </thead>\n",
       "  <tbody>\n",
       "    <tr>\n",
       "      <th>0</th>\n",
       "      <td>offer received</td>\n",
       "      <td>0</td>\n",
       "      <td>F</td>\n",
       "      <td>75</td>\n",
       "      <td>20170509</td>\n",
       "      <td>100000.0</td>\n",
       "      <td>NaN</td>\n",
       "      <td>5.0</td>\n",
       "      <td>[web, email, mobile]</td>\n",
       "      <td>5.0</td>\n",
       "      <td>7.0</td>\n",
       "      <td>bogo</td>\n",
       "      <td>1</td>\n",
       "      <td>1.0</td>\n",
       "    </tr>\n",
       "    <tr>\n",
       "      <th>1</th>\n",
       "      <td>offer viewed</td>\n",
       "      <td>6</td>\n",
       "      <td>F</td>\n",
       "      <td>75</td>\n",
       "      <td>20170509</td>\n",
       "      <td>100000.0</td>\n",
       "      <td>NaN</td>\n",
       "      <td>5.0</td>\n",
       "      <td>[web, email, mobile]</td>\n",
       "      <td>5.0</td>\n",
       "      <td>7.0</td>\n",
       "      <td>bogo</td>\n",
       "      <td>1</td>\n",
       "      <td>1.0</td>\n",
       "    </tr>\n",
       "    <tr>\n",
       "      <th>2</th>\n",
       "      <td>transaction</td>\n",
       "      <td>132</td>\n",
       "      <td>F</td>\n",
       "      <td>75</td>\n",
       "      <td>20170509</td>\n",
       "      <td>100000.0</td>\n",
       "      <td>19.89</td>\n",
       "      <td>NaN</td>\n",
       "      <td>NaN</td>\n",
       "      <td>NaN</td>\n",
       "      <td>NaN</td>\n",
       "      <td>NaN</td>\n",
       "      <td>1</td>\n",
       "      <td>NaN</td>\n",
       "    </tr>\n",
       "    <tr>\n",
       "      <th>3</th>\n",
       "      <td>offer completed</td>\n",
       "      <td>132</td>\n",
       "      <td>F</td>\n",
       "      <td>75</td>\n",
       "      <td>20170509</td>\n",
       "      <td>100000.0</td>\n",
       "      <td>NaN</td>\n",
       "      <td>5.0</td>\n",
       "      <td>[web, email, mobile]</td>\n",
       "      <td>5.0</td>\n",
       "      <td>7.0</td>\n",
       "      <td>bogo</td>\n",
       "      <td>1</td>\n",
       "      <td>1.0</td>\n",
       "    </tr>\n",
       "    <tr>\n",
       "      <th>4</th>\n",
       "      <td>transaction</td>\n",
       "      <td>144</td>\n",
       "      <td>F</td>\n",
       "      <td>75</td>\n",
       "      <td>20170509</td>\n",
       "      <td>100000.0</td>\n",
       "      <td>17.78</td>\n",
       "      <td>NaN</td>\n",
       "      <td>NaN</td>\n",
       "      <td>NaN</td>\n",
       "      <td>NaN</td>\n",
       "      <td>NaN</td>\n",
       "      <td>1</td>\n",
       "      <td>NaN</td>\n",
       "    </tr>\n",
       "  </tbody>\n",
       "</table>\n",
       "</div>"
      ],
      "text/plain": [
       "             event  time gender  age  became_member_on    income  amount  \\\n",
       "0   offer received     0      F   75          20170509  100000.0     NaN   \n",
       "1     offer viewed     6      F   75          20170509  100000.0     NaN   \n",
       "2      transaction   132      F   75          20170509  100000.0   19.89   \n",
       "3  offer completed   132      F   75          20170509  100000.0     NaN   \n",
       "4      transaction   144      F   75          20170509  100000.0   17.78   \n",
       "\n",
       "   reward              channels  difficulty  duration offer_type  user_id  \\\n",
       "0     5.0  [web, email, mobile]         5.0       7.0       bogo        1   \n",
       "1     5.0  [web, email, mobile]         5.0       7.0       bogo        1   \n",
       "2     NaN                   NaN         NaN       NaN        NaN        1   \n",
       "3     5.0  [web, email, mobile]         5.0       7.0       bogo        1   \n",
       "4     NaN                   NaN         NaN       NaN        NaN        1   \n",
       "\n",
       "   offer_id  \n",
       "0       1.0  \n",
       "1       1.0  \n",
       "2       NaN  \n",
       "3       1.0  \n",
       "4       NaN  "
      ]
     },
     "execution_count": 280,
     "metadata": {},
     "output_type": "execute_result"
    }
   ],
   "source": [
    "df['offer_id'] = df['offer_id'].replace(2, float('nan'))\n",
    "df.head()"
   ]
  },
  {
   "cell_type": "code",
   "execution_count": 281,
   "metadata": {},
   "outputs": [
    {
     "data": {
      "text/html": [
       "<div>\n",
       "<style scoped>\n",
       "    .dataframe tbody tr th:only-of-type {\n",
       "        vertical-align: middle;\n",
       "    }\n",
       "\n",
       "    .dataframe tbody tr th {\n",
       "        vertical-align: top;\n",
       "    }\n",
       "\n",
       "    .dataframe thead th {\n",
       "        text-align: right;\n",
       "    }\n",
       "</style>\n",
       "<table border=\"1\" class=\"dataframe\">\n",
       "  <thead>\n",
       "    <tr style=\"text-align: right;\">\n",
       "      <th></th>\n",
       "      <th>event</th>\n",
       "      <th>time</th>\n",
       "      <th>gender</th>\n",
       "      <th>age</th>\n",
       "      <th>became_member_on</th>\n",
       "      <th>income</th>\n",
       "      <th>amount</th>\n",
       "      <th>reward</th>\n",
       "      <th>channels</th>\n",
       "      <th>difficulty</th>\n",
       "      <th>duration</th>\n",
       "      <th>offer_type</th>\n",
       "      <th>user_id</th>\n",
       "      <th>offer_id</th>\n",
       "    </tr>\n",
       "  </thead>\n",
       "  <tbody>\n",
       "    <tr>\n",
       "      <th>0</th>\n",
       "      <td>offer received</td>\n",
       "      <td>0</td>\n",
       "      <td>F</td>\n",
       "      <td>75</td>\n",
       "      <td>20170509</td>\n",
       "      <td>100000.0</td>\n",
       "      <td>NaN</td>\n",
       "      <td>5.0</td>\n",
       "      <td>[web, email, mobile]</td>\n",
       "      <td>5.0</td>\n",
       "      <td>7.0</td>\n",
       "      <td>bogo</td>\n",
       "      <td>1</td>\n",
       "      <td>1.0</td>\n",
       "    </tr>\n",
       "    <tr>\n",
       "      <th>1</th>\n",
       "      <td>offer viewed</td>\n",
       "      <td>6</td>\n",
       "      <td>F</td>\n",
       "      <td>75</td>\n",
       "      <td>20170509</td>\n",
       "      <td>100000.0</td>\n",
       "      <td>NaN</td>\n",
       "      <td>5.0</td>\n",
       "      <td>[web, email, mobile]</td>\n",
       "      <td>5.0</td>\n",
       "      <td>7.0</td>\n",
       "      <td>bogo</td>\n",
       "      <td>1</td>\n",
       "      <td>1.0</td>\n",
       "    </tr>\n",
       "    <tr>\n",
       "      <th>2</th>\n",
       "      <td>transaction</td>\n",
       "      <td>132</td>\n",
       "      <td>F</td>\n",
       "      <td>75</td>\n",
       "      <td>20170509</td>\n",
       "      <td>100000.0</td>\n",
       "      <td>19.89</td>\n",
       "      <td>NaN</td>\n",
       "      <td>NaN</td>\n",
       "      <td>NaN</td>\n",
       "      <td>NaN</td>\n",
       "      <td>NaN</td>\n",
       "      <td>1</td>\n",
       "      <td>NaN</td>\n",
       "    </tr>\n",
       "    <tr>\n",
       "      <th>3</th>\n",
       "      <td>offer completed</td>\n",
       "      <td>132</td>\n",
       "      <td>F</td>\n",
       "      <td>75</td>\n",
       "      <td>20170509</td>\n",
       "      <td>100000.0</td>\n",
       "      <td>NaN</td>\n",
       "      <td>5.0</td>\n",
       "      <td>[web, email, mobile]</td>\n",
       "      <td>5.0</td>\n",
       "      <td>7.0</td>\n",
       "      <td>bogo</td>\n",
       "      <td>1</td>\n",
       "      <td>1.0</td>\n",
       "    </tr>\n",
       "    <tr>\n",
       "      <th>4</th>\n",
       "      <td>transaction</td>\n",
       "      <td>144</td>\n",
       "      <td>F</td>\n",
       "      <td>75</td>\n",
       "      <td>20170509</td>\n",
       "      <td>100000.0</td>\n",
       "      <td>17.78</td>\n",
       "      <td>NaN</td>\n",
       "      <td>NaN</td>\n",
       "      <td>NaN</td>\n",
       "      <td>NaN</td>\n",
       "      <td>NaN</td>\n",
       "      <td>1</td>\n",
       "      <td>NaN</td>\n",
       "    </tr>\n",
       "    <tr>\n",
       "      <th>...</th>\n",
       "      <td>...</td>\n",
       "      <td>...</td>\n",
       "      <td>...</td>\n",
       "      <td>...</td>\n",
       "      <td>...</td>\n",
       "      <td>...</td>\n",
       "      <td>...</td>\n",
       "      <td>...</td>\n",
       "      <td>...</td>\n",
       "      <td>...</td>\n",
       "      <td>...</td>\n",
       "      <td>...</td>\n",
       "      <td>...</td>\n",
       "      <td>...</td>\n",
       "    </tr>\n",
       "    <tr>\n",
       "      <th>272757</th>\n",
       "      <td>offer viewed</td>\n",
       "      <td>504</td>\n",
       "      <td>M</td>\n",
       "      <td>47</td>\n",
       "      <td>20171013</td>\n",
       "      <td>94000.0</td>\n",
       "      <td>NaN</td>\n",
       "      <td>0.0</td>\n",
       "      <td>[web, email, mobile]</td>\n",
       "      <td>0.0</td>\n",
       "      <td>4.0</td>\n",
       "      <td>informational</td>\n",
       "      <td>14824</td>\n",
       "      <td>7.0</td>\n",
       "    </tr>\n",
       "    <tr>\n",
       "      <th>272758</th>\n",
       "      <td>offer received</td>\n",
       "      <td>576</td>\n",
       "      <td>M</td>\n",
       "      <td>47</td>\n",
       "      <td>20171013</td>\n",
       "      <td>94000.0</td>\n",
       "      <td>NaN</td>\n",
       "      <td>10.0</td>\n",
       "      <td>[web, email, mobile, social]</td>\n",
       "      <td>10.0</td>\n",
       "      <td>5.0</td>\n",
       "      <td>bogo</td>\n",
       "      <td>14824</td>\n",
       "      <td>11.0</td>\n",
       "    </tr>\n",
       "    <tr>\n",
       "      <th>272759</th>\n",
       "      <td>offer viewed</td>\n",
       "      <td>576</td>\n",
       "      <td>M</td>\n",
       "      <td>47</td>\n",
       "      <td>20171013</td>\n",
       "      <td>94000.0</td>\n",
       "      <td>NaN</td>\n",
       "      <td>10.0</td>\n",
       "      <td>[web, email, mobile, social]</td>\n",
       "      <td>10.0</td>\n",
       "      <td>5.0</td>\n",
       "      <td>bogo</td>\n",
       "      <td>14824</td>\n",
       "      <td>11.0</td>\n",
       "    </tr>\n",
       "    <tr>\n",
       "      <th>272760</th>\n",
       "      <td>offer received</td>\n",
       "      <td>576</td>\n",
       "      <td>F</td>\n",
       "      <td>58</td>\n",
       "      <td>20161020</td>\n",
       "      <td>78000.0</td>\n",
       "      <td>NaN</td>\n",
       "      <td>10.0</td>\n",
       "      <td>[web, email, mobile, social]</td>\n",
       "      <td>10.0</td>\n",
       "      <td>5.0</td>\n",
       "      <td>bogo</td>\n",
       "      <td>14825</td>\n",
       "      <td>11.0</td>\n",
       "    </tr>\n",
       "    <tr>\n",
       "      <th>272761</th>\n",
       "      <td>offer viewed</td>\n",
       "      <td>576</td>\n",
       "      <td>F</td>\n",
       "      <td>58</td>\n",
       "      <td>20161020</td>\n",
       "      <td>78000.0</td>\n",
       "      <td>NaN</td>\n",
       "      <td>10.0</td>\n",
       "      <td>[web, email, mobile, social]</td>\n",
       "      <td>10.0</td>\n",
       "      <td>5.0</td>\n",
       "      <td>bogo</td>\n",
       "      <td>14825</td>\n",
       "      <td>11.0</td>\n",
       "    </tr>\n",
       "  </tbody>\n",
       "</table>\n",
       "<p>272762 rows × 14 columns</p>\n",
       "</div>"
      ],
      "text/plain": [
       "                  event  time gender  age  became_member_on    income  amount  \\\n",
       "0        offer received     0      F   75          20170509  100000.0     NaN   \n",
       "1          offer viewed     6      F   75          20170509  100000.0     NaN   \n",
       "2           transaction   132      F   75          20170509  100000.0   19.89   \n",
       "3       offer completed   132      F   75          20170509  100000.0     NaN   \n",
       "4           transaction   144      F   75          20170509  100000.0   17.78   \n",
       "...                 ...   ...    ...  ...               ...       ...     ...   \n",
       "272757     offer viewed   504      M   47          20171013   94000.0     NaN   \n",
       "272758   offer received   576      M   47          20171013   94000.0     NaN   \n",
       "272759     offer viewed   576      M   47          20171013   94000.0     NaN   \n",
       "272760   offer received   576      F   58          20161020   78000.0     NaN   \n",
       "272761     offer viewed   576      F   58          20161020   78000.0     NaN   \n",
       "\n",
       "        reward                      channels  difficulty  duration  \\\n",
       "0          5.0          [web, email, mobile]         5.0       7.0   \n",
       "1          5.0          [web, email, mobile]         5.0       7.0   \n",
       "2          NaN                           NaN         NaN       NaN   \n",
       "3          5.0          [web, email, mobile]         5.0       7.0   \n",
       "4          NaN                           NaN         NaN       NaN   \n",
       "...        ...                           ...         ...       ...   \n",
       "272757     0.0          [web, email, mobile]         0.0       4.0   \n",
       "272758    10.0  [web, email, mobile, social]        10.0       5.0   \n",
       "272759    10.0  [web, email, mobile, social]        10.0       5.0   \n",
       "272760    10.0  [web, email, mobile, social]        10.0       5.0   \n",
       "272761    10.0  [web, email, mobile, social]        10.0       5.0   \n",
       "\n",
       "           offer_type  user_id  offer_id  \n",
       "0                bogo        1       1.0  \n",
       "1                bogo        1       1.0  \n",
       "2                 NaN        1       NaN  \n",
       "3                bogo        1       1.0  \n",
       "4                 NaN        1       NaN  \n",
       "...               ...      ...       ...  \n",
       "272757  informational    14824       7.0  \n",
       "272758           bogo    14824      11.0  \n",
       "272759           bogo    14824      11.0  \n",
       "272760           bogo    14825      11.0  \n",
       "272761           bogo    14825      11.0  \n",
       "\n",
       "[272762 rows x 14 columns]"
      ]
     },
     "execution_count": 281,
     "metadata": {},
     "output_type": "execute_result"
    }
   ],
   "source": [
    "df.sort_values(['user_id', 'time'], axis = 0).reset_index(drop = True)"
   ]
  },
  {
   "cell_type": "code",
   "execution_count": 282,
   "metadata": {},
   "outputs": [],
   "source": [
    "channels_df = list_to_cols(df['channels'])\n",
    "df = df.drop(['channels'],axis = 1)"
   ]
  },
  {
   "cell_type": "code",
   "execution_count": 283,
   "metadata": {},
   "outputs": [],
   "source": [
    "df['years_member'] = df['became_member_on'].apply(get_years)\n",
    "df = df.drop(['became_member_on'],axis = 1)"
   ]
  },
  {
   "cell_type": "code",
   "execution_count": 284,
   "metadata": {},
   "outputs": [
    {
     "data": {
      "text/plain": [
       "user_id\n",
       "1        60.0\n",
       "2        25.0\n",
       "3        67.0\n",
       "4        12.0\n",
       "5        85.0\n",
       "         ... \n",
       "14821    40.0\n",
       "14822    30.0\n",
       "14823    22.0\n",
       "14824    20.0\n",
       "14825    20.0\n",
       "Name: reward, Length: 14825, dtype: float64"
      ]
     },
     "execution_count": 284,
     "metadata": {},
     "output_type": "execute_result"
    }
   ],
   "source": [
    "df_for_amount['reward']\n",
    "#most people are two this data is probably older"
   ]
  },
  {
   "cell_type": "code",
   "execution_count": 285,
   "metadata": {},
   "outputs": [],
   "source": [
    "for_cats_df = df.select_dtypes(include=['object'])\n",
    "\n",
    "cats_df = create_dummy_df(df, for_cats_df.columns, False)"
   ]
  },
  {
   "cell_type": "code",
   "execution_count": 286,
   "metadata": {},
   "outputs": [],
   "source": [
    "new_df = pd.concat([cats_df, channels_df], axis = 1)\n",
    "\n",
    "\n",
    "df_gb = new_df.groupby(['user_id', 'offer_id']).agg('mean')\n",
    "\n",
    "\n",
    "df_gb = df_gb.reset_index()\n",
    "df_gb.head()\n",
    "\n",
    "df_gb_time = df_gb.sort_values(by = 'time', axis = 0).reset_index(drop = True)"
   ]
  },
  {
   "cell_type": "code",
   "execution_count": 287,
   "metadata": {
    "scrolled": false
   },
   "outputs": [
    {
     "data": {
      "text/plain": [
       "array([[<matplotlib.axes._subplots.AxesSubplot object at 0x0000017F3FD71E80>,\n",
       "        <matplotlib.axes._subplots.AxesSubplot object at 0x0000017F3D7DBDA0>,\n",
       "        <matplotlib.axes._subplots.AxesSubplot object at 0x0000017F3DA8F860>,\n",
       "        <matplotlib.axes._subplots.AxesSubplot object at 0x0000017F3D4B3518>,\n",
       "        <matplotlib.axes._subplots.AxesSubplot object at 0x0000017F3D7D3550>],\n",
       "       [<matplotlib.axes._subplots.AxesSubplot object at 0x0000017F3D7D3320>,\n",
       "        <matplotlib.axes._subplots.AxesSubplot object at 0x0000017F3C935710>,\n",
       "        <matplotlib.axes._subplots.AxesSubplot object at 0x0000017F3E2C4588>,\n",
       "        <matplotlib.axes._subplots.AxesSubplot object at 0x0000017F3CB8AF98>,\n",
       "        <matplotlib.axes._subplots.AxesSubplot object at 0x0000017F3DD0A630>],\n",
       "       [<matplotlib.axes._subplots.AxesSubplot object at 0x0000017F3CB6E390>,\n",
       "        <matplotlib.axes._subplots.AxesSubplot object at 0x0000017F3E1287F0>,\n",
       "        <matplotlib.axes._subplots.AxesSubplot object at 0x0000017F3E11DF60>,\n",
       "        <matplotlib.axes._subplots.AxesSubplot object at 0x0000017F3D954FD0>,\n",
       "        <matplotlib.axes._subplots.AxesSubplot object at 0x0000017F3DEC7048>],\n",
       "       [<matplotlib.axes._subplots.AxesSubplot object at 0x0000017F3DE449B0>,\n",
       "        <matplotlib.axes._subplots.AxesSubplot object at 0x0000017F3CE17320>,\n",
       "        <matplotlib.axes._subplots.AxesSubplot object at 0x0000017F3DC87128>,\n",
       "        <matplotlib.axes._subplots.AxesSubplot object at 0x0000017F3D3388D0>,\n",
       "        <matplotlib.axes._subplots.AxesSubplot object at 0x0000017F3D5F50F0>],\n",
       "       [<matplotlib.axes._subplots.AxesSubplot object at 0x0000017F3F7A1B38>,\n",
       "        <matplotlib.axes._subplots.AxesSubplot object at 0x0000017F3D52EEB8>,\n",
       "        <matplotlib.axes._subplots.AxesSubplot object at 0x0000017F3CE58710>,\n",
       "        <matplotlib.axes._subplots.AxesSubplot object at 0x0000017F3EA0E438>,\n",
       "        <matplotlib.axes._subplots.AxesSubplot object at 0x0000017F3D7C0B00>]],\n",
       "      dtype=object)"
      ]
     },
     "execution_count": 287,
     "metadata": {},
     "output_type": "execute_result"
    },
    {
     "data": {
      "image/png": "[encoded data removed]",
      "text/plain": [
       "<matplotlib.figure.Figure at 0x17f3c7bc438>"
      ]
     },
     "metadata": {},
     "output_type": "display_data"
    }
   ],
   "source": [
    "df_gb[df_gb['event_offer completed'] > 0].hist(figsize = (15,20))"
   ]
  },
  {
   "cell_type": "code",
   "execution_count": 153,
   "metadata": {
    "scrolled": false
   },
   "outputs": [
    {
     "data": {
      "text/plain": [
       "array([[<matplotlib.axes._subplots.AxesSubplot object at 0x0000017F3D6F0F28>,\n",
       "        <matplotlib.axes._subplots.AxesSubplot object at 0x0000017F3D6DF208>,\n",
       "        <matplotlib.axes._subplots.AxesSubplot object at 0x0000017F3DD4A2B0>,\n",
       "        <matplotlib.axes._subplots.AxesSubplot object at 0x0000017F3DD62CC0>,\n",
       "        <matplotlib.axes._subplots.AxesSubplot object at 0x0000017F3DD74BA8>],\n",
       "       [<matplotlib.axes._subplots.AxesSubplot object at 0x0000017F3DD749E8>,\n",
       "        <matplotlib.axes._subplots.AxesSubplot object at 0x0000017F3D7600B8>,\n",
       "        <matplotlib.axes._subplots.AxesSubplot object at 0x0000017F3DD997B8>,\n",
       "        <matplotlib.axes._subplots.AxesSubplot object at 0x0000017F3DDB00B8>,\n",
       "        <matplotlib.axes._subplots.AxesSubplot object at 0x0000017F3D735320>],\n",
       "       [<matplotlib.axes._subplots.AxesSubplot object at 0x0000017F3DDE0080>,\n",
       "        <matplotlib.axes._subplots.AxesSubplot object at 0x0000017F3D838C50>,\n",
       "        <matplotlib.axes._subplots.AxesSubplot object at 0x0000017F3D7AA898>,\n",
       "        <matplotlib.axes._subplots.AxesSubplot object at 0x0000017F3DE663C8>,\n",
       "        <matplotlib.axes._subplots.AxesSubplot object at 0x0000017F3DE72DD8>],\n",
       "       [<matplotlib.axes._subplots.AxesSubplot object at 0x0000017F3DE837B8>,\n",
       "        <matplotlib.axes._subplots.AxesSubplot object at 0x0000017F3D7C0390>,\n",
       "        <matplotlib.axes._subplots.AxesSubplot object at 0x0000017F3DEA3518>,\n",
       "        <matplotlib.axes._subplots.AxesSubplot object at 0x0000017F3DE4C588>,\n",
       "        <matplotlib.axes._subplots.AxesSubplot object at 0x0000017F3D7C6A58>],\n",
       "       [<matplotlib.axes._subplots.AxesSubplot object at 0x0000017F3DECF128>,\n",
       "        <matplotlib.axes._subplots.AxesSubplot object at 0x0000017F3D93F748>,\n",
       "        <matplotlib.axes._subplots.AxesSubplot object at 0x0000017F3D7D7F60>,\n",
       "        <matplotlib.axes._subplots.AxesSubplot object at 0x0000017F3D77A630>,\n",
       "        <matplotlib.axes._subplots.AxesSubplot object at 0x0000017F3D962FD0>]],\n",
       "      dtype=object)"
      ]
     },
     "execution_count": 153,
     "metadata": {},
     "output_type": "execute_result"
    },
    {
     "data": {
      "image/png": "[encoded data removed]",
      "text/plain": [
       "<matplotlib.figure.Figure at 0x17f3dd38ac8>"
      ]
     },
     "metadata": {},
     "output_type": "display_data"
    }
   ],
   "source": [
    "df_gb.hist(figsize = (15,20))"
   ]
  },
  {
   "cell_type": "markdown",
   "metadata": {},
   "source": [
    "# WHO IN GENERAL WILL BE AFFECTED BY AN OFFER?"
   ]
  },
  {
   "cell_type": "code",
   "execution_count": 336,
   "metadata": {},
   "outputs": [
    {
     "data": {
      "text/plain": [
       "0        0.333333\n",
       "1        0.500000\n",
       "2        0.333333\n",
       "3        0.333333\n",
       "4        0.333333\n",
       "           ...   \n",
       "55217    0.000000\n",
       "55218    0.500000\n",
       "55219    0.500000\n",
       "55220    0.500000\n",
       "55221    0.500000\n",
       "Name: event_offer viewed, Length: 55222, dtype: float64"
      ]
     },
     "execution_count": 336,
     "metadata": {},
     "output_type": "execute_result"
    }
   ],
   "source": [
    "df_gb['event_offer viewed']"
   ]
  },
  {
   "cell_type": "code",
   "execution_count": 598,
   "metadata": {},
   "outputs": [
    {
     "data": {
      "image/png": "[encoded data removed]",
      "text/plain": [
       "<matplotlib.figure.Figure at 0x17f4927f630>"
      ]
     },
     "metadata": {},
     "output_type": "display_data"
    }
   ],
   "source": [
    "users_df = df_gb[['user_id', 'gender_F', 'gender_M', 'gender_O','years_member']]\n",
    "\n",
    "age_groups = ['25_and_less' if i < 25 else '25_to_40' if i < 40 else '40_to_60' if i < 60 else '60+' for i in df_gb['age']]\n",
    "age_groups = pd.Series(age_groups, name = 'age_cats')\n",
    "\n",
    "age_groups_df = pd.get_dummies(age_groups).reset_index(drop = True)\n",
    "\n",
    "income_groups = ['None' if i < 1 else 'group1' if i < 40000 else 'group2' if i < 75000 else 'group3' for i in df_gb['income']]\n",
    "income_groups = pd.Series(income_groups, name = 'income_cats')\n",
    "\n",
    "income_groups_df = pd.get_dummies(income_groups).reset_index(drop = True)\n",
    "cats_df2 = pd.concat([age_groups_df, income_groups_df], axis = 1)\n",
    "\n",
    "df_gb = pd.concat([df_gb, cats_df2], axis = 1)\n",
    "\n",
    "users_df = users_df.reset_index(drop = True)\n",
    "users_df2 = pd.concat([users_df, cats_df2], axis = 1)\n",
    "\n",
    "users_df2 = users_df2.groupby('user_id').agg('mean')\n",
    "\n",
    "df_for_amount = new_df.groupby(['user_id']).agg('sum')\n",
    "df_for_amount_new = df_for_amount[df_for_amount.index.isin(users_df2.index)]\n",
    "\n",
    "users_df2['amount'] = [i if math.isnan(i) == False else 0 for i in df_for_amount_new['amount']]\n",
    "users_df2['reward_viewed_and_used'] = offer_influence()\n",
    "users_df2['reward_impact'] = users_df2['reward_viewed_and_used']/users_df2['amount']\n",
    "users_df2['reward_impact'] = [i if math.isnan(i) == False else 0 for i in users_df2['reward_impact']]\n",
    "\n",
    "users_df_corr = pd.concat([users_df2, u], axis =1)\n",
    "sns.heatmap(users_df_corr.corr(), annot=False, fmt=\".2f\");"
   ]
  },
  {
   "cell_type": "code",
   "execution_count": 348,
   "metadata": {},
   "outputs": [
    {
     "name": "stdout",
     "output_type": "stream",
     "text": [
      "mss: 82\n",
      "max_feat: 2\n",
      "mean_mae: 0.008507381319278978\n",
      "mean_mse: 0.00021326942893466102\n",
      "\n",
      "frequency: \n",
      "\n",
      "10\n",
      "10\n",
      "10\n",
      "10\n",
      "10\n",
      "10\n",
      "10\n",
      "10\n",
      "10\n",
      "10\n",
      "10\n",
      "\n",
      "feat_imp: \n",
      "\n",
      "-0.0014553674872500174\n",
      "-0.0007513787187228279\n",
      "-0.0006711456563670825\n",
      "-0.00019707453455407157\n",
      "0.000319252564137908\n",
      "0.001734052433590983\n",
      "0.0019456632059017542\n",
      "0.002059598278262444\n",
      "0.002284070366703927\n",
      "0.011095789872643128\n",
      "0.04421281461881508\n",
      "\n",
      "top_ features\n",
      "\n",
      "60+\n",
      "40_to_60\n",
      "25_to_40\n",
      "gender_O\n",
      "25_and_less\n",
      "gender_M\n",
      "group1\n",
      "group2\n",
      "gender_F\n",
      "group3\n",
      "years_member\n"
     ]
    }
   ],
   "source": [
    "X = users_df2.reset_index(drop = True)\n",
    "X = X.drop(['reward_impact', 'reward_viewed_and_used', 'amount'], axis = 1)\n",
    "y = np.array(users_df2['reward_impact'])\n",
    "\n",
    "\n",
    "best_param = specify_best(model = RandomForestRegressor(random_state = 15), typ = 'RF', X = X, y = y)\n",
    "\n",
    "rf = RandomForestRegressor(min_samples_split=best_param.get('min_samples_split'), \n",
    "                           max_features= best_param.get('max_features'),random_state = 15)\n",
    "\n",
    "rf_res = run_models_kfold(rf, X, users_df2['reward_impact'])\n",
    "\n",
    "#because of the small # of features, only 2 were > mean so in order to cast a wider net, we've included top 5\n",
    "eprf = top_features(rf_res[2], featn = 11, mean = False)\n",
    "print_vals(best_param, rf_res, eprf)"
   ]
  },
  {
   "cell_type": "code",
   "execution_count": 349,
   "metadata": {
    "scrolled": true
   },
   "outputs": [
    {
     "name": "stdout",
     "output_type": "stream",
     "text": [
      "                            OLS Regression Results                            \n",
      "==============================================================================\n",
      "Dep. Variable:          reward_impact   R-squared:                         nan\n",
      "Model:                            OLS   Adj. R-squared:                    nan\n",
      "Method:                 Least Squares   F-statistic:                       nan\n",
      "Date:                Sun, 18 Oct 2020   Prob (F-statistic):                nan\n",
      "Time:                        14:31:28   Log-Likelihood:                    nan\n",
      "No. Observations:               14820   AIC:                               nan\n",
      "Df Residuals:                   14820   BIC:                               nan\n",
      "Df Model:                          -1                                         \n",
      "Covariance Type:            nonrobust                                         \n",
      "==============================================================================\n",
      "                 coef    std err          t      P>|t|      [0.025      0.975]\n",
      "------------------------------------------------------------------------------\n",
      "const             nan        nan        nan        nan         nan         nan\n",
      "gender_F          nan        nan        nan        nan         nan         nan\n",
      "==============================================================================\n",
      "Omnibus:                          nan   Durbin-Watson:                     nan\n",
      "Prob(Omnibus):                    nan   Jarque-Bera (JB):                  nan\n",
      "Skew:                             nan   Prob(JB):                          nan\n",
      "Kurtosis:                         nan   Cond. No.                          nan\n",
      "==============================================================================\n",
      "\n",
      "Notes:\n",
      "[1] Standard Errors assume that the covariance matrix of the errors is correctly specified.\n",
      "                            OLS Regression Results                            \n",
      "==============================================================================\n",
      "Dep. Variable:          reward_impact   R-squared:                       0.010\n",
      "Model:                            OLS   Adj. R-squared:                  0.010\n",
      "Method:                 Least Squares   F-statistic:                     154.2\n",
      "Date:                Sun, 18 Oct 2020   Prob (F-statistic):           3.12e-35\n",
      "Time:                        14:31:28   Log-Likelihood:                 41360.\n",
      "No. Observations:               14820   AIC:                        -8.272e+04\n",
      "Df Residuals:                   14818   BIC:                        -8.270e+04\n",
      "Df Model:                           1                                         \n",
      "Covariance Type:            nonrobust                                         \n",
      "==============================================================================\n",
      "                 coef    std err          t      P>|t|      [0.025      0.975]\n",
      "------------------------------------------------------------------------------\n",
      "const          0.0036      0.000     19.180      0.000       0.003       0.004\n",
      "gender_M       0.0031      0.000     12.418      0.000       0.003       0.004\n",
      "==============================================================================\n",
      "Omnibus:                    11219.265   Durbin-Watson:                   2.004\n",
      "Prob(Omnibus):                  0.000   Jarque-Bera (JB):           193275.653\n",
      "Skew:                           3.609   Prob(JB):                         0.00\n",
      "Kurtosis:                      19.153   Cond. No.                         2.82\n",
      "==============================================================================\n",
      "\n",
      "Notes:\n",
      "[1] Standard Errors assume that the covariance matrix of the errors is correctly specified.\n",
      "                            OLS Regression Results                            \n",
      "==============================================================================\n",
      "Dep. Variable:          reward_impact   R-squared:                       0.000\n",
      "Model:                            OLS   Adj. R-squared:                 -0.000\n",
      "Method:                 Least Squares   F-statistic:                    0.7301\n",
      "Date:                Sun, 18 Oct 2020   Prob (F-statistic):              0.393\n",
      "Time:                        14:31:28   Log-Likelihood:                 41284.\n",
      "No. Observations:               14820   AIC:                        -8.256e+04\n",
      "Df Residuals:                   14818   BIC:                        -8.255e+04\n",
      "Df Model:                           1                                         \n",
      "Covariance Type:            nonrobust                                         \n",
      "==============================================================================\n",
      "                 coef    std err          t      P>|t|      [0.025      0.975]\n",
      "------------------------------------------------------------------------------\n",
      "const          0.0053      0.000     43.264      0.000       0.005       0.006\n",
      "gender_O      -0.0009      0.001     -0.854      0.393      -0.003       0.001\n",
      "==============================================================================\n",
      "Omnibus:                    11331.751   Durbin-Watson:                   2.003\n",
      "Prob(Omnibus):                  0.000   Jarque-Bera (JB):           198362.591\n",
      "Skew:                           3.657   Prob(JB):                         0.00\n",
      "Kurtosis:                      19.363   Cond. No.                         8.42\n",
      "==============================================================================\n",
      "\n",
      "Notes:\n",
      "[1] Standard Errors assume that the covariance matrix of the errors is correctly specified.\n",
      "                            OLS Regression Results                            \n",
      "==============================================================================\n",
      "Dep. Variable:          reward_impact   R-squared:                       0.012\n",
      "Model:                            OLS   Adj. R-squared:                  0.012\n",
      "Method:                 Least Squares   F-statistic:                     183.2\n",
      "Date:                Sun, 18 Oct 2020   Prob (F-statistic):           1.67e-41\n",
      "Time:                        14:31:28   Log-Likelihood:                 41375.\n",
      "No. Observations:               14820   AIC:                        -8.275e+04\n",
      "Df Residuals:                   14818   BIC:                        -8.273e+04\n",
      "Df Model:                           1                                         \n",
      "Covariance Type:            nonrobust                                         \n",
      "================================================================================\n",
      "                   coef    std err          t      P>|t|      [0.025      0.975]\n",
      "--------------------------------------------------------------------------------\n",
      "const            0.0100      0.000     27.376      0.000       0.009       0.011\n",
      "years_member    -0.0014      0.000    -13.537      0.000      -0.002      -0.001\n",
      "==============================================================================\n",
      "Omnibus:                    11093.642   Durbin-Watson:                   2.001\n",
      "Prob(Omnibus):                  0.000   Jarque-Bera (JB):           185573.528\n",
      "Skew:                           3.561   Prob(JB):                         0.00\n",
      "Kurtosis:                      18.805   Cond. No.                         11.5\n",
      "==============================================================================\n",
      "\n",
      "Notes:\n",
      "[1] Standard Errors assume that the covariance matrix of the errors is correctly specified.\n",
      "                            OLS Regression Results                            \n",
      "==============================================================================\n",
      "Dep. Variable:          reward_impact   R-squared:                       0.001\n",
      "Model:                            OLS   Adj. R-squared:                  0.001\n",
      "Method:                 Least Squares   F-statistic:                     17.37\n",
      "Date:                Sun, 18 Oct 2020   Prob (F-statistic):           3.10e-05\n",
      "Time:                        14:31:28   Log-Likelihood:                 41292.\n",
      "No. Observations:               14820   AIC:                        -8.258e+04\n",
      "Df Residuals:                   14818   BIC:                        -8.257e+04\n",
      "Df Model:                           1                                         \n",
      "Covariance Type:            nonrobust                                         \n",
      "===============================================================================\n",
      "                  coef    std err          t      P>|t|      [0.025      0.975]\n",
      "-------------------------------------------------------------------------------\n",
      "const           0.0052      0.000     41.180      0.000       0.005       0.005\n",
      "25_and_less     0.0022      0.001      4.167      0.000       0.001       0.003\n",
      "==============================================================================\n",
      "Omnibus:                    11321.671   Durbin-Watson:                   2.002\n",
      "Prob(Omnibus):                  0.000   Jarque-Bera (JB):           198005.517\n",
      "Skew:                           3.652   Prob(JB):                         0.00\n",
      "Kurtosis:                      19.350   Cond. No.                         4.26\n",
      "==============================================================================\n",
      "\n",
      "Notes:\n",
      "[1] Standard Errors assume that the covariance matrix of the errors is correctly specified.\n",
      "                            OLS Regression Results                            \n",
      "==============================================================================\n",
      "Dep. Variable:          reward_impact   R-squared:                       0.003\n",
      "Model:                            OLS   Adj. R-squared:                  0.003\n",
      "Method:                 Least Squares   F-statistic:                     42.02\n",
      "Date:                Sun, 18 Oct 2020   Prob (F-statistic):           9.31e-11\n",
      "Time:                        14:31:28   Log-Likelihood:                 41305.\n",
      "No. Observations:               14820   AIC:                        -8.261e+04\n",
      "Df Residuals:                   14818   BIC:                        -8.259e+04\n",
      "Df Model:                           1                                         \n",
      "Covariance Type:            nonrobust                                         \n",
      "==============================================================================\n",
      "                 coef    std err          t      P>|t|      [0.025      0.975]\n",
      "------------------------------------------------------------------------------\n",
      "const          0.0050      0.000     37.624      0.000       0.005       0.005\n",
      "25_to_40       0.0022      0.000      6.482      0.000       0.002       0.003\n",
      "==============================================================================\n",
      "Omnibus:                    11310.345   Durbin-Watson:                   2.003\n",
      "Prob(Omnibus):                  0.000   Jarque-Bera (JB):           197952.943\n",
      "Skew:                           3.646   Prob(JB):                         0.00\n",
      "Kurtosis:                      19.352   Cond. No.                         2.87\n",
      "==============================================================================\n",
      "\n",
      "Notes:\n",
      "[1] Standard Errors assume that the covariance matrix of the errors is correctly specified.\n",
      "                            OLS Regression Results                            \n",
      "==============================================================================\n",
      "Dep. Variable:          reward_impact   R-squared:                       0.000\n",
      "Model:                            OLS   Adj. R-squared:                  0.000\n",
      "Method:                 Least Squares   F-statistic:                     3.560\n",
      "Date:                Sun, 18 Oct 2020   Prob (F-statistic):             0.0592\n",
      "Time:                        14:31:28   Log-Likelihood:                 41285.\n",
      "No. Observations:               14820   AIC:                        -8.257e+04\n",
      "Df Residuals:                   14818   BIC:                        -8.255e+04\n",
      "Df Model:                           1                                         \n",
      "Covariance Type:            nonrobust                                         \n",
      "==============================================================================\n",
      "                 coef    std err          t      P>|t|      [0.025      0.975]\n",
      "------------------------------------------------------------------------------\n",
      "const          0.0055      0.000     35.015      0.000       0.005       0.006\n",
      "40_to_60      -0.0005      0.000     -1.887      0.059      -0.001    1.84e-05\n",
      "==============================================================================\n",
      "Omnibus:                    11330.721   Durbin-Watson:                   2.003\n",
      "Prob(Omnibus):                  0.000   Jarque-Bera (JB):           198420.825\n",
      "Skew:                           3.656   Prob(JB):                         0.00\n",
      "Kurtosis:                      19.367   Cond. No.                         2.44\n",
      "==============================================================================\n",
      "\n",
      "Notes:\n",
      "[1] Standard Errors assume that the covariance matrix of the errors is correctly specified.\n",
      "                            OLS Regression Results                            \n",
      "==============================================================================\n",
      "Dep. Variable:          reward_impact   R-squared:                       0.002\n",
      "Model:                            OLS   Adj. R-squared:                  0.002\n",
      "Method:                 Least Squares   F-statistic:                     23.56\n",
      "Date:                Sun, 18 Oct 2020   Prob (F-statistic):           1.22e-06\n",
      "Time:                        14:31:28   Log-Likelihood:                 41295.\n",
      "No. Observations:               14820   AIC:                        -8.259e+04\n",
      "Df Residuals:                   14818   BIC:                        -8.257e+04\n",
      "Df Model:                           1                                         \n",
      "Covariance Type:            nonrobust                                         \n",
      "==============================================================================\n",
      "                 coef    std err          t      P>|t|      [0.025      0.975]\n",
      "------------------------------------------------------------------------------\n",
      "const          0.0058      0.000     36.862      0.000       0.006       0.006\n",
      "60+           -0.0012      0.000     -4.854      0.000      -0.002      -0.001\n",
      "==============================================================================\n",
      "Omnibus:                    11318.097   Durbin-Watson:                   2.003\n",
      "Prob(Omnibus):                  0.000   Jarque-Bera (JB):           197855.389\n",
      "Skew:                           3.650   Prob(JB):                         0.00\n",
      "Kurtosis:                      19.344   Cond. No.                         2.45\n",
      "==============================================================================\n",
      "\n",
      "Notes:\n",
      "[1] Standard Errors assume that the covariance matrix of the errors is correctly specified.\n",
      "                            OLS Regression Results                            \n",
      "==============================================================================\n",
      "Dep. Variable:          reward_impact   R-squared:                       0.006\n",
      "Model:                            OLS   Adj. R-squared:                  0.006\n",
      "Method:                 Least Squares   F-statistic:                     88.80\n",
      "Date:                Sun, 18 Oct 2020   Prob (F-statistic):           5.01e-21\n",
      "Time:                        14:31:28   Log-Likelihood:                 41328.\n",
      "No. Observations:               14820   AIC:                        -8.265e+04\n",
      "Df Residuals:                   14818   BIC:                        -8.264e+04\n",
      "Df Model:                           1                                         \n",
      "Covariance Type:            nonrobust                                         \n",
      "==============================================================================\n",
      "                 coef    std err          t      P>|t|      [0.025      0.975]\n",
      "------------------------------------------------------------------------------\n",
      "const          0.0049      0.000     37.245      0.000       0.005       0.005\n",
      "group1         0.0034      0.000      9.423      0.000       0.003       0.004\n",
      "==============================================================================\n",
      "Omnibus:                    11269.998   Durbin-Watson:                   2.004\n",
      "Prob(Omnibus):                  0.000   Jarque-Bera (JB):           195810.829\n",
      "Skew:                           3.630   Prob(JB):                         0.00\n",
      "Kurtosis:                      19.261   Cond. No.                         3.02\n",
      "==============================================================================\n",
      "\n",
      "Notes:\n",
      "[1] Standard Errors assume that the covariance matrix of the errors is correctly specified.\n",
      "                            OLS Regression Results                            \n",
      "==============================================================================\n",
      "Dep. Variable:          reward_impact   R-squared:                       0.006\n",
      "Model:                            OLS   Adj. R-squared:                  0.005\n",
      "Method:                 Least Squares   F-statistic:                     82.09\n",
      "Date:                Sun, 18 Oct 2020   Prob (F-statistic):           1.46e-19\n",
      "Time:                        14:31:28   Log-Likelihood:                 41325.\n",
      "No. Observations:               14820   AIC:                        -8.265e+04\n",
      "Df Residuals:                   14818   BIC:                        -8.263e+04\n",
      "Df Model:                           1                                         \n",
      "Covariance Type:            nonrobust                                         \n",
      "==============================================================================\n",
      "                 coef    std err          t      P>|t|      [0.025      0.975]\n",
      "------------------------------------------------------------------------------\n",
      "const          0.0041      0.000     22.174      0.000       0.004       0.004\n",
      "group2         0.0022      0.000      9.061      0.000       0.002       0.003\n",
      "==============================================================================\n",
      "Omnibus:                    11273.464   Durbin-Watson:                   2.004\n",
      "Prob(Omnibus):                  0.000   Jarque-Bera (JB):           196136.887\n",
      "Skew:                           3.631   Prob(JB):                         0.00\n",
      "Kurtosis:                      19.276   Cond. No.                         2.78\n",
      "==============================================================================\n",
      "\n",
      "Notes:\n",
      "[1] Standard Errors assume that the covariance matrix of the errors is correctly specified.\n",
      "                            OLS Regression Results                            \n",
      "==============================================================================\n",
      "Dep. Variable:          reward_impact   R-squared:                       0.018\n",
      "Model:                            OLS   Adj. R-squared:                  0.018\n",
      "Method:                 Least Squares   F-statistic:                     278.9\n",
      "Date:                Sun, 18 Oct 2020   Prob (F-statistic):           4.76e-62\n",
      "Time:                        14:31:28   Log-Likelihood:                 41422.\n",
      "No. Observations:               14820   AIC:                        -8.284e+04\n",
      "Df Residuals:                   14818   BIC:                        -8.282e+04\n",
      "Df Model:                           1                                         \n",
      "Covariance Type:            nonrobust                                         \n",
      "==============================================================================\n",
      "                 coef    std err          t      P>|t|      [0.025      0.975]\n",
      "------------------------------------------------------------------------------\n",
      "const          0.0067      0.000     45.746      0.000       0.006       0.007\n",
      "group3        -0.0044      0.000    -16.701      0.000      -0.005      -0.004\n",
      "==============================================================================\n",
      "Omnibus:                    11110.281   Durbin-Watson:                   2.005\n",
      "Prob(Omnibus):                  0.000   Jarque-Bera (JB):           188842.714\n",
      "Skew:                           3.562   Prob(JB):                         0.00\n",
      "Kurtosis:                      18.971   Cond. No.                         2.42\n",
      "==============================================================================\n",
      "\n",
      "Notes:\n",
      "[1] Standard Errors assume that the covariance matrix of the errors is correctly specified.\n"
     ]
    },
    {
     "name": "stderr",
     "output_type": "stream",
     "text": [
      "C:\\Users\\madke\\AppData\\Roaming\\Python\\Python36\\site-packages\\numpy\\linalg\\linalg.py:1872: RuntimeWarning:\n",
      "\n",
      "invalid value encountered in greater\n",
      "\n",
      "C:\\Users\\madke\\AppData\\Roaming\\Python\\Python36\\site-packages\\scipy\\stats\\_distn_infrastructure.py:903: RuntimeWarning:\n",
      "\n",
      "invalid value encountered in greater\n",
      "\n",
      "C:\\Users\\madke\\AppData\\Roaming\\Python\\Python36\\site-packages\\scipy\\stats\\_distn_infrastructure.py:903: RuntimeWarning:\n",
      "\n",
      "invalid value encountered in less\n",
      "\n",
      "C:\\Users\\madke\\AppData\\Roaming\\Python\\Python36\\site-packages\\scipy\\stats\\_distn_infrastructure.py:1912: RuntimeWarning:\n",
      "\n",
      "invalid value encountered in less_equal\n",
      "\n",
      "C:\\Users\\madke\\AppData\\Roaming\\Python\\Python36\\site-packages\\scipy\\stats\\stats.py:1548: RuntimeWarning:\n",
      "\n",
      "invalid value encountered in sign\n",
      "\n"
     ]
    }
   ],
   "source": [
    "models = []\n",
    "cols = X.columns\n",
    "\n",
    "for i in cols:\n",
    "    lm_i = lm(users_df2[i], users_df2['reward_impact'], users_df2)\n",
    "    models.append(lm_i)\n",
    "    if lm_i != 'FAIL':\n",
    "        print(lm_i.summary())"
   ]
  },
  {
   "cell_type": "code",
   "execution_count": 350,
   "metadata": {},
   "outputs": [
    {
     "name": "stderr",
     "output_type": "stream",
     "text": [
      "C:\\Users\\madke\\Anaconda3\\lib\\site-packages\\matplotlib\\colors.py:489: RuntimeWarning:\n",
      "\n",
      "invalid value encountered in less\n",
      "\n"
     ]
    },
    {
     "data": {
      "text/html": [
       "<style  type=\"text/css\" >\n",
       "#T_8692baee_1178_11eb_9d3c_8cec4b0ec919row0_col1,#T_8692baee_1178_11eb_9d3c_8cec4b0ec919row1_col1,#T_8692baee_1178_11eb_9d3c_8cec4b0ec919row3_col1,#T_8692baee_1178_11eb_9d3c_8cec4b0ec919row4_col1,#T_8692baee_1178_11eb_9d3c_8cec4b0ec919row5_col1,#T_8692baee_1178_11eb_9d3c_8cec4b0ec919row7_col1,#T_8692baee_1178_11eb_9d3c_8cec4b0ec919row8_col1,#T_8692baee_1178_11eb_9d3c_8cec4b0ec919row9_col1,#T_8692baee_1178_11eb_9d3c_8cec4b0ec919row10_col1{\n",
       "            background-color:  #fff7fb;\n",
       "            color:  #000000;\n",
       "        }#T_8692baee_1178_11eb_9d3c_8cec4b0ec919row2_col1{\n",
       "            background-color:  #023858;\n",
       "            color:  #f1f1f1;\n",
       "        }#T_8692baee_1178_11eb_9d3c_8cec4b0ec919row6_col1{\n",
       "            background-color:  #e7e3f0;\n",
       "            color:  #000000;\n",
       "        }</style><table id=\"T_8692baee_1178_11eb_9d3c_8cec4b0ec919\" ><thead>    <tr>        <th class=\"blank level0\" ></th>        <th class=\"col_heading level0 col0\" >features</th>        <th class=\"col_heading level0 col1\" >pvalues</th>    </tr></thead><tbody>\n",
       "                <tr>\n",
       "                        <th id=\"T_8692baee_1178_11eb_9d3c_8cec4b0ec919level0_row0\" class=\"row_heading level0 row0\" >0</th>\n",
       "                        <td id=\"T_8692baee_1178_11eb_9d3c_8cec4b0ec919row0_col0\" class=\"data row0 col0\" >gender_F</td>\n",
       "                        <td id=\"T_8692baee_1178_11eb_9d3c_8cec4b0ec919row0_col1\" class=\"data row0 col1\" >nan</td>\n",
       "            </tr>\n",
       "            <tr>\n",
       "                        <th id=\"T_8692baee_1178_11eb_9d3c_8cec4b0ec919level0_row1\" class=\"row_heading level0 row1\" >1</th>\n",
       "                        <td id=\"T_8692baee_1178_11eb_9d3c_8cec4b0ec919row1_col0\" class=\"data row1 col0\" >gender_M</td>\n",
       "                        <td id=\"T_8692baee_1178_11eb_9d3c_8cec4b0ec919row1_col1\" class=\"data row1 col1\" >0.000000</td>\n",
       "            </tr>\n",
       "            <tr>\n",
       "                        <th id=\"T_8692baee_1178_11eb_9d3c_8cec4b0ec919level0_row2\" class=\"row_heading level0 row2\" >2</th>\n",
       "                        <td id=\"T_8692baee_1178_11eb_9d3c_8cec4b0ec919row2_col0\" class=\"data row2 col0\" >gender_O</td>\n",
       "                        <td id=\"T_8692baee_1178_11eb_9d3c_8cec4b0ec919row2_col1\" class=\"data row2 col1\" >0.392870</td>\n",
       "            </tr>\n",
       "            <tr>\n",
       "                        <th id=\"T_8692baee_1178_11eb_9d3c_8cec4b0ec919level0_row3\" class=\"row_heading level0 row3\" >3</th>\n",
       "                        <td id=\"T_8692baee_1178_11eb_9d3c_8cec4b0ec919row3_col0\" class=\"data row3 col0\" >years_member</td>\n",
       "                        <td id=\"T_8692baee_1178_11eb_9d3c_8cec4b0ec919row3_col1\" class=\"data row3 col1\" >0.000000</td>\n",
       "            </tr>\n",
       "            <tr>\n",
       "                        <th id=\"T_8692baee_1178_11eb_9d3c_8cec4b0ec919level0_row4\" class=\"row_heading level0 row4\" >4</th>\n",
       "                        <td id=\"T_8692baee_1178_11eb_9d3c_8cec4b0ec919row4_col0\" class=\"data row4 col0\" >25_and_less</td>\n",
       "                        <td id=\"T_8692baee_1178_11eb_9d3c_8cec4b0ec919row4_col1\" class=\"data row4 col1\" >0.000031</td>\n",
       "            </tr>\n",
       "            <tr>\n",
       "                        <th id=\"T_8692baee_1178_11eb_9d3c_8cec4b0ec919level0_row5\" class=\"row_heading level0 row5\" >5</th>\n",
       "                        <td id=\"T_8692baee_1178_11eb_9d3c_8cec4b0ec919row5_col0\" class=\"data row5 col0\" >25_to_40</td>\n",
       "                        <td id=\"T_8692baee_1178_11eb_9d3c_8cec4b0ec919row5_col1\" class=\"data row5 col1\" >0.000000</td>\n",
       "            </tr>\n",
       "            <tr>\n",
       "                        <th id=\"T_8692baee_1178_11eb_9d3c_8cec4b0ec919level0_row6\" class=\"row_heading level0 row6\" >6</th>\n",
       "                        <td id=\"T_8692baee_1178_11eb_9d3c_8cec4b0ec919row6_col0\" class=\"data row6 col0\" >40_to_60</td>\n",
       "                        <td id=\"T_8692baee_1178_11eb_9d3c_8cec4b0ec919row6_col1\" class=\"data row6 col1\" >0.059223</td>\n",
       "            </tr>\n",
       "            <tr>\n",
       "                        <th id=\"T_8692baee_1178_11eb_9d3c_8cec4b0ec919level0_row7\" class=\"row_heading level0 row7\" >7</th>\n",
       "                        <td id=\"T_8692baee_1178_11eb_9d3c_8cec4b0ec919row7_col0\" class=\"data row7 col0\" >60+</td>\n",
       "                        <td id=\"T_8692baee_1178_11eb_9d3c_8cec4b0ec919row7_col1\" class=\"data row7 col1\" >0.000001</td>\n",
       "            </tr>\n",
       "            <tr>\n",
       "                        <th id=\"T_8692baee_1178_11eb_9d3c_8cec4b0ec919level0_row8\" class=\"row_heading level0 row8\" >8</th>\n",
       "                        <td id=\"T_8692baee_1178_11eb_9d3c_8cec4b0ec919row8_col0\" class=\"data row8 col0\" >group1</td>\n",
       "                        <td id=\"T_8692baee_1178_11eb_9d3c_8cec4b0ec919row8_col1\" class=\"data row8 col1\" >0.000000</td>\n",
       "            </tr>\n",
       "            <tr>\n",
       "                        <th id=\"T_8692baee_1178_11eb_9d3c_8cec4b0ec919level0_row9\" class=\"row_heading level0 row9\" >9</th>\n",
       "                        <td id=\"T_8692baee_1178_11eb_9d3c_8cec4b0ec919row9_col0\" class=\"data row9 col0\" >group2</td>\n",
       "                        <td id=\"T_8692baee_1178_11eb_9d3c_8cec4b0ec919row9_col1\" class=\"data row9 col1\" >0.000000</td>\n",
       "            </tr>\n",
       "            <tr>\n",
       "                        <th id=\"T_8692baee_1178_11eb_9d3c_8cec4b0ec919level0_row10\" class=\"row_heading level0 row10\" >10</th>\n",
       "                        <td id=\"T_8692baee_1178_11eb_9d3c_8cec4b0ec919row10_col0\" class=\"data row10 col0\" >group3</td>\n",
       "                        <td id=\"T_8692baee_1178_11eb_9d3c_8cec4b0ec919row10_col1\" class=\"data row10 col1\" >0.000000</td>\n",
       "            </tr>\n",
       "    </tbody></table>"
      ],
      "text/plain": [
       "<pandas.io.formats.style.Styler at 0x17f40f0a860>"
      ]
     },
     "execution_count": 350,
     "metadata": {},
     "output_type": "execute_result"
    }
   ],
   "source": [
    "lm_results = pd.DataFrame({\n",
    "    \n",
    "    'features': [i.pvalues.index[1] for i in models],\n",
    "    'pvalues':[i.pvalues[1] for i in models],\n",
    "    'coef': [i.params[1] for i in models],\n",
    "    'conf_int_025': [i.conf_int()[0][1] for i in models],\n",
    "    'conf_int_975': [i.conf_int()[1][1] for i in models]\n",
    "    \n",
    "})\n",
    "\n",
    "lm_results[['features', 'pvalues']].style.background_gradient()"
   ]
  },
  {
   "cell_type": "code",
   "execution_count": 351,
   "metadata": {},
   "outputs": [
    {
     "data": {
      "application/vnd.plotly.v1+json": {
       "config": {
        "plotlyServerURL": "https://plot.ly"
       },
       "data": [
        {
         "error_y": {
          "array": [
           0.0009666386311703197,
           0.00039869674416872407,
           0.0020371769335209115,
           0.001344095734323236,
           0.000982037117188488,
           0.0014215527038941873,
           0.0009655174004876196,
           0.001029563202915246
          ],
          "type": "data",
          "visible": true
         },
         "marker": {
          "color": [
           0.0030619847466108567,
           -0.00137671230729633,
           0.002165650263395785,
           0.0022225742281668666,
           -0.001215841102565049,
           0.003417004162376256,
           0.0022315168786104034,
           -0.004386123224111853
          ],
          "colorscale": [
           [
            0,
            "rgb(0,0,255)"
           ],
           [
            1,
            "rgb(255,0,0)"
           ]
          ],
          "opacity": 0.8,
          "showscale": true
         },
         "name": "Ratings_Score_Top_Coef",
         "type": "bar",
         "x": [
          "gender_M",
          "years_member",
          "25_and_less",
          "25_to_40",
          "60+",
          "group1",
          "group2",
          "group3"
         ],
         "y": [
          0.0030619847466108567,
          -0.00137671230729633,
          0.002165650263395785,
          0.0022225742281668666,
          -0.001215841102565049,
          0.003417004162376256,
          0.0022315168786104034,
          -0.004386123224111853
         ]
        }
       ],
       "layout": {
        "template": {
         "data": {
          "bar": [
           {
            "error_x": {
             "color": "#2a3f5f"
            },
            "error_y": {
             "color": "#2a3f5f"
            },
            "marker": {
             "line": {
              "color": "#E5ECF6",
              "width": 0.5
             }
            },
            "type": "bar"
           }
          ],
          "barpolar": [
           {
            "marker": {
             "line": {
              "color": "#E5ECF6",
              "width": 0.5
             }
            },
            "type": "barpolar"
           }
          ],
          "carpet": [
           {
            "aaxis": {
             "endlinecolor": "#2a3f5f",
             "gridcolor": "white",
             "linecolor": "white",
             "minorgridcolor": "white",
             "startlinecolor": "#2a3f5f"
            },
            "baxis": {
             "endlinecolor": "#2a3f5f",
             "gridcolor": "white",
             "linecolor": "white",
             "minorgridcolor": "white",
             "startlinecolor": "#2a3f5f"
            },
            "type": "carpet"
           }
          ],
          "choropleth": [
           {
            "colorbar": {
             "outlinewidth": 0,
             "ticks": ""
            },
            "type": "choropleth"
           }
          ],
          "contour": [
           {
            "colorbar": {
             "outlinewidth": 0,
             "ticks": ""
            },
            "colorscale": [
             [
              0,
              "#0d0887"
             ],
             [
              0.1111111111111111,
              "#46039f"
             ],
             [
              0.2222222222222222,
              "#7201a8"
             ],
             [
              0.3333333333333333,
              "#9c179e"
             ],
             [
              0.4444444444444444,
              "#bd3786"
             ],
             [
              0.5555555555555556,
              "#d8576b"
             ],
             [
              0.6666666666666666,
              "#ed7953"
             ],
             [
              0.7777777777777778,
              "#fb9f3a"
             ],
             [
              0.8888888888888888,
              "#fdca26"
             ],
             [
              1,
              "#f0f921"
             ]
            ],
            "type": "contour"
           }
          ],
          "contourcarpet": [
           {
            "colorbar": {
             "outlinewidth": 0,
             "ticks": ""
            },
            "type": "contourcarpet"
           }
          ],
          "heatmap": [
           {
            "colorbar": {
             "outlinewidth": 0,
             "ticks": ""
            },
            "colorscale": [
             [
              0,
              "#0d0887"
             ],
             [
              0.1111111111111111,
              "#46039f"
             ],
             [
              0.2222222222222222,
              "#7201a8"
             ],
             [
              0.3333333333333333,
              "#9c179e"
             ],
             [
              0.4444444444444444,
              "#bd3786"
             ],
             [
              0.5555555555555556,
              "#d8576b"
             ],
             [
              0.6666666666666666,
              "#ed7953"
             ],
             [
              0.7777777777777778,
              "#fb9f3a"
             ],
             [
              0.8888888888888888,
              "#fdca26"
             ],
             [
              1,
              "#f0f921"
             ]
            ],
            "type": "heatmap"
           }
          ],
          "heatmapgl": [
           {
            "colorbar": {
             "outlinewidth": 0,
             "ticks": ""
            },
            "colorscale": [
             [
              0,
              "#0d0887"
             ],
             [
              0.1111111111111111,
              "#46039f"
             ],
             [
              0.2222222222222222,
              "#7201a8"
             ],
             [
              0.3333333333333333,
              "#9c179e"
             ],
             [
              0.4444444444444444,
              "#bd3786"
             ],
             [
              0.5555555555555556,
              "#d8576b"
             ],
             [
              0.6666666666666666,
              "#ed7953"
             ],
             [
              0.7777777777777778,
              "#fb9f3a"
             ],
             [
              0.8888888888888888,
              "#fdca26"
             ],
             [
              1,
              "#f0f921"
             ]
            ],
            "type": "heatmapgl"
           }
          ],
          "histogram": [
           {
            "marker": {
             "colorbar": {
              "outlinewidth": 0,
              "ticks": ""
             }
            },
            "type": "histogram"
           }
          ],
          "histogram2d": [
           {
            "colorbar": {
             "outlinewidth": 0,
             "ticks": ""
            },
            "colorscale": [
             [
              0,
              "#0d0887"
             ],
             [
              0.1111111111111111,
              "#46039f"
             ],
             [
              0.2222222222222222,
              "#7201a8"
             ],
             [
              0.3333333333333333,
              "#9c179e"
             ],
             [
              0.4444444444444444,
              "#bd3786"
             ],
             [
              0.5555555555555556,
              "#d8576b"
             ],
             [
              0.6666666666666666,
              "#ed7953"
             ],
             [
              0.7777777777777778,
              "#fb9f3a"
             ],
             [
              0.8888888888888888,
              "#fdca26"
             ],
             [
              1,
              "#f0f921"
             ]
            ],
            "type": "histogram2d"
           }
          ],
          "histogram2dcontour": [
           {
            "colorbar": {
             "outlinewidth": 0,
             "ticks": ""
            },
            "colorscale": [
             [
              0,
              "#0d0887"
             ],
             [
              0.1111111111111111,
              "#46039f"
             ],
             [
              0.2222222222222222,
              "#7201a8"
             ],
             [
              0.3333333333333333,
              "#9c179e"
             ],
             [
              0.4444444444444444,
              "#bd3786"
             ],
             [
              0.5555555555555556,
              "#d8576b"
             ],
             [
              0.6666666666666666,
              "#ed7953"
             ],
             [
              0.7777777777777778,
              "#fb9f3a"
             ],
             [
              0.8888888888888888,
              "#fdca26"
             ],
             [
              1,
              "#f0f921"
             ]
            ],
            "type": "histogram2dcontour"
           }
          ],
          "mesh3d": [
           {
            "colorbar": {
             "outlinewidth": 0,
             "ticks": ""
            },
            "type": "mesh3d"
           }
          ],
          "parcoords": [
           {
            "line": {
             "colorbar": {
              "outlinewidth": 0,
              "ticks": ""
             }
            },
            "type": "parcoords"
           }
          ],
          "pie": [
           {
            "automargin": true,
            "type": "pie"
           }
          ],
          "scatter": [
           {
            "marker": {
             "colorbar": {
              "outlinewidth": 0,
              "ticks": ""
             }
            },
            "type": "scatter"
           }
          ],
          "scatter3d": [
           {
            "line": {
             "colorbar": {
              "outlinewidth": 0,
              "ticks": ""
             }
            },
            "marker": {
             "colorbar": {
              "outlinewidth": 0,
              "ticks": ""
             }
            },
            "type": "scatter3d"
           }
          ],
          "scattercarpet": [
           {
            "marker": {
             "colorbar": {
              "outlinewidth": 0,
              "ticks": ""
             }
            },
            "type": "scattercarpet"
           }
          ],
          "scattergeo": [
           {
            "marker": {
             "colorbar": {
              "outlinewidth": 0,
              "ticks": ""
             }
            },
            "type": "scattergeo"
           }
          ],
          "scattergl": [
           {
            "marker": {
             "colorbar": {
              "outlinewidth": 0,
              "ticks": ""
             }
            },
            "type": "scattergl"
           }
          ],
          "scattermapbox": [
           {
            "marker": {
             "colorbar": {
              "outlinewidth": 0,
              "ticks": ""
             }
            },
            "type": "scattermapbox"
           }
          ],
          "scatterpolar": [
           {
            "marker": {
             "colorbar": {
              "outlinewidth": 0,
              "ticks": ""
             }
            },
            "type": "scatterpolar"
           }
          ],
          "scatterpolargl": [
           {
            "marker": {
             "colorbar": {
              "outlinewidth": 0,
              "ticks": ""
             }
            },
            "type": "scatterpolargl"
           }
          ],
          "scatterternary": [
           {
            "marker": {
             "colorbar": {
              "outlinewidth": 0,
              "ticks": ""
             }
            },
            "type": "scatterternary"
           }
          ],
          "surface": [
           {
            "colorbar": {
             "outlinewidth": 0,
             "ticks": ""
            },
            "colorscale": [
             [
              0,
              "#0d0887"
             ],
             [
              0.1111111111111111,
              "#46039f"
             ],
             [
              0.2222222222222222,
              "#7201a8"
             ],
             [
              0.3333333333333333,
              "#9c179e"
             ],
             [
              0.4444444444444444,
              "#bd3786"
             ],
             [
              0.5555555555555556,
              "#d8576b"
             ],
             [
              0.6666666666666666,
              "#ed7953"
             ],
             [
              0.7777777777777778,
              "#fb9f3a"
             ],
             [
              0.8888888888888888,
              "#fdca26"
             ],
             [
              1,
              "#f0f921"
             ]
            ],
            "type": "surface"
           }
          ],
          "table": [
           {
            "cells": {
             "fill": {
              "color": "#EBF0F8"
             },
             "line": {
              "color": "white"
             }
            },
            "header": {
             "fill": {
              "color": "#C8D4E3"
             },
             "line": {
              "color": "white"
             }
            },
            "type": "table"
           }
          ]
         },
         "layout": {
          "annotationdefaults": {
           "arrowcolor": "#2a3f5f",
           "arrowhead": 0,
           "arrowwidth": 1
          },
          "coloraxis": {
           "colorbar": {
            "outlinewidth": 0,
            "ticks": ""
           }
          },
          "colorscale": {
           "diverging": [
            [
             0,
             "#8e0152"
            ],
            [
             0.1,
             "#c51b7d"
            ],
            [
             0.2,
             "#de77ae"
            ],
            [
             0.3,
             "#f1b6da"
            ],
            [
             0.4,
             "#fde0ef"
            ],
            [
             0.5,
             "#f7f7f7"
            ],
            [
             0.6,
             "#e6f5d0"
            ],
            [
             0.7,
             "#b8e186"
            ],
            [
             0.8,
             "#7fbc41"
            ],
            [
             0.9,
             "#4d9221"
            ],
            [
             1,
             "#276419"
            ]
           ],
           "sequential": [
            [
             0,
             "#0d0887"
            ],
            [
             0.1111111111111111,
             "#46039f"
            ],
            [
             0.2222222222222222,
             "#7201a8"
            ],
            [
             0.3333333333333333,
             "#9c179e"
            ],
            [
             0.4444444444444444,
             "#bd3786"
            ],
            [
             0.5555555555555556,
             "#d8576b"
            ],
            [
             0.6666666666666666,
             "#ed7953"
            ],
            [
             0.7777777777777778,
             "#fb9f3a"
            ],
            [
             0.8888888888888888,
             "#fdca26"
            ],
            [
             1,
             "#f0f921"
            ]
           ],
           "sequentialminus": [
            [
             0,
             "#0d0887"
            ],
            [
             0.1111111111111111,
             "#46039f"
            ],
            [
             0.2222222222222222,
             "#7201a8"
            ],
            [
             0.3333333333333333,
             "#9c179e"
            ],
            [
             0.4444444444444444,
             "#bd3786"
            ],
            [
             0.5555555555555556,
             "#d8576b"
            ],
            [
             0.6666666666666666,
             "#ed7953"
            ],
            [
             0.7777777777777778,
             "#fb9f3a"
            ],
            [
             0.8888888888888888,
             "#fdca26"
            ],
            [
             1,
             "#f0f921"
            ]
           ]
          },
          "colorway": [
           "#636efa",
           "#EF553B",
           "#00cc96",
           "#ab63fa",
           "#FFA15A",
           "#19d3f3",
           "#FF6692",
           "#B6E880",
           "#FF97FF",
           "#FECB52"
          ],
          "font": {
           "color": "#2a3f5f"
          },
          "geo": {
           "bgcolor": "white",
           "lakecolor": "white",
           "landcolor": "#E5ECF6",
           "showlakes": true,
           "showland": true,
           "subunitcolor": "white"
          },
          "hoverlabel": {
           "align": "left"
          },
          "hovermode": "closest",
          "mapbox": {
           "style": "light"
          },
          "paper_bgcolor": "white",
          "plot_bgcolor": "#E5ECF6",
          "polar": {
           "angularaxis": {
            "gridcolor": "white",
            "linecolor": "white",
            "ticks": ""
           },
           "bgcolor": "#E5ECF6",
           "radialaxis": {
            "gridcolor": "white",
            "linecolor": "white",
            "ticks": ""
           }
          },
          "scene": {
           "xaxis": {
            "backgroundcolor": "#E5ECF6",
            "gridcolor": "white",
            "gridwidth": 2,
            "linecolor": "white",
            "showbackground": true,
            "ticks": "",
            "zerolinecolor": "white"
           },
           "yaxis": {
            "backgroundcolor": "#E5ECF6",
            "gridcolor": "white",
            "gridwidth": 2,
            "linecolor": "white",
            "showbackground": true,
            "ticks": "",
            "zerolinecolor": "white"
           },
           "zaxis": {
            "backgroundcolor": "#E5ECF6",
            "gridcolor": "white",
            "gridwidth": 2,
            "linecolor": "white",
            "showbackground": true,
            "ticks": "",
            "zerolinecolor": "white"
           }
          },
          "shapedefaults": {
           "line": {
            "color": "#2a3f5f"
           }
          },
          "ternary": {
           "aaxis": {
            "gridcolor": "white",
            "linecolor": "white",
            "ticks": ""
           },
           "baxis": {
            "gridcolor": "white",
            "linecolor": "white",
            "ticks": ""
           },
           "bgcolor": "#E5ECF6",
           "caxis": {
            "gridcolor": "white",
            "linecolor": "white",
            "ticks": ""
           }
          },
          "title": {
           "x": 0.05
          },
          "xaxis": {
           "automargin": true,
           "gridcolor": "white",
           "linecolor": "white",
           "ticks": "",
           "title": {
            "standoff": 15
           },
           "zerolinecolor": "white",
           "zerolinewidth": 2
          },
          "yaxis": {
           "automargin": true,
           "gridcolor": "white",
           "linecolor": "white",
           "ticks": "",
           "title": {
            "standoff": 15
           },
           "zerolinecolor": "white",
           "zerolinewidth": 2
          }
         }
        }
       }
      },
      "text/html": [
       "<div>\n",
       "        \n",
       "        \n",
       "            <div id=\"f747e7c7-ffbf-4f3b-8e08-44f3d9763702\" class=\"plotly-graph-div\" style=\"height:525px; width:100%;\"></div>\n",
       "            <script type=\"text/javascript\">\n",
       "                require([\"plotly\"], function(Plotly) {\n",
       "                    window.PLOTLYENV=window.PLOTLYENV || {};\n",
       "                    \n",
       "                if (document.getElementById(\"f747e7c7-ffbf-4f3b-8e08-44f3d9763702\")) {\n",
       "                    Plotly.newPlot(\n",
       "                        'f747e7c7-ffbf-4f3b-8e08-44f3d9763702',\n",
       "                        [{\"error_y\": {\"array\": [0.0009666386311703197, 0.00039869674416872407, 0.0020371769335209115, 0.001344095734323236, 0.000982037117188488, 0.0014215527038941873, 0.0009655174004876196, 0.001029563202915246], \"type\": \"data\", \"visible\": true}, \"marker\": {\"color\": [0.0030619847466108567, -0.00137671230729633, 0.002165650263395785, 0.0022225742281668666, -0.001215841102565049, 0.003417004162376256, 0.0022315168786104034, -0.004386123224111853], \"colorscale\": [[0.0, \"rgb(0,0,255)\"], [1.0, \"rgb(255,0,0)\"]], \"opacity\": 0.8, \"showscale\": true}, \"name\": \"Ratings_Score_Top_Coef\", \"type\": \"bar\", \"x\": [\"gender_M\", \"years_member\", \"25_and_less\", \"25_to_40\", \"60+\", \"group1\", \"group2\", \"group3\"], \"y\": [0.0030619847466108567, -0.00137671230729633, 0.002165650263395785, 0.0022225742281668666, -0.001215841102565049, 0.003417004162376256, 0.0022315168786104034, -0.004386123224111853]}],\n",
       "                        {\"template\": {\"data\": {\"bar\": [{\"error_x\": {\"color\": \"#2a3f5f\"}, \"error_y\": {\"color\": \"#2a3f5f\"}, \"marker\": {\"line\": {\"color\": \"#E5ECF6\", \"width\": 0.5}}, \"type\": \"bar\"}], \"barpolar\": [{\"marker\": {\"line\": {\"color\": \"#E5ECF6\", \"width\": 0.5}}, \"type\": \"barpolar\"}], \"carpet\": [{\"aaxis\": {\"endlinecolor\": \"#2a3f5f\", \"gridcolor\": \"white\", \"linecolor\": \"white\", \"minorgridcolor\": \"white\", \"startlinecolor\": \"#2a3f5f\"}, \"baxis\": {\"endlinecolor\": \"#2a3f5f\", \"gridcolor\": \"white\", \"linecolor\": \"white\", \"minorgridcolor\": \"white\", \"startlinecolor\": \"#2a3f5f\"}, \"type\": \"carpet\"}], \"choropleth\": [{\"colorbar\": {\"outlinewidth\": 0, \"ticks\": \"\"}, \"type\": \"choropleth\"}], \"contour\": [{\"colorbar\": {\"outlinewidth\": 0, \"ticks\": \"\"}, \"colorscale\": [[0.0, \"#0d0887\"], [0.1111111111111111, \"#46039f\"], [0.2222222222222222, \"#7201a8\"], [0.3333333333333333, \"#9c179e\"], [0.4444444444444444, \"#bd3786\"], [0.5555555555555556, \"#d8576b\"], [0.6666666666666666, \"#ed7953\"], [0.7777777777777778, \"#fb9f3a\"], [0.8888888888888888, \"#fdca26\"], [1.0, \"#f0f921\"]], \"type\": \"contour\"}], \"contourcarpet\": [{\"colorbar\": {\"outlinewidth\": 0, \"ticks\": \"\"}, \"type\": \"contourcarpet\"}], \"heatmap\": [{\"colorbar\": {\"outlinewidth\": 0, \"ticks\": \"\"}, \"colorscale\": [[0.0, \"#0d0887\"], [0.1111111111111111, \"#46039f\"], [0.2222222222222222, \"#7201a8\"], [0.3333333333333333, \"#9c179e\"], [0.4444444444444444, \"#bd3786\"], [0.5555555555555556, \"#d8576b\"], [0.6666666666666666, \"#ed7953\"], [0.7777777777777778, \"#fb9f3a\"], [0.8888888888888888, \"#fdca26\"], [1.0, \"#f0f921\"]], \"type\": \"heatmap\"}], \"heatmapgl\": [{\"colorbar\": {\"outlinewidth\": 0, \"ticks\": \"\"}, \"colorscale\": [[0.0, \"#0d0887\"], [0.1111111111111111, \"#46039f\"], [0.2222222222222222, \"#7201a8\"], [0.3333333333333333, \"#9c179e\"], [0.4444444444444444, \"#bd3786\"], [0.5555555555555556, \"#d8576b\"], [0.6666666666666666, \"#ed7953\"], [0.7777777777777778, \"#fb9f3a\"], [0.8888888888888888, \"#fdca26\"], [1.0, \"#f0f921\"]], \"type\": \"heatmapgl\"}], \"histogram\": [{\"marker\": {\"colorbar\": {\"outlinewidth\": 0, \"ticks\": \"\"}}, \"type\": \"histogram\"}], \"histogram2d\": [{\"colorbar\": {\"outlinewidth\": 0, \"ticks\": \"\"}, \"colorscale\": [[0.0, \"#0d0887\"], [0.1111111111111111, \"#46039f\"], [0.2222222222222222, \"#7201a8\"], [0.3333333333333333, \"#9c179e\"], [0.4444444444444444, \"#bd3786\"], [0.5555555555555556, \"#d8576b\"], [0.6666666666666666, \"#ed7953\"], [0.7777777777777778, \"#fb9f3a\"], [0.8888888888888888, \"#fdca26\"], [1.0, \"#f0f921\"]], \"type\": \"histogram2d\"}], \"histogram2dcontour\": [{\"colorbar\": {\"outlinewidth\": 0, \"ticks\": \"\"}, \"colorscale\": [[0.0, \"#0d0887\"], [0.1111111111111111, \"#46039f\"], [0.2222222222222222, \"#7201a8\"], [0.3333333333333333, \"#9c179e\"], [0.4444444444444444, \"#bd3786\"], [0.5555555555555556, \"#d8576b\"], [0.6666666666666666, \"#ed7953\"], [0.7777777777777778, \"#fb9f3a\"], [0.8888888888888888, \"#fdca26\"], [1.0, \"#f0f921\"]], \"type\": \"histogram2dcontour\"}], \"mesh3d\": [{\"colorbar\": {\"outlinewidth\": 0, \"ticks\": \"\"}, \"type\": \"mesh3d\"}], \"parcoords\": [{\"line\": {\"colorbar\": {\"outlinewidth\": 0, \"ticks\": \"\"}}, \"type\": \"parcoords\"}], \"pie\": [{\"automargin\": true, \"type\": \"pie\"}], \"scatter\": [{\"marker\": {\"colorbar\": {\"outlinewidth\": 0, \"ticks\": \"\"}}, \"type\": \"scatter\"}], \"scatter3d\": [{\"line\": {\"colorbar\": {\"outlinewidth\": 0, \"ticks\": \"\"}}, \"marker\": {\"colorbar\": {\"outlinewidth\": 0, \"ticks\": \"\"}}, \"type\": \"scatter3d\"}], \"scattercarpet\": [{\"marker\": {\"colorbar\": {\"outlinewidth\": 0, \"ticks\": \"\"}}, \"type\": \"scattercarpet\"}], \"scattergeo\": [{\"marker\": {\"colorbar\": {\"outlinewidth\": 0, \"ticks\": \"\"}}, \"type\": \"scattergeo\"}], \"scattergl\": [{\"marker\": {\"colorbar\": {\"outlinewidth\": 0, \"ticks\": \"\"}}, \"type\": \"scattergl\"}], \"scattermapbox\": [{\"marker\": {\"colorbar\": {\"outlinewidth\": 0, \"ticks\": \"\"}}, \"type\": \"scattermapbox\"}], \"scatterpolar\": [{\"marker\": {\"colorbar\": {\"outlinewidth\": 0, \"ticks\": \"\"}}, \"type\": \"scatterpolar\"}], \"scatterpolargl\": [{\"marker\": {\"colorbar\": {\"outlinewidth\": 0, \"ticks\": \"\"}}, \"type\": \"scatterpolargl\"}], \"scatterternary\": [{\"marker\": {\"colorbar\": {\"outlinewidth\": 0, \"ticks\": \"\"}}, \"type\": \"scatterternary\"}], \"surface\": [{\"colorbar\": {\"outlinewidth\": 0, \"ticks\": \"\"}, \"colorscale\": [[0.0, \"#0d0887\"], [0.1111111111111111, \"#46039f\"], [0.2222222222222222, \"#7201a8\"], [0.3333333333333333, \"#9c179e\"], [0.4444444444444444, \"#bd3786\"], [0.5555555555555556, \"#d8576b\"], [0.6666666666666666, \"#ed7953\"], [0.7777777777777778, \"#fb9f3a\"], [0.8888888888888888, \"#fdca26\"], [1.0, \"#f0f921\"]], \"type\": \"surface\"}], \"table\": [{\"cells\": {\"fill\": {\"color\": \"#EBF0F8\"}, \"line\": {\"color\": \"white\"}}, \"header\": {\"fill\": {\"color\": \"#C8D4E3\"}, \"line\": {\"color\": \"white\"}}, \"type\": \"table\"}]}, \"layout\": {\"annotationdefaults\": {\"arrowcolor\": \"#2a3f5f\", \"arrowhead\": 0, \"arrowwidth\": 1}, \"coloraxis\": {\"colorbar\": {\"outlinewidth\": 0, \"ticks\": \"\"}}, \"colorscale\": {\"diverging\": [[0, \"#8e0152\"], [0.1, \"#c51b7d\"], [0.2, \"#de77ae\"], [0.3, \"#f1b6da\"], [0.4, \"#fde0ef\"], [0.5, \"#f7f7f7\"], [0.6, \"#e6f5d0\"], [0.7, \"#b8e186\"], [0.8, \"#7fbc41\"], [0.9, \"#4d9221\"], [1, \"#276419\"]], \"sequential\": [[0.0, \"#0d0887\"], [0.1111111111111111, \"#46039f\"], [0.2222222222222222, \"#7201a8\"], [0.3333333333333333, \"#9c179e\"], [0.4444444444444444, \"#bd3786\"], [0.5555555555555556, \"#d8576b\"], [0.6666666666666666, \"#ed7953\"], [0.7777777777777778, \"#fb9f3a\"], [0.8888888888888888, \"#fdca26\"], [1.0, \"#f0f921\"]], \"sequentialminus\": [[0.0, \"#0d0887\"], [0.1111111111111111, \"#46039f\"], [0.2222222222222222, \"#7201a8\"], [0.3333333333333333, \"#9c179e\"], [0.4444444444444444, \"#bd3786\"], [0.5555555555555556, \"#d8576b\"], [0.6666666666666666, \"#ed7953\"], [0.7777777777777778, \"#fb9f3a\"], [0.8888888888888888, \"#fdca26\"], [1.0, \"#f0f921\"]]}, \"colorway\": [\"#636efa\", \"#EF553B\", \"#00cc96\", \"#ab63fa\", \"#FFA15A\", \"#19d3f3\", \"#FF6692\", \"#B6E880\", \"#FF97FF\", \"#FECB52\"], \"font\": {\"color\": \"#2a3f5f\"}, \"geo\": {\"bgcolor\": \"white\", \"lakecolor\": \"white\", \"landcolor\": \"#E5ECF6\", \"showlakes\": true, \"showland\": true, \"subunitcolor\": \"white\"}, \"hoverlabel\": {\"align\": \"left\"}, \"hovermode\": \"closest\", \"mapbox\": {\"style\": \"light\"}, \"paper_bgcolor\": \"white\", \"plot_bgcolor\": \"#E5ECF6\", \"polar\": {\"angularaxis\": {\"gridcolor\": \"white\", \"linecolor\": \"white\", \"ticks\": \"\"}, \"bgcolor\": \"#E5ECF6\", \"radialaxis\": {\"gridcolor\": \"white\", \"linecolor\": \"white\", \"ticks\": \"\"}}, \"scene\": {\"xaxis\": {\"backgroundcolor\": \"#E5ECF6\", \"gridcolor\": \"white\", \"gridwidth\": 2, \"linecolor\": \"white\", \"showbackground\": true, \"ticks\": \"\", \"zerolinecolor\": \"white\"}, \"yaxis\": {\"backgroundcolor\": \"#E5ECF6\", \"gridcolor\": \"white\", \"gridwidth\": 2, \"linecolor\": \"white\", \"showbackground\": true, \"ticks\": \"\", \"zerolinecolor\": \"white\"}, \"zaxis\": {\"backgroundcolor\": \"#E5ECF6\", \"gridcolor\": \"white\", \"gridwidth\": 2, \"linecolor\": \"white\", \"showbackground\": true, \"ticks\": \"\", \"zerolinecolor\": \"white\"}}, \"shapedefaults\": {\"line\": {\"color\": \"#2a3f5f\"}}, \"ternary\": {\"aaxis\": {\"gridcolor\": \"white\", \"linecolor\": \"white\", \"ticks\": \"\"}, \"baxis\": {\"gridcolor\": \"white\", \"linecolor\": \"white\", \"ticks\": \"\"}, \"bgcolor\": \"#E5ECF6\", \"caxis\": {\"gridcolor\": \"white\", \"linecolor\": \"white\", \"ticks\": \"\"}}, \"title\": {\"x\": 0.05}, \"xaxis\": {\"automargin\": true, \"gridcolor\": \"white\", \"linecolor\": \"white\", \"ticks\": \"\", \"title\": {\"standoff\": 15}, \"zerolinecolor\": \"white\", \"zerolinewidth\": 2}, \"yaxis\": {\"automargin\": true, \"gridcolor\": \"white\", \"linecolor\": \"white\", \"ticks\": \"\", \"title\": {\"standoff\": 15}, \"zerolinecolor\": \"white\", \"zerolinewidth\": 2}}}},\n",
       "                        {\"responsive\": true}\n",
       "                    ).then(function(){\n",
       "                            \n",
       "var gd = document.getElementById('f747e7c7-ffbf-4f3b-8e08-44f3d9763702');\n",
       "var x = new MutationObserver(function (mutations, observer) {{\n",
       "        var display = window.getComputedStyle(gd).display;\n",
       "        if (!display || display === 'none') {{\n",
       "            console.log([gd, 'removed!']);\n",
       "            Plotly.purge(gd);\n",
       "            observer.disconnect();\n",
       "        }}\n",
       "}});\n",
       "\n",
       "// Listen for the removal of the full notebook cells\n",
       "var notebookContainer = gd.closest('#notebook-container');\n",
       "if (notebookContainer) {{\n",
       "    x.observe(notebookContainer, {childList: true});\n",
       "}}\n",
       "\n",
       "// Listen for the clearing of the current output cell\n",
       "var outputEl = gd.closest('.output');\n",
       "if (outputEl) {{\n",
       "    x.observe(outputEl, {childList: true});\n",
       "}}\n",
       "\n",
       "                        })\n",
       "                };\n",
       "                });\n",
       "            </script>\n",
       "        </div>"
      ]
     },
     "metadata": {},
     "output_type": "display_data"
    }
   ],
   "source": [
    "\n",
    "lm_results_sig = lm_results[lm_results['pvalues'] < 0.05]\n",
    "plot_sig_results(lm_results_sig)"
   ]
  },
  {
   "cell_type": "markdown",
   "metadata": {},
   "source": [
    "Takeaways:\n",
    "* consistency between rf regression and lm regression\n",
    "* biggest predictors of rewards increasing purchases: Male, 40 and less, make less than 75k a year\n",
    "* biggest predictors of rewards not greatly increasing purchases: Female, 60 +, longer years member, making greater than 75k\n",
    "\n",
    "While there may be greater long term benefits to rewarding long term members, and interaction effects are possible, it seems most impactful to reward people who are male, low-mid income, and/or young."
   ]
  },
  {
   "cell_type": "markdown",
   "metadata": {},
   "source": [
    "# WHICH OFFERS IN GENERAL ARE MOST IMPACTFUL?"
   ]
  },
  {
   "cell_type": "code",
   "execution_count": 376,
   "metadata": {},
   "outputs": [
    {
     "data": {
      "text/plain": [
       "Index(['user_id', 'offer_id', 'time', 'age', 'income', 'amount', 'reward',\n",
       "       'difficulty', 'duration', 'years_member', 'event_offer completed',\n",
       "       'event_offer received', 'event_offer viewed', 'event_transaction',\n",
       "       'gender_F', 'gender_M', 'gender_O', 'offer_type_bogo',\n",
       "       'offer_type_discount', 'offer_type_informational', 'web', 'email',\n",
       "       'mobile', 'social'],\n",
       "      dtype='object')"
      ]
     },
     "execution_count": 376,
     "metadata": {},
     "output_type": "execute_result"
    }
   ],
   "source": [
    "df_gb.columns"
   ]
  },
  {
   "cell_type": "code",
   "execution_count": 377,
   "metadata": {},
   "outputs": [
    {
     "name": "stderr",
     "output_type": "stream",
     "text": [
      "C:\\Users\\madke\\Anaconda3\\lib\\site-packages\\ipykernel_launcher.py:2: SettingWithCopyWarning:\n",
      "\n",
      "\n",
      "A value is trying to be set on a copy of a slice from a DataFrame.\n",
      "Try using .loc[row_indexer,col_indexer] = value instead\n",
      "\n",
      "See the caveats in the documentation: https://pandas.pydata.org/pandas-docs/stable/user_guide/indexing.html#returning-a-view-versus-a-copy\n",
      "\n"
     ]
    }
   ],
   "source": [
    "offer_df = df_gb[['user_id','offer_id', 'event_offer completed', 'event_offer viewed', 'event_offer received',  'offer_type_bogo','offer_type_discount', 'offer_type_informational', 'web', 'email', 'mobile', 'social', 'reward']]\n",
    "offer_df['reward_viewed_and_used'] = offer_influence(offer_df)"
   ]
  },
  {
   "cell_type": "code",
   "execution_count": 368,
   "metadata": {},
   "outputs": [
    {
     "name": "stdout",
     "output_type": "stream",
     "text": [
      "{'max_features': 4, 'min_samples_split': 82}\n"
     ]
    }
   ],
   "source": [
    "X = offer_df.reset_index(drop = True)\n",
    "X = X.drop(['event_offer completed',  'event_offer viewed', 'event_offer received',  'reward_viewed_and_used','user_id', 'offer_id'], axis = 1)\n",
    "y = np.array(offer_df['reward_viewed_and_used'])\n",
    "\n",
    "\n",
    "best_param = specify_best(model = RandomForestRegressor(random_state = 15), typ = 'RF', X = X, y = y)\n",
    "\n",
    "rf = RandomForestRegressor(min_samples_split=best_param.get('min_samples_split'), \n",
    "                           max_features= best_param.get('max_features'),random_state = 15)"
   ]
  },
  {
   "cell_type": "code",
   "execution_count": 369,
   "metadata": {},
   "outputs": [],
   "source": [
    "rf_res = run_models_kfold(rf, X, offer_df['reward_viewed_and_used'])"
   ]
  },
  {
   "cell_type": "code",
   "execution_count": 370,
   "metadata": {},
   "outputs": [
    {
     "name": "stdout",
     "output_type": "stream",
     "text": [
      "mss: 82\n",
      "max_feat: 4\n",
      "mean_mae: 0.3580993670576159\n",
      "mean_mse: 0.18721095211027367\n",
      "\n",
      "frequency: \n",
      "\n",
      "10\n",
      "10\n",
      "10\n",
      "10\n",
      "10\n",
      "10\n",
      "10\n",
      "10\n",
      "\n",
      "feat_imp: \n",
      "\n",
      "-0.0053866133612489025\n",
      "-0.0036826135903737997\n",
      "0.0\n",
      "0.001781630311206028\n",
      "0.005059739315259287\n",
      "0.05986518907326386\n",
      "0.08624426531638976\n",
      "0.10601407975616255\n",
      "\n",
      "top_ features\n",
      "\n",
      "offer_type_discount\n",
      "web\n",
      "email\n",
      "user_id\n",
      "mobile\n",
      "reward\n",
      "social\n",
      "offer_type_informational\n"
     ]
    }
   ],
   "source": [
    "#because of the small # of features, only 2 were > mean so in order to cast a wider net, we've included top 5\n",
    "eprf = top_features(rf_res[2], featn = 8, mean = False)\n",
    "print_vals(best_param, rf_res, eprf)"
   ]
  },
  {
   "cell_type": "code",
   "execution_count": 386,
   "metadata": {},
   "outputs": [
    {
     "name": "stderr",
     "output_type": "stream",
     "text": [
      "C:\\Users\\madke\\AppData\\Roaming\\Python\\Python36\\site-packages\\numpy\\linalg\\linalg.py:1872: RuntimeWarning:\n",
      "\n",
      "invalid value encountered in greater\n",
      "\n",
      "C:\\Users\\madke\\AppData\\Roaming\\Python\\Python36\\site-packages\\numpy\\linalg\\linalg.py:1872: RuntimeWarning:\n",
      "\n",
      "invalid value encountered in greater\n",
      "\n"
     ]
    },
    {
     "name": "stdout",
     "output_type": "stream",
     "text": [
      "Optimization terminated successfully.\n",
      "         Current function value: 0.684838\n",
      "         Iterations 3\n",
      "                             Logit Regression Results                             \n",
      "==================================================================================\n",
      "Dep. Variable:     reward_viewed_and_used   No. Observations:                55222\n",
      "Model:                              Logit   Df Residuals:                    55221\n",
      "Method:                               MLE   Df Model:                            0\n",
      "Date:                    Sun, 18 Oct 2020   Pseudo R-squ.:               -0.004138\n",
      "Time:                            15:18:53   Log-Likelihood:                -37818.\n",
      "converged:                           True   LL-Null:                       -37662.\n",
      "Covariance Type:                nonrobust   LLR p-value:                       nan\n",
      "==============================================================================\n",
      "                 coef    std err          z      P>|z|      [0.025      0.975]\n",
      "------------------------------------------------------------------------------\n",
      "user_id    -3.133e-05   1.04e-06    -30.060      0.000   -3.34e-05   -2.93e-05\n",
      "==============================================================================\n",
      "Optimization terminated successfully.\n",
      "         Current function value: 0.692792\n",
      "         Iterations 3\n",
      "                             Logit Regression Results                             \n",
      "==================================================================================\n",
      "Dep. Variable:     reward_viewed_and_used   No. Observations:                55222\n",
      "Model:                              Logit   Df Residuals:                    55221\n",
      "Method:                               MLE   Df Model:                            0\n",
      "Date:                    Sun, 18 Oct 2020   Pseudo R-squ.:                -0.01580\n",
      "Time:                            15:18:53   Log-Likelihood:                -38257.\n",
      "converged:                           True   LL-Null:                       -37662.\n",
      "Covariance Type:                nonrobust   LLR p-value:                       nan\n",
      "===================================================================================\n",
      "                      coef    std err          z      P>|z|      [0.025      0.975]\n",
      "-----------------------------------------------------------------------------------\n",
      "offer_type_bogo     0.0844      0.013      6.259      0.000       0.058       0.111\n",
      "===================================================================================\n",
      "Optimization terminated successfully.\n",
      "         Current function value: 0.691688\n",
      "         Iterations 3\n",
      "                             Logit Regression Results                             \n",
      "==================================================================================\n",
      "Dep. Variable:     reward_viewed_and_used   No. Observations:                55222\n",
      "Model:                              Logit   Df Residuals:                    55221\n",
      "Method:                               MLE   Df Model:                            0\n",
      "Date:                    Sun, 18 Oct 2020   Pseudo R-squ.:                -0.01418\n",
      "Time:                            15:18:53   Log-Likelihood:                -38196.\n",
      "converged:                           True   LL-Null:                       -37662.\n",
      "Covariance Type:                nonrobust   LLR p-value:                       nan\n",
      "=======================================================================================\n",
      "                          coef    std err          z      P>|z|      [0.025      0.975]\n",
      "---------------------------------------------------------------------------------------\n",
      "offer_type_discount     0.1710      0.013     12.672      0.000       0.145       0.197\n",
      "=======================================================================================\n"
     ]
    },
    {
     "name": "stderr",
     "output_type": "stream",
     "text": [
      "C:\\Users\\madke\\AppData\\Roaming\\Python\\Python36\\site-packages\\numpy\\linalg\\linalg.py:1872: RuntimeWarning:\n",
      "\n",
      "invalid value encountered in greater\n",
      "\n",
      "C:\\Users\\madke\\AppData\\Roaming\\Python\\Python36\\site-packages\\numpy\\linalg\\linalg.py:1872: RuntimeWarning:\n",
      "\n",
      "invalid value encountered in greater\n",
      "\n"
     ]
    },
    {
     "name": "stdout",
     "output_type": "stream",
     "text": [
      "Warning: Maximum number of iterations has been exceeded.\n",
      "         Current function value: 0.554560\n",
      "         Iterations: 35\n",
      "                             Logit Regression Results                             \n",
      "==================================================================================\n",
      "Dep. Variable:     reward_viewed_and_used   No. Observations:                55222\n",
      "Model:                              Logit   Df Residuals:                    55221\n",
      "Method:                               MLE   Df Model:                            0\n",
      "Date:                    Sun, 18 Oct 2020   Pseudo R-squ.:                  0.1869\n",
      "Time:                            15:18:54   Log-Likelihood:                -30624.\n",
      "converged:                          False   LL-Null:                       -37662.\n",
      "Covariance Type:                nonrobust   LLR p-value:                       nan\n",
      "============================================================================================\n",
      "                               coef    std err          z      P>|z|      [0.025      0.975]\n",
      "--------------------------------------------------------------------------------------------\n",
      "offer_type_informational   -20.4556    263.249     -0.078      0.938    -536.415     495.504\n",
      "============================================================================================\n",
      "\n",
      "Possibly complete quasi-separation: A fraction 0.20 of observations can be\n",
      "perfectly predicted. This might indicate that there is complete\n",
      "quasi-separation. In this case some parameters will not be identified.\n",
      "Optimization terminated successfully.\n",
      "         Current function value: 0.691573\n",
      "         Iterations 3\n",
      "                             Logit Regression Results                             \n",
      "==================================================================================\n",
      "Dep. Variable:     reward_viewed_and_used   No. Observations:                55222\n",
      "Model:                              Logit   Df Residuals:                    55221\n",
      "Method:                               MLE   Df Model:                            0\n",
      "Date:                    Sun, 18 Oct 2020   Pseudo R-squ.:                -0.01401\n",
      "Time:                            15:18:54   Log-Likelihood:                -38190.\n",
      "converged:                           True   LL-Null:                       -37662.\n",
      "Covariance Type:                nonrobust   LLR p-value:                       nan\n",
      "==============================================================================\n",
      "                 coef    std err          z      P>|z|      [0.025      0.975]\n",
      "------------------------------------------------------------------------------\n",
      "web           -0.1256      0.010    -13.171      0.000      -0.144      -0.107\n",
      "==============================================================================\n"
     ]
    },
    {
     "name": "stderr",
     "output_type": "stream",
     "text": [
      "C:\\Users\\madke\\AppData\\Roaming\\Python\\Python36\\site-packages\\statsmodels\\base\\model.py:568: ConvergenceWarning:\n",
      "\n",
      "Maximum Likelihood optimization failed to converge. Check mle_retvals\n",
      "\n",
      "C:\\Users\\madke\\AppData\\Roaming\\Python\\Python36\\site-packages\\numpy\\linalg\\linalg.py:1872: RuntimeWarning:\n",
      "\n",
      "invalid value encountered in greater\n",
      "\n",
      "C:\\Users\\madke\\AppData\\Roaming\\Python\\Python36\\site-packages\\statsmodels\\tools\\tools.py:689: RuntimeWarning:\n",
      "\n",
      "invalid value encountered in greater\n",
      "\n",
      "C:\\Users\\madke\\AppData\\Roaming\\Python\\Python36\\site-packages\\numpy\\linalg\\linalg.py:1872: RuntimeWarning:\n",
      "\n",
      "invalid value encountered in greater\n",
      "\n"
     ]
    },
    {
     "name": "stdout",
     "output_type": "stream",
     "text": [
      "Optimization terminated successfully.\n",
      "         Current function value: 0.682016\n",
      "         Iterations 4\n",
      "                             Logit Regression Results                             \n",
      "==================================================================================\n",
      "Dep. Variable:     reward_viewed_and_used   No. Observations:                55222\n",
      "Model:                              Logit   Df Residuals:                    55222\n",
      "Method:                               MLE   Df Model:                           -1\n",
      "Date:                    Sun, 18 Oct 2020   Pseudo R-squ.:               8.364e-11\n",
      "Time:                            15:18:54   Log-Likelihood:                -37662.\n",
      "converged:                           True   LL-Null:                       -37662.\n",
      "Covariance Type:                nonrobust   LLR p-value:                       nan\n",
      "==============================================================================\n",
      "                 coef    std err          z      P>|z|      [0.025      0.975]\n",
      "------------------------------------------------------------------------------\n",
      "email         -0.3001      0.009    -34.866      0.000      -0.317      -0.283\n",
      "==============================================================================\n",
      "Optimization terminated successfully.\n",
      "         Current function value: 0.687537\n",
      "         Iterations 4\n",
      "                             Logit Regression Results                             \n",
      "==================================================================================\n",
      "Dep. Variable:     reward_viewed_and_used   No. Observations:                55222\n",
      "Model:                              Logit   Df Residuals:                    55221\n",
      "Method:                               MLE   Df Model:                            0\n",
      "Date:                    Sun, 18 Oct 2020   Pseudo R-squ.:               -0.008094\n",
      "Time:                            15:18:54   Log-Likelihood:                -37967.\n",
      "converged:                           True   LL-Null:                       -37662.\n",
      "Covariance Type:                nonrobust   LLR p-value:                       nan\n",
      "==============================================================================\n",
      "                 coef    std err          z      P>|z|      [0.025      0.975]\n",
      "------------------------------------------------------------------------------\n",
      "mobile        -0.2242      0.009    -24.815      0.000      -0.242      -0.206\n",
      "==============================================================================\n",
      "Optimization terminated successfully.\n",
      "         Current function value: 0.692496\n",
      "         Iterations 3\n",
      "                             Logit Regression Results                             \n",
      "==================================================================================\n",
      "Dep. Variable:     reward_viewed_and_used   No. Observations:                55222\n",
      "Model:                              Logit   Df Residuals:                    55221\n",
      "Method:                               MLE   Df Model:                            0\n",
      "Date:                    Sun, 18 Oct 2020   Pseudo R-squ.:                -0.01537\n",
      "Time:                            15:18:54   Log-Likelihood:                -38241.\n",
      "converged:                           True   LL-Null:                       -37662.\n",
      "Covariance Type:                nonrobust   LLR p-value:                       nan\n",
      "==============================================================================\n",
      "                 coef    std err          z      P>|z|      [0.025      0.975]\n",
      "------------------------------------------------------------------------------\n",
      "social         0.0933      0.011      8.474      0.000       0.072       0.115\n",
      "==============================================================================\n",
      "Optimization terminated successfully.\n",
      "         Current function value: 0.693067\n",
      "         Iterations 3\n",
      "                             Logit Regression Results                             \n",
      "==================================================================================\n",
      "Dep. Variable:     reward_viewed_and_used   No. Observations:                55222\n",
      "Model:                              Logit   Df Residuals:                    55221\n",
      "Method:                               MLE   Df Model:                            0\n",
      "Date:                    Sun, 18 Oct 2020   Pseudo R-squ.:                -0.01620\n",
      "Time:                            15:18:54   Log-Likelihood:                -38273.\n",
      "converged:                           True   LL-Null:                       -37662.\n",
      "Covariance Type:                nonrobust   LLR p-value:                       nan\n",
      "==============================================================================\n",
      "                 coef    std err          z      P>|z|      [0.025      0.975]\n",
      "------------------------------------------------------------------------------\n",
      "reward         0.0047      0.002      2.985      0.003       0.002       0.008\n",
      "==============================================================================\n"
     ]
    },
    {
     "name": "stderr",
     "output_type": "stream",
     "text": [
      "C:\\Users\\madke\\AppData\\Roaming\\Python\\Python36\\site-packages\\numpy\\linalg\\linalg.py:1872: RuntimeWarning:\n",
      "\n",
      "invalid value encountered in greater\n",
      "\n"
     ]
    }
   ],
   "source": [
    "models = []\n",
    "cols = X.columns\n",
    "\n",
    "for i in cols:\n",
    "    lm_i = logm(offer_df[i], offer_df['reward_viewed_and_used'], offer_df)\n",
    "    models.append(lm_i)\n",
    "    if lm_i != 'FAIL':\n",
    "        print(lm_i.summary())"
   ]
  },
  {
   "cell_type": "code",
   "execution_count": 387,
   "metadata": {},
   "outputs": [
    {
     "data": {
      "text/html": [
       "<style  type=\"text/css\" >\n",
       "#T_2782a3c0_117f_11eb_9cde_8cec4b0ec919row0_col1,#T_2782a3c0_117f_11eb_9cde_8cec4b0ec919row1_col1,#T_2782a3c0_117f_11eb_9cde_8cec4b0ec919row2_col1,#T_2782a3c0_117f_11eb_9cde_8cec4b0ec919row4_col1,#T_2782a3c0_117f_11eb_9cde_8cec4b0ec919row5_col1,#T_2782a3c0_117f_11eb_9cde_8cec4b0ec919row6_col1,#T_2782a3c0_117f_11eb_9cde_8cec4b0ec919row7_col1,#T_2782a3c0_117f_11eb_9cde_8cec4b0ec919row8_col1{\n",
       "            background-color:  #fff7fb;\n",
       "            color:  #000000;\n",
       "        }#T_2782a3c0_117f_11eb_9cde_8cec4b0ec919row3_col1{\n",
       "            background-color:  #023858;\n",
       "            color:  #f1f1f1;\n",
       "        }</style><table id=\"T_2782a3c0_117f_11eb_9cde_8cec4b0ec919\" ><thead>    <tr>        <th class=\"blank level0\" ></th>        <th class=\"col_heading level0 col0\" >features</th>        <th class=\"col_heading level0 col1\" >pvalues</th>    </tr></thead><tbody>\n",
       "                <tr>\n",
       "                        <th id=\"T_2782a3c0_117f_11eb_9cde_8cec4b0ec919level0_row0\" class=\"row_heading level0 row0\" >0</th>\n",
       "                        <td id=\"T_2782a3c0_117f_11eb_9cde_8cec4b0ec919row0_col0\" class=\"data row0 col0\" >user_id</td>\n",
       "                        <td id=\"T_2782a3c0_117f_11eb_9cde_8cec4b0ec919row0_col1\" class=\"data row0 col1\" >0.000000</td>\n",
       "            </tr>\n",
       "            <tr>\n",
       "                        <th id=\"T_2782a3c0_117f_11eb_9cde_8cec4b0ec919level0_row1\" class=\"row_heading level0 row1\" >1</th>\n",
       "                        <td id=\"T_2782a3c0_117f_11eb_9cde_8cec4b0ec919row1_col0\" class=\"data row1 col0\" >offer_type_bogo</td>\n",
       "                        <td id=\"T_2782a3c0_117f_11eb_9cde_8cec4b0ec919row1_col1\" class=\"data row1 col1\" >0.000000</td>\n",
       "            </tr>\n",
       "            <tr>\n",
       "                        <th id=\"T_2782a3c0_117f_11eb_9cde_8cec4b0ec919level0_row2\" class=\"row_heading level0 row2\" >2</th>\n",
       "                        <td id=\"T_2782a3c0_117f_11eb_9cde_8cec4b0ec919row2_col0\" class=\"data row2 col0\" >offer_type_discount</td>\n",
       "                        <td id=\"T_2782a3c0_117f_11eb_9cde_8cec4b0ec919row2_col1\" class=\"data row2 col1\" >0.000000</td>\n",
       "            </tr>\n",
       "            <tr>\n",
       "                        <th id=\"T_2782a3c0_117f_11eb_9cde_8cec4b0ec919level0_row3\" class=\"row_heading level0 row3\" >3</th>\n",
       "                        <td id=\"T_2782a3c0_117f_11eb_9cde_8cec4b0ec919row3_col0\" class=\"data row3 col0\" >offer_type_informational</td>\n",
       "                        <td id=\"T_2782a3c0_117f_11eb_9cde_8cec4b0ec919row3_col1\" class=\"data row3 col1\" >0.938063</td>\n",
       "            </tr>\n",
       "            <tr>\n",
       "                        <th id=\"T_2782a3c0_117f_11eb_9cde_8cec4b0ec919level0_row4\" class=\"row_heading level0 row4\" >4</th>\n",
       "                        <td id=\"T_2782a3c0_117f_11eb_9cde_8cec4b0ec919row4_col0\" class=\"data row4 col0\" >web</td>\n",
       "                        <td id=\"T_2782a3c0_117f_11eb_9cde_8cec4b0ec919row4_col1\" class=\"data row4 col1\" >0.000000</td>\n",
       "            </tr>\n",
       "            <tr>\n",
       "                        <th id=\"T_2782a3c0_117f_11eb_9cde_8cec4b0ec919level0_row5\" class=\"row_heading level0 row5\" >5</th>\n",
       "                        <td id=\"T_2782a3c0_117f_11eb_9cde_8cec4b0ec919row5_col0\" class=\"data row5 col0\" >email</td>\n",
       "                        <td id=\"T_2782a3c0_117f_11eb_9cde_8cec4b0ec919row5_col1\" class=\"data row5 col1\" >0.000000</td>\n",
       "            </tr>\n",
       "            <tr>\n",
       "                        <th id=\"T_2782a3c0_117f_11eb_9cde_8cec4b0ec919level0_row6\" class=\"row_heading level0 row6\" >6</th>\n",
       "                        <td id=\"T_2782a3c0_117f_11eb_9cde_8cec4b0ec919row6_col0\" class=\"data row6 col0\" >mobile</td>\n",
       "                        <td id=\"T_2782a3c0_117f_11eb_9cde_8cec4b0ec919row6_col1\" class=\"data row6 col1\" >0.000000</td>\n",
       "            </tr>\n",
       "            <tr>\n",
       "                        <th id=\"T_2782a3c0_117f_11eb_9cde_8cec4b0ec919level0_row7\" class=\"row_heading level0 row7\" >7</th>\n",
       "                        <td id=\"T_2782a3c0_117f_11eb_9cde_8cec4b0ec919row7_col0\" class=\"data row7 col0\" >social</td>\n",
       "                        <td id=\"T_2782a3c0_117f_11eb_9cde_8cec4b0ec919row7_col1\" class=\"data row7 col1\" >0.000000</td>\n",
       "            </tr>\n",
       "            <tr>\n",
       "                        <th id=\"T_2782a3c0_117f_11eb_9cde_8cec4b0ec919level0_row8\" class=\"row_heading level0 row8\" >8</th>\n",
       "                        <td id=\"T_2782a3c0_117f_11eb_9cde_8cec4b0ec919row8_col0\" class=\"data row8 col0\" >reward</td>\n",
       "                        <td id=\"T_2782a3c0_117f_11eb_9cde_8cec4b0ec919row8_col1\" class=\"data row8 col1\" >0.002838</td>\n",
       "            </tr>\n",
       "    </tbody></table>"
      ],
      "text/plain": [
       "<pandas.io.formats.style.Styler at 0x17f41f47630>"
      ]
     },
     "execution_count": 387,
     "metadata": {},
     "output_type": "execute_result"
    }
   ],
   "source": [
    "logm_results = pd.DataFrame({\n",
    "    \n",
    "    'features': [i.pvalues.index[0] for i in models],\n",
    "    'pvalues':[i.pvalues[0] for i in models],\n",
    "    'coef': [i.params[0] for i in models],\n",
    "    'conf_int_025': [i.conf_int()[0][0] for i in models],\n",
    "    'conf_int_975': [i.conf_int()[1][0] for i in models]\n",
    "    \n",
    "})\n",
    "\n",
    "logm_results[['features', 'pvalues']].style.background_gradient()"
   ]
  },
  {
   "cell_type": "code",
   "execution_count": 373,
   "metadata": {},
   "outputs": [
    {
     "data": {
      "application/vnd.plotly.v1+json": {
       "config": {
        "plotlyServerURL": "https://plot.ly"
       },
       "data": [
        {
         "error_y": {
          "array": [
           4.085864424707486e-06,
           0.052828933834152936,
           0.05290680280542165,
           0.03738894335157944,
           0.03373823323851388,
           0.03541120751600629,
           0.04314643777468177,
           0.0061693624408791035
          ],
          "type": "data",
          "visible": true
         },
         "marker": {
          "color": [
           -3.13327594034691e-05,
           0.08435785003460006,
           0.17103828973548915,
           -0.1256265488248095,
           -0.30008410279485564,
           -0.22416810905333598,
           0.09327356034904723,
           0.004697549758264968
          ],
          "colorscale": [
           [
            0,
            "rgb(0,0,255)"
           ],
           [
            1,
            "rgb(255,0,0)"
           ]
          ],
          "opacity": 0.8,
          "showscale": true
         },
         "name": "Ratings_Score_Top_Coef",
         "type": "bar",
         "x": [
          "user_id",
          "offer_type_bogo",
          "offer_type_discount",
          "web",
          "email",
          "mobile",
          "social",
          "reward"
         ],
         "y": [
          -3.13327594034691e-05,
          0.08435785003460006,
          0.17103828973548915,
          -0.1256265488248095,
          -0.30008410279485564,
          -0.22416810905333598,
          0.09327356034904723,
          0.004697549758264968
         ]
        }
       ],
       "layout": {
        "template": {
         "data": {
          "bar": [
           {
            "error_x": {
             "color": "#2a3f5f"
            },
            "error_y": {
             "color": "#2a3f5f"
            },
            "marker": {
             "line": {
              "color": "#E5ECF6",
              "width": 0.5
             }
            },
            "type": "bar"
           }
          ],
          "barpolar": [
           {
            "marker": {
             "line": {
              "color": "#E5ECF6",
              "width": 0.5
             }
            },
            "type": "barpolar"
           }
          ],
          "carpet": [
           {
            "aaxis": {
             "endlinecolor": "#2a3f5f",
             "gridcolor": "white",
             "linecolor": "white",
             "minorgridcolor": "white",
             "startlinecolor": "#2a3f5f"
            },
            "baxis": {
             "endlinecolor": "#2a3f5f",
             "gridcolor": "white",
             "linecolor": "white",
             "minorgridcolor": "white",
             "startlinecolor": "#2a3f5f"
            },
            "type": "carpet"
           }
          ],
          "choropleth": [
           {
            "colorbar": {
             "outlinewidth": 0,
             "ticks": ""
            },
            "type": "choropleth"
           }
          ],
          "contour": [
           {
            "colorbar": {
             "outlinewidth": 0,
             "ticks": ""
            },
            "colorscale": [
             [
              0,
              "#0d0887"
             ],
             [
              0.1111111111111111,
              "#46039f"
             ],
             [
              0.2222222222222222,
              "#7201a8"
             ],
             [
              0.3333333333333333,
              "#9c179e"
             ],
             [
              0.4444444444444444,
              "#bd3786"
             ],
             [
              0.5555555555555556,
              "#d8576b"
             ],
             [
              0.6666666666666666,
              "#ed7953"
             ],
             [
              0.7777777777777778,
              "#fb9f3a"
             ],
             [
              0.8888888888888888,
              "#fdca26"
             ],
             [
              1,
              "#f0f921"
             ]
            ],
            "type": "contour"
           }
          ],
          "contourcarpet": [
           {
            "colorbar": {
             "outlinewidth": 0,
             "ticks": ""
            },
            "type": "contourcarpet"
           }
          ],
          "heatmap": [
           {
            "colorbar": {
             "outlinewidth": 0,
             "ticks": ""
            },
            "colorscale": [
             [
              0,
              "#0d0887"
             ],
             [
              0.1111111111111111,
              "#46039f"
             ],
             [
              0.2222222222222222,
              "#7201a8"
             ],
             [
              0.3333333333333333,
              "#9c179e"
             ],
             [
              0.4444444444444444,
              "#bd3786"
             ],
             [
              0.5555555555555556,
              "#d8576b"
             ],
             [
              0.6666666666666666,
              "#ed7953"
             ],
             [
              0.7777777777777778,
              "#fb9f3a"
             ],
             [
              0.8888888888888888,
              "#fdca26"
             ],
             [
              1,
              "#f0f921"
             ]
            ],
            "type": "heatmap"
           }
          ],
          "heatmapgl": [
           {
            "colorbar": {
             "outlinewidth": 0,
             "ticks": ""
            },
            "colorscale": [
             [
              0,
              "#0d0887"
             ],
             [
              0.1111111111111111,
              "#46039f"
             ],
             [
              0.2222222222222222,
              "#7201a8"
             ],
             [
              0.3333333333333333,
              "#9c179e"
             ],
             [
              0.4444444444444444,
              "#bd3786"
             ],
             [
              0.5555555555555556,
              "#d8576b"
             ],
             [
              0.6666666666666666,
              "#ed7953"
             ],
             [
              0.7777777777777778,
              "#fb9f3a"
             ],
             [
              0.8888888888888888,
              "#fdca26"
             ],
             [
              1,
              "#f0f921"
             ]
            ],
            "type": "heatmapgl"
           }
          ],
          "histogram": [
           {
            "marker": {
             "colorbar": {
              "outlinewidth": 0,
              "ticks": ""
             }
            },
            "type": "histogram"
           }
          ],
          "histogram2d": [
           {
            "colorbar": {
             "outlinewidth": 0,
             "ticks": ""
            },
            "colorscale": [
             [
              0,
              "#0d0887"
             ],
             [
              0.1111111111111111,
              "#46039f"
             ],
             [
              0.2222222222222222,
              "#7201a8"
             ],
             [
              0.3333333333333333,
              "#9c179e"
             ],
             [
              0.4444444444444444,
              "#bd3786"
             ],
             [
              0.5555555555555556,
              "#d8576b"
             ],
             [
              0.6666666666666666,
              "#ed7953"
             ],
             [
              0.7777777777777778,
              "#fb9f3a"
             ],
             [
              0.8888888888888888,
              "#fdca26"
             ],
             [
              1,
              "#f0f921"
             ]
            ],
            "type": "histogram2d"
           }
          ],
          "histogram2dcontour": [
           {
            "colorbar": {
             "outlinewidth": 0,
             "ticks": ""
            },
            "colorscale": [
             [
              0,
              "#0d0887"
             ],
             [
              0.1111111111111111,
              "#46039f"
             ],
             [
              0.2222222222222222,
              "#7201a8"
             ],
             [
              0.3333333333333333,
              "#9c179e"
             ],
             [
              0.4444444444444444,
              "#bd3786"
             ],
             [
              0.5555555555555556,
              "#d8576b"
             ],
             [
              0.6666666666666666,
              "#ed7953"
             ],
             [
              0.7777777777777778,
              "#fb9f3a"
             ],
             [
              0.8888888888888888,
              "#fdca26"
             ],
             [
              1,
              "#f0f921"
             ]
            ],
            "type": "histogram2dcontour"
           }
          ],
          "mesh3d": [
           {
            "colorbar": {
             "outlinewidth": 0,
             "ticks": ""
            },
            "type": "mesh3d"
           }
          ],
          "parcoords": [
           {
            "line": {
             "colorbar": {
              "outlinewidth": 0,
              "ticks": ""
             }
            },
            "type": "parcoords"
           }
          ],
          "pie": [
           {
            "automargin": true,
            "type": "pie"
           }
          ],
          "scatter": [
           {
            "marker": {
             "colorbar": {
              "outlinewidth": 0,
              "ticks": ""
             }
            },
            "type": "scatter"
           }
          ],
          "scatter3d": [
           {
            "line": {
             "colorbar": {
              "outlinewidth": 0,
              "ticks": ""
             }
            },
            "marker": {
             "colorbar": {
              "outlinewidth": 0,
              "ticks": ""
             }
            },
            "type": "scatter3d"
           }
          ],
          "scattercarpet": [
           {
            "marker": {
             "colorbar": {
              "outlinewidth": 0,
              "ticks": ""
             }
            },
            "type": "scattercarpet"
           }
          ],
          "scattergeo": [
           {
            "marker": {
             "colorbar": {
              "outlinewidth": 0,
              "ticks": ""
             }
            },
            "type": "scattergeo"
           }
          ],
          "scattergl": [
           {
            "marker": {
             "colorbar": {
              "outlinewidth": 0,
              "ticks": ""
             }
            },
            "type": "scattergl"
           }
          ],
          "scattermapbox": [
           {
            "marker": {
             "colorbar": {
              "outlinewidth": 0,
              "ticks": ""
             }
            },
            "type": "scattermapbox"
           }
          ],
          "scatterpolar": [
           {
            "marker": {
             "colorbar": {
              "outlinewidth": 0,
              "ticks": ""
             }
            },
            "type": "scatterpolar"
           }
          ],
          "scatterpolargl": [
           {
            "marker": {
             "colorbar": {
              "outlinewidth": 0,
              "ticks": ""
             }
            },
            "type": "scatterpolargl"
           }
          ],
          "scatterternary": [
           {
            "marker": {
             "colorbar": {
              "outlinewidth": 0,
              "ticks": ""
             }
            },
            "type": "scatterternary"
           }
          ],
          "surface": [
           {
            "colorbar": {
             "outlinewidth": 0,
             "ticks": ""
            },
            "colorscale": [
             [
              0,
              "#0d0887"
             ],
             [
              0.1111111111111111,
              "#46039f"
             ],
             [
              0.2222222222222222,
              "#7201a8"
             ],
             [
              0.3333333333333333,
              "#9c179e"
             ],
             [
              0.4444444444444444,
              "#bd3786"
             ],
             [
              0.5555555555555556,
              "#d8576b"
             ],
             [
              0.6666666666666666,
              "#ed7953"
             ],
             [
              0.7777777777777778,
              "#fb9f3a"
             ],
             [
              0.8888888888888888,
              "#fdca26"
             ],
             [
              1,
              "#f0f921"
             ]
            ],
            "type": "surface"
           }
          ],
          "table": [
           {
            "cells": {
             "fill": {
              "color": "#EBF0F8"
             },
             "line": {
              "color": "white"
             }
            },
            "header": {
             "fill": {
              "color": "#C8D4E3"
             },
             "line": {
              "color": "white"
             }
            },
            "type": "table"
           }
          ]
         },
         "layout": {
          "annotationdefaults": {
           "arrowcolor": "#2a3f5f",
           "arrowhead": 0,
           "arrowwidth": 1
          },
          "coloraxis": {
           "colorbar": {
            "outlinewidth": 0,
            "ticks": ""
           }
          },
          "colorscale": {
           "diverging": [
            [
             0,
             "#8e0152"
            ],
            [
             0.1,
             "#c51b7d"
            ],
            [
             0.2,
             "#de77ae"
            ],
            [
             0.3,
             "#f1b6da"
            ],
            [
             0.4,
             "#fde0ef"
            ],
            [
             0.5,
             "#f7f7f7"
            ],
            [
             0.6,
             "#e6f5d0"
            ],
            [
             0.7,
             "#b8e186"
            ],
            [
             0.8,
             "#7fbc41"
            ],
            [
             0.9,
             "#4d9221"
            ],
            [
             1,
             "#276419"
            ]
           ],
           "sequential": [
            [
             0,
             "#0d0887"
            ],
            [
             0.1111111111111111,
             "#46039f"
            ],
            [
             0.2222222222222222,
             "#7201a8"
            ],
            [
             0.3333333333333333,
             "#9c179e"
            ],
            [
             0.4444444444444444,
             "#bd3786"
            ],
            [
             0.5555555555555556,
             "#d8576b"
            ],
            [
             0.6666666666666666,
             "#ed7953"
            ],
            [
             0.7777777777777778,
             "#fb9f3a"
            ],
            [
             0.8888888888888888,
             "#fdca26"
            ],
            [
             1,
             "#f0f921"
            ]
           ],
           "sequentialminus": [
            [
             0,
             "#0d0887"
            ],
            [
             0.1111111111111111,
             "#46039f"
            ],
            [
             0.2222222222222222,
             "#7201a8"
            ],
            [
             0.3333333333333333,
             "#9c179e"
            ],
            [
             0.4444444444444444,
             "#bd3786"
            ],
            [
             0.5555555555555556,
             "#d8576b"
            ],
            [
             0.6666666666666666,
             "#ed7953"
            ],
            [
             0.7777777777777778,
             "#fb9f3a"
            ],
            [
             0.8888888888888888,
             "#fdca26"
            ],
            [
             1,
             "#f0f921"
            ]
           ]
          },
          "colorway": [
           "#636efa",
           "#EF553B",
           "#00cc96",
           "#ab63fa",
           "#FFA15A",
           "#19d3f3",
           "#FF6692",
           "#B6E880",
           "#FF97FF",
           "#FECB52"
          ],
          "font": {
           "color": "#2a3f5f"
          },
          "geo": {
           "bgcolor": "white",
           "lakecolor": "white",
           "landcolor": "#E5ECF6",
           "showlakes": true,
           "showland": true,
           "subunitcolor": "white"
          },
          "hoverlabel": {
           "align": "left"
          },
          "hovermode": "closest",
          "mapbox": {
           "style": "light"
          },
          "paper_bgcolor": "white",
          "plot_bgcolor": "#E5ECF6",
          "polar": {
           "angularaxis": {
            "gridcolor": "white",
            "linecolor": "white",
            "ticks": ""
           },
           "bgcolor": "#E5ECF6",
           "radialaxis": {
            "gridcolor": "white",
            "linecolor": "white",
            "ticks": ""
           }
          },
          "scene": {
           "xaxis": {
            "backgroundcolor": "#E5ECF6",
            "gridcolor": "white",
            "gridwidth": 2,
            "linecolor": "white",
            "showbackground": true,
            "ticks": "",
            "zerolinecolor": "white"
           },
           "yaxis": {
            "backgroundcolor": "#E5ECF6",
            "gridcolor": "white",
            "gridwidth": 2,
            "linecolor": "white",
            "showbackground": true,
            "ticks": "",
            "zerolinecolor": "white"
           },
           "zaxis": {
            "backgroundcolor": "#E5ECF6",
            "gridcolor": "white",
            "gridwidth": 2,
            "linecolor": "white",
            "showbackground": true,
            "ticks": "",
            "zerolinecolor": "white"
           }
          },
          "shapedefaults": {
           "line": {
            "color": "#2a3f5f"
           }
          },
          "ternary": {
           "aaxis": {
            "gridcolor": "white",
            "linecolor": "white",
            "ticks": ""
           },
           "baxis": {
            "gridcolor": "white",
            "linecolor": "white",
            "ticks": ""
           },
           "bgcolor": "#E5ECF6",
           "caxis": {
            "gridcolor": "white",
            "linecolor": "white",
            "ticks": ""
           }
          },
          "title": {
           "x": 0.05
          },
          "xaxis": {
           "automargin": true,
           "gridcolor": "white",
           "linecolor": "white",
           "ticks": "",
           "title": {
            "standoff": 15
           },
           "zerolinecolor": "white",
           "zerolinewidth": 2
          },
          "yaxis": {
           "automargin": true,
           "gridcolor": "white",
           "linecolor": "white",
           "ticks": "",
           "title": {
            "standoff": 15
           },
           "zerolinecolor": "white",
           "zerolinewidth": 2
          }
         }
        }
       }
      },
      "text/html": [
       "<div>\n",
       "        \n",
       "        \n",
       "            <div id=\"7bb0c6fa-e0cc-4e6f-9e56-09d160d1f9f8\" class=\"plotly-graph-div\" style=\"height:525px; width:100%;\"></div>\n",
       "            <script type=\"text/javascript\">\n",
       "                require([\"plotly\"], function(Plotly) {\n",
       "                    window.PLOTLYENV=window.PLOTLYENV || {};\n",
       "                    \n",
       "                if (document.getElementById(\"7bb0c6fa-e0cc-4e6f-9e56-09d160d1f9f8\")) {\n",
       "                    Plotly.newPlot(\n",
       "                        '7bb0c6fa-e0cc-4e6f-9e56-09d160d1f9f8',\n",
       "                        [{\"error_y\": {\"array\": [4.085864424707486e-06, 0.052828933834152936, 0.05290680280542165, 0.03738894335157944, 0.03373823323851388, 0.03541120751600629, 0.04314643777468177, 0.0061693624408791035], \"type\": \"data\", \"visible\": true}, \"marker\": {\"color\": [-3.13327594034691e-05, 0.08435785003460006, 0.17103828973548915, -0.1256265488248095, -0.30008410279485564, -0.22416810905333598, 0.09327356034904723, 0.004697549758264968], \"colorscale\": [[0.0, \"rgb(0,0,255)\"], [1.0, \"rgb(255,0,0)\"]], \"opacity\": 0.8, \"showscale\": true}, \"name\": \"Ratings_Score_Top_Coef\", \"type\": \"bar\", \"x\": [\"user_id\", \"offer_type_bogo\", \"offer_type_discount\", \"web\", \"email\", \"mobile\", \"social\", \"reward\"], \"y\": [-3.13327594034691e-05, 0.08435785003460006, 0.17103828973548915, -0.1256265488248095, -0.30008410279485564, -0.22416810905333598, 0.09327356034904723, 0.004697549758264968]}],\n",
       "                        {\"template\": {\"data\": {\"bar\": [{\"error_x\": {\"color\": \"#2a3f5f\"}, \"error_y\": {\"color\": \"#2a3f5f\"}, \"marker\": {\"line\": {\"color\": \"#E5ECF6\", \"width\": 0.5}}, \"type\": \"bar\"}], \"barpolar\": [{\"marker\": {\"line\": {\"color\": \"#E5ECF6\", \"width\": 0.5}}, \"type\": \"barpolar\"}], \"carpet\": [{\"aaxis\": {\"endlinecolor\": \"#2a3f5f\", \"gridcolor\": \"white\", \"linecolor\": \"white\", \"minorgridcolor\": \"white\", \"startlinecolor\": \"#2a3f5f\"}, \"baxis\": {\"endlinecolor\": \"#2a3f5f\", \"gridcolor\": \"white\", \"linecolor\": \"white\", \"minorgridcolor\": \"white\", \"startlinecolor\": \"#2a3f5f\"}, \"type\": \"carpet\"}], \"choropleth\": [{\"colorbar\": {\"outlinewidth\": 0, \"ticks\": \"\"}, \"type\": \"choropleth\"}], \"contour\": [{\"colorbar\": {\"outlinewidth\": 0, \"ticks\": \"\"}, \"colorscale\": [[0.0, \"#0d0887\"], [0.1111111111111111, \"#46039f\"], [0.2222222222222222, \"#7201a8\"], [0.3333333333333333, \"#9c179e\"], [0.4444444444444444, \"#bd3786\"], [0.5555555555555556, \"#d8576b\"], [0.6666666666666666, \"#ed7953\"], [0.7777777777777778, \"#fb9f3a\"], [0.8888888888888888, \"#fdca26\"], [1.0, \"#f0f921\"]], \"type\": \"contour\"}], \"contourcarpet\": [{\"colorbar\": {\"outlinewidth\": 0, \"ticks\": \"\"}, \"type\": \"contourcarpet\"}], \"heatmap\": [{\"colorbar\": {\"outlinewidth\": 0, \"ticks\": \"\"}, \"colorscale\": [[0.0, \"#0d0887\"], [0.1111111111111111, \"#46039f\"], [0.2222222222222222, \"#7201a8\"], [0.3333333333333333, \"#9c179e\"], [0.4444444444444444, \"#bd3786\"], [0.5555555555555556, \"#d8576b\"], [0.6666666666666666, \"#ed7953\"], [0.7777777777777778, \"#fb9f3a\"], [0.8888888888888888, \"#fdca26\"], [1.0, \"#f0f921\"]], \"type\": \"heatmap\"}], \"heatmapgl\": [{\"colorbar\": {\"outlinewidth\": 0, \"ticks\": \"\"}, \"colorscale\": [[0.0, \"#0d0887\"], [0.1111111111111111, \"#46039f\"], [0.2222222222222222, \"#7201a8\"], [0.3333333333333333, \"#9c179e\"], [0.4444444444444444, \"#bd3786\"], [0.5555555555555556, \"#d8576b\"], [0.6666666666666666, \"#ed7953\"], [0.7777777777777778, \"#fb9f3a\"], [0.8888888888888888, \"#fdca26\"], [1.0, \"#f0f921\"]], \"type\": \"heatmapgl\"}], \"histogram\": [{\"marker\": {\"colorbar\": {\"outlinewidth\": 0, \"ticks\": \"\"}}, \"type\": \"histogram\"}], \"histogram2d\": [{\"colorbar\": {\"outlinewidth\": 0, \"ticks\": \"\"}, \"colorscale\": [[0.0, \"#0d0887\"], [0.1111111111111111, \"#46039f\"], [0.2222222222222222, \"#7201a8\"], [0.3333333333333333, \"#9c179e\"], [0.4444444444444444, \"#bd3786\"], [0.5555555555555556, \"#d8576b\"], [0.6666666666666666, \"#ed7953\"], [0.7777777777777778, \"#fb9f3a\"], [0.8888888888888888, \"#fdca26\"], [1.0, \"#f0f921\"]], \"type\": \"histogram2d\"}], \"histogram2dcontour\": [{\"colorbar\": {\"outlinewidth\": 0, \"ticks\": \"\"}, \"colorscale\": [[0.0, \"#0d0887\"], [0.1111111111111111, \"#46039f\"], [0.2222222222222222, \"#7201a8\"], [0.3333333333333333, \"#9c179e\"], [0.4444444444444444, \"#bd3786\"], [0.5555555555555556, \"#d8576b\"], [0.6666666666666666, \"#ed7953\"], [0.7777777777777778, \"#fb9f3a\"], [0.8888888888888888, \"#fdca26\"], [1.0, \"#f0f921\"]], \"type\": \"histogram2dcontour\"}], \"mesh3d\": [{\"colorbar\": {\"outlinewidth\": 0, \"ticks\": \"\"}, \"type\": \"mesh3d\"}], \"parcoords\": [{\"line\": {\"colorbar\": {\"outlinewidth\": 0, \"ticks\": \"\"}}, \"type\": \"parcoords\"}], \"pie\": [{\"automargin\": true, \"type\": \"pie\"}], \"scatter\": [{\"marker\": {\"colorbar\": {\"outlinewidth\": 0, \"ticks\": \"\"}}, \"type\": \"scatter\"}], \"scatter3d\": [{\"line\": {\"colorbar\": {\"outlinewidth\": 0, \"ticks\": \"\"}}, \"marker\": {\"colorbar\": {\"outlinewidth\": 0, \"ticks\": \"\"}}, \"type\": \"scatter3d\"}], \"scattercarpet\": [{\"marker\": {\"colorbar\": {\"outlinewidth\": 0, \"ticks\": \"\"}}, \"type\": \"scattercarpet\"}], \"scattergeo\": [{\"marker\": {\"colorbar\": {\"outlinewidth\": 0, \"ticks\": \"\"}}, \"type\": \"scattergeo\"}], \"scattergl\": [{\"marker\": {\"colorbar\": {\"outlinewidth\": 0, \"ticks\": \"\"}}, \"type\": \"scattergl\"}], \"scattermapbox\": [{\"marker\": {\"colorbar\": {\"outlinewidth\": 0, \"ticks\": \"\"}}, \"type\": \"scattermapbox\"}], \"scatterpolar\": [{\"marker\": {\"colorbar\": {\"outlinewidth\": 0, \"ticks\": \"\"}}, \"type\": \"scatterpolar\"}], \"scatterpolargl\": [{\"marker\": {\"colorbar\": {\"outlinewidth\": 0, \"ticks\": \"\"}}, \"type\": \"scatterpolargl\"}], \"scatterternary\": [{\"marker\": {\"colorbar\": {\"outlinewidth\": 0, \"ticks\": \"\"}}, \"type\": \"scatterternary\"}], \"surface\": [{\"colorbar\": {\"outlinewidth\": 0, \"ticks\": \"\"}, \"colorscale\": [[0.0, \"#0d0887\"], [0.1111111111111111, \"#46039f\"], [0.2222222222222222, \"#7201a8\"], [0.3333333333333333, \"#9c179e\"], [0.4444444444444444, \"#bd3786\"], [0.5555555555555556, \"#d8576b\"], [0.6666666666666666, \"#ed7953\"], [0.7777777777777778, \"#fb9f3a\"], [0.8888888888888888, \"#fdca26\"], [1.0, \"#f0f921\"]], \"type\": \"surface\"}], \"table\": [{\"cells\": {\"fill\": {\"color\": \"#EBF0F8\"}, \"line\": {\"color\": \"white\"}}, \"header\": {\"fill\": {\"color\": \"#C8D4E3\"}, \"line\": {\"color\": \"white\"}}, \"type\": \"table\"}]}, \"layout\": {\"annotationdefaults\": {\"arrowcolor\": \"#2a3f5f\", \"arrowhead\": 0, \"arrowwidth\": 1}, \"coloraxis\": {\"colorbar\": {\"outlinewidth\": 0, \"ticks\": \"\"}}, \"colorscale\": {\"diverging\": [[0, \"#8e0152\"], [0.1, \"#c51b7d\"], [0.2, \"#de77ae\"], [0.3, \"#f1b6da\"], [0.4, \"#fde0ef\"], [0.5, \"#f7f7f7\"], [0.6, \"#e6f5d0\"], [0.7, \"#b8e186\"], [0.8, \"#7fbc41\"], [0.9, \"#4d9221\"], [1, \"#276419\"]], \"sequential\": [[0.0, \"#0d0887\"], [0.1111111111111111, \"#46039f\"], [0.2222222222222222, \"#7201a8\"], [0.3333333333333333, \"#9c179e\"], [0.4444444444444444, \"#bd3786\"], [0.5555555555555556, \"#d8576b\"], [0.6666666666666666, \"#ed7953\"], [0.7777777777777778, \"#fb9f3a\"], [0.8888888888888888, \"#fdca26\"], [1.0, \"#f0f921\"]], \"sequentialminus\": [[0.0, \"#0d0887\"], [0.1111111111111111, \"#46039f\"], [0.2222222222222222, \"#7201a8\"], [0.3333333333333333, \"#9c179e\"], [0.4444444444444444, \"#bd3786\"], [0.5555555555555556, \"#d8576b\"], [0.6666666666666666, \"#ed7953\"], [0.7777777777777778, \"#fb9f3a\"], [0.8888888888888888, \"#fdca26\"], [1.0, \"#f0f921\"]]}, \"colorway\": [\"#636efa\", \"#EF553B\", \"#00cc96\", \"#ab63fa\", \"#FFA15A\", \"#19d3f3\", \"#FF6692\", \"#B6E880\", \"#FF97FF\", \"#FECB52\"], \"font\": {\"color\": \"#2a3f5f\"}, \"geo\": {\"bgcolor\": \"white\", \"lakecolor\": \"white\", \"landcolor\": \"#E5ECF6\", \"showlakes\": true, \"showland\": true, \"subunitcolor\": \"white\"}, \"hoverlabel\": {\"align\": \"left\"}, \"hovermode\": \"closest\", \"mapbox\": {\"style\": \"light\"}, \"paper_bgcolor\": \"white\", \"plot_bgcolor\": \"#E5ECF6\", \"polar\": {\"angularaxis\": {\"gridcolor\": \"white\", \"linecolor\": \"white\", \"ticks\": \"\"}, \"bgcolor\": \"#E5ECF6\", \"radialaxis\": {\"gridcolor\": \"white\", \"linecolor\": \"white\", \"ticks\": \"\"}}, \"scene\": {\"xaxis\": {\"backgroundcolor\": \"#E5ECF6\", \"gridcolor\": \"white\", \"gridwidth\": 2, \"linecolor\": \"white\", \"showbackground\": true, \"ticks\": \"\", \"zerolinecolor\": \"white\"}, \"yaxis\": {\"backgroundcolor\": \"#E5ECF6\", \"gridcolor\": \"white\", \"gridwidth\": 2, \"linecolor\": \"white\", \"showbackground\": true, \"ticks\": \"\", \"zerolinecolor\": \"white\"}, \"zaxis\": {\"backgroundcolor\": \"#E5ECF6\", \"gridcolor\": \"white\", \"gridwidth\": 2, \"linecolor\": \"white\", \"showbackground\": true, \"ticks\": \"\", \"zerolinecolor\": \"white\"}}, \"shapedefaults\": {\"line\": {\"color\": \"#2a3f5f\"}}, \"ternary\": {\"aaxis\": {\"gridcolor\": \"white\", \"linecolor\": \"white\", \"ticks\": \"\"}, \"baxis\": {\"gridcolor\": \"white\", \"linecolor\": \"white\", \"ticks\": \"\"}, \"bgcolor\": \"#E5ECF6\", \"caxis\": {\"gridcolor\": \"white\", \"linecolor\": \"white\", \"ticks\": \"\"}}, \"title\": {\"x\": 0.05}, \"xaxis\": {\"automargin\": true, \"gridcolor\": \"white\", \"linecolor\": \"white\", \"ticks\": \"\", \"title\": {\"standoff\": 15}, \"zerolinecolor\": \"white\", \"zerolinewidth\": 2}, \"yaxis\": {\"automargin\": true, \"gridcolor\": \"white\", \"linecolor\": \"white\", \"ticks\": \"\", \"title\": {\"standoff\": 15}, \"zerolinecolor\": \"white\", \"zerolinewidth\": 2}}}},\n",
       "                        {\"responsive\": true}\n",
       "                    ).then(function(){\n",
       "                            \n",
       "var gd = document.getElementById('7bb0c6fa-e0cc-4e6f-9e56-09d160d1f9f8');\n",
       "var x = new MutationObserver(function (mutations, observer) {{\n",
       "        var display = window.getComputedStyle(gd).display;\n",
       "        if (!display || display === 'none') {{\n",
       "            console.log([gd, 'removed!']);\n",
       "            Plotly.purge(gd);\n",
       "            observer.disconnect();\n",
       "        }}\n",
       "}});\n",
       "\n",
       "// Listen for the removal of the full notebook cells\n",
       "var notebookContainer = gd.closest('#notebook-container');\n",
       "if (notebookContainer) {{\n",
       "    x.observe(notebookContainer, {childList: true});\n",
       "}}\n",
       "\n",
       "// Listen for the clearing of the current output cell\n",
       "var outputEl = gd.closest('.output');\n",
       "if (outputEl) {{\n",
       "    x.observe(outputEl, {childList: true});\n",
       "}}\n",
       "\n",
       "                        })\n",
       "                };\n",
       "                });\n",
       "            </script>\n",
       "        </div>"
      ]
     },
     "metadata": {},
     "output_type": "display_data"
    }
   ],
   "source": [
    "\n",
    "logm_results_sig = logm_results[logm_results['pvalues'] < 0.05]\n",
    "\n",
    "plot_sig_results(logm_results_sig)"
   ]
  },
  {
   "cell_type": "code",
   "execution_count": 383,
   "metadata": {},
   "outputs": [
    {
     "name": "stderr",
     "output_type": "stream",
     "text": [
      "C:\\Users\\madke\\Anaconda3\\lib\\site-packages\\ipykernel_launcher.py:1: SettingWithCopyWarning:\n",
      "\n",
      "\n",
      "A value is trying to be set on a copy of a slice from a DataFrame.\n",
      "Try using .loc[row_indexer,col_indexer] = value instead\n",
      "\n",
      "See the caveats in the documentation: https://pandas.pydata.org/pandas-docs/stable/user_guide/indexing.html#returning-a-view-versus-a-copy\n",
      "\n"
     ]
    },
    {
     "data": {
      "application/vnd.plotly.v1+json": {
       "config": {
        "plotlyServerURL": "https://plot.ly"
       },
       "data": [
        {
         "name": "times_reward_used",
         "type": "bar",
         "x": [
          1,
          3,
          4,
          5,
          6,
          7,
          8,
          9,
          10,
          11
         ],
         "y": [
          0.4325153374233129,
          0,
          0.5055715312724659,
          0.6393021120293848,
          0.4260948905109489,
          0,
          0.7492784992784993,
          0.7376066824042128,
          0.25984251968503935,
          0.5089820359281437
         ]
        }
       ],
       "layout": {
        "template": {
         "data": {
          "bar": [
           {
            "error_x": {
             "color": "#2a3f5f"
            },
            "error_y": {
             "color": "#2a3f5f"
            },
            "marker": {
             "line": {
              "color": "#E5ECF6",
              "width": 0.5
             }
            },
            "type": "bar"
           }
          ],
          "barpolar": [
           {
            "marker": {
             "line": {
              "color": "#E5ECF6",
              "width": 0.5
             }
            },
            "type": "barpolar"
           }
          ],
          "carpet": [
           {
            "aaxis": {
             "endlinecolor": "#2a3f5f",
             "gridcolor": "white",
             "linecolor": "white",
             "minorgridcolor": "white",
             "startlinecolor": "#2a3f5f"
            },
            "baxis": {
             "endlinecolor": "#2a3f5f",
             "gridcolor": "white",
             "linecolor": "white",
             "minorgridcolor": "white",
             "startlinecolor": "#2a3f5f"
            },
            "type": "carpet"
           }
          ],
          "choropleth": [
           {
            "colorbar": {
             "outlinewidth": 0,
             "ticks": ""
            },
            "type": "choropleth"
           }
          ],
          "contour": [
           {
            "colorbar": {
             "outlinewidth": 0,
             "ticks": ""
            },
            "colorscale": [
             [
              0,
              "#0d0887"
             ],
             [
              0.1111111111111111,
              "#46039f"
             ],
             [
              0.2222222222222222,
              "#7201a8"
             ],
             [
              0.3333333333333333,
              "#9c179e"
             ],
             [
              0.4444444444444444,
              "#bd3786"
             ],
             [
              0.5555555555555556,
              "#d8576b"
             ],
             [
              0.6666666666666666,
              "#ed7953"
             ],
             [
              0.7777777777777778,
              "#fb9f3a"
             ],
             [
              0.8888888888888888,
              "#fdca26"
             ],
             [
              1,
              "#f0f921"
             ]
            ],
            "type": "contour"
           }
          ],
          "contourcarpet": [
           {
            "colorbar": {
             "outlinewidth": 0,
             "ticks": ""
            },
            "type": "contourcarpet"
           }
          ],
          "heatmap": [
           {
            "colorbar": {
             "outlinewidth": 0,
             "ticks": ""
            },
            "colorscale": [
             [
              0,
              "#0d0887"
             ],
             [
              0.1111111111111111,
              "#46039f"
             ],
             [
              0.2222222222222222,
              "#7201a8"
             ],
             [
              0.3333333333333333,
              "#9c179e"
             ],
             [
              0.4444444444444444,
              "#bd3786"
             ],
             [
              0.5555555555555556,
              "#d8576b"
             ],
             [
              0.6666666666666666,
              "#ed7953"
             ],
             [
              0.7777777777777778,
              "#fb9f3a"
             ],
             [
              0.8888888888888888,
              "#fdca26"
             ],
             [
              1,
              "#f0f921"
             ]
            ],
            "type": "heatmap"
           }
          ],
          "heatmapgl": [
           {
            "colorbar": {
             "outlinewidth": 0,
             "ticks": ""
            },
            "colorscale": [
             [
              0,
              "#0d0887"
             ],
             [
              0.1111111111111111,
              "#46039f"
             ],
             [
              0.2222222222222222,
              "#7201a8"
             ],
             [
              0.3333333333333333,
              "#9c179e"
             ],
             [
              0.4444444444444444,
              "#bd3786"
             ],
             [
              0.5555555555555556,
              "#d8576b"
             ],
             [
              0.6666666666666666,
              "#ed7953"
             ],
             [
              0.7777777777777778,
              "#fb9f3a"
             ],
             [
              0.8888888888888888,
              "#fdca26"
             ],
             [
              1,
              "#f0f921"
             ]
            ],
            "type": "heatmapgl"
           }
          ],
          "histogram": [
           {
            "marker": {
             "colorbar": {
              "outlinewidth": 0,
              "ticks": ""
             }
            },
            "type": "histogram"
           }
          ],
          "histogram2d": [
           {
            "colorbar": {
             "outlinewidth": 0,
             "ticks": ""
            },
            "colorscale": [
             [
              0,
              "#0d0887"
             ],
             [
              0.1111111111111111,
              "#46039f"
             ],
             [
              0.2222222222222222,
              "#7201a8"
             ],
             [
              0.3333333333333333,
              "#9c179e"
             ],
             [
              0.4444444444444444,
              "#bd3786"
             ],
             [
              0.5555555555555556,
              "#d8576b"
             ],
             [
              0.6666666666666666,
              "#ed7953"
             ],
             [
              0.7777777777777778,
              "#fb9f3a"
             ],
             [
              0.8888888888888888,
              "#fdca26"
             ],
             [
              1,
              "#f0f921"
             ]
            ],
            "type": "histogram2d"
           }
          ],
          "histogram2dcontour": [
           {
            "colorbar": {
             "outlinewidth": 0,
             "ticks": ""
            },
            "colorscale": [
             [
              0,
              "#0d0887"
             ],
             [
              0.1111111111111111,
              "#46039f"
             ],
             [
              0.2222222222222222,
              "#7201a8"
             ],
             [
              0.3333333333333333,
              "#9c179e"
             ],
             [
              0.4444444444444444,
              "#bd3786"
             ],
             [
              0.5555555555555556,
              "#d8576b"
             ],
             [
              0.6666666666666666,
              "#ed7953"
             ],
             [
              0.7777777777777778,
              "#fb9f3a"
             ],
             [
              0.8888888888888888,
              "#fdca26"
             ],
             [
              1,
              "#f0f921"
             ]
            ],
            "type": "histogram2dcontour"
           }
          ],
          "mesh3d": [
           {
            "colorbar": {
             "outlinewidth": 0,
             "ticks": ""
            },
            "type": "mesh3d"
           }
          ],
          "parcoords": [
           {
            "line": {
             "colorbar": {
              "outlinewidth": 0,
              "ticks": ""
             }
            },
            "type": "parcoords"
           }
          ],
          "pie": [
           {
            "automargin": true,
            "type": "pie"
           }
          ],
          "scatter": [
           {
            "marker": {
             "colorbar": {
              "outlinewidth": 0,
              "ticks": ""
             }
            },
            "type": "scatter"
           }
          ],
          "scatter3d": [
           {
            "line": {
             "colorbar": {
              "outlinewidth": 0,
              "ticks": ""
             }
            },
            "marker": {
             "colorbar": {
              "outlinewidth": 0,
              "ticks": ""
             }
            },
            "type": "scatter3d"
           }
          ],
          "scattercarpet": [
           {
            "marker": {
             "colorbar": {
              "outlinewidth": 0,
              "ticks": ""
             }
            },
            "type": "scattercarpet"
           }
          ],
          "scattergeo": [
           {
            "marker": {
             "colorbar": {
              "outlinewidth": 0,
              "ticks": ""
             }
            },
            "type": "scattergeo"
           }
          ],
          "scattergl": [
           {
            "marker": {
             "colorbar": {
              "outlinewidth": 0,
              "ticks": ""
             }
            },
            "type": "scattergl"
           }
          ],
          "scattermapbox": [
           {
            "marker": {
             "colorbar": {
              "outlinewidth": 0,
              "ticks": ""
             }
            },
            "type": "scattermapbox"
           }
          ],
          "scatterpolar": [
           {
            "marker": {
             "colorbar": {
              "outlinewidth": 0,
              "ticks": ""
             }
            },
            "type": "scatterpolar"
           }
          ],
          "scatterpolargl": [
           {
            "marker": {
             "colorbar": {
              "outlinewidth": 0,
              "ticks": ""
             }
            },
            "type": "scatterpolargl"
           }
          ],
          "scatterternary": [
           {
            "marker": {
             "colorbar": {
              "outlinewidth": 0,
              "ticks": ""
             }
            },
            "type": "scatterternary"
           }
          ],
          "surface": [
           {
            "colorbar": {
             "outlinewidth": 0,
             "ticks": ""
            },
            "colorscale": [
             [
              0,
              "#0d0887"
             ],
             [
              0.1111111111111111,
              "#46039f"
             ],
             [
              0.2222222222222222,
              "#7201a8"
             ],
             [
              0.3333333333333333,
              "#9c179e"
             ],
             [
              0.4444444444444444,
              "#bd3786"
             ],
             [
              0.5555555555555556,
              "#d8576b"
             ],
             [
              0.6666666666666666,
              "#ed7953"
             ],
             [
              0.7777777777777778,
              "#fb9f3a"
             ],
             [
              0.8888888888888888,
              "#fdca26"
             ],
             [
              1,
              "#f0f921"
             ]
            ],
            "type": "surface"
           }
          ],
          "table": [
           {
            "cells": {
             "fill": {
              "color": "#EBF0F8"
             },
             "line": {
              "color": "white"
             }
            },
            "header": {
             "fill": {
              "color": "#C8D4E3"
             },
             "line": {
              "color": "white"
             }
            },
            "type": "table"
           }
          ]
         },
         "layout": {
          "annotationdefaults": {
           "arrowcolor": "#2a3f5f",
           "arrowhead": 0,
           "arrowwidth": 1
          },
          "coloraxis": {
           "colorbar": {
            "outlinewidth": 0,
            "ticks": ""
           }
          },
          "colorscale": {
           "diverging": [
            [
             0,
             "#8e0152"
            ],
            [
             0.1,
             "#c51b7d"
            ],
            [
             0.2,
             "#de77ae"
            ],
            [
             0.3,
             "#f1b6da"
            ],
            [
             0.4,
             "#fde0ef"
            ],
            [
             0.5,
             "#f7f7f7"
            ],
            [
             0.6,
             "#e6f5d0"
            ],
            [
             0.7,
             "#b8e186"
            ],
            [
             0.8,
             "#7fbc41"
            ],
            [
             0.9,
             "#4d9221"
            ],
            [
             1,
             "#276419"
            ]
           ],
           "sequential": [
            [
             0,
             "#0d0887"
            ],
            [
             0.1111111111111111,
             "#46039f"
            ],
            [
             0.2222222222222222,
             "#7201a8"
            ],
            [
             0.3333333333333333,
             "#9c179e"
            ],
            [
             0.4444444444444444,
             "#bd3786"
            ],
            [
             0.5555555555555556,
             "#d8576b"
            ],
            [
             0.6666666666666666,
             "#ed7953"
            ],
            [
             0.7777777777777778,
             "#fb9f3a"
            ],
            [
             0.8888888888888888,
             "#fdca26"
            ],
            [
             1,
             "#f0f921"
            ]
           ],
           "sequentialminus": [
            [
             0,
             "#0d0887"
            ],
            [
             0.1111111111111111,
             "#46039f"
            ],
            [
             0.2222222222222222,
             "#7201a8"
            ],
            [
             0.3333333333333333,
             "#9c179e"
            ],
            [
             0.4444444444444444,
             "#bd3786"
            ],
            [
             0.5555555555555556,
             "#d8576b"
            ],
            [
             0.6666666666666666,
             "#ed7953"
            ],
            [
             0.7777777777777778,
             "#fb9f3a"
            ],
            [
             0.8888888888888888,
             "#fdca26"
            ],
            [
             1,
             "#f0f921"
            ]
           ]
          },
          "colorway": [
           "#636efa",
           "#EF553B",
           "#00cc96",
           "#ab63fa",
           "#FFA15A",
           "#19d3f3",
           "#FF6692",
           "#B6E880",
           "#FF97FF",
           "#FECB52"
          ],
          "font": {
           "color": "#2a3f5f"
          },
          "geo": {
           "bgcolor": "white",
           "lakecolor": "white",
           "landcolor": "#E5ECF6",
           "showlakes": true,
           "showland": true,
           "subunitcolor": "white"
          },
          "hoverlabel": {
           "align": "left"
          },
          "hovermode": "closest",
          "mapbox": {
           "style": "light"
          },
          "paper_bgcolor": "white",
          "plot_bgcolor": "#E5ECF6",
          "polar": {
           "angularaxis": {
            "gridcolor": "white",
            "linecolor": "white",
            "ticks": ""
           },
           "bgcolor": "#E5ECF6",
           "radialaxis": {
            "gridcolor": "white",
            "linecolor": "white",
            "ticks": ""
           }
          },
          "scene": {
           "xaxis": {
            "backgroundcolor": "#E5ECF6",
            "gridcolor": "white",
            "gridwidth": 2,
            "linecolor": "white",
            "showbackground": true,
            "ticks": "",
            "zerolinecolor": "white"
           },
           "yaxis": {
            "backgroundcolor": "#E5ECF6",
            "gridcolor": "white",
            "gridwidth": 2,
            "linecolor": "white",
            "showbackground": true,
            "ticks": "",
            "zerolinecolor": "white"
           },
           "zaxis": {
            "backgroundcolor": "#E5ECF6",
            "gridcolor": "white",
            "gridwidth": 2,
            "linecolor": "white",
            "showbackground": true,
            "ticks": "",
            "zerolinecolor": "white"
           }
          },
          "shapedefaults": {
           "line": {
            "color": "#2a3f5f"
           }
          },
          "ternary": {
           "aaxis": {
            "gridcolor": "white",
            "linecolor": "white",
            "ticks": ""
           },
           "baxis": {
            "gridcolor": "white",
            "linecolor": "white",
            "ticks": ""
           },
           "bgcolor": "#E5ECF6",
           "caxis": {
            "gridcolor": "white",
            "linecolor": "white",
            "ticks": ""
           }
          },
          "title": {
           "x": 0.05
          },
          "xaxis": {
           "automargin": true,
           "gridcolor": "white",
           "linecolor": "white",
           "ticks": "",
           "title": {
            "standoff": 15
           },
           "zerolinecolor": "white",
           "zerolinewidth": 2
          },
          "yaxis": {
           "automargin": true,
           "gridcolor": "white",
           "linecolor": "white",
           "ticks": "",
           "title": {
            "standoff": 15
           },
           "zerolinecolor": "white",
           "zerolinewidth": 2
          }
         }
        }
       }
      },
      "text/html": [
       "<div>\n",
       "        \n",
       "        \n",
       "            <div id=\"a3b01e4d-f6c1-4738-ab72-3c3c8e975f47\" class=\"plotly-graph-div\" style=\"height:525px; width:100%;\"></div>\n",
       "            <script type=\"text/javascript\">\n",
       "                require([\"plotly\"], function(Plotly) {\n",
       "                    window.PLOTLYENV=window.PLOTLYENV || {};\n",
       "                    \n",
       "                if (document.getElementById(\"a3b01e4d-f6c1-4738-ab72-3c3c8e975f47\")) {\n",
       "                    Plotly.newPlot(\n",
       "                        'a3b01e4d-f6c1-4738-ab72-3c3c8e975f47',\n",
       "                        [{\"name\": \"times_reward_used\", \"type\": \"bar\", \"x\": [1.0, 3.0, 4.0, 5.0, 6.0, 7.0, 8.0, 9.0, 10.0, 11.0], \"y\": [0.4325153374233129, 0.0, 0.5055715312724659, 0.6393021120293848, 0.4260948905109489, 0.0, 0.7492784992784993, 0.7376066824042128, 0.25984251968503935, 0.5089820359281437]}],\n",
       "                        {\"template\": {\"data\": {\"bar\": [{\"error_x\": {\"color\": \"#2a3f5f\"}, \"error_y\": {\"color\": \"#2a3f5f\"}, \"marker\": {\"line\": {\"color\": \"#E5ECF6\", \"width\": 0.5}}, \"type\": \"bar\"}], \"barpolar\": [{\"marker\": {\"line\": {\"color\": \"#E5ECF6\", \"width\": 0.5}}, \"type\": \"barpolar\"}], \"carpet\": [{\"aaxis\": {\"endlinecolor\": \"#2a3f5f\", \"gridcolor\": \"white\", \"linecolor\": \"white\", \"minorgridcolor\": \"white\", \"startlinecolor\": \"#2a3f5f\"}, \"baxis\": {\"endlinecolor\": \"#2a3f5f\", \"gridcolor\": \"white\", \"linecolor\": \"white\", \"minorgridcolor\": \"white\", \"startlinecolor\": \"#2a3f5f\"}, \"type\": \"carpet\"}], \"choropleth\": [{\"colorbar\": {\"outlinewidth\": 0, \"ticks\": \"\"}, \"type\": \"choropleth\"}], \"contour\": [{\"colorbar\": {\"outlinewidth\": 0, \"ticks\": \"\"}, \"colorscale\": [[0.0, \"#0d0887\"], [0.1111111111111111, \"#46039f\"], [0.2222222222222222, \"#7201a8\"], [0.3333333333333333, \"#9c179e\"], [0.4444444444444444, \"#bd3786\"], [0.5555555555555556, \"#d8576b\"], [0.6666666666666666, \"#ed7953\"], [0.7777777777777778, \"#fb9f3a\"], [0.8888888888888888, \"#fdca26\"], [1.0, \"#f0f921\"]], \"type\": \"contour\"}], \"contourcarpet\": [{\"colorbar\": {\"outlinewidth\": 0, \"ticks\": \"\"}, \"type\": \"contourcarpet\"}], \"heatmap\": [{\"colorbar\": {\"outlinewidth\": 0, \"ticks\": \"\"}, \"colorscale\": [[0.0, \"#0d0887\"], [0.1111111111111111, \"#46039f\"], [0.2222222222222222, \"#7201a8\"], [0.3333333333333333, \"#9c179e\"], [0.4444444444444444, \"#bd3786\"], [0.5555555555555556, \"#d8576b\"], [0.6666666666666666, \"#ed7953\"], [0.7777777777777778, \"#fb9f3a\"], [0.8888888888888888, \"#fdca26\"], [1.0, \"#f0f921\"]], \"type\": \"heatmap\"}], \"heatmapgl\": [{\"colorbar\": {\"outlinewidth\": 0, \"ticks\": \"\"}, \"colorscale\": [[0.0, \"#0d0887\"], [0.1111111111111111, \"#46039f\"], [0.2222222222222222, \"#7201a8\"], [0.3333333333333333, \"#9c179e\"], [0.4444444444444444, \"#bd3786\"], [0.5555555555555556, \"#d8576b\"], [0.6666666666666666, \"#ed7953\"], [0.7777777777777778, \"#fb9f3a\"], [0.8888888888888888, \"#fdca26\"], [1.0, \"#f0f921\"]], \"type\": \"heatmapgl\"}], \"histogram\": [{\"marker\": {\"colorbar\": {\"outlinewidth\": 0, \"ticks\": \"\"}}, \"type\": \"histogram\"}], \"histogram2d\": [{\"colorbar\": {\"outlinewidth\": 0, \"ticks\": \"\"}, \"colorscale\": [[0.0, \"#0d0887\"], [0.1111111111111111, \"#46039f\"], [0.2222222222222222, \"#7201a8\"], [0.3333333333333333, \"#9c179e\"], [0.4444444444444444, \"#bd3786\"], [0.5555555555555556, \"#d8576b\"], [0.6666666666666666, \"#ed7953\"], [0.7777777777777778, \"#fb9f3a\"], [0.8888888888888888, \"#fdca26\"], [1.0, \"#f0f921\"]], \"type\": \"histogram2d\"}], \"histogram2dcontour\": [{\"colorbar\": {\"outlinewidth\": 0, \"ticks\": \"\"}, \"colorscale\": [[0.0, \"#0d0887\"], [0.1111111111111111, \"#46039f\"], [0.2222222222222222, \"#7201a8\"], [0.3333333333333333, \"#9c179e\"], [0.4444444444444444, \"#bd3786\"], [0.5555555555555556, \"#d8576b\"], [0.6666666666666666, \"#ed7953\"], [0.7777777777777778, \"#fb9f3a\"], [0.8888888888888888, \"#fdca26\"], [1.0, \"#f0f921\"]], \"type\": \"histogram2dcontour\"}], \"mesh3d\": [{\"colorbar\": {\"outlinewidth\": 0, \"ticks\": \"\"}, \"type\": \"mesh3d\"}], \"parcoords\": [{\"line\": {\"colorbar\": {\"outlinewidth\": 0, \"ticks\": \"\"}}, \"type\": \"parcoords\"}], \"pie\": [{\"automargin\": true, \"type\": \"pie\"}], \"scatter\": [{\"marker\": {\"colorbar\": {\"outlinewidth\": 0, \"ticks\": \"\"}}, \"type\": \"scatter\"}], \"scatter3d\": [{\"line\": {\"colorbar\": {\"outlinewidth\": 0, \"ticks\": \"\"}}, \"marker\": {\"colorbar\": {\"outlinewidth\": 0, \"ticks\": \"\"}}, \"type\": \"scatter3d\"}], \"scattercarpet\": [{\"marker\": {\"colorbar\": {\"outlinewidth\": 0, \"ticks\": \"\"}}, \"type\": \"scattercarpet\"}], \"scattergeo\": [{\"marker\": {\"colorbar\": {\"outlinewidth\": 0, \"ticks\": \"\"}}, \"type\": \"scattergeo\"}], \"scattergl\": [{\"marker\": {\"colorbar\": {\"outlinewidth\": 0, \"ticks\": \"\"}}, \"type\": \"scattergl\"}], \"scattermapbox\": [{\"marker\": {\"colorbar\": {\"outlinewidth\": 0, \"ticks\": \"\"}}, \"type\": \"scattermapbox\"}], \"scatterpolar\": [{\"marker\": {\"colorbar\": {\"outlinewidth\": 0, \"ticks\": \"\"}}, \"type\": \"scatterpolar\"}], \"scatterpolargl\": [{\"marker\": {\"colorbar\": {\"outlinewidth\": 0, \"ticks\": \"\"}}, \"type\": \"scatterpolargl\"}], \"scatterternary\": [{\"marker\": {\"colorbar\": {\"outlinewidth\": 0, \"ticks\": \"\"}}, \"type\": \"scatterternary\"}], \"surface\": [{\"colorbar\": {\"outlinewidth\": 0, \"ticks\": \"\"}, \"colorscale\": [[0.0, \"#0d0887\"], [0.1111111111111111, \"#46039f\"], [0.2222222222222222, \"#7201a8\"], [0.3333333333333333, \"#9c179e\"], [0.4444444444444444, \"#bd3786\"], [0.5555555555555556, \"#d8576b\"], [0.6666666666666666, \"#ed7953\"], [0.7777777777777778, \"#fb9f3a\"], [0.8888888888888888, \"#fdca26\"], [1.0, \"#f0f921\"]], \"type\": \"surface\"}], \"table\": [{\"cells\": {\"fill\": {\"color\": \"#EBF0F8\"}, \"line\": {\"color\": \"white\"}}, \"header\": {\"fill\": {\"color\": \"#C8D4E3\"}, \"line\": {\"color\": \"white\"}}, \"type\": \"table\"}]}, \"layout\": {\"annotationdefaults\": {\"arrowcolor\": \"#2a3f5f\", \"arrowhead\": 0, \"arrowwidth\": 1}, \"coloraxis\": {\"colorbar\": {\"outlinewidth\": 0, \"ticks\": \"\"}}, \"colorscale\": {\"diverging\": [[0, \"#8e0152\"], [0.1, \"#c51b7d\"], [0.2, \"#de77ae\"], [0.3, \"#f1b6da\"], [0.4, \"#fde0ef\"], [0.5, \"#f7f7f7\"], [0.6, \"#e6f5d0\"], [0.7, \"#b8e186\"], [0.8, \"#7fbc41\"], [0.9, \"#4d9221\"], [1, \"#276419\"]], \"sequential\": [[0.0, \"#0d0887\"], [0.1111111111111111, \"#46039f\"], [0.2222222222222222, \"#7201a8\"], [0.3333333333333333, \"#9c179e\"], [0.4444444444444444, \"#bd3786\"], [0.5555555555555556, \"#d8576b\"], [0.6666666666666666, \"#ed7953\"], [0.7777777777777778, \"#fb9f3a\"], [0.8888888888888888, \"#fdca26\"], [1.0, \"#f0f921\"]], \"sequentialminus\": [[0.0, \"#0d0887\"], [0.1111111111111111, \"#46039f\"], [0.2222222222222222, \"#7201a8\"], [0.3333333333333333, \"#9c179e\"], [0.4444444444444444, \"#bd3786\"], [0.5555555555555556, \"#d8576b\"], [0.6666666666666666, \"#ed7953\"], [0.7777777777777778, \"#fb9f3a\"], [0.8888888888888888, \"#fdca26\"], [1.0, \"#f0f921\"]]}, \"colorway\": [\"#636efa\", \"#EF553B\", \"#00cc96\", \"#ab63fa\", \"#FFA15A\", \"#19d3f3\", \"#FF6692\", \"#B6E880\", \"#FF97FF\", \"#FECB52\"], \"font\": {\"color\": \"#2a3f5f\"}, \"geo\": {\"bgcolor\": \"white\", \"lakecolor\": \"white\", \"landcolor\": \"#E5ECF6\", \"showlakes\": true, \"showland\": true, \"subunitcolor\": \"white\"}, \"hoverlabel\": {\"align\": \"left\"}, \"hovermode\": \"closest\", \"mapbox\": {\"style\": \"light\"}, \"paper_bgcolor\": \"white\", \"plot_bgcolor\": \"#E5ECF6\", \"polar\": {\"angularaxis\": {\"gridcolor\": \"white\", \"linecolor\": \"white\", \"ticks\": \"\"}, \"bgcolor\": \"#E5ECF6\", \"radialaxis\": {\"gridcolor\": \"white\", \"linecolor\": \"white\", \"ticks\": \"\"}}, \"scene\": {\"xaxis\": {\"backgroundcolor\": \"#E5ECF6\", \"gridcolor\": \"white\", \"gridwidth\": 2, \"linecolor\": \"white\", \"showbackground\": true, \"ticks\": \"\", \"zerolinecolor\": \"white\"}, \"yaxis\": {\"backgroundcolor\": \"#E5ECF6\", \"gridcolor\": \"white\", \"gridwidth\": 2, \"linecolor\": \"white\", \"showbackground\": true, \"ticks\": \"\", \"zerolinecolor\": \"white\"}, \"zaxis\": {\"backgroundcolor\": \"#E5ECF6\", \"gridcolor\": \"white\", \"gridwidth\": 2, \"linecolor\": \"white\", \"showbackground\": true, \"ticks\": \"\", \"zerolinecolor\": \"white\"}}, \"shapedefaults\": {\"line\": {\"color\": \"#2a3f5f\"}}, \"ternary\": {\"aaxis\": {\"gridcolor\": \"white\", \"linecolor\": \"white\", \"ticks\": \"\"}, \"baxis\": {\"gridcolor\": \"white\", \"linecolor\": \"white\", \"ticks\": \"\"}, \"bgcolor\": \"#E5ECF6\", \"caxis\": {\"gridcolor\": \"white\", \"linecolor\": \"white\", \"ticks\": \"\"}}, \"title\": {\"x\": 0.05}, \"xaxis\": {\"automargin\": true, \"gridcolor\": \"white\", \"linecolor\": \"white\", \"ticks\": \"\", \"title\": {\"standoff\": 15}, \"zerolinecolor\": \"white\", \"zerolinewidth\": 2}, \"yaxis\": {\"automargin\": true, \"gridcolor\": \"white\", \"linecolor\": \"white\", \"ticks\": \"\", \"title\": {\"standoff\": 15}, \"zerolinecolor\": \"white\", \"zerolinewidth\": 2}}}},\n",
       "                        {\"responsive\": true}\n",
       "                    ).then(function(){\n",
       "                            \n",
       "var gd = document.getElementById('a3b01e4d-f6c1-4738-ab72-3c3c8e975f47');\n",
       "var x = new MutationObserver(function (mutations, observer) {{\n",
       "        var display = window.getComputedStyle(gd).display;\n",
       "        if (!display || display === 'none') {{\n",
       "            console.log([gd, 'removed!']);\n",
       "            Plotly.purge(gd);\n",
       "            observer.disconnect();\n",
       "        }}\n",
       "}});\n",
       "\n",
       "// Listen for the removal of the full notebook cells\n",
       "var notebookContainer = gd.closest('#notebook-container');\n",
       "if (notebookContainer) {{\n",
       "    x.observe(notebookContainer, {childList: true});\n",
       "}}\n",
       "\n",
       "// Listen for the clearing of the current output cell\n",
       "var outputEl = gd.closest('.output');\n",
       "if (outputEl) {{\n",
       "    x.observe(outputEl, {childList: true});\n",
       "}}\n",
       "\n",
       "                        })\n",
       "                };\n",
       "                });\n",
       "            </script>\n",
       "        </div>"
      ]
     },
     "metadata": {},
     "output_type": "display_data"
    }
   ],
   "source": [
    "offer_df['event_offer received'] = [1 if i > 0 else 0 for i in offer_df['event_offer received']]\n",
    "offer_agg = offer_df.groupby('offer_id').sum().reset_index()\n",
    "\n",
    "fig = go.Figure()\n",
    "fig.add_trace(go.Bar(x=offer_agg['offer_id'], y = offer_agg['reward_viewed_and_used']/offer_agg['event_offer received'], name = 'times_reward_used'))"
   ]
  },
  {
   "cell_type": "code",
   "execution_count": 385,
   "metadata": {},
   "outputs": [
    {
     "data": {
      "text/html": [
       "<style  type=\"text/css\" >\n",
       "</style><table id=\"T_fa07d746_117e_11eb_bab7_8cec4b0ec919\" ><thead>    <tr>        <th class=\"blank level0\" ></th>        <th class=\"col_heading level0 col0\" >offer_id</th>        <th class=\"col_heading level0 col1\" >user_id</th>        <th class=\"col_heading level0 col2\" >event_offer completed</th>        <th class=\"col_heading level0 col3\" >event_offer viewed</th>        <th class=\"col_heading level0 col4\" >event_offer received</th>        <th class=\"col_heading level0 col5\" >offer_type_bogo</th>        <th class=\"col_heading level0 col6\" >offer_type_discount</th>        <th class=\"col_heading level0 col7\" >offer_type_informational</th>        <th class=\"col_heading level0 col8\" >web</th>        <th class=\"col_heading level0 col9\" >email</th>        <th class=\"col_heading level0 col10\" >mobile</th>        <th class=\"col_heading level0 col11\" >social</th>        <th class=\"col_heading level0 col12\" >reward</th>        <th class=\"col_heading level0 col13\" >reward_viewed_and_used</th>    </tr></thead><tbody>\n",
       "                <tr>\n",
       "                        <th id=\"T_fa07d746_117e_11eb_bab7_8cec4b0ec919level0_row0\" class=\"row_heading level0 row0\" >0</th>\n",
       "                        <td id=\"T_fa07d746_117e_11eb_bab7_8cec4b0ec919row0_col0\" class=\"data row0 col0\" >1.000000</td>\n",
       "                        <td id=\"T_fa07d746_117e_11eb_bab7_8cec4b0ec919row0_col1\" class=\"data row0 col1\" >39786744</td>\n",
       "                        <td id=\"T_fa07d746_117e_11eb_bab7_8cec4b0ec919row0_col2\" class=\"data row0 col2\" >1387.800108</td>\n",
       "                        <td id=\"T_fa07d746_117e_11eb_bab7_8cec4b0ec919row0_col3\" class=\"data row0 col3\" >1104.764827</td>\n",
       "                        <td id=\"T_fa07d746_117e_11eb_bab7_8cec4b0ec919row0_col4\" class=\"data row0 col4\" >5542</td>\n",
       "                        <td id=\"T_fa07d746_117e_11eb_bab7_8cec4b0ec919row0_col5\" class=\"data row0 col5\" >5542.000000</td>\n",
       "                        <td id=\"T_fa07d746_117e_11eb_bab7_8cec4b0ec919row0_col6\" class=\"data row0 col6\" >0.000000</td>\n",
       "                        <td id=\"T_fa07d746_117e_11eb_bab7_8cec4b0ec919row0_col7\" class=\"data row0 col7\" >0.000000</td>\n",
       "                        <td id=\"T_fa07d746_117e_11eb_bab7_8cec4b0ec919row0_col8\" class=\"data row0 col8\" >5542.000000</td>\n",
       "                        <td id=\"T_fa07d746_117e_11eb_bab7_8cec4b0ec919row0_col9\" class=\"data row0 col9\" >5542.000000</td>\n",
       "                        <td id=\"T_fa07d746_117e_11eb_bab7_8cec4b0ec919row0_col10\" class=\"data row0 col10\" >5542.000000</td>\n",
       "                        <td id=\"T_fa07d746_117e_11eb_bab7_8cec4b0ec919row0_col11\" class=\"data row0 col11\" >0.000000</td>\n",
       "                        <td id=\"T_fa07d746_117e_11eb_bab7_8cec4b0ec919row0_col12\" class=\"data row0 col12\" >27710.000000</td>\n",
       "                        <td id=\"T_fa07d746_117e_11eb_bab7_8cec4b0ec919row0_col13\" class=\"data row0 col13\" >2397</td>\n",
       "            </tr>\n",
       "            <tr>\n",
       "                        <th id=\"T_fa07d746_117e_11eb_bab7_8cec4b0ec919level0_row1\" class=\"row_heading level0 row1\" >1</th>\n",
       "                        <td id=\"T_fa07d746_117e_11eb_bab7_8cec4b0ec919row1_col0\" class=\"data row1 col0\" >3.000000</td>\n",
       "                        <td id=\"T_fa07d746_117e_11eb_bab7_8cec4b0ec919row1_col1\" class=\"data row1 col1\" >39881300</td>\n",
       "                        <td id=\"T_fa07d746_117e_11eb_bab7_8cec4b0ec919row1_col2\" class=\"data row1 col2\" >0.000000</td>\n",
       "                        <td id=\"T_fa07d746_117e_11eb_bab7_8cec4b0ec919row1_col3\" class=\"data row1 col3\" >2460.140476</td>\n",
       "                        <td id=\"T_fa07d746_117e_11eb_bab7_8cec4b0ec919row1_col4\" class=\"data row1 col4\" >5517</td>\n",
       "                        <td id=\"T_fa07d746_117e_11eb_bab7_8cec4b0ec919row1_col5\" class=\"data row1 col5\" >0.000000</td>\n",
       "                        <td id=\"T_fa07d746_117e_11eb_bab7_8cec4b0ec919row1_col6\" class=\"data row1 col6\" >0.000000</td>\n",
       "                        <td id=\"T_fa07d746_117e_11eb_bab7_8cec4b0ec919row1_col7\" class=\"data row1 col7\" >5517.000000</td>\n",
       "                        <td id=\"T_fa07d746_117e_11eb_bab7_8cec4b0ec919row1_col8\" class=\"data row1 col8\" >0.000000</td>\n",
       "                        <td id=\"T_fa07d746_117e_11eb_bab7_8cec4b0ec919row1_col9\" class=\"data row1 col9\" >5517.000000</td>\n",
       "                        <td id=\"T_fa07d746_117e_11eb_bab7_8cec4b0ec919row1_col10\" class=\"data row1 col10\" >5517.000000</td>\n",
       "                        <td id=\"T_fa07d746_117e_11eb_bab7_8cec4b0ec919row1_col11\" class=\"data row1 col11\" >5517.000000</td>\n",
       "                        <td id=\"T_fa07d746_117e_11eb_bab7_8cec4b0ec919row1_col12\" class=\"data row1 col12\" >0.000000</td>\n",
       "                        <td id=\"T_fa07d746_117e_11eb_bab7_8cec4b0ec919row1_col13\" class=\"data row1 col13\" >0</td>\n",
       "            </tr>\n",
       "            <tr>\n",
       "                        <th id=\"T_fa07d746_117e_11eb_bab7_8cec4b0ec919level0_row2\" class=\"row_heading level0 row2\" >2</th>\n",
       "                        <td id=\"T_fa07d746_117e_11eb_bab7_8cec4b0ec919row2_col0\" class=\"data row2 col0\" >4.000000</td>\n",
       "                        <td id=\"T_fa07d746_117e_11eb_bab7_8cec4b0ec919row2_col1\" class=\"data row2 col1\" >39822441</td>\n",
       "                        <td id=\"T_fa07d746_117e_11eb_bab7_8cec4b0ec919row2_col2\" class=\"data row2 col2\" >1081.632684</td>\n",
       "                        <td id=\"T_fa07d746_117e_11eb_bab7_8cec4b0ec919row2_col3\" class=\"data row2 col3\" >2017.109235</td>\n",
       "                        <td id=\"T_fa07d746_117e_11eb_bab7_8cec4b0ec919row2_col4\" class=\"data row2 col4\" >5564</td>\n",
       "                        <td id=\"T_fa07d746_117e_11eb_bab7_8cec4b0ec919row2_col5\" class=\"data row2 col5\" >5564.000000</td>\n",
       "                        <td id=\"T_fa07d746_117e_11eb_bab7_8cec4b0ec919row2_col6\" class=\"data row2 col6\" >0.000000</td>\n",
       "                        <td id=\"T_fa07d746_117e_11eb_bab7_8cec4b0ec919row2_col7\" class=\"data row2 col7\" >0.000000</td>\n",
       "                        <td id=\"T_fa07d746_117e_11eb_bab7_8cec4b0ec919row2_col8\" class=\"data row2 col8\" >0.000000</td>\n",
       "                        <td id=\"T_fa07d746_117e_11eb_bab7_8cec4b0ec919row2_col9\" class=\"data row2 col9\" >5564.000000</td>\n",
       "                        <td id=\"T_fa07d746_117e_11eb_bab7_8cec4b0ec919row2_col10\" class=\"data row2 col10\" >5564.000000</td>\n",
       "                        <td id=\"T_fa07d746_117e_11eb_bab7_8cec4b0ec919row2_col11\" class=\"data row2 col11\" >5564.000000</td>\n",
       "                        <td id=\"T_fa07d746_117e_11eb_bab7_8cec4b0ec919row2_col12\" class=\"data row2 col12\" >55640.000000</td>\n",
       "                        <td id=\"T_fa07d746_117e_11eb_bab7_8cec4b0ec919row2_col13\" class=\"data row2 col13\" >2813</td>\n",
       "            </tr>\n",
       "            <tr>\n",
       "                        <th id=\"T_fa07d746_117e_11eb_bab7_8cec4b0ec919level0_row3\" class=\"row_heading level0 row3\" >3</th>\n",
       "                        <td id=\"T_fa07d746_117e_11eb_bab7_8cec4b0ec919row3_col0\" class=\"data row3 col0\" >5.000000</td>\n",
       "                        <td id=\"T_fa07d746_117e_11eb_bab7_8cec4b0ec919row3_col1\" class=\"data row3 col1\" >39026450</td>\n",
       "                        <td id=\"T_fa07d746_117e_11eb_bab7_8cec4b0ec919row3_col2\" class=\"data row3 col2\" >1162.605952</td>\n",
       "                        <td id=\"T_fa07d746_117e_11eb_bab7_8cec4b0ec919row3_col3\" class=\"data row3 col3\" >2063.811111</td>\n",
       "                        <td id=\"T_fa07d746_117e_11eb_bab7_8cec4b0ec919row3_col4\" class=\"data row3 col4\" >5445</td>\n",
       "                        <td id=\"T_fa07d746_117e_11eb_bab7_8cec4b0ec919row3_col5\" class=\"data row3 col5\" >5445.000000</td>\n",
       "                        <td id=\"T_fa07d746_117e_11eb_bab7_8cec4b0ec919row3_col6\" class=\"data row3 col6\" >0.000000</td>\n",
       "                        <td id=\"T_fa07d746_117e_11eb_bab7_8cec4b0ec919row3_col7\" class=\"data row3 col7\" >0.000000</td>\n",
       "                        <td id=\"T_fa07d746_117e_11eb_bab7_8cec4b0ec919row3_col8\" class=\"data row3 col8\" >5445.000000</td>\n",
       "                        <td id=\"T_fa07d746_117e_11eb_bab7_8cec4b0ec919row3_col9\" class=\"data row3 col9\" >5445.000000</td>\n",
       "                        <td id=\"T_fa07d746_117e_11eb_bab7_8cec4b0ec919row3_col10\" class=\"data row3 col10\" >5445.000000</td>\n",
       "                        <td id=\"T_fa07d746_117e_11eb_bab7_8cec4b0ec919row3_col11\" class=\"data row3 col11\" >5445.000000</td>\n",
       "                        <td id=\"T_fa07d746_117e_11eb_bab7_8cec4b0ec919row3_col12\" class=\"data row3 col12\" >27225.000000</td>\n",
       "                        <td id=\"T_fa07d746_117e_11eb_bab7_8cec4b0ec919row3_col13\" class=\"data row3 col13\" >3481</td>\n",
       "            </tr>\n",
       "            <tr>\n",
       "                        <th id=\"T_fa07d746_117e_11eb_bab7_8cec4b0ec919level0_row4\" class=\"row_heading level0 row4\" >4</th>\n",
       "                        <td id=\"T_fa07d746_117e_11eb_bab7_8cec4b0ec919row4_col0\" class=\"data row4 col0\" >6.000000</td>\n",
       "                        <td id=\"T_fa07d746_117e_11eb_bab7_8cec4b0ec919row4_col1\" class=\"data row4 col1\" >39093159</td>\n",
       "                        <td id=\"T_fa07d746_117e_11eb_bab7_8cec4b0ec919row4_col2\" class=\"data row4 col2\" >1276.948016</td>\n",
       "                        <td id=\"T_fa07d746_117e_11eb_bab7_8cec4b0ec919row4_col3\" class=\"data row4 col3\" >1097.616667</td>\n",
       "                        <td id=\"T_fa07d746_117e_11eb_bab7_8cec4b0ec919row4_col4\" class=\"data row4 col4\" >5480</td>\n",
       "                        <td id=\"T_fa07d746_117e_11eb_bab7_8cec4b0ec919row4_col5\" class=\"data row4 col5\" >0.000000</td>\n",
       "                        <td id=\"T_fa07d746_117e_11eb_bab7_8cec4b0ec919row4_col6\" class=\"data row4 col6\" >5480.000000</td>\n",
       "                        <td id=\"T_fa07d746_117e_11eb_bab7_8cec4b0ec919row4_col7\" class=\"data row4 col7\" >0.000000</td>\n",
       "                        <td id=\"T_fa07d746_117e_11eb_bab7_8cec4b0ec919row4_col8\" class=\"data row4 col8\" >5480.000000</td>\n",
       "                        <td id=\"T_fa07d746_117e_11eb_bab7_8cec4b0ec919row4_col9\" class=\"data row4 col9\" >5480.000000</td>\n",
       "                        <td id=\"T_fa07d746_117e_11eb_bab7_8cec4b0ec919row4_col10\" class=\"data row4 col10\" >5480.000000</td>\n",
       "                        <td id=\"T_fa07d746_117e_11eb_bab7_8cec4b0ec919row4_col11\" class=\"data row4 col11\" >0.000000</td>\n",
       "                        <td id=\"T_fa07d746_117e_11eb_bab7_8cec4b0ec919row4_col12\" class=\"data row4 col12\" >10960.000000</td>\n",
       "                        <td id=\"T_fa07d746_117e_11eb_bab7_8cec4b0ec919row4_col13\" class=\"data row4 col13\" >2335</td>\n",
       "            </tr>\n",
       "            <tr>\n",
       "                        <th id=\"T_fa07d746_117e_11eb_bab7_8cec4b0ec919level0_row5\" class=\"row_heading level0 row5\" >5</th>\n",
       "                        <td id=\"T_fa07d746_117e_11eb_bab7_8cec4b0ec919row5_col0\" class=\"data row5 col0\" >7.000000</td>\n",
       "                        <td id=\"T_fa07d746_117e_11eb_bab7_8cec4b0ec919row5_col1\" class=\"data row5 col1\" >39166508</td>\n",
       "                        <td id=\"T_fa07d746_117e_11eb_bab7_8cec4b0ec919row5_col2\" class=\"data row5 col2\" >0.000000</td>\n",
       "                        <td id=\"T_fa07d746_117e_11eb_bab7_8cec4b0ec919row5_col3\" class=\"data row5 col3\" >1469.916667</td>\n",
       "                        <td id=\"T_fa07d746_117e_11eb_bab7_8cec4b0ec919row5_col4\" class=\"data row5 col4\" >5524</td>\n",
       "                        <td id=\"T_fa07d746_117e_11eb_bab7_8cec4b0ec919row5_col5\" class=\"data row5 col5\" >0.000000</td>\n",
       "                        <td id=\"T_fa07d746_117e_11eb_bab7_8cec4b0ec919row5_col6\" class=\"data row5 col6\" >0.000000</td>\n",
       "                        <td id=\"T_fa07d746_117e_11eb_bab7_8cec4b0ec919row5_col7\" class=\"data row5 col7\" >5524.000000</td>\n",
       "                        <td id=\"T_fa07d746_117e_11eb_bab7_8cec4b0ec919row5_col8\" class=\"data row5 col8\" >5524.000000</td>\n",
       "                        <td id=\"T_fa07d746_117e_11eb_bab7_8cec4b0ec919row5_col9\" class=\"data row5 col9\" >5524.000000</td>\n",
       "                        <td id=\"T_fa07d746_117e_11eb_bab7_8cec4b0ec919row5_col10\" class=\"data row5 col10\" >5524.000000</td>\n",
       "                        <td id=\"T_fa07d746_117e_11eb_bab7_8cec4b0ec919row5_col11\" class=\"data row5 col11\" >0.000000</td>\n",
       "                        <td id=\"T_fa07d746_117e_11eb_bab7_8cec4b0ec919row5_col12\" class=\"data row5 col12\" >0.000000</td>\n",
       "                        <td id=\"T_fa07d746_117e_11eb_bab7_8cec4b0ec919row5_col13\" class=\"data row5 col13\" >0</td>\n",
       "            </tr>\n",
       "            <tr>\n",
       "                        <th id=\"T_fa07d746_117e_11eb_bab7_8cec4b0ec919level0_row6\" class=\"row_heading level0 row6\" >6</th>\n",
       "                        <td id=\"T_fa07d746_117e_11eb_bab7_8cec4b0ec919row6_col0\" class=\"data row6 col0\" >8.000000</td>\n",
       "                        <td id=\"T_fa07d746_117e_11eb_bab7_8cec4b0ec919row6_col1\" class=\"data row6 col1\" >39525140</td>\n",
       "                        <td id=\"T_fa07d746_117e_11eb_bab7_8cec4b0ec919row6_col2\" class=\"data row6 col2\" >1412.051732</td>\n",
       "                        <td id=\"T_fa07d746_117e_11eb_bab7_8cec4b0ec919row6_col3\" class=\"data row6 col3\" >1997.022727</td>\n",
       "                        <td id=\"T_fa07d746_117e_11eb_bab7_8cec4b0ec919row6_col4\" class=\"data row6 col4\" >5544</td>\n",
       "                        <td id=\"T_fa07d746_117e_11eb_bab7_8cec4b0ec919row6_col5\" class=\"data row6 col5\" >0.000000</td>\n",
       "                        <td id=\"T_fa07d746_117e_11eb_bab7_8cec4b0ec919row6_col6\" class=\"data row6 col6\" >5544.000000</td>\n",
       "                        <td id=\"T_fa07d746_117e_11eb_bab7_8cec4b0ec919row6_col7\" class=\"data row6 col7\" >0.000000</td>\n",
       "                        <td id=\"T_fa07d746_117e_11eb_bab7_8cec4b0ec919row6_col8\" class=\"data row6 col8\" >5544.000000</td>\n",
       "                        <td id=\"T_fa07d746_117e_11eb_bab7_8cec4b0ec919row6_col9\" class=\"data row6 col9\" >5544.000000</td>\n",
       "                        <td id=\"T_fa07d746_117e_11eb_bab7_8cec4b0ec919row6_col10\" class=\"data row6 col10\" >5544.000000</td>\n",
       "                        <td id=\"T_fa07d746_117e_11eb_bab7_8cec4b0ec919row6_col11\" class=\"data row6 col11\" >5544.000000</td>\n",
       "                        <td id=\"T_fa07d746_117e_11eb_bab7_8cec4b0ec919row6_col12\" class=\"data row6 col12\" >11088.000000</td>\n",
       "                        <td id=\"T_fa07d746_117e_11eb_bab7_8cec4b0ec919row6_col13\" class=\"data row6 col13\" >4154</td>\n",
       "            </tr>\n",
       "            <tr>\n",
       "                        <th id=\"T_fa07d746_117e_11eb_bab7_8cec4b0ec919level0_row7\" class=\"row_heading level0 row7\" >7</th>\n",
       "                        <td id=\"T_fa07d746_117e_11eb_bab7_8cec4b0ec919row7_col0\" class=\"data row7 col0\" >9.000000</td>\n",
       "                        <td id=\"T_fa07d746_117e_11eb_bab7_8cec4b0ec919row7_col1\" class=\"data row7 col1\" >39479522</td>\n",
       "                        <td id=\"T_fa07d746_117e_11eb_bab7_8cec4b0ec919row7_col2\" class=\"data row7 col2\" >1380.139141</td>\n",
       "                        <td id=\"T_fa07d746_117e_11eb_bab7_8cec4b0ec919row7_col3\" class=\"data row7 col3\" >1988.416522</td>\n",
       "                        <td id=\"T_fa07d746_117e_11eb_bab7_8cec4b0ec919row7_col4\" class=\"data row7 col4\" >5507</td>\n",
       "                        <td id=\"T_fa07d746_117e_11eb_bab7_8cec4b0ec919row7_col5\" class=\"data row7 col5\" >0.000000</td>\n",
       "                        <td id=\"T_fa07d746_117e_11eb_bab7_8cec4b0ec919row7_col6\" class=\"data row7 col6\" >5507.000000</td>\n",
       "                        <td id=\"T_fa07d746_117e_11eb_bab7_8cec4b0ec919row7_col7\" class=\"data row7 col7\" >0.000000</td>\n",
       "                        <td id=\"T_fa07d746_117e_11eb_bab7_8cec4b0ec919row7_col8\" class=\"data row7 col8\" >5507.000000</td>\n",
       "                        <td id=\"T_fa07d746_117e_11eb_bab7_8cec4b0ec919row7_col9\" class=\"data row7 col9\" >5507.000000</td>\n",
       "                        <td id=\"T_fa07d746_117e_11eb_bab7_8cec4b0ec919row7_col10\" class=\"data row7 col10\" >5507.000000</td>\n",
       "                        <td id=\"T_fa07d746_117e_11eb_bab7_8cec4b0ec919row7_col11\" class=\"data row7 col11\" >5507.000000</td>\n",
       "                        <td id=\"T_fa07d746_117e_11eb_bab7_8cec4b0ec919row7_col12\" class=\"data row7 col12\" >16521.000000</td>\n",
       "                        <td id=\"T_fa07d746_117e_11eb_bab7_8cec4b0ec919row7_col13\" class=\"data row7 col13\" >4062</td>\n",
       "            </tr>\n",
       "            <tr>\n",
       "                        <th id=\"T_fa07d746_117e_11eb_bab7_8cec4b0ec919level0_row8\" class=\"row_heading level0 row8\" >8</th>\n",
       "                        <td id=\"T_fa07d746_117e_11eb_bab7_8cec4b0ec919row8_col0\" class=\"data row8 col0\" >10.000000</td>\n",
       "                        <td id=\"T_fa07d746_117e_11eb_bab7_8cec4b0ec919row8_col1\" class=\"data row8 col1\" >39911305</td>\n",
       "                        <td id=\"T_fa07d746_117e_11eb_bab7_8cec4b0ec919row8_col2\" class=\"data row8 col2\" >1207.708333</td>\n",
       "                        <td id=\"T_fa07d746_117e_11eb_bab7_8cec4b0ec919row8_col3\" class=\"data row8 col3\" >724.965476</td>\n",
       "                        <td id=\"T_fa07d746_117e_11eb_bab7_8cec4b0ec919row8_col4\" class=\"data row8 col4\" >5588</td>\n",
       "                        <td id=\"T_fa07d746_117e_11eb_bab7_8cec4b0ec919row8_col5\" class=\"data row8 col5\" >0.000000</td>\n",
       "                        <td id=\"T_fa07d746_117e_11eb_bab7_8cec4b0ec919row8_col6\" class=\"data row8 col6\" >5588.000000</td>\n",
       "                        <td id=\"T_fa07d746_117e_11eb_bab7_8cec4b0ec919row8_col7\" class=\"data row8 col7\" >0.000000</td>\n",
       "                        <td id=\"T_fa07d746_117e_11eb_bab7_8cec4b0ec919row8_col8\" class=\"data row8 col8\" >5588.000000</td>\n",
       "                        <td id=\"T_fa07d746_117e_11eb_bab7_8cec4b0ec919row8_col9\" class=\"data row8 col9\" >5588.000000</td>\n",
       "                        <td id=\"T_fa07d746_117e_11eb_bab7_8cec4b0ec919row8_col10\" class=\"data row8 col10\" >0.000000</td>\n",
       "                        <td id=\"T_fa07d746_117e_11eb_bab7_8cec4b0ec919row8_col11\" class=\"data row8 col11\" >0.000000</td>\n",
       "                        <td id=\"T_fa07d746_117e_11eb_bab7_8cec4b0ec919row8_col12\" class=\"data row8 col12\" >27940.000000</td>\n",
       "                        <td id=\"T_fa07d746_117e_11eb_bab7_8cec4b0ec919row8_col13\" class=\"data row8 col13\" >1452</td>\n",
       "            </tr>\n",
       "            <tr>\n",
       "                        <th id=\"T_fa07d746_117e_11eb_bab7_8cec4b0ec919level0_row9\" class=\"row_heading level0 row9\" >9</th>\n",
       "                        <td id=\"T_fa07d746_117e_11eb_bab7_8cec4b0ec919row9_col0\" class=\"data row9 col0\" >11.000000</td>\n",
       "                        <td id=\"T_fa07d746_117e_11eb_bab7_8cec4b0ec919row9_col1\" class=\"data row9 col1\" >39365110</td>\n",
       "                        <td id=\"T_fa07d746_117e_11eb_bab7_8cec4b0ec919row9_col2\" class=\"data row9 col2\" >935.824026</td>\n",
       "                        <td id=\"T_fa07d746_117e_11eb_bab7_8cec4b0ec919row9_col3\" class=\"data row9 col3\" >2202.003463</td>\n",
       "                        <td id=\"T_fa07d746_117e_11eb_bab7_8cec4b0ec919row9_col4\" class=\"data row9 col4\" >5511</td>\n",
       "                        <td id=\"T_fa07d746_117e_11eb_bab7_8cec4b0ec919row9_col5\" class=\"data row9 col5\" >5511.000000</td>\n",
       "                        <td id=\"T_fa07d746_117e_11eb_bab7_8cec4b0ec919row9_col6\" class=\"data row9 col6\" >0.000000</td>\n",
       "                        <td id=\"T_fa07d746_117e_11eb_bab7_8cec4b0ec919row9_col7\" class=\"data row9 col7\" >0.000000</td>\n",
       "                        <td id=\"T_fa07d746_117e_11eb_bab7_8cec4b0ec919row9_col8\" class=\"data row9 col8\" >5511.000000</td>\n",
       "                        <td id=\"T_fa07d746_117e_11eb_bab7_8cec4b0ec919row9_col9\" class=\"data row9 col9\" >5511.000000</td>\n",
       "                        <td id=\"T_fa07d746_117e_11eb_bab7_8cec4b0ec919row9_col10\" class=\"data row9 col10\" >5511.000000</td>\n",
       "                        <td id=\"T_fa07d746_117e_11eb_bab7_8cec4b0ec919row9_col11\" class=\"data row9 col11\" >5511.000000</td>\n",
       "                        <td id=\"T_fa07d746_117e_11eb_bab7_8cec4b0ec919row9_col12\" class=\"data row9 col12\" >55110.000000</td>\n",
       "                        <td id=\"T_fa07d746_117e_11eb_bab7_8cec4b0ec919row9_col13\" class=\"data row9 col13\" >2805</td>\n",
       "            </tr>\n",
       "    </tbody></table>"
      ],
      "text/plain": [
       "<pandas.io.formats.style.Styler at 0x17f4014b588>"
      ]
     },
     "execution_count": 385,
     "metadata": {},
     "output_type": "execute_result"
    }
   ],
   "source": [
    "offer_agg.style"
   ]
  },
  {
   "cell_type": "markdown",
   "metadata": {},
   "source": [
    "# FUNKSVD"
   ]
  },
  {
   "cell_type": "code",
   "execution_count": null,
   "metadata": {},
   "outputs": [],
   "source": [
    "user_item = create_user_item_matrix(df_gb)"
   ]
  },
  {
   "cell_type": "code",
   "execution_count": null,
   "metadata": {},
   "outputs": [],
   "source": [
    "u, vt, sse_totals = FunkSVD(user_item, latent_features=6, learning_rate=0.02, iters=1000)"
   ]
  },
  {
   "cell_type": "code",
   "execution_count": 56,
   "metadata": {},
   "outputs": [
    {
     "data": {
      "image/png": "[encoded data removed]",
      "text/plain": [
       "<matplotlib.figure.Figure at 0x17f3d2c1240>"
      ]
     },
     "metadata": {},
     "output_type": "display_data"
    }
   ],
   "source": [
    "plot_sse_fig(range(1000), sse_totals, met_label = \"SSE\")"
   ]
  },
  {
   "cell_type": "code",
   "execution_count": 552,
   "metadata": {},
   "outputs": [],
   "source": [
    "v = vt.T\n",
    "for_cor = pd.concat([v, u], axis = 0)\n",
    "for_cor.to_csv('./output_funksvd_weighted.csv')"
   ]
  },
  {
   "cell_type": "code",
   "execution_count": 732,
   "metadata": {},
   "outputs": [
    {
     "data": {
      "text/html": [
       "<div>\n",
       "<style scoped>\n",
       "    .dataframe tbody tr th:only-of-type {\n",
       "        vertical-align: middle;\n",
       "    }\n",
       "\n",
       "    .dataframe tbody tr th {\n",
       "        vertical-align: top;\n",
       "    }\n",
       "\n",
       "    .dataframe thead th {\n",
       "        text-align: right;\n",
       "    }\n",
       "</style>\n",
       "<table border=\"1\" class=\"dataframe\">\n",
       "  <thead>\n",
       "    <tr style=\"text-align: right;\">\n",
       "      <th></th>\n",
       "      <th>0</th>\n",
       "      <th>1</th>\n",
       "      <th>2</th>\n",
       "      <th>3</th>\n",
       "      <th>4</th>\n",
       "      <th>5</th>\n",
       "    </tr>\n",
       "  </thead>\n",
       "  <tbody>\n",
       "    <tr>\n",
       "      <th>1.0</th>\n",
       "      <td>0.824764</td>\n",
       "      <td>0.429305</td>\n",
       "      <td>0.273340</td>\n",
       "      <td>0.539266</td>\n",
       "      <td>0.880301</td>\n",
       "      <td>0.457102</td>\n",
       "    </tr>\n",
       "    <tr>\n",
       "      <th>2.0</th>\n",
       "      <td>0.588292</td>\n",
       "      <td>0.257049</td>\n",
       "      <td>0.271542</td>\n",
       "      <td>0.494134</td>\n",
       "      <td>0.174976</td>\n",
       "      <td>0.342201</td>\n",
       "    </tr>\n",
       "    <tr>\n",
       "      <th>3.0</th>\n",
       "      <td>0.700352</td>\n",
       "      <td>0.416549</td>\n",
       "      <td>0.400352</td>\n",
       "      <td>0.363928</td>\n",
       "      <td>0.317347</td>\n",
       "      <td>0.339098</td>\n",
       "    </tr>\n",
       "    <tr>\n",
       "      <th>4.0</th>\n",
       "      <td>0.949845</td>\n",
       "      <td>0.892175</td>\n",
       "      <td>1.021158</td>\n",
       "      <td>0.658575</td>\n",
       "      <td>0.039938</td>\n",
       "      <td>1.624842</td>\n",
       "    </tr>\n",
       "    <tr>\n",
       "      <th>5.0</th>\n",
       "      <td>0.630401</td>\n",
       "      <td>0.396127</td>\n",
       "      <td>0.287705</td>\n",
       "      <td>-0.100437</td>\n",
       "      <td>0.703634</td>\n",
       "      <td>-0.027819</td>\n",
       "    </tr>\n",
       "    <tr>\n",
       "      <th>...</th>\n",
       "      <td>...</td>\n",
       "      <td>...</td>\n",
       "      <td>...</td>\n",
       "      <td>...</td>\n",
       "      <td>...</td>\n",
       "      <td>...</td>\n",
       "    </tr>\n",
       "    <tr>\n",
       "      <th>14821.0</th>\n",
       "      <td>0.111996</td>\n",
       "      <td>0.440663</td>\n",
       "      <td>-0.017991</td>\n",
       "      <td>0.424440</td>\n",
       "      <td>0.752441</td>\n",
       "      <td>0.637946</td>\n",
       "    </tr>\n",
       "    <tr>\n",
       "      <th>14822.0</th>\n",
       "      <td>0.149868</td>\n",
       "      <td>0.314573</td>\n",
       "      <td>0.578114</td>\n",
       "      <td>0.261818</td>\n",
       "      <td>0.322739</td>\n",
       "      <td>0.340543</td>\n",
       "    </tr>\n",
       "    <tr>\n",
       "      <th>14823.0</th>\n",
       "      <td>0.120998</td>\n",
       "      <td>0.737733</td>\n",
       "      <td>0.369361</td>\n",
       "      <td>0.719038</td>\n",
       "      <td>0.614037</td>\n",
       "      <td>0.628735</td>\n",
       "    </tr>\n",
       "    <tr>\n",
       "      <th>14824.0</th>\n",
       "      <td>0.252717</td>\n",
       "      <td>0.263130</td>\n",
       "      <td>0.528510</td>\n",
       "      <td>0.261192</td>\n",
       "      <td>0.736901</td>\n",
       "      <td>0.278187</td>\n",
       "    </tr>\n",
       "    <tr>\n",
       "      <th>14825.0</th>\n",
       "      <td>0.352295</td>\n",
       "      <td>0.570727</td>\n",
       "      <td>0.406978</td>\n",
       "      <td>0.335991</td>\n",
       "      <td>0.339670</td>\n",
       "      <td>0.872229</td>\n",
       "    </tr>\n",
       "  </tbody>\n",
       "</table>\n",
       "<p>14820 rows × 6 columns</p>\n",
       "</div>"
      ],
      "text/plain": [
       "                0         1         2         3         4         5\n",
       "1.0      0.824764  0.429305  0.273340  0.539266  0.880301  0.457102\n",
       "2.0      0.588292  0.257049  0.271542  0.494134  0.174976  0.342201\n",
       "3.0      0.700352  0.416549  0.400352  0.363928  0.317347  0.339098\n",
       "4.0      0.949845  0.892175  1.021158  0.658575  0.039938  1.624842\n",
       "5.0      0.630401  0.396127  0.287705 -0.100437  0.703634 -0.027819\n",
       "...           ...       ...       ...       ...       ...       ...\n",
       "14821.0  0.111996  0.440663 -0.017991  0.424440  0.752441  0.637946\n",
       "14822.0  0.149868  0.314573  0.578114  0.261818  0.322739  0.340543\n",
       "14823.0  0.120998  0.737733  0.369361  0.719038  0.614037  0.628735\n",
       "14824.0  0.252717  0.263130  0.528510  0.261192  0.736901  0.278187\n",
       "14825.0  0.352295  0.570727  0.406978  0.335991  0.339670  0.872229\n",
       "\n",
       "[14820 rows x 6 columns]"
      ]
     },
     "execution_count": 732,
     "metadata": {},
     "output_type": "execute_result"
    }
   ],
   "source": [
    "\n",
    "for_cor = pd.read_csv('./output_funksvd_weighted.csv', index_col = 0)\n",
    "vt = for_cor.iloc[0:10, : ].T\n",
    "u = for_cor.iloc[10: , :]\n",
    "u"
   ]
  },
  {
   "cell_type": "code",
   "execution_count": 553,
   "metadata": {},
   "outputs": [
    {
     "data": {
      "image/png": "[encoded data removed]",
      "text/plain": [
       "<matplotlib.figure.Figure at 0x17f48c90ba8>"
      ]
     },
     "metadata": {},
     "output_type": "display_data"
    }
   ],
   "source": [
    "user_id_char = u.merge(users_df2, left_on = u.index, right_on = 'user_id', how = 'right')\n",
    "user_id_char = user_id_char.drop(['user_id'], axis = 1)\n",
    "\n",
    "user_corr = user_id_char.corr()\n",
    "\n",
    "sns.heatmap(user_corr.iloc[6:, 0:6], annot=False, fmt=\".2f\");"
   ]
  },
  {
   "cell_type": "code",
   "execution_count": 554,
   "metadata": {},
   "outputs": [
    {
     "data": {
      "image/png": "[encoded data removed]",
      "text/plain": [
       "<matplotlib.figure.Figure at 0x17f48c77128>"
      ]
     },
     "metadata": {},
     "output_type": "display_data"
    }
   ],
   "source": [
    "offer_id_char = v.merge(offer_agg, left_on = v.index, right_on = 'offer_id', how = 'right')\n",
    "offer_id_char = offer_id_char.drop(['user_id'], axis = 1)\n",
    "\n",
    "offer_corr = offer_id_char.corr()\n",
    "\n",
    "sns.heatmap(offer_corr.iloc[7:, 0:6], annot=False, fmt=\".2f\");"
   ]
  },
  {
   "cell_type": "code",
   "execution_count": 431,
   "metadata": {},
   "outputs": [],
   "source": [
    "u.columns = [str(i) + '_user' for i in u.columns]\n",
    "v.columns = [str(i) + '_offer' for i in v.columns]\n",
    "\n",
    "df_gb_max = df_gb.merge(u, left_on = 'user_id', right_on = u.index, how = 'left')\n",
    "df_gb_max = df_gb_max.merge(v, left_on = 'offer_id', right_on = v.index, how = 'left')"
   ]
  },
  {
   "cell_type": "code",
   "execution_count": 438,
   "metadata": {},
   "outputs": [
    {
     "data": {
      "image/png": "[encoded data removed]",
      "text/plain": [
       "<matplotlib.figure.Figure at 0x17f432220b8>"
      ]
     },
     "metadata": {},
     "output_type": "display_data"
    }
   ],
   "source": [
    "sns.heatmap(v, annot=False, fmt=\".2f\");"
   ]
  },
  {
   "cell_type": "code",
   "execution_count": 728,
   "metadata": {},
   "outputs": [],
   "source": [
    "preds = np.dot(u, vt)\n",
    "preds = np.where(preds > 0.5, 1, 0)\n",
    "A = pd.DataFrame(preds)\n",
    "\n",
    "A.columns = user_item.columns"
   ]
  },
  {
   "cell_type": "code",
   "execution_count": 735,
   "metadata": {},
   "outputs": [
    {
     "data": {
      "text/html": [
       "<div>\n",
       "<style scoped>\n",
       "    .dataframe tbody tr th:only-of-type {\n",
       "        vertical-align: middle;\n",
       "    }\n",
       "\n",
       "    .dataframe tbody tr th {\n",
       "        vertical-align: top;\n",
       "    }\n",
       "\n",
       "    .dataframe thead th {\n",
       "        text-align: right;\n",
       "    }\n",
       "</style>\n",
       "<table border=\"1\" class=\"dataframe\">\n",
       "  <thead>\n",
       "    <tr style=\"text-align: right;\">\n",
       "      <th>offer_id</th>\n",
       "      <th>1.0</th>\n",
       "      <th>3.0</th>\n",
       "      <th>4.0</th>\n",
       "      <th>5.0</th>\n",
       "      <th>6.0</th>\n",
       "      <th>7.0</th>\n",
       "      <th>8.0</th>\n",
       "      <th>9.0</th>\n",
       "      <th>10.0</th>\n",
       "      <th>11.0</th>\n",
       "    </tr>\n",
       "  </thead>\n",
       "  <tbody>\n",
       "    <tr>\n",
       "      <th>0</th>\n",
       "      <td>1.127865</td>\n",
       "      <td>0.0</td>\n",
       "      <td>1.127865</td>\n",
       "      <td>1.127865</td>\n",
       "      <td>1.127865</td>\n",
       "      <td>0.0</td>\n",
       "      <td>0.000000</td>\n",
       "      <td>1.127865</td>\n",
       "      <td>1.127865</td>\n",
       "      <td>1.127865</td>\n",
       "    </tr>\n",
       "    <tr>\n",
       "      <th>1</th>\n",
       "      <td>2.232202</td>\n",
       "      <td>0.0</td>\n",
       "      <td>2.232202</td>\n",
       "      <td>2.232202</td>\n",
       "      <td>0.000000</td>\n",
       "      <td>0.0</td>\n",
       "      <td>2.232202</td>\n",
       "      <td>0.000000</td>\n",
       "      <td>2.232202</td>\n",
       "      <td>2.232202</td>\n",
       "    </tr>\n",
       "    <tr>\n",
       "      <th>2</th>\n",
       "      <td>3.244990</td>\n",
       "      <td>0.0</td>\n",
       "      <td>3.244990</td>\n",
       "      <td>3.244990</td>\n",
       "      <td>3.244990</td>\n",
       "      <td>0.0</td>\n",
       "      <td>3.244990</td>\n",
       "      <td>0.000000</td>\n",
       "      <td>3.244990</td>\n",
       "      <td>3.244990</td>\n",
       "    </tr>\n",
       "    <tr>\n",
       "      <th>3</th>\n",
       "      <td>0.000000</td>\n",
       "      <td>0.0</td>\n",
       "      <td>6.902049</td>\n",
       "      <td>0.000000</td>\n",
       "      <td>0.000000</td>\n",
       "      <td>0.0</td>\n",
       "      <td>6.902049</td>\n",
       "      <td>0.000000</td>\n",
       "      <td>6.902049</td>\n",
       "      <td>0.000000</td>\n",
       "    </tr>\n",
       "    <tr>\n",
       "      <th>4</th>\n",
       "      <td>1.668907</td>\n",
       "      <td>0.0</td>\n",
       "      <td>1.668907</td>\n",
       "      <td>1.668907</td>\n",
       "      <td>1.668907</td>\n",
       "      <td>0.0</td>\n",
       "      <td>0.000000</td>\n",
       "      <td>0.000000</td>\n",
       "      <td>0.000000</td>\n",
       "      <td>1.668907</td>\n",
       "    </tr>\n",
       "    <tr>\n",
       "      <th>...</th>\n",
       "      <td>...</td>\n",
       "      <td>...</td>\n",
       "      <td>...</td>\n",
       "      <td>...</td>\n",
       "      <td>...</td>\n",
       "      <td>...</td>\n",
       "      <td>...</td>\n",
       "      <td>...</td>\n",
       "      <td>...</td>\n",
       "      <td>...</td>\n",
       "    </tr>\n",
       "    <tr>\n",
       "      <th>14815</th>\n",
       "      <td>0.000000</td>\n",
       "      <td>0.0</td>\n",
       "      <td>0.000000</td>\n",
       "      <td>0.500000</td>\n",
       "      <td>0.000000</td>\n",
       "      <td>0.0</td>\n",
       "      <td>0.000000</td>\n",
       "      <td>0.500000</td>\n",
       "      <td>0.000000</td>\n",
       "      <td>0.000000</td>\n",
       "    </tr>\n",
       "    <tr>\n",
       "      <th>14816</th>\n",
       "      <td>0.500000</td>\n",
       "      <td>0.0</td>\n",
       "      <td>0.000000</td>\n",
       "      <td>0.000000</td>\n",
       "      <td>0.500000</td>\n",
       "      <td>0.0</td>\n",
       "      <td>0.500000</td>\n",
       "      <td>0.500000</td>\n",
       "      <td>0.000000</td>\n",
       "      <td>0.000000</td>\n",
       "    </tr>\n",
       "    <tr>\n",
       "      <th>14817</th>\n",
       "      <td>0.000000</td>\n",
       "      <td>0.0</td>\n",
       "      <td>0.000000</td>\n",
       "      <td>0.500000</td>\n",
       "      <td>0.000000</td>\n",
       "      <td>0.0</td>\n",
       "      <td>0.500000</td>\n",
       "      <td>0.500000</td>\n",
       "      <td>0.000000</td>\n",
       "      <td>0.000000</td>\n",
       "    </tr>\n",
       "    <tr>\n",
       "      <th>14818</th>\n",
       "      <td>0.500000</td>\n",
       "      <td>0.0</td>\n",
       "      <td>0.000000</td>\n",
       "      <td>0.000000</td>\n",
       "      <td>0.500000</td>\n",
       "      <td>0.0</td>\n",
       "      <td>0.000000</td>\n",
       "      <td>0.500000</td>\n",
       "      <td>0.000000</td>\n",
       "      <td>0.000000</td>\n",
       "    </tr>\n",
       "    <tr>\n",
       "      <th>14819</th>\n",
       "      <td>0.000000</td>\n",
       "      <td>0.0</td>\n",
       "      <td>0.500000</td>\n",
       "      <td>0.500000</td>\n",
       "      <td>0.500000</td>\n",
       "      <td>0.0</td>\n",
       "      <td>0.500000</td>\n",
       "      <td>0.500000</td>\n",
       "      <td>0.500000</td>\n",
       "      <td>0.000000</td>\n",
       "    </tr>\n",
       "  </tbody>\n",
       "</table>\n",
       "<p>14820 rows × 10 columns</p>\n",
       "</div>"
      ],
      "text/plain": [
       "offer_id      1.0   3.0       4.0       5.0       6.0   7.0       8.0   \\\n",
       "0         1.127865   0.0  1.127865  1.127865  1.127865   0.0  0.000000   \n",
       "1         2.232202   0.0  2.232202  2.232202  0.000000   0.0  2.232202   \n",
       "2         3.244990   0.0  3.244990  3.244990  3.244990   0.0  3.244990   \n",
       "3         0.000000   0.0  6.902049  0.000000  0.000000   0.0  6.902049   \n",
       "4         1.668907   0.0  1.668907  1.668907  1.668907   0.0  0.000000   \n",
       "...            ...   ...       ...       ...       ...   ...       ...   \n",
       "14815     0.000000   0.0  0.000000  0.500000  0.000000   0.0  0.000000   \n",
       "14816     0.500000   0.0  0.000000  0.000000  0.500000   0.0  0.500000   \n",
       "14817     0.000000   0.0  0.000000  0.500000  0.000000   0.0  0.500000   \n",
       "14818     0.500000   0.0  0.000000  0.000000  0.500000   0.0  0.000000   \n",
       "14819     0.000000   0.0  0.500000  0.500000  0.500000   0.0  0.500000   \n",
       "\n",
       "offer_id      9.0       10.0      11.0  \n",
       "0         1.127865  1.127865  1.127865  \n",
       "1         0.000000  2.232202  2.232202  \n",
       "2         0.000000  3.244990  3.244990  \n",
       "3         0.000000  6.902049  0.000000  \n",
       "4         0.000000  0.000000  1.668907  \n",
       "...            ...       ...       ...  \n",
       "14815     0.500000  0.000000  0.000000  \n",
       "14816     0.500000  0.000000  0.000000  \n",
       "14817     0.500000  0.000000  0.000000  \n",
       "14818     0.500000  0.000000  0.000000  \n",
       "14819     0.500000  0.500000  0.000000  \n",
       "\n",
       "[14820 rows x 10 columns]"
      ]
     },
     "execution_count": 735,
     "metadata": {},
     "output_type": "execute_result"
    }
   ],
   "source": [
    "\n",
    "impact_weights = users_df2['reward_impact'].reset_index(drop = True)*100 + 0.5\n",
    "\n",
    "A_weighted = A.mul(impact_weights, axis = 'rows')\n",
    "A_weighted"
   ]
  },
  {
   "cell_type": "code",
   "execution_count": 684,
   "metadata": {},
   "outputs": [
    {
     "data": {
      "text/plain": [
       "Index(['user_id', 'offer_id', 'time', 'age', 'income', 'amount', 'reward',\n",
       "       'difficulty', 'duration', 'years_member', 'event_offer completed',\n",
       "       'event_offer received', 'event_offer viewed', 'event_transaction',\n",
       "       'gender_F', 'gender_M', 'gender_O', 'offer_type_bogo',\n",
       "       'offer_type_discount', 'offer_type_informational', 'web', 'email',\n",
       "       'mobile', 'social', '25_and_less', '25_to_40', '40_to_60', '60+',\n",
       "       'group1', 'group2', 'group3'],\n",
       "      dtype='object')"
      ]
     },
     "execution_count": 684,
     "metadata": {},
     "output_type": "execute_result"
    }
   ],
   "source": [
    "#using below kind of thing, we will see what the shared chars are of each individual recommended each type of offer \n",
    "#that was not recommended it before\n",
    "df_gb.columns"
   ]
  },
  {
   "cell_type": "code",
   "execution_count": 712,
   "metadata": {},
   "outputs": [
    {
     "data": {
      "text/plain": [
       "Float64Index([1.0, 3.0, 4.0, 5.0, 6.0, 7.0, 8.0, 9.0, 10.0, 11.0], dtype='float64', name='offer_id')"
      ]
     },
     "execution_count": 712,
     "metadata": {},
     "output_type": "execute_result"
    }
   ],
   "source": [
    "A.columns"
   ]
  },
  {
   "cell_type": "code",
   "execution_count": 745,
   "metadata": {},
   "outputs": [
    {
     "name": "stderr",
     "output_type": "stream",
     "text": [
      "C:\\Users\\madke\\Anaconda3\\lib\\site-packages\\ipykernel_launcher.py:17: UserWarning:\n",
      "\n",
      "Boolean Series key will be reindexed to match DataFrame index.\n",
      "\n",
      "C:\\Users\\madke\\Anaconda3\\lib\\site-packages\\ipykernel_launcher.py:18: UserWarning:\n",
      "\n",
      "Boolean Series key will be reindexed to match DataFrame index.\n",
      "\n"
     ]
    },
    {
     "ename": "ValueError",
     "evalue": "operands could not be broadcast together with shapes (87,) (91,) ",
     "output_type": "error",
     "traceback": [
      "\u001b[1;31m---------------------------------------------------------------------------\u001b[0m",
      "\u001b[1;31mValueError\u001b[0m                                Traceback (most recent call last)",
      "\u001b[1;32m<ipython-input-745-27f76457a064>\u001b[0m in \u001b[0;36m<module>\u001b[1;34m\u001b[0m\n\u001b[0;32m     32\u001b[0m \u001b[1;33m\u001b[0m\u001b[0m\n\u001b[0;32m     33\u001b[0m     \u001b[0mfig\u001b[0m\u001b[1;33m.\u001b[0m\u001b[0madd_trace\u001b[0m\u001b[1;33m(\u001b[0m\u001b[0mgo\u001b[0m\u001b[1;33m.\u001b[0m\u001b[0mScatter\u001b[0m\u001b[1;33m(\u001b[0m\u001b[0mx\u001b[0m\u001b[1;33m=\u001b[0m\u001b[0mX\u001b[0m\u001b[1;33m,\u001b[0m \u001b[0my\u001b[0m \u001b[1;33m=\u001b[0m \u001b[0my\u001b[0m\u001b[1;33m,\u001b[0m \u001b[0mname\u001b[0m \u001b[1;33m=\u001b[0m \u001b[1;34m'gen'\u001b[0m\u001b[1;33m,\u001b[0m \u001b[0mfill\u001b[0m \u001b[1;33m=\u001b[0m \u001b[1;34m'tozeroy'\u001b[0m\u001b[1;33m)\u001b[0m\u001b[1;33m,\u001b[0m \u001b[0mrow\u001b[0m \u001b[1;33m=\u001b[0m \u001b[1;36m1\u001b[0m\u001b[1;33m,\u001b[0m \u001b[0mcol\u001b[0m \u001b[1;33m=\u001b[0m \u001b[1;36m1\u001b[0m\u001b[1;33m)\u001b[0m\u001b[1;33m\u001b[0m\u001b[0m\n\u001b[1;32m---> 34\u001b[1;33m     \u001b[0mfig\u001b[0m\u001b[1;33m.\u001b[0m\u001b[0madd_trace\u001b[0m\u001b[1;33m(\u001b[0m\u001b[0mgo\u001b[0m\u001b[1;33m.\u001b[0m\u001b[0mScatter\u001b[0m\u001b[1;33m(\u001b[0m\u001b[0mx\u001b[0m\u001b[1;33m=\u001b[0m\u001b[0mX2\u001b[0m\u001b[1;33m,\u001b[0m \u001b[0my\u001b[0m \u001b[1;33m=\u001b[0m \u001b[0my2\u001b[0m\u001b[1;33m/\u001b[0m\u001b[0my\u001b[0m\u001b[1;33m,\u001b[0m \u001b[0mname\u001b[0m \u001b[1;33m=\u001b[0m \u001b[1;34m'rec'\u001b[0m\u001b[1;33m,\u001b[0m \u001b[0mfill\u001b[0m \u001b[1;33m=\u001b[0m \u001b[1;34m'tozeroy'\u001b[0m\u001b[1;33m)\u001b[0m\u001b[1;33m,\u001b[0m \u001b[0mrow\u001b[0m \u001b[1;33m=\u001b[0m\u001b[1;36m1\u001b[0m \u001b[1;33m,\u001b[0m\u001b[0mcol\u001b[0m\u001b[1;33m=\u001b[0m \u001b[1;36m2\u001b[0m\u001b[1;33m)\u001b[0m\u001b[1;33m\u001b[0m\u001b[0m\n\u001b[0m\u001b[0;32m     35\u001b[0m \u001b[1;33m\u001b[0m\u001b[0m\n\u001b[0;32m     36\u001b[0m     \u001b[0mincome_figs\u001b[0m\u001b[1;33m.\u001b[0m\u001b[0mappend\u001b[0m\u001b[1;33m(\u001b[0m\u001b[1;33m[\u001b[0m\u001b[0mi\u001b[0m\u001b[1;33m,\u001b[0m \u001b[0mfig\u001b[0m\u001b[1;33m]\u001b[0m\u001b[1;33m)\u001b[0m\u001b[1;33m\u001b[0m\u001b[0m\n",
      "\u001b[1;31mValueError\u001b[0m: operands could not be broadcast together with shapes (87,) (91,) "
     ]
    }
   ],
   "source": [
    "\n",
    "def to_bars(var, df = df_gb_rec):\n",
    "    val_counts = df[[var]].value_counts().sort_index()\n",
    "    labels = [i[0] for i in val_counts.index] \n",
    "    counts = val_counts.values\n",
    "    return(labels, counts)\n",
    "\n",
    "\n",
    "\n",
    "def to_bar(var, df = df_gb):\n",
    "    val_counts = df[[var]].value_counts().sort_index()\n",
    "    labels = [i[0] for i in val_counts.index] \n",
    "    counts = val_counts.values\n",
    "    return(labels, counts)\n",
    "\n",
    "def category_to_graphs(n, var, df = df_gb, A = A_weighted):\n",
    "    \n",
    "    rec_1 = A[A.index.isin(user_item[user_item[n].isna()].index)][A[n] > 0.5].index\n",
    "    df_gb_rec = df_gb[df_gb.index.isin(rec_1)][df_gb['offer_id'] == (n)]\n",
    "\n",
    "    X, y = to_bar(var)\n",
    "    X2, y2 = to_bar(var, df_gb_rec)\n",
    "    return(X, y , X2, y2)\n",
    "\n",
    "income_figs = []\n",
    "\n",
    "for i in A.columns:\n",
    "    X, y, X2, y2 = category_to_graphs(i, 'income')\n",
    "\n",
    "    fig = go.Figure()\n",
    "    fig = make_subplots(rows=1, cols=2,\n",
    "          subplot_titles=(\"Gen\",\"Rec\"))\n",
    "    \n",
    "    fig.add_trace(go.Scatter(x=X, y = y, name = 'gen', fill = 'tozeroy'), row = 1, col = 1)\n",
    "    fig.add_trace(go.Scatter(x=X2, y = y2/y, name = 'rec', fill = 'tozeroy'), row =1 ,col= 2)\n",
    "    \n",
    "    income_figs.append([i, fig])\n",
    "    \n",
    "for i in income_figs:\n",
    "    print(i[0])\n",
    "    print()\n",
    "    i[1].show()"
   ]
  },
  {
   "cell_type": "code",
   "execution_count": 17,
   "metadata": {},
   "outputs": [
    {
     "name": "stderr",
     "output_type": "stream",
     "text": [
      "C:\\Users\\madke\\Anaconda3\\lib\\site-packages\\ipykernel_launcher.py:16: SettingWithCopyWarning: \n",
      "A value is trying to be set on a copy of a slice from a DataFrame.\n",
      "Try using .loc[row_indexer,col_indexer] = value instead\n",
      "\n",
      "See the caveats in the documentation: https://pandas.pydata.org/pandas-docs/stable/user_guide/indexing.html#returning-a-view-versus-a-copy\n",
      "  app.launch_new_instance()\n"
     ]
    }
   ],
   "source": [
    "df_train = df_gb_time.head(int(np.rint(df_gb_time.shape[0]*.7)))\n",
    "df_test = df_gb_time.tail(int(np.rint(df_gb_time.shape[0]*.3)))\n",
    "user_item_train, user_item_test, test_idx, test_arts = create_test_and_train_user_item(df_train, df_test)\n",
    "\n",
    "sse_tests = []\n",
    "sse_alls = []\n",
    "latent_factors = []\n",
    "\n",
    "learning_rate = 0.000001\n",
    "for i in range(8, 10, 3):\n",
    "    sse_test_ls, sse_all_ls = test_different_lf(i, learning_rate, iter_ls = range(5000, 5400, 200))\n",
    "    sse_tests.append(sse_test_ls)\n",
    "    sse_alls.append(sse_all_ls)\n",
    "    latent_factors.append(i)\n",
    "    "
   ]
  },
  {
   "cell_type": "code",
   "execution_count": 209,
   "metadata": {},
   "outputs": [],
   "source": []
  },
  {
   "cell_type": "code",
   "execution_count": 372,
   "metadata": {},
   "outputs": [
    {
     "name": "stdout",
     "output_type": "stream",
     "text": [
      "2\n",
      "\n"
     ]
    },
    {
     "data": {
      "image/png": "[encoded data removed]",
      "text/plain": [
       "<matplotlib.figure.Figure at 0x1afff062f98>"
      ]
     },
     "metadata": {},
     "output_type": "display_data"
    },
    {
     "name": "stdout",
     "output_type": "stream",
     "text": [
      "4\n",
      "\n"
     ]
    },
    {
     "data": {
      "image/png": "[encoded data removed]",
      "text/plain": [
       "<matplotlib.figure.Figure at 0x1afff2b4be0>"
      ]
     },
     "metadata": {},
     "output_type": "display_data"
    },
    {
     "name": "stdout",
     "output_type": "stream",
     "text": [
      "6\n",
      "\n"
     ]
    },
    {
     "data": {
      "image/png": "[encoded data removed]",
      "text/plain": [
       "<matplotlib.figure.Figure at 0x1afff2c01d0>"
      ]
     },
     "metadata": {},
     "output_type": "display_data"
    },
    {
     "name": "stdout",
     "output_type": "stream",
     "text": [
      "8\n",
      "\n"
     ]
    },
    {
     "data": {
      "image/png": "[encoded data removed]",
      "text/plain": [
       "<matplotlib.figure.Figure at 0x1afff2b9198>"
      ]
     },
     "metadata": {},
     "output_type": "display_data"
    }
   ],
   "source": [
    "#learning rate .005\n",
    "for i, j in enumerate(sse_tests):\n",
    "    print(latent_factors[i])\n",
    "    print()\n",
    "    plot_sse_fig(range(10, 80, 20),j, sse_alls[i])\n"
   ]
  },
  {
   "cell_type": "code",
   "execution_count": 378,
   "metadata": {},
   "outputs": [
    {
     "name": "stdout",
     "output_type": "stream",
     "text": [
      "2\n",
      "\n"
     ]
    },
    {
     "data": {
      "image/png": "[encoded data removed]",
      "text/plain": [
       "<matplotlib.figure.Figure at 0x1affedff320>"
      ]
     },
     "metadata": {},
     "output_type": "display_data"
    },
    {
     "name": "stdout",
     "output_type": "stream",
     "text": [
      "4\n",
      "\n"
     ]
    },
    {
     "data": {
      "image/png": "[encoded data removed]",
      "text/plain": [
       "<matplotlib.figure.Figure at 0x1afff2200b8>"
      ]
     },
     "metadata": {},
     "output_type": "display_data"
    },
    {
     "name": "stdout",
     "output_type": "stream",
     "text": [
      "6\n",
      "\n"
     ]
    },
    {
     "data": {
      "image/png": "[encoded data removed]",
      "text/plain": [
       "<matplotlib.figure.Figure at 0x1afff0cb630>"
      ]
     },
     "metadata": {},
     "output_type": "display_data"
    },
    {
     "name": "stdout",
     "output_type": "stream",
     "text": [
      "8\n",
      "\n"
     ]
    },
    {
     "data": {
      "image/png": "[encoded data removed]",
      "text/plain": [
       "<matplotlib.figure.Figure at 0x1affed7ac50>"
      ]
     },
     "metadata": {},
     "output_type": "display_data"
    }
   ],
   "source": [
    "#learning rate 0.05\n",
    "\n",
    "for i, j in enumerate(sse_tests):\n",
    "    print(latent_factors[i])\n",
    "    print()\n",
    "    plot_sse_fig(range(10, 80, 20),j, sse_alls[i])"
   ]
  },
  {
   "cell_type": "code",
   "execution_count": 381,
   "metadata": {},
   "outputs": [
    {
     "name": "stdout",
     "output_type": "stream",
     "text": [
      "2\n",
      "\n"
     ]
    },
    {
     "data": {
      "image/png": "[encoded data removed]",
      "text/plain": [
       "<matplotlib.figure.Figure at 0x1affec5a518>"
      ]
     },
     "metadata": {},
     "output_type": "display_data"
    },
    {
     "name": "stdout",
     "output_type": "stream",
     "text": [
      "4\n",
      "\n"
     ]
    },
    {
     "data": {
      "image/png": "[encoded data removed]",
      "text/plain": [
       "<matplotlib.figure.Figure at 0x1affeff3fd0>"
      ]
     },
     "metadata": {},
     "output_type": "display_data"
    },
    {
     "name": "stdout",
     "output_type": "stream",
     "text": [
      "6\n",
      "\n"
     ]
    },
    {
     "data": {
      "image/png": "[encoded data removed]",
      "text/plain": [
       "<matplotlib.figure.Figure at 0x1afff0945c0>"
      ]
     },
     "metadata": {},
     "output_type": "display_data"
    },
    {
     "name": "stdout",
     "output_type": "stream",
     "text": [
      "8\n",
      "\n"
     ]
    },
    {
     "data": {
      "image/png": "[encoded data removed]",
      "text/plain": [
       "<matplotlib.figure.Figure at 0x1affebe6be0>"
      ]
     },
     "metadata": {},
     "output_type": "display_data"
    }
   ],
   "source": [
    "#learning rate .0005\n",
    "for i, j in enumerate(sse_tests):\n",
    "    print(latent_factors[i])\n",
    "    print()\n",
    "    plot_sse_fig(range(10, 80, 20),j, sse_alls[i])"
   ]
  },
  {
   "cell_type": "code",
   "execution_count": 25,
   "metadata": {},
   "outputs": [
    {
     "name": "stdout",
     "output_type": "stream",
     "text": [
      "2\n",
      "\n"
     ]
    },
    {
     "data": {
      "image/png": "[encoded data removed]",
      "text/plain": [
       "<matplotlib.figure.Figure at 0x17f3d011b70>"
      ]
     },
     "metadata": {},
     "output_type": "display_data"
    }
   ],
   "source": [
    "#try more iterations with the low learning rate\n",
    "#.001, looks like 500 maxed out\n",
    "for i, j in enumerate(sse_tests):\n",
    "    print(latent_factors[i])\n",
    "    print()\n",
    "    plot_sse_fig(range(500, 2000, 200), j, sse_alls[i])"
   ]
  },
  {
   "cell_type": "code",
   "execution_count": 27,
   "metadata": {},
   "outputs": [
    {
     "name": "stdout",
     "output_type": "stream",
     "text": [
      "2\n",
      "\n"
     ]
    },
    {
     "data": {
      "image/png": "[encoded data removed]",
      "text/plain": [
       "<matplotlib.figure.Figure at 0x17f3d0425f8>"
      ]
     },
     "metadata": {},
     "output_type": "display_data"
    },
    {
     "name": "stdout",
     "output_type": "stream",
     "text": [
      "4\n",
      "\n"
     ]
    },
    {
     "data": {
      "image/png": "[encoded data removed]",
      "text/plain": [
       "<matplotlib.figure.Figure at 0x17f3d06a470>"
      ]
     },
     "metadata": {},
     "output_type": "display_data"
    },
    {
     "name": "stdout",
     "output_type": "stream",
     "text": [
      "6\n",
      "\n"
     ]
    },
    {
     "data": {
      "image/png": "[encoded data removed]",
      "text/plain": [
       "<matplotlib.figure.Figure at 0x17f3d0cbe48>"
      ]
     },
     "metadata": {},
     "output_type": "display_data"
    },
    {
     "name": "stdout",
     "output_type": "stream",
     "text": [
      "8\n",
      "\n"
     ]
    },
    {
     "data": {
      "image/png": "[encoded data removed]",
      "text/plain": [
       "<matplotlib.figure.Figure at 0x17f3d106fd0>"
      ]
     },
     "metadata": {},
     "output_type": "display_data"
    }
   ],
   "source": [
    "# lr = 0.0005\n",
    "for i, j in enumerate(sse_tests):\n",
    "    print(latent_factors[i])\n",
    "    print()\n",
    "    plot_sse_fig(range(300, 600, 200), j, sse_alls[i])"
   ]
  },
  {
   "cell_type": "code",
   "execution_count": 31,
   "metadata": {},
   "outputs": [
    {
     "name": "stdout",
     "output_type": "stream",
     "text": [
      "2\n",
      "\n"
     ]
    },
    {
     "data": {
      "image/png": "[encoded data removed]",
      "text/plain": [
       "<matplotlib.figure.Figure at 0x17f3d12db70>"
      ]
     },
     "metadata": {},
     "output_type": "display_data"
    },
    {
     "name": "stdout",
     "output_type": "stream",
     "text": [
      "5\n",
      "\n"
     ]
    },
    {
     "data": {
      "image/png": "[encoded data removed]",
      "text/plain": [
       "<matplotlib.figure.Figure at 0x17f3d13fe48>"
      ]
     },
     "metadata": {},
     "output_type": "display_data"
    }
   ],
   "source": [
    "#lr = 0.000001\n",
    "\n",
    "for i, j in enumerate(sse_tests):\n",
    "    print(latent_factors[i])\n",
    "    print()\n",
    "    plot_sse_fig(range(300, 600, 200), j, sse_alls[i])"
   ]
  },
  {
   "cell_type": "markdown",
   "metadata": {},
   "source": [
    "It looks like, based on the computational power I have, we will have to either be okay with stopping the algorithm early or overfitting.  We will purse both in further analyses"
   ]
  },
  {
   "cell_type": "code",
   "execution_count": null,
   "metadata": {},
   "outputs": [],
   "source": []
  }
 ],
 "metadata": {
  "kernelspec": {
   "display_name": "Python 3",
   "language": "python",
   "name": "python3"
  },
  "language_info": {
   "codemirror_mode": {
    "name": "ipython",
    "version": 3
   },
   "file_extension": ".py",
   "mimetype": "text/x-python",
   "name": "python",
   "nbconvert_exporter": "python",
   "pygments_lexer": "ipython3",
   "version": "3.6.4"
  }
 },
 "nbformat": 4,
 "nbformat_minor": 2
}
